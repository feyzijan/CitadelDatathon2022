{
 "cells": [
  {
   "cell_type": "markdown",
   "id": "1bc79a97",
   "metadata": {},
   "source": [
    "###  Imports"
   ]
  },
  {
   "cell_type": "code",
   "execution_count": 1,
   "id": "b3347397",
   "metadata": {
    "ExecuteTime": {
     "end_time": "2022-03-11T09:45:42.087116Z",
     "start_time": "2022-03-11T09:45:41.112158Z"
    }
   },
   "outputs": [],
   "source": [
    "import pandas as pd\n",
    "import numpy as np\n",
    "import matplotlib.pyplot as plt\n",
    "pd.options.display.max_columns = None"
   ]
  },
  {
   "cell_type": "markdown",
   "id": "ca0c10af",
   "metadata": {},
   "source": [
    "#### Read dataframes with index columns"
   ]
  },
  {
   "cell_type": "code",
   "execution_count": 2,
   "id": "f0dd1fd0",
   "metadata": {
    "ExecuteTime": {
     "end_time": "2022-03-11T09:45:42.483909Z",
     "start_time": "2022-03-11T09:45:42.088115Z"
    }
   },
   "outputs": [],
   "source": [
    "departments_df = pd.read_csv(\"BigSupplyCo_Data_Files\\departments_v2.csv\", index_col=\"Department Id\")\n",
    "orders_df = pd.read_csv(\"BigSupplyCo_Data_Files\\orders_v2.csv\", index_col = \"Order Id\")\n",
    "products_df = pd.read_csv(\"BigSupplyCo_Data_Files\\products_v2.csv\", index_col = \"Product Id\")\n",
    "customers_df = pd.read_csv(\"BigSupplyCo_Data_Files\\customers_v2.csv\", index_col = \"Customer Id\")"
   ]
  },
  {
   "cell_type": "markdown",
   "id": "c2418df4",
   "metadata": {},
   "source": [
    "## 1. Analyze the shipping info in more detail"
   ]
  },
  {
   "cell_type": "markdown",
   "id": "6ec34634",
   "metadata": {},
   "source": [
    "Trying to deduce relationships between the 4 columns at the end that relate to shippping and spot any errors"
   ]
  },
  {
   "cell_type": "markdown",
   "id": "c013215a",
   "metadata": {},
   "source": [
    "Create subset of orders dataframe"
   ]
  },
  {
   "cell_type": "code",
   "execution_count": 3,
   "id": "7e424b27",
   "metadata": {
    "ExecuteTime": {
     "end_time": "2022-03-11T09:45:42.499937Z",
     "start_time": "2022-03-11T09:45:42.485951Z"
    }
   },
   "outputs": [
    {
     "data": {
      "text/html": [
       "<div>\n",
       "<style scoped>\n",
       "    .dataframe tbody tr th:only-of-type {\n",
       "        vertical-align: middle;\n",
       "    }\n",
       "\n",
       "    .dataframe tbody tr th {\n",
       "        vertical-align: top;\n",
       "    }\n",
       "\n",
       "    .dataframe thead th {\n",
       "        text-align: right;\n",
       "    }\n",
       "</style>\n",
       "<table border=\"1\" class=\"dataframe\">\n",
       "  <thead>\n",
       "    <tr style=\"text-align: right;\">\n",
       "      <th></th>\n",
       "      <th>Days for shipping (real)</th>\n",
       "      <th>Days for shipment (scheduled)</th>\n",
       "      <th>Delivery Status</th>\n",
       "      <th>Late Delivery Risk</th>\n",
       "    </tr>\n",
       "    <tr>\n",
       "      <th>Order Id</th>\n",
       "      <th></th>\n",
       "      <th></th>\n",
       "      <th></th>\n",
       "      <th></th>\n",
       "    </tr>\n",
       "  </thead>\n",
       "  <tbody>\n",
       "    <tr>\n",
       "      <th>77202</th>\n",
       "      <td>3</td>\n",
       "      <td>4</td>\n",
       "      <td>Advance shipping</td>\n",
       "      <td>0</td>\n",
       "    </tr>\n",
       "    <tr>\n",
       "      <th>75939</th>\n",
       "      <td>5</td>\n",
       "      <td>4</td>\n",
       "      <td>Late delivery</td>\n",
       "      <td>1</td>\n",
       "    </tr>\n",
       "    <tr>\n",
       "      <th>75938</th>\n",
       "      <td>4</td>\n",
       "      <td>4</td>\n",
       "      <td>Shipping on time</td>\n",
       "      <td>0</td>\n",
       "    </tr>\n",
       "  </tbody>\n",
       "</table>\n",
       "</div>"
      ],
      "text/plain": [
       "          Days for shipping (real)  Days for shipment (scheduled)  \\\n",
       "Order Id                                                            \n",
       "77202                            3                              4   \n",
       "75939                            5                              4   \n",
       "75938                            4                              4   \n",
       "\n",
       "           Delivery Status  Late Delivery Risk  \n",
       "Order Id                                        \n",
       "77202     Advance shipping                   0  \n",
       "75939        Late delivery                   1  \n",
       "75938     Shipping on time                   0  "
      ]
     },
     "execution_count": 3,
     "metadata": {},
     "output_type": "execute_result"
    }
   ],
   "source": [
    "shipping_df = orders_df.filter([\"Days for shipping (real)\",\"Days for shipment (scheduled)\",\"Delivery Status\",\"Late Delivery Risk\"]).copy()\n",
    "shipping_df.head(3)"
   ]
  },
  {
   "cell_type": "markdown",
   "id": "4aec042b",
   "metadata": {},
   "source": [
    "Basically I want to deduce the meaning of the possible values in each column and how they combine.\n",
    "The meaning of scheduled and real shipping days are clear enough. \n",
    "It seems that the Delivery status depends on the comparison of these two columns' values. Let's verify that"
   ]
  },
  {
   "cell_type": "markdown",
   "id": "a0a04de0",
   "metadata": {},
   "source": [
    "First want to check the value counts"
   ]
  },
  {
   "cell_type": "code",
   "execution_count": 4,
   "id": "777c50b5",
   "metadata": {
    "ExecuteTime": {
     "end_time": "2022-03-11T09:45:42.531936Z",
     "start_time": "2022-03-11T09:45:42.500937Z"
    }
   },
   "outputs": [
    {
     "data": {
      "text/html": [
       "<div>\n",
       "<style scoped>\n",
       "    .dataframe tbody tr th:only-of-type {\n",
       "        vertical-align: middle;\n",
       "    }\n",
       "\n",
       "    .dataframe tbody tr th {\n",
       "        vertical-align: top;\n",
       "    }\n",
       "\n",
       "    .dataframe thead th {\n",
       "        text-align: right;\n",
       "    }\n",
       "</style>\n",
       "<table border=\"1\" class=\"dataframe\">\n",
       "  <thead>\n",
       "    <tr style=\"text-align: right;\">\n",
       "      <th></th>\n",
       "      <th>Days for shipping (real)</th>\n",
       "      <th>Days for shipment (scheduled)</th>\n",
       "      <th>Delivery Status</th>\n",
       "      <th>Late Delivery Risk</th>\n",
       "    </tr>\n",
       "  </thead>\n",
       "  <tbody>\n",
       "    <tr>\n",
       "      <th>0</th>\n",
       "      <td>5080.0</td>\n",
       "      <td>9737.0</td>\n",
       "      <td>NaN</td>\n",
       "      <td>81542.0</td>\n",
       "    </tr>\n",
       "    <tr>\n",
       "      <th>1</th>\n",
       "      <td>4657.0</td>\n",
       "      <td>27814.0</td>\n",
       "      <td>NaN</td>\n",
       "      <td>98977.0</td>\n",
       "    </tr>\n",
       "    <tr>\n",
       "      <th>2</th>\n",
       "      <td>56618.0</td>\n",
       "      <td>35216.0</td>\n",
       "      <td>NaN</td>\n",
       "      <td>NaN</td>\n",
       "    </tr>\n",
       "    <tr>\n",
       "      <th>3</th>\n",
       "      <td>28765.0</td>\n",
       "      <td>NaN</td>\n",
       "      <td>NaN</td>\n",
       "      <td>NaN</td>\n",
       "    </tr>\n",
       "    <tr>\n",
       "      <th>4</th>\n",
       "      <td>28513.0</td>\n",
       "      <td>107752.0</td>\n",
       "      <td>NaN</td>\n",
       "      <td>NaN</td>\n",
       "    </tr>\n",
       "    <tr>\n",
       "      <th>5</th>\n",
       "      <td>28163.0</td>\n",
       "      <td>NaN</td>\n",
       "      <td>NaN</td>\n",
       "      <td>NaN</td>\n",
       "    </tr>\n",
       "    <tr>\n",
       "      <th>6</th>\n",
       "      <td>28723.0</td>\n",
       "      <td>NaN</td>\n",
       "      <td>NaN</td>\n",
       "      <td>NaN</td>\n",
       "    </tr>\n",
       "    <tr>\n",
       "      <th>Advance shipping</th>\n",
       "      <td>NaN</td>\n",
       "      <td>NaN</td>\n",
       "      <td>41592.0</td>\n",
       "      <td>NaN</td>\n",
       "    </tr>\n",
       "    <tr>\n",
       "      <th>Late delivery</th>\n",
       "      <td>NaN</td>\n",
       "      <td>NaN</td>\n",
       "      <td>98977.0</td>\n",
       "      <td>NaN</td>\n",
       "    </tr>\n",
       "    <tr>\n",
       "      <th>Shipping canceled</th>\n",
       "      <td>NaN</td>\n",
       "      <td>NaN</td>\n",
       "      <td>7754.0</td>\n",
       "      <td>NaN</td>\n",
       "    </tr>\n",
       "    <tr>\n",
       "      <th>Shipping on time</th>\n",
       "      <td>NaN</td>\n",
       "      <td>NaN</td>\n",
       "      <td>32196.0</td>\n",
       "      <td>NaN</td>\n",
       "    </tr>\n",
       "  </tbody>\n",
       "</table>\n",
       "</div>"
      ],
      "text/plain": [
       "                   Days for shipping (real)  Days for shipment (scheduled)  \\\n",
       "0                                    5080.0                         9737.0   \n",
       "1                                    4657.0                        27814.0   \n",
       "2                                   56618.0                        35216.0   \n",
       "3                                   28765.0                            NaN   \n",
       "4                                   28513.0                       107752.0   \n",
       "5                                   28163.0                            NaN   \n",
       "6                                   28723.0                            NaN   \n",
       "Advance shipping                        NaN                            NaN   \n",
       "Late delivery                           NaN                            NaN   \n",
       "Shipping canceled                       NaN                            NaN   \n",
       "Shipping on time                        NaN                            NaN   \n",
       "\n",
       "                   Delivery Status  Late Delivery Risk  \n",
       "0                              NaN             81542.0  \n",
       "1                              NaN             98977.0  \n",
       "2                              NaN                 NaN  \n",
       "3                              NaN                 NaN  \n",
       "4                              NaN                 NaN  \n",
       "5                              NaN                 NaN  \n",
       "6                              NaN                 NaN  \n",
       "Advance shipping           41592.0                 NaN  \n",
       "Late delivery              98977.0                 NaN  \n",
       "Shipping canceled           7754.0                 NaN  \n",
       "Shipping on time           32196.0                 NaN  "
      ]
     },
     "execution_count": 4,
     "metadata": {},
     "output_type": "execute_result"
    }
   ],
   "source": [
    "shipping_df.apply(pd.Series.value_counts)"
   ]
  },
  {
   "cell_type": "markdown",
   "id": "e53057eb",
   "metadata": {},
   "source": [
    "Interesting that nothing is scheduled to ship in 3, 5, 6 days"
   ]
  },
  {
   "cell_type": "markdown",
   "id": "2f2c3762",
   "metadata": {},
   "source": [
    "### Get rows where shipping is made on schedule"
   ]
  },
  {
   "cell_type": "code",
   "execution_count": 5,
   "id": "368e6e51",
   "metadata": {
    "ExecuteTime": {
     "end_time": "2022-03-11T09:45:42.547936Z",
     "start_time": "2022-03-11T09:45:42.532939Z"
    }
   },
   "outputs": [
    {
     "data": {
      "text/html": [
       "<div>\n",
       "<style scoped>\n",
       "    .dataframe tbody tr th:only-of-type {\n",
       "        vertical-align: middle;\n",
       "    }\n",
       "\n",
       "    .dataframe tbody tr th {\n",
       "        vertical-align: top;\n",
       "    }\n",
       "\n",
       "    .dataframe thead th {\n",
       "        text-align: right;\n",
       "    }\n",
       "</style>\n",
       "<table border=\"1\" class=\"dataframe\">\n",
       "  <thead>\n",
       "    <tr style=\"text-align: right;\">\n",
       "      <th></th>\n",
       "      <th>Days for shipping (real)</th>\n",
       "      <th>Days for shipment (scheduled)</th>\n",
       "      <th>Delivery Status</th>\n",
       "      <th>Late Delivery Risk</th>\n",
       "    </tr>\n",
       "    <tr>\n",
       "      <th>Order Id</th>\n",
       "      <th></th>\n",
       "      <th></th>\n",
       "      <th></th>\n",
       "      <th></th>\n",
       "    </tr>\n",
       "  </thead>\n",
       "  <tbody>\n",
       "    <tr>\n",
       "      <th>75938</th>\n",
       "      <td>4</td>\n",
       "      <td>4</td>\n",
       "      <td>Shipping on time</td>\n",
       "      <td>0</td>\n",
       "    </tr>\n",
       "    <tr>\n",
       "      <th>75921</th>\n",
       "      <td>0</td>\n",
       "      <td>0</td>\n",
       "      <td>Shipping on time</td>\n",
       "      <td>0</td>\n",
       "    </tr>\n",
       "    <tr>\n",
       "      <th>75920</th>\n",
       "      <td>0</td>\n",
       "      <td>0</td>\n",
       "      <td>Shipping on time</td>\n",
       "      <td>0</td>\n",
       "    </tr>\n",
       "    <tr>\n",
       "      <th>75916</th>\n",
       "      <td>2</td>\n",
       "      <td>2</td>\n",
       "      <td>Shipping canceled</td>\n",
       "      <td>0</td>\n",
       "    </tr>\n",
       "    <tr>\n",
       "      <th>75913</th>\n",
       "      <td>4</td>\n",
       "      <td>4</td>\n",
       "      <td>Shipping on time</td>\n",
       "      <td>0</td>\n",
       "    </tr>\n",
       "    <tr>\n",
       "      <th>...</th>\n",
       "      <td>...</td>\n",
       "      <td>...</td>\n",
       "      <td>...</td>\n",
       "      <td>...</td>\n",
       "    </tr>\n",
       "    <tr>\n",
       "      <th>26138</th>\n",
       "      <td>4</td>\n",
       "      <td>4</td>\n",
       "      <td>Shipping on time</td>\n",
       "      <td>0</td>\n",
       "    </tr>\n",
       "    <tr>\n",
       "      <th>26118</th>\n",
       "      <td>4</td>\n",
       "      <td>4</td>\n",
       "      <td>Shipping canceled</td>\n",
       "      <td>0</td>\n",
       "    </tr>\n",
       "    <tr>\n",
       "      <th>26051</th>\n",
       "      <td>2</td>\n",
       "      <td>2</td>\n",
       "      <td>Shipping on time</td>\n",
       "      <td>0</td>\n",
       "    </tr>\n",
       "    <tr>\n",
       "      <th>26043</th>\n",
       "      <td>4</td>\n",
       "      <td>4</td>\n",
       "      <td>Shipping on time</td>\n",
       "      <td>0</td>\n",
       "    </tr>\n",
       "    <tr>\n",
       "      <th>26018</th>\n",
       "      <td>4</td>\n",
       "      <td>4</td>\n",
       "      <td>Shipping on time</td>\n",
       "      <td>0</td>\n",
       "    </tr>\n",
       "  </tbody>\n",
       "</table>\n",
       "<p>33753 rows × 4 columns</p>\n",
       "</div>"
      ],
      "text/plain": [
       "          Days for shipping (real)  Days for shipment (scheduled)  \\\n",
       "Order Id                                                            \n",
       "75938                            4                              4   \n",
       "75921                            0                              0   \n",
       "75920                            0                              0   \n",
       "75916                            2                              2   \n",
       "75913                            4                              4   \n",
       "...                            ...                            ...   \n",
       "26138                            4                              4   \n",
       "26118                            4                              4   \n",
       "26051                            2                              2   \n",
       "26043                            4                              4   \n",
       "26018                            4                              4   \n",
       "\n",
       "            Delivery Status  Late Delivery Risk  \n",
       "Order Id                                         \n",
       "75938      Shipping on time                   0  \n",
       "75921      Shipping on time                   0  \n",
       "75920      Shipping on time                   0  \n",
       "75916     Shipping canceled                   0  \n",
       "75913      Shipping on time                   0  \n",
       "...                     ...                 ...  \n",
       "26138      Shipping on time                   0  \n",
       "26118     Shipping canceled                   0  \n",
       "26051      Shipping on time                   0  \n",
       "26043      Shipping on time                   0  \n",
       "26018      Shipping on time                   0  \n",
       "\n",
       "[33753 rows x 4 columns]"
      ]
     },
     "execution_count": 5,
     "metadata": {},
     "output_type": "execute_result"
    }
   ],
   "source": [
    "on_time_df = shipping_df.loc[(shipping_df[\"Days for shipping (real)\"] == shipping_df[\"Days for shipment (scheduled)\"])]\n",
    "on_time_df"
   ]
  },
  {
   "cell_type": "code",
   "execution_count": 6,
   "id": "4241512d",
   "metadata": {
    "ExecuteTime": {
     "end_time": "2022-03-11T09:45:42.563937Z",
     "start_time": "2022-03-11T09:45:42.548939Z"
    }
   },
   "outputs": [
    {
     "data": {
      "text/html": [
       "<div>\n",
       "<style scoped>\n",
       "    .dataframe tbody tr th:only-of-type {\n",
       "        vertical-align: middle;\n",
       "    }\n",
       "\n",
       "    .dataframe tbody tr th {\n",
       "        vertical-align: top;\n",
       "    }\n",
       "\n",
       "    .dataframe thead th {\n",
       "        text-align: right;\n",
       "    }\n",
       "</style>\n",
       "<table border=\"1\" class=\"dataframe\">\n",
       "  <thead>\n",
       "    <tr style=\"text-align: right;\">\n",
       "      <th></th>\n",
       "      <th>Days for shipping (real)</th>\n",
       "      <th>Days for shipment (scheduled)</th>\n",
       "      <th>Delivery Status</th>\n",
       "      <th>Late Delivery Risk</th>\n",
       "    </tr>\n",
       "  </thead>\n",
       "  <tbody>\n",
       "    <tr>\n",
       "      <th>0</th>\n",
       "      <td>5080.0</td>\n",
       "      <td>5080.0</td>\n",
       "      <td>NaN</td>\n",
       "      <td>33753.0</td>\n",
       "    </tr>\n",
       "    <tr>\n",
       "      <th>2</th>\n",
       "      <td>7138.0</td>\n",
       "      <td>7138.0</td>\n",
       "      <td>NaN</td>\n",
       "      <td>NaN</td>\n",
       "    </tr>\n",
       "    <tr>\n",
       "      <th>4</th>\n",
       "      <td>21535.0</td>\n",
       "      <td>21535.0</td>\n",
       "      <td>NaN</td>\n",
       "      <td>NaN</td>\n",
       "    </tr>\n",
       "    <tr>\n",
       "      <th>Shipping canceled</th>\n",
       "      <td>NaN</td>\n",
       "      <td>NaN</td>\n",
       "      <td>1557.0</td>\n",
       "      <td>NaN</td>\n",
       "    </tr>\n",
       "    <tr>\n",
       "      <th>Shipping on time</th>\n",
       "      <td>NaN</td>\n",
       "      <td>NaN</td>\n",
       "      <td>32196.0</td>\n",
       "      <td>NaN</td>\n",
       "    </tr>\n",
       "  </tbody>\n",
       "</table>\n",
       "</div>"
      ],
      "text/plain": [
       "                   Days for shipping (real)  Days for shipment (scheduled)  \\\n",
       "0                                    5080.0                         5080.0   \n",
       "2                                    7138.0                         7138.0   \n",
       "4                                   21535.0                        21535.0   \n",
       "Shipping canceled                       NaN                            NaN   \n",
       "Shipping on time                        NaN                            NaN   \n",
       "\n",
       "                   Delivery Status  Late Delivery Risk  \n",
       "0                              NaN             33753.0  \n",
       "2                              NaN                 NaN  \n",
       "4                              NaN                 NaN  \n",
       "Shipping canceled           1557.0                 NaN  \n",
       "Shipping on time           32196.0                 NaN  "
      ]
     },
     "execution_count": 6,
     "metadata": {},
     "output_type": "execute_result"
    }
   ],
   "source": [
    "on_time_df.apply(pd.Series.value_counts)"
   ]
  },
  {
   "cell_type": "markdown",
   "id": "52143507",
   "metadata": {},
   "source": [
    "Get percentage of orders that are cancelled"
   ]
  },
  {
   "cell_type": "code",
   "execution_count": 7,
   "id": "fe9b6092",
   "metadata": {
    "ExecuteTime": {
     "end_time": "2022-03-11T09:45:42.579937Z",
     "start_time": "2022-03-11T09:45:42.564939Z"
    }
   },
   "outputs": [],
   "source": [
    "percentage_list = [0,0,0]"
   ]
  },
  {
   "cell_type": "code",
   "execution_count": 8,
   "id": "f88e4f1f",
   "metadata": {
    "ExecuteTime": {
     "end_time": "2022-03-11T09:45:42.595936Z",
     "start_time": "2022-03-11T09:45:42.580940Z"
    }
   },
   "outputs": [
    {
     "name": "stdout",
     "output_type": "stream",
     "text": [
      "4.61  % of shipments sent on time are cancelled \n"
     ]
    }
   ],
   "source": [
    "a = len(on_time_df.index)\n",
    "p = round(1557/a*100, 2)\n",
    "print( p, \" % of shipments sent on time are cancelled \")\n",
    "percentage_list[0] = p"
   ]
  },
  {
   "cell_type": "markdown",
   "id": "d132ee1e",
   "metadata": {},
   "source": [
    "Interesting that nothing that gets scheduled to ship in 1 day is delivered on time"
   ]
  },
  {
   "cell_type": "markdown",
   "id": "ee6a7a2f",
   "metadata": {},
   "source": [
    "### Get rows where shipment takes longer than expected"
   ]
  },
  {
   "cell_type": "code",
   "execution_count": 9,
   "id": "e9ae0ffa",
   "metadata": {
    "ExecuteTime": {
     "end_time": "2022-03-11T09:45:42.611936Z",
     "start_time": "2022-03-11T09:45:42.597937Z"
    },
    "scrolled": true
   },
   "outputs": [
    {
     "data": {
      "text/html": [
       "<div>\n",
       "<style scoped>\n",
       "    .dataframe tbody tr th:only-of-type {\n",
       "        vertical-align: middle;\n",
       "    }\n",
       "\n",
       "    .dataframe tbody tr th {\n",
       "        vertical-align: top;\n",
       "    }\n",
       "\n",
       "    .dataframe thead th {\n",
       "        text-align: right;\n",
       "    }\n",
       "</style>\n",
       "<table border=\"1\" class=\"dataframe\">\n",
       "  <thead>\n",
       "    <tr style=\"text-align: right;\">\n",
       "      <th></th>\n",
       "      <th>Days for shipping (real)</th>\n",
       "      <th>Days for shipment (scheduled)</th>\n",
       "      <th>Delivery Status</th>\n",
       "      <th>Late Delivery Risk</th>\n",
       "    </tr>\n",
       "    <tr>\n",
       "      <th>Order Id</th>\n",
       "      <th></th>\n",
       "      <th></th>\n",
       "      <th></th>\n",
       "      <th></th>\n",
       "    </tr>\n",
       "  </thead>\n",
       "  <tbody>\n",
       "    <tr>\n",
       "      <th>75939</th>\n",
       "      <td>5</td>\n",
       "      <td>4</td>\n",
       "      <td>Late delivery</td>\n",
       "      <td>1</td>\n",
       "    </tr>\n",
       "    <tr>\n",
       "      <th>75935</th>\n",
       "      <td>6</td>\n",
       "      <td>4</td>\n",
       "      <td>Shipping canceled</td>\n",
       "      <td>0</td>\n",
       "    </tr>\n",
       "    <tr>\n",
       "      <th>75934</th>\n",
       "      <td>2</td>\n",
       "      <td>1</td>\n",
       "      <td>Late delivery</td>\n",
       "      <td>1</td>\n",
       "    </tr>\n",
       "    <tr>\n",
       "      <th>75933</th>\n",
       "      <td>2</td>\n",
       "      <td>1</td>\n",
       "      <td>Late delivery</td>\n",
       "      <td>1</td>\n",
       "    </tr>\n",
       "    <tr>\n",
       "      <th>75932</th>\n",
       "      <td>3</td>\n",
       "      <td>2</td>\n",
       "      <td>Late delivery</td>\n",
       "      <td>1</td>\n",
       "    </tr>\n",
       "    <tr>\n",
       "      <th>...</th>\n",
       "      <td>...</td>\n",
       "      <td>...</td>\n",
       "      <td>...</td>\n",
       "      <td>...</td>\n",
       "    </tr>\n",
       "    <tr>\n",
       "      <th>26059</th>\n",
       "      <td>5</td>\n",
       "      <td>2</td>\n",
       "      <td>Late delivery</td>\n",
       "      <td>1</td>\n",
       "    </tr>\n",
       "    <tr>\n",
       "      <th>26053</th>\n",
       "      <td>4</td>\n",
       "      <td>2</td>\n",
       "      <td>Late delivery</td>\n",
       "      <td>1</td>\n",
       "    </tr>\n",
       "    <tr>\n",
       "      <th>26050</th>\n",
       "      <td>6</td>\n",
       "      <td>4</td>\n",
       "      <td>Late delivery</td>\n",
       "      <td>1</td>\n",
       "    </tr>\n",
       "    <tr>\n",
       "      <th>26037</th>\n",
       "      <td>3</td>\n",
       "      <td>2</td>\n",
       "      <td>Late delivery</td>\n",
       "      <td>1</td>\n",
       "    </tr>\n",
       "    <tr>\n",
       "      <th>26024</th>\n",
       "      <td>5</td>\n",
       "      <td>4</td>\n",
       "      <td>Late delivery</td>\n",
       "      <td>1</td>\n",
       "    </tr>\n",
       "  </tbody>\n",
       "</table>\n",
       "<p>103400 rows × 4 columns</p>\n",
       "</div>"
      ],
      "text/plain": [
       "          Days for shipping (real)  Days for shipment (scheduled)  \\\n",
       "Order Id                                                            \n",
       "75939                            5                              4   \n",
       "75935                            6                              4   \n",
       "75934                            2                              1   \n",
       "75933                            2                              1   \n",
       "75932                            3                              2   \n",
       "...                            ...                            ...   \n",
       "26059                            5                              2   \n",
       "26053                            4                              2   \n",
       "26050                            6                              4   \n",
       "26037                            3                              2   \n",
       "26024                            5                              4   \n",
       "\n",
       "            Delivery Status  Late Delivery Risk  \n",
       "Order Id                                         \n",
       "75939         Late delivery                   1  \n",
       "75935     Shipping canceled                   0  \n",
       "75934         Late delivery                   1  \n",
       "75933         Late delivery                   1  \n",
       "75932         Late delivery                   1  \n",
       "...                     ...                 ...  \n",
       "26059         Late delivery                   1  \n",
       "26053         Late delivery                   1  \n",
       "26050         Late delivery                   1  \n",
       "26037         Late delivery                   1  \n",
       "26024         Late delivery                   1  \n",
       "\n",
       "[103400 rows x 4 columns]"
      ]
     },
     "execution_count": 9,
     "metadata": {},
     "output_type": "execute_result"
    }
   ],
   "source": [
    "delayed_df = shipping_df.loc[(shipping_df[\"Days for shipping (real)\"] > shipping_df[\"Days for shipment (scheduled)\"])]\n",
    "delayed_df"
   ]
  },
  {
   "cell_type": "code",
   "execution_count": 10,
   "id": "615c2859",
   "metadata": {
    "ExecuteTime": {
     "end_time": "2022-03-11T09:45:42.643936Z",
     "start_time": "2022-03-11T09:45:42.612937Z"
    },
    "scrolled": true
   },
   "outputs": [
    {
     "data": {
      "text/html": [
       "<div>\n",
       "<style scoped>\n",
       "    .dataframe tbody tr th:only-of-type {\n",
       "        vertical-align: middle;\n",
       "    }\n",
       "\n",
       "    .dataframe tbody tr th {\n",
       "        vertical-align: top;\n",
       "    }\n",
       "\n",
       "    .dataframe thead th {\n",
       "        text-align: right;\n",
       "    }\n",
       "</style>\n",
       "<table border=\"1\" class=\"dataframe\">\n",
       "  <thead>\n",
       "    <tr style=\"text-align: right;\">\n",
       "      <th></th>\n",
       "      <th>Days for shipping (real)</th>\n",
       "      <th>Days for shipment (scheduled)</th>\n",
       "      <th>Delivery Status</th>\n",
       "      <th>Late Delivery Risk</th>\n",
       "    </tr>\n",
       "  </thead>\n",
       "  <tbody>\n",
       "    <tr>\n",
       "      <th>0</th>\n",
       "      <td>NaN</td>\n",
       "      <td>4657.0</td>\n",
       "      <td>NaN</td>\n",
       "      <td>4423.0</td>\n",
       "    </tr>\n",
       "    <tr>\n",
       "      <th>1</th>\n",
       "      <td>4657.0</td>\n",
       "      <td>27814.0</td>\n",
       "      <td>NaN</td>\n",
       "      <td>98977.0</td>\n",
       "    </tr>\n",
       "    <tr>\n",
       "      <th>2</th>\n",
       "      <td>27814.0</td>\n",
       "      <td>28078.0</td>\n",
       "      <td>NaN</td>\n",
       "      <td>NaN</td>\n",
       "    </tr>\n",
       "    <tr>\n",
       "      <th>3</th>\n",
       "      <td>7065.0</td>\n",
       "      <td>NaN</td>\n",
       "      <td>NaN</td>\n",
       "      <td>NaN</td>\n",
       "    </tr>\n",
       "    <tr>\n",
       "      <th>4</th>\n",
       "      <td>6978.0</td>\n",
       "      <td>42851.0</td>\n",
       "      <td>NaN</td>\n",
       "      <td>NaN</td>\n",
       "    </tr>\n",
       "    <tr>\n",
       "      <th>5</th>\n",
       "      <td>28163.0</td>\n",
       "      <td>NaN</td>\n",
       "      <td>NaN</td>\n",
       "      <td>NaN</td>\n",
       "    </tr>\n",
       "    <tr>\n",
       "      <th>6</th>\n",
       "      <td>28723.0</td>\n",
       "      <td>NaN</td>\n",
       "      <td>NaN</td>\n",
       "      <td>NaN</td>\n",
       "    </tr>\n",
       "    <tr>\n",
       "      <th>Late delivery</th>\n",
       "      <td>NaN</td>\n",
       "      <td>NaN</td>\n",
       "      <td>98977.0</td>\n",
       "      <td>NaN</td>\n",
       "    </tr>\n",
       "    <tr>\n",
       "      <th>Shipping canceled</th>\n",
       "      <td>NaN</td>\n",
       "      <td>NaN</td>\n",
       "      <td>4423.0</td>\n",
       "      <td>NaN</td>\n",
       "    </tr>\n",
       "  </tbody>\n",
       "</table>\n",
       "</div>"
      ],
      "text/plain": [
       "                   Days for shipping (real)  Days for shipment (scheduled)  \\\n",
       "0                                       NaN                         4657.0   \n",
       "1                                    4657.0                        27814.0   \n",
       "2                                   27814.0                        28078.0   \n",
       "3                                    7065.0                            NaN   \n",
       "4                                    6978.0                        42851.0   \n",
       "5                                   28163.0                            NaN   \n",
       "6                                   28723.0                            NaN   \n",
       "Late delivery                           NaN                            NaN   \n",
       "Shipping canceled                       NaN                            NaN   \n",
       "\n",
       "                   Delivery Status  Late Delivery Risk  \n",
       "0                              NaN              4423.0  \n",
       "1                              NaN             98977.0  \n",
       "2                              NaN                 NaN  \n",
       "3                              NaN                 NaN  \n",
       "4                              NaN                 NaN  \n",
       "5                              NaN                 NaN  \n",
       "6                              NaN                 NaN  \n",
       "Late delivery              98977.0                 NaN  \n",
       "Shipping canceled           4423.0                 NaN  "
      ]
     },
     "execution_count": 10,
     "metadata": {},
     "output_type": "execute_result"
    }
   ],
   "source": [
    "delayed_df.apply(pd.Series.value_counts)"
   ]
  },
  {
   "cell_type": "markdown",
   "id": "471bf65e",
   "metadata": {},
   "source": [
    "Interesting that nothing is scheduled to ship in 3, 5, 6 days"
   ]
  },
  {
   "cell_type": "markdown",
   "id": "16bd712c",
   "metadata": {},
   "source": [
    "Also note that the Late delivery Risk column is assigned the value of 0 (no late delivery) when the delivery is late, but it has been cancelled"
   ]
  },
  {
   "cell_type": "markdown",
   "id": "9929b0c6",
   "metadata": {},
   "source": [
    "Get percentage of orders that are cancelled"
   ]
  },
  {
   "cell_type": "code",
   "execution_count": 11,
   "id": "8c02bbf0",
   "metadata": {
    "ExecuteTime": {
     "end_time": "2022-03-11T09:45:42.659937Z",
     "start_time": "2022-03-11T09:45:42.644939Z"
    }
   },
   "outputs": [
    {
     "name": "stdout",
     "output_type": "stream",
     "text": [
      "4.28  % of shipments that are delayed are cancelled \n"
     ]
    }
   ],
   "source": [
    "a = len(delayed_df.index)\n",
    "p = round(4423.0/a*100, 2)\n",
    "print( p, \" % of shipments that are delayed are cancelled \")\n",
    "percentage_list[1] = p"
   ]
  },
  {
   "cell_type": "markdown",
   "id": "c03d7378",
   "metadata": {},
   "source": [
    "### Get rows where shipment takes shorter than expected"
   ]
  },
  {
   "cell_type": "code",
   "execution_count": 12,
   "id": "4324fc2d",
   "metadata": {
    "ExecuteTime": {
     "end_time": "2022-03-11T09:45:42.675936Z",
     "start_time": "2022-03-11T09:45:42.660937Z"
    }
   },
   "outputs": [
    {
     "data": {
      "text/html": [
       "<div>\n",
       "<style scoped>\n",
       "    .dataframe tbody tr th:only-of-type {\n",
       "        vertical-align: middle;\n",
       "    }\n",
       "\n",
       "    .dataframe tbody tr th {\n",
       "        vertical-align: top;\n",
       "    }\n",
       "\n",
       "    .dataframe thead th {\n",
       "        text-align: right;\n",
       "    }\n",
       "</style>\n",
       "<table border=\"1\" class=\"dataframe\">\n",
       "  <thead>\n",
       "    <tr style=\"text-align: right;\">\n",
       "      <th></th>\n",
       "      <th>Days for shipping (real)</th>\n",
       "      <th>Days for shipment (scheduled)</th>\n",
       "      <th>Delivery Status</th>\n",
       "      <th>Late Delivery Risk</th>\n",
       "    </tr>\n",
       "    <tr>\n",
       "      <th>Order Id</th>\n",
       "      <th></th>\n",
       "      <th></th>\n",
       "      <th></th>\n",
       "      <th></th>\n",
       "    </tr>\n",
       "  </thead>\n",
       "  <tbody>\n",
       "    <tr>\n",
       "      <th>77202</th>\n",
       "      <td>3</td>\n",
       "      <td>4</td>\n",
       "      <td>Advance shipping</td>\n",
       "      <td>0</td>\n",
       "    </tr>\n",
       "    <tr>\n",
       "      <th>75937</th>\n",
       "      <td>3</td>\n",
       "      <td>4</td>\n",
       "      <td>Advance shipping</td>\n",
       "      <td>0</td>\n",
       "    </tr>\n",
       "    <tr>\n",
       "      <th>75936</th>\n",
       "      <td>2</td>\n",
       "      <td>4</td>\n",
       "      <td>Advance shipping</td>\n",
       "      <td>0</td>\n",
       "    </tr>\n",
       "    <tr>\n",
       "      <th>75912</th>\n",
       "      <td>3</td>\n",
       "      <td>4</td>\n",
       "      <td>Advance shipping</td>\n",
       "      <td>0</td>\n",
       "    </tr>\n",
       "    <tr>\n",
       "      <th>75911</th>\n",
       "      <td>2</td>\n",
       "      <td>4</td>\n",
       "      <td>Advance shipping</td>\n",
       "      <td>0</td>\n",
       "    </tr>\n",
       "    <tr>\n",
       "      <th>...</th>\n",
       "      <td>...</td>\n",
       "      <td>...</td>\n",
       "      <td>...</td>\n",
       "      <td>...</td>\n",
       "    </tr>\n",
       "    <tr>\n",
       "      <th>26071</th>\n",
       "      <td>2</td>\n",
       "      <td>4</td>\n",
       "      <td>Advance shipping</td>\n",
       "      <td>0</td>\n",
       "    </tr>\n",
       "    <tr>\n",
       "      <th>26052</th>\n",
       "      <td>3</td>\n",
       "      <td>4</td>\n",
       "      <td>Advance shipping</td>\n",
       "      <td>0</td>\n",
       "    </tr>\n",
       "    <tr>\n",
       "      <th>26052</th>\n",
       "      <td>3</td>\n",
       "      <td>4</td>\n",
       "      <td>Advance shipping</td>\n",
       "      <td>0</td>\n",
       "    </tr>\n",
       "    <tr>\n",
       "      <th>26047</th>\n",
       "      <td>3</td>\n",
       "      <td>4</td>\n",
       "      <td>Advance shipping</td>\n",
       "      <td>0</td>\n",
       "    </tr>\n",
       "    <tr>\n",
       "      <th>26022</th>\n",
       "      <td>3</td>\n",
       "      <td>4</td>\n",
       "      <td>Advance shipping</td>\n",
       "      <td>0</td>\n",
       "    </tr>\n",
       "  </tbody>\n",
       "</table>\n",
       "<p>43366 rows × 4 columns</p>\n",
       "</div>"
      ],
      "text/plain": [
       "          Days for shipping (real)  Days for shipment (scheduled)  \\\n",
       "Order Id                                                            \n",
       "77202                            3                              4   \n",
       "75937                            3                              4   \n",
       "75936                            2                              4   \n",
       "75912                            3                              4   \n",
       "75911                            2                              4   \n",
       "...                            ...                            ...   \n",
       "26071                            2                              4   \n",
       "26052                            3                              4   \n",
       "26052                            3                              4   \n",
       "26047                            3                              4   \n",
       "26022                            3                              4   \n",
       "\n",
       "           Delivery Status  Late Delivery Risk  \n",
       "Order Id                                        \n",
       "77202     Advance shipping                   0  \n",
       "75937     Advance shipping                   0  \n",
       "75936     Advance shipping                   0  \n",
       "75912     Advance shipping                   0  \n",
       "75911     Advance shipping                   0  \n",
       "...                    ...                 ...  \n",
       "26071     Advance shipping                   0  \n",
       "26052     Advance shipping                   0  \n",
       "26052     Advance shipping                   0  \n",
       "26047     Advance shipping                   0  \n",
       "26022     Advance shipping                   0  \n",
       "\n",
       "[43366 rows x 4 columns]"
      ]
     },
     "execution_count": 12,
     "metadata": {},
     "output_type": "execute_result"
    }
   ],
   "source": [
    "advance_df = shipping_df.loc[(shipping_df[\"Days for shipping (real)\"] < shipping_df[\"Days for shipment (scheduled)\"])]\n",
    "advance_df"
   ]
  },
  {
   "cell_type": "code",
   "execution_count": 13,
   "id": "27a02588",
   "metadata": {
    "ExecuteTime": {
     "end_time": "2022-03-11T09:45:42.691939Z",
     "start_time": "2022-03-11T09:45:42.676937Z"
    },
    "scrolled": true
   },
   "outputs": [
    {
     "data": {
      "text/html": [
       "<div>\n",
       "<style scoped>\n",
       "    .dataframe tbody tr th:only-of-type {\n",
       "        vertical-align: middle;\n",
       "    }\n",
       "\n",
       "    .dataframe tbody tr th {\n",
       "        vertical-align: top;\n",
       "    }\n",
       "\n",
       "    .dataframe thead th {\n",
       "        text-align: right;\n",
       "    }\n",
       "</style>\n",
       "<table border=\"1\" class=\"dataframe\">\n",
       "  <thead>\n",
       "    <tr style=\"text-align: right;\">\n",
       "      <th></th>\n",
       "      <th>Days for shipping (real)</th>\n",
       "      <th>Days for shipment (scheduled)</th>\n",
       "      <th>Delivery Status</th>\n",
       "      <th>Late Delivery Risk</th>\n",
       "    </tr>\n",
       "  </thead>\n",
       "  <tbody>\n",
       "    <tr>\n",
       "      <th>0</th>\n",
       "      <td>NaN</td>\n",
       "      <td>NaN</td>\n",
       "      <td>NaN</td>\n",
       "      <td>43366.0</td>\n",
       "    </tr>\n",
       "    <tr>\n",
       "      <th>2</th>\n",
       "      <td>21666.0</td>\n",
       "      <td>NaN</td>\n",
       "      <td>NaN</td>\n",
       "      <td>NaN</td>\n",
       "    </tr>\n",
       "    <tr>\n",
       "      <th>3</th>\n",
       "      <td>21700.0</td>\n",
       "      <td>NaN</td>\n",
       "      <td>NaN</td>\n",
       "      <td>NaN</td>\n",
       "    </tr>\n",
       "    <tr>\n",
       "      <th>4</th>\n",
       "      <td>NaN</td>\n",
       "      <td>43366.0</td>\n",
       "      <td>NaN</td>\n",
       "      <td>NaN</td>\n",
       "    </tr>\n",
       "    <tr>\n",
       "      <th>Advance shipping</th>\n",
       "      <td>NaN</td>\n",
       "      <td>NaN</td>\n",
       "      <td>41592.0</td>\n",
       "      <td>NaN</td>\n",
       "    </tr>\n",
       "    <tr>\n",
       "      <th>Shipping canceled</th>\n",
       "      <td>NaN</td>\n",
       "      <td>NaN</td>\n",
       "      <td>1774.0</td>\n",
       "      <td>NaN</td>\n",
       "    </tr>\n",
       "  </tbody>\n",
       "</table>\n",
       "</div>"
      ],
      "text/plain": [
       "                   Days for shipping (real)  Days for shipment (scheduled)  \\\n",
       "0                                       NaN                            NaN   \n",
       "2                                   21666.0                            NaN   \n",
       "3                                   21700.0                            NaN   \n",
       "4                                       NaN                        43366.0   \n",
       "Advance shipping                        NaN                            NaN   \n",
       "Shipping canceled                       NaN                            NaN   \n",
       "\n",
       "                   Delivery Status  Late Delivery Risk  \n",
       "0                              NaN             43366.0  \n",
       "2                              NaN                 NaN  \n",
       "3                              NaN                 NaN  \n",
       "4                              NaN                 NaN  \n",
       "Advance shipping           41592.0                 NaN  \n",
       "Shipping canceled           1774.0                 NaN  "
      ]
     },
     "execution_count": 13,
     "metadata": {},
     "output_type": "execute_result"
    }
   ],
   "source": [
    "advance_df.apply(pd.Series.value_counts)"
   ]
  },
  {
   "cell_type": "markdown",
   "id": "a161158d",
   "metadata": {},
   "source": [
    "Interesting that only orders that are scheduled to be sent on 4 days are sent in advance, and only in 2 or 3 days"
   ]
  },
  {
   "cell_type": "markdown",
   "id": "6039e1c6",
   "metadata": {
    "ExecuteTime": {
     "end_time": "2022-03-11T09:37:06.634481Z",
     "start_time": "2022-03-11T09:37:06.628441Z"
    }
   },
   "source": [
    "Get percentage of orders that are cancelled"
   ]
  },
  {
   "cell_type": "code",
   "execution_count": 14,
   "id": "a1992d02",
   "metadata": {
    "ExecuteTime": {
     "end_time": "2022-03-11T09:45:42.707936Z",
     "start_time": "2022-03-11T09:45:42.692937Z"
    }
   },
   "outputs": [
    {
     "name": "stdout",
     "output_type": "stream",
     "text": [
      "4.09  % of shipments that are sent in advance are cancelled \n"
     ]
    }
   ],
   "source": [
    "a = len(advance_df.index)\n",
    "p = round(1774/a*100, 2)\n",
    "print( p, \" % of shipments that are sent in advance are cancelled \")\n",
    "percentage_list[2] = p"
   ]
  },
  {
   "cell_type": "markdown",
   "id": "2c29551f",
   "metadata": {},
   "source": [
    "### Inspect Cancelled Shipping"
   ]
  },
  {
   "cell_type": "code",
   "execution_count": 15,
   "id": "414bb596",
   "metadata": {
    "ExecuteTime": {
     "end_time": "2022-03-11T09:45:42.722939Z",
     "start_time": "2022-03-11T09:45:42.708937Z"
    }
   },
   "outputs": [
    {
     "name": "stdout",
     "output_type": "stream",
     "text": [
      "On time, delayed, advanced\n",
      "[4.61, 4.28, 4.09]\n"
     ]
    }
   ],
   "source": [
    "print(\"On time, delayed, advanced\")\n",
    "print(percentage_list)\n"
   ]
  },
  {
   "cell_type": "markdown",
   "id": "2f935033",
   "metadata": {},
   "source": [
    "I am unsure how to interpret the meaning of a shipment cancellation. It may have been cancelled by the customer or by the company. The above percentages suggest the customers don't cancel it because the values are quite similar, and we would expect customers receiving their deliveries late have cancelled\n"
   ]
  },
  {
   "cell_type": "markdown",
   "id": "0413c7a9",
   "metadata": {},
   "source": [
    "Most likely this has to do with payments having failed etc. I'll investigate this further after I figure out the meaning of order status."
   ]
  },
  {
   "cell_type": "markdown",
   "id": "29ef7d79",
   "metadata": {},
   "source": [
    "## Deduce the relationship between order status and payment type  and delivery status"
   ]
  },
  {
   "cell_type": "code",
   "execution_count": 18,
   "id": "f5c17be2",
   "metadata": {
    "ExecuteTime": {
     "end_time": "2022-03-11T09:59:03.827727Z",
     "start_time": "2022-03-11T09:59:03.802743Z"
    }
   },
   "outputs": [
    {
     "data": {
      "text/html": [
       "<div>\n",
       "<style scoped>\n",
       "    .dataframe tbody tr th:only-of-type {\n",
       "        vertical-align: middle;\n",
       "    }\n",
       "\n",
       "    .dataframe tbody tr th {\n",
       "        vertical-align: top;\n",
       "    }\n",
       "\n",
       "    .dataframe thead th {\n",
       "        text-align: right;\n",
       "    }\n",
       "</style>\n",
       "<table border=\"1\" class=\"dataframe\">\n",
       "  <thead>\n",
       "    <tr style=\"text-align: right;\">\n",
       "      <th></th>\n",
       "      <th>Order Status</th>\n",
       "      <th>Type</th>\n",
       "      <th>Delivery Status</th>\n",
       "    </tr>\n",
       "    <tr>\n",
       "      <th>Order Id</th>\n",
       "      <th></th>\n",
       "      <th></th>\n",
       "      <th></th>\n",
       "    </tr>\n",
       "  </thead>\n",
       "  <tbody>\n",
       "    <tr>\n",
       "      <th>77202</th>\n",
       "      <td>COMPLETE</td>\n",
       "      <td>DEBIT</td>\n",
       "      <td>Advance shipping</td>\n",
       "    </tr>\n",
       "    <tr>\n",
       "      <th>75939</th>\n",
       "      <td>PENDING</td>\n",
       "      <td>TRANSFER</td>\n",
       "      <td>Late delivery</td>\n",
       "    </tr>\n",
       "    <tr>\n",
       "      <th>75938</th>\n",
       "      <td>CLOSED</td>\n",
       "      <td>CASH</td>\n",
       "      <td>Shipping on time</td>\n",
       "    </tr>\n",
       "    <tr>\n",
       "      <th>75937</th>\n",
       "      <td>COMPLETE</td>\n",
       "      <td>DEBIT</td>\n",
       "      <td>Advance shipping</td>\n",
       "    </tr>\n",
       "    <tr>\n",
       "      <th>75936</th>\n",
       "      <td>PENDING_PAYMENT</td>\n",
       "      <td>PAYMENT</td>\n",
       "      <td>Advance shipping</td>\n",
       "    </tr>\n",
       "  </tbody>\n",
       "</table>\n",
       "</div>"
      ],
      "text/plain": [
       "             Order Status      Type   Delivery Status\n",
       "Order Id                                             \n",
       "77202            COMPLETE     DEBIT  Advance shipping\n",
       "75939             PENDING  TRANSFER     Late delivery\n",
       "75938              CLOSED      CASH  Shipping on time\n",
       "75937            COMPLETE     DEBIT  Advance shipping\n",
       "75936     PENDING_PAYMENT   PAYMENT  Advance shipping"
      ]
     },
     "execution_count": 18,
     "metadata": {},
     "output_type": "execute_result"
    }
   ],
   "source": [
    "order_status_df = orders_df.filter([\"Order Status\",\"Type\",\"Delivery Status\"]).copy()\n",
    "order_status_df.head()"
   ]
  },
  {
   "cell_type": "code",
   "execution_count": 20,
   "id": "16ddcbcd",
   "metadata": {
    "ExecuteTime": {
     "end_time": "2022-03-11T10:02:06.343029Z",
     "start_time": "2022-03-11T10:02:06.327670Z"
    }
   },
   "outputs": [
    {
     "data": {
      "text/plain": [
       "COMPLETE           59491\n",
       "PENDING_PAYMENT    39832\n",
       "PROCESSING         21902\n",
       "PENDING            20227\n",
       "CLOSED             19616\n",
       "ON_HOLD             9804\n",
       "SUSPECTED_FRAUD     4062\n",
       "CANCELED            3692\n",
       "PAYMENT_REVIEW      1893\n",
       "Name: Order Status, dtype: int64"
      ]
     },
     "execution_count": 20,
     "metadata": {},
     "output_type": "execute_result"
    }
   ],
   "source": [
    "order_status_df[\"Order Status\"].value_counts()"
   ]
  },
  {
   "cell_type": "markdown",
   "id": "1a6908b2",
   "metadata": {},
   "source": [
    "#### Lets inspect these one by one "
   ]
  },
  {
   "cell_type": "markdown",
   "id": "613b617a",
   "metadata": {},
   "source": [
    "##### 1.Start with complete orders"
   ]
  },
  {
   "cell_type": "code",
   "execution_count": 42,
   "id": "7b4feb12",
   "metadata": {
    "ExecuteTime": {
     "end_time": "2022-03-11T10:14:55.907484Z",
     "start_time": "2022-03-11T10:14:55.877262Z"
    }
   },
   "outputs": [
    {
     "data": {
      "text/html": [
       "<div>\n",
       "<style scoped>\n",
       "    .dataframe tbody tr th:only-of-type {\n",
       "        vertical-align: middle;\n",
       "    }\n",
       "\n",
       "    .dataframe tbody tr th {\n",
       "        vertical-align: top;\n",
       "    }\n",
       "\n",
       "    .dataframe thead th {\n",
       "        text-align: right;\n",
       "    }\n",
       "</style>\n",
       "<table border=\"1\" class=\"dataframe\">\n",
       "  <thead>\n",
       "    <tr style=\"text-align: right;\">\n",
       "      <th></th>\n",
       "      <th>Order Status</th>\n",
       "      <th>Type</th>\n",
       "      <th>Delivery Status</th>\n",
       "    </tr>\n",
       "    <tr>\n",
       "      <th>Order Id</th>\n",
       "      <th></th>\n",
       "      <th></th>\n",
       "      <th></th>\n",
       "    </tr>\n",
       "  </thead>\n",
       "  <tbody>\n",
       "    <tr>\n",
       "      <th>77202</th>\n",
       "      <td>COMPLETE</td>\n",
       "      <td>DEBIT</td>\n",
       "      <td>Advance shipping</td>\n",
       "    </tr>\n",
       "    <tr>\n",
       "      <th>75937</th>\n",
       "      <td>COMPLETE</td>\n",
       "      <td>DEBIT</td>\n",
       "      <td>Advance shipping</td>\n",
       "    </tr>\n",
       "    <tr>\n",
       "      <th>75934</th>\n",
       "      <td>COMPLETE</td>\n",
       "      <td>DEBIT</td>\n",
       "      <td>Late delivery</td>\n",
       "    </tr>\n",
       "    <tr>\n",
       "      <th>75927</th>\n",
       "      <td>COMPLETE</td>\n",
       "      <td>DEBIT</td>\n",
       "      <td>Late delivery</td>\n",
       "    </tr>\n",
       "    <tr>\n",
       "      <th>75925</th>\n",
       "      <td>COMPLETE</td>\n",
       "      <td>DEBIT</td>\n",
       "      <td>Late delivery</td>\n",
       "    </tr>\n",
       "  </tbody>\n",
       "</table>\n",
       "</div>"
      ],
      "text/plain": [
       "         Order Status   Type   Delivery Status\n",
       "Order Id                                      \n",
       "77202        COMPLETE  DEBIT  Advance shipping\n",
       "75937        COMPLETE  DEBIT  Advance shipping\n",
       "75934        COMPLETE  DEBIT     Late delivery\n",
       "75927        COMPLETE  DEBIT     Late delivery\n",
       "75925        COMPLETE  DEBIT     Late delivery"
      ]
     },
     "execution_count": 42,
     "metadata": {},
     "output_type": "execute_result"
    }
   ],
   "source": [
    "complete_df = order_status_df.loc[(order_status_df[\"Order Status\"] == \"COMPLETE\")]\n",
    "complete_df.head()"
   ]
  },
  {
   "cell_type": "code",
   "execution_count": 30,
   "id": "2b683302",
   "metadata": {
    "ExecuteTime": {
     "end_time": "2022-03-11T10:06:41.722643Z",
     "start_time": "2022-03-11T10:06:41.696649Z"
    }
   },
   "outputs": [
    {
     "data": {
      "text/html": [
       "<div>\n",
       "<style scoped>\n",
       "    .dataframe tbody tr th:only-of-type {\n",
       "        vertical-align: middle;\n",
       "    }\n",
       "\n",
       "    .dataframe tbody tr th {\n",
       "        vertical-align: top;\n",
       "    }\n",
       "\n",
       "    .dataframe thead th {\n",
       "        text-align: right;\n",
       "    }\n",
       "</style>\n",
       "<table border=\"1\" class=\"dataframe\">\n",
       "  <thead>\n",
       "    <tr style=\"text-align: right;\">\n",
       "      <th></th>\n",
       "      <th>Order Status</th>\n",
       "      <th>Type</th>\n",
       "      <th>Delivery Status</th>\n",
       "    </tr>\n",
       "  </thead>\n",
       "  <tbody>\n",
       "    <tr>\n",
       "      <th>Advance shipping</th>\n",
       "      <td>NaN</td>\n",
       "      <td>NaN</td>\n",
       "      <td>14136.0</td>\n",
       "    </tr>\n",
       "    <tr>\n",
       "      <th>COMPLETE</th>\n",
       "      <td>59491.0</td>\n",
       "      <td>NaN</td>\n",
       "      <td>NaN</td>\n",
       "    </tr>\n",
       "    <tr>\n",
       "      <th>DEBIT</th>\n",
       "      <td>NaN</td>\n",
       "      <td>59491.0</td>\n",
       "      <td>NaN</td>\n",
       "    </tr>\n",
       "    <tr>\n",
       "      <th>Late delivery</th>\n",
       "      <td>NaN</td>\n",
       "      <td>NaN</td>\n",
       "      <td>34199.0</td>\n",
       "    </tr>\n",
       "    <tr>\n",
       "      <th>Shipping on time</th>\n",
       "      <td>NaN</td>\n",
       "      <td>NaN</td>\n",
       "      <td>11156.0</td>\n",
       "    </tr>\n",
       "  </tbody>\n",
       "</table>\n",
       "</div>"
      ],
      "text/plain": [
       "                  Order Status     Type  Delivery Status\n",
       "Advance shipping           NaN      NaN          14136.0\n",
       "COMPLETE               59491.0      NaN              NaN\n",
       "DEBIT                      NaN  59491.0              NaN\n",
       "Late delivery              NaN      NaN          34199.0\n",
       "Shipping on time           NaN      NaN          11156.0"
      ]
     },
     "execution_count": 30,
     "metadata": {},
     "output_type": "execute_result"
    }
   ],
   "source": [
    "complete_df.apply(pd.Series.value_counts)"
   ]
  },
  {
   "cell_type": "markdown",
   "id": "2952a6b4",
   "metadata": {},
   "source": [
    "#### All orders with status \"Complete\" are paid by debit, and their shipping is never cancelled"
   ]
  },
  {
   "cell_type": "markdown",
   "id": "547f2e65",
   "metadata": {},
   "source": [
    "##### Get the dataframes matching each other order"
   ]
  },
  {
   "cell_type": "code",
   "execution_count": 49,
   "id": "c3820327",
   "metadata": {
    "ExecuteTime": {
     "end_time": "2022-03-11T10:16:20.005628Z",
     "start_time": "2022-03-11T10:16:19.980634Z"
    }
   },
   "outputs": [
    {
     "data": {
      "text/plain": [
       "array(['COMPLETE', 'PENDING', 'CLOSED', 'PENDING_PAYMENT', 'CANCELED',\n",
       "       'PROCESSING', 'SUSPECTED_FRAUD', 'ON_HOLD', 'PAYMENT_REVIEW'],\n",
       "      dtype=object)"
      ]
     },
     "execution_count": 49,
     "metadata": {},
     "output_type": "execute_result"
    }
   ],
   "source": [
    "statuses = order_status_df[\"Order Status\"].unique()\n",
    "statuses"
   ]
  },
  {
   "cell_type": "code",
   "execution_count": 54,
   "id": "3c903dc4",
   "metadata": {
    "ExecuteTime": {
     "end_time": "2022-03-11T10:18:40.345989Z",
     "start_time": "2022-03-11T10:18:40.279276Z"
    }
   },
   "outputs": [],
   "source": [
    "pending_df = order_status_df.loc[(order_status_df[\"Order Status\"] == statuses[1])]\n",
    "closed_df = order_status_df.loc[(order_status_df[\"Order Status\"] == statuses[2])]\n",
    "pending_payment_df = order_status_df.loc[(order_status_df[\"Order Status\"] == statuses[3])]\n",
    "canceled_df = order_status_df.loc[(order_status_df[\"Order Status\"] == statuses[4])]\n",
    "processing_df =order_status_df.loc[(order_status_df[\"Order Status\"] == statuses[5])]\n",
    "fraud_df =order_status_df.loc[(order_status_df[\"Order Status\"] == statuses[6])]\n",
    "onhold_df = order_status_df.loc[(order_status_df[\"Order Status\"] == statuses[7])]\n",
    "paymentreview_df = order_status_df.loc[(order_status_df[\"Order Status\"] == statuses[8])]"
   ]
  },
  {
   "cell_type": "markdown",
   "id": "a97dced3",
   "metadata": {},
   "source": [
    "#### 2. Pending Orders"
   ]
  },
  {
   "cell_type": "code",
   "execution_count": 55,
   "id": "dd82917c",
   "metadata": {
    "ExecuteTime": {
     "end_time": "2022-03-11T10:18:42.788500Z",
     "start_time": "2022-03-11T10:18:42.779664Z"
    }
   },
   "outputs": [
    {
     "data": {
      "text/html": [
       "<div>\n",
       "<style scoped>\n",
       "    .dataframe tbody tr th:only-of-type {\n",
       "        vertical-align: middle;\n",
       "    }\n",
       "\n",
       "    .dataframe tbody tr th {\n",
       "        vertical-align: top;\n",
       "    }\n",
       "\n",
       "    .dataframe thead th {\n",
       "        text-align: right;\n",
       "    }\n",
       "</style>\n",
       "<table border=\"1\" class=\"dataframe\">\n",
       "  <thead>\n",
       "    <tr style=\"text-align: right;\">\n",
       "      <th></th>\n",
       "      <th>Order Status</th>\n",
       "      <th>Type</th>\n",
       "      <th>Delivery Status</th>\n",
       "    </tr>\n",
       "    <tr>\n",
       "      <th>Order Id</th>\n",
       "      <th></th>\n",
       "      <th></th>\n",
       "      <th></th>\n",
       "    </tr>\n",
       "  </thead>\n",
       "  <tbody>\n",
       "    <tr>\n",
       "      <th>75939</th>\n",
       "      <td>PENDING</td>\n",
       "      <td>TRANSFER</td>\n",
       "      <td>Late delivery</td>\n",
       "    </tr>\n",
       "    <tr>\n",
       "      <th>75929</th>\n",
       "      <td>PENDING</td>\n",
       "      <td>TRANSFER</td>\n",
       "      <td>Late delivery</td>\n",
       "    </tr>\n",
       "    <tr>\n",
       "      <th>75928</th>\n",
       "      <td>PENDING</td>\n",
       "      <td>TRANSFER</td>\n",
       "      <td>Late delivery</td>\n",
       "    </tr>\n",
       "    <tr>\n",
       "      <th>75919</th>\n",
       "      <td>PENDING</td>\n",
       "      <td>TRANSFER</td>\n",
       "      <td>Late delivery</td>\n",
       "    </tr>\n",
       "    <tr>\n",
       "      <th>75918</th>\n",
       "      <td>PENDING</td>\n",
       "      <td>TRANSFER</td>\n",
       "      <td>Late delivery</td>\n",
       "    </tr>\n",
       "    <tr>\n",
       "      <th>...</th>\n",
       "      <td>...</td>\n",
       "      <td>...</td>\n",
       "      <td>...</td>\n",
       "    </tr>\n",
       "    <tr>\n",
       "      <th>26446</th>\n",
       "      <td>PENDING</td>\n",
       "      <td>TRANSFER</td>\n",
       "      <td>Shipping on time</td>\n",
       "    </tr>\n",
       "    <tr>\n",
       "      <th>26258</th>\n",
       "      <td>PENDING</td>\n",
       "      <td>TRANSFER</td>\n",
       "      <td>Shipping on time</td>\n",
       "    </tr>\n",
       "    <tr>\n",
       "      <th>26143</th>\n",
       "      <td>PENDING</td>\n",
       "      <td>TRANSFER</td>\n",
       "      <td>Shipping on time</td>\n",
       "    </tr>\n",
       "    <tr>\n",
       "      <th>26117</th>\n",
       "      <td>PENDING</td>\n",
       "      <td>TRANSFER</td>\n",
       "      <td>Advance shipping</td>\n",
       "    </tr>\n",
       "    <tr>\n",
       "      <th>26024</th>\n",
       "      <td>PENDING</td>\n",
       "      <td>TRANSFER</td>\n",
       "      <td>Late delivery</td>\n",
       "    </tr>\n",
       "  </tbody>\n",
       "</table>\n",
       "<p>20227 rows × 3 columns</p>\n",
       "</div>"
      ],
      "text/plain": [
       "         Order Status      Type   Delivery Status\n",
       "Order Id                                         \n",
       "75939         PENDING  TRANSFER     Late delivery\n",
       "75929         PENDING  TRANSFER     Late delivery\n",
       "75928         PENDING  TRANSFER     Late delivery\n",
       "75919         PENDING  TRANSFER     Late delivery\n",
       "75918         PENDING  TRANSFER     Late delivery\n",
       "...               ...       ...               ...\n",
       "26446         PENDING  TRANSFER  Shipping on time\n",
       "26258         PENDING  TRANSFER  Shipping on time\n",
       "26143         PENDING  TRANSFER  Shipping on time\n",
       "26117         PENDING  TRANSFER  Advance shipping\n",
       "26024         PENDING  TRANSFER     Late delivery\n",
       "\n",
       "[20227 rows x 3 columns]"
      ]
     },
     "execution_count": 55,
     "metadata": {},
     "output_type": "execute_result"
    }
   ],
   "source": [
    "pending_df"
   ]
  },
  {
   "cell_type": "code",
   "execution_count": 56,
   "id": "054524ed",
   "metadata": {
    "ExecuteTime": {
     "end_time": "2022-03-11T10:18:43.147419Z",
     "start_time": "2022-03-11T10:18:43.121421Z"
    }
   },
   "outputs": [
    {
     "data": {
      "text/html": [
       "<div>\n",
       "<style scoped>\n",
       "    .dataframe tbody tr th:only-of-type {\n",
       "        vertical-align: middle;\n",
       "    }\n",
       "\n",
       "    .dataframe tbody tr th {\n",
       "        vertical-align: top;\n",
       "    }\n",
       "\n",
       "    .dataframe thead th {\n",
       "        text-align: right;\n",
       "    }\n",
       "</style>\n",
       "<table border=\"1\" class=\"dataframe\">\n",
       "  <thead>\n",
       "    <tr style=\"text-align: right;\">\n",
       "      <th></th>\n",
       "      <th>Order Status</th>\n",
       "      <th>Type</th>\n",
       "      <th>Delivery Status</th>\n",
       "    </tr>\n",
       "  </thead>\n",
       "  <tbody>\n",
       "    <tr>\n",
       "      <th>Advance shipping</th>\n",
       "      <td>NaN</td>\n",
       "      <td>NaN</td>\n",
       "      <td>4857.0</td>\n",
       "    </tr>\n",
       "    <tr>\n",
       "      <th>Late delivery</th>\n",
       "      <td>NaN</td>\n",
       "      <td>NaN</td>\n",
       "      <td>11712.0</td>\n",
       "    </tr>\n",
       "    <tr>\n",
       "      <th>PENDING</th>\n",
       "      <td>20227.0</td>\n",
       "      <td>NaN</td>\n",
       "      <td>NaN</td>\n",
       "    </tr>\n",
       "    <tr>\n",
       "      <th>Shipping on time</th>\n",
       "      <td>NaN</td>\n",
       "      <td>NaN</td>\n",
       "      <td>3658.0</td>\n",
       "    </tr>\n",
       "    <tr>\n",
       "      <th>TRANSFER</th>\n",
       "      <td>NaN</td>\n",
       "      <td>20227.0</td>\n",
       "      <td>NaN</td>\n",
       "    </tr>\n",
       "  </tbody>\n",
       "</table>\n",
       "</div>"
      ],
      "text/plain": [
       "                  Order Status     Type  Delivery Status\n",
       "Advance shipping           NaN      NaN           4857.0\n",
       "Late delivery              NaN      NaN          11712.0\n",
       "PENDING                20227.0      NaN              NaN\n",
       "Shipping on time           NaN      NaN           3658.0\n",
       "TRANSFER                   NaN  20227.0              NaN"
      ]
     },
     "execution_count": 56,
     "metadata": {},
     "output_type": "execute_result"
    }
   ],
   "source": [
    "pending_df.apply(pd.Series.value_counts)"
   ]
  },
  {
   "cell_type": "markdown",
   "id": "cc055013",
   "metadata": {},
   "source": [
    "#### All Pending orders are paid via Transfer and are never cancelled"
   ]
  },
  {
   "cell_type": "markdown",
   "id": "2bd438bd",
   "metadata": {},
   "source": [
    "#### 3. Closed orders"
   ]
  },
  {
   "cell_type": "code",
   "execution_count": 58,
   "id": "34c29c2e",
   "metadata": {
    "ExecuteTime": {
     "end_time": "2022-03-11T10:21:09.926913Z",
     "start_time": "2022-03-11T10:21:09.905284Z"
    }
   },
   "outputs": [
    {
     "data": {
      "text/html": [
       "<div>\n",
       "<style scoped>\n",
       "    .dataframe tbody tr th:only-of-type {\n",
       "        vertical-align: middle;\n",
       "    }\n",
       "\n",
       "    .dataframe tbody tr th {\n",
       "        vertical-align: top;\n",
       "    }\n",
       "\n",
       "    .dataframe thead th {\n",
       "        text-align: right;\n",
       "    }\n",
       "</style>\n",
       "<table border=\"1\" class=\"dataframe\">\n",
       "  <thead>\n",
       "    <tr style=\"text-align: right;\">\n",
       "      <th></th>\n",
       "      <th>Order Status</th>\n",
       "      <th>Type</th>\n",
       "      <th>Delivery Status</th>\n",
       "    </tr>\n",
       "    <tr>\n",
       "      <th>Order Id</th>\n",
       "      <th></th>\n",
       "      <th></th>\n",
       "      <th></th>\n",
       "    </tr>\n",
       "  </thead>\n",
       "  <tbody>\n",
       "    <tr>\n",
       "      <th>75938</th>\n",
       "      <td>CLOSED</td>\n",
       "      <td>CASH</td>\n",
       "      <td>Shipping on time</td>\n",
       "    </tr>\n",
       "    <tr>\n",
       "      <th>75932</th>\n",
       "      <td>CLOSED</td>\n",
       "      <td>CASH</td>\n",
       "      <td>Late delivery</td>\n",
       "    </tr>\n",
       "    <tr>\n",
       "      <th>75931</th>\n",
       "      <td>CLOSED</td>\n",
       "      <td>CASH</td>\n",
       "      <td>Late delivery</td>\n",
       "    </tr>\n",
       "    <tr>\n",
       "      <th>75923</th>\n",
       "      <td>CLOSED</td>\n",
       "      <td>CASH</td>\n",
       "      <td>Late delivery</td>\n",
       "    </tr>\n",
       "    <tr>\n",
       "      <th>75904</th>\n",
       "      <td>CLOSED</td>\n",
       "      <td>CASH</td>\n",
       "      <td>Late delivery</td>\n",
       "    </tr>\n",
       "    <tr>\n",
       "      <th>...</th>\n",
       "      <td>...</td>\n",
       "      <td>...</td>\n",
       "      <td>...</td>\n",
       "    </tr>\n",
       "    <tr>\n",
       "      <th>26224</th>\n",
       "      <td>CLOSED</td>\n",
       "      <td>CASH</td>\n",
       "      <td>Late delivery</td>\n",
       "    </tr>\n",
       "    <tr>\n",
       "      <th>26096</th>\n",
       "      <td>CLOSED</td>\n",
       "      <td>CASH</td>\n",
       "      <td>Advance shipping</td>\n",
       "    </tr>\n",
       "    <tr>\n",
       "      <th>26087</th>\n",
       "      <td>CLOSED</td>\n",
       "      <td>CASH</td>\n",
       "      <td>Advance shipping</td>\n",
       "    </tr>\n",
       "    <tr>\n",
       "      <th>26072</th>\n",
       "      <td>CLOSED</td>\n",
       "      <td>CASH</td>\n",
       "      <td>Advance shipping</td>\n",
       "    </tr>\n",
       "    <tr>\n",
       "      <th>26043</th>\n",
       "      <td>CLOSED</td>\n",
       "      <td>CASH</td>\n",
       "      <td>Shipping on time</td>\n",
       "    </tr>\n",
       "  </tbody>\n",
       "</table>\n",
       "<p>19616 rows × 3 columns</p>\n",
       "</div>"
      ],
      "text/plain": [
       "         Order Status  Type   Delivery Status\n",
       "Order Id                                     \n",
       "75938          CLOSED  CASH  Shipping on time\n",
       "75932          CLOSED  CASH     Late delivery\n",
       "75931          CLOSED  CASH     Late delivery\n",
       "75923          CLOSED  CASH     Late delivery\n",
       "75904          CLOSED  CASH     Late delivery\n",
       "...               ...   ...               ...\n",
       "26224          CLOSED  CASH     Late delivery\n",
       "26096          CLOSED  CASH  Advance shipping\n",
       "26087          CLOSED  CASH  Advance shipping\n",
       "26072          CLOSED  CASH  Advance shipping\n",
       "26043          CLOSED  CASH  Shipping on time\n",
       "\n",
       "[19616 rows x 3 columns]"
      ]
     },
     "execution_count": 58,
     "metadata": {},
     "output_type": "execute_result"
    }
   ],
   "source": [
    "closed_df"
   ]
  },
  {
   "cell_type": "code",
   "execution_count": 60,
   "id": "65cc94bc",
   "metadata": {
    "ExecuteTime": {
     "end_time": "2022-03-11T10:21:28.162596Z",
     "start_time": "2022-03-11T10:21:28.146609Z"
    }
   },
   "outputs": [
    {
     "data": {
      "text/html": [
       "<div>\n",
       "<style scoped>\n",
       "    .dataframe tbody tr th:only-of-type {\n",
       "        vertical-align: middle;\n",
       "    }\n",
       "\n",
       "    .dataframe tbody tr th {\n",
       "        vertical-align: top;\n",
       "    }\n",
       "\n",
       "    .dataframe thead th {\n",
       "        text-align: right;\n",
       "    }\n",
       "</style>\n",
       "<table border=\"1\" class=\"dataframe\">\n",
       "  <thead>\n",
       "    <tr style=\"text-align: right;\">\n",
       "      <th></th>\n",
       "      <th>Order Status</th>\n",
       "      <th>Type</th>\n",
       "      <th>Delivery Status</th>\n",
       "    </tr>\n",
       "  </thead>\n",
       "  <tbody>\n",
       "    <tr>\n",
       "      <th>Advance shipping</th>\n",
       "      <td>NaN</td>\n",
       "      <td>NaN</td>\n",
       "      <td>4809.0</td>\n",
       "    </tr>\n",
       "    <tr>\n",
       "      <th>CASH</th>\n",
       "      <td>NaN</td>\n",
       "      <td>19616.0</td>\n",
       "      <td>NaN</td>\n",
       "    </tr>\n",
       "    <tr>\n",
       "      <th>CLOSED</th>\n",
       "      <td>19616.0</td>\n",
       "      <td>NaN</td>\n",
       "      <td>NaN</td>\n",
       "    </tr>\n",
       "    <tr>\n",
       "      <th>Late delivery</th>\n",
       "      <td>NaN</td>\n",
       "      <td>NaN</td>\n",
       "      <td>11109.0</td>\n",
       "    </tr>\n",
       "    <tr>\n",
       "      <th>Shipping on time</th>\n",
       "      <td>NaN</td>\n",
       "      <td>NaN</td>\n",
       "      <td>3698.0</td>\n",
       "    </tr>\n",
       "  </tbody>\n",
       "</table>\n",
       "</div>"
      ],
      "text/plain": [
       "                  Order Status     Type  Delivery Status\n",
       "Advance shipping           NaN      NaN           4809.0\n",
       "CASH                       NaN  19616.0              NaN\n",
       "CLOSED                 19616.0      NaN              NaN\n",
       "Late delivery              NaN      NaN          11109.0\n",
       "Shipping on time           NaN      NaN           3698.0"
      ]
     },
     "execution_count": 60,
     "metadata": {},
     "output_type": "execute_result"
    }
   ],
   "source": [
    "closed_df.apply(pd.Series.value_counts)"
   ]
  },
  {
   "cell_type": "markdown",
   "id": "356a8940",
   "metadata": {},
   "source": [
    "##### All Closed orders are settled with cash and never cancelled"
   ]
  },
  {
   "cell_type": "markdown",
   "id": "34cc957b",
   "metadata": {},
   "source": [
    "#### 4. Pending Payment orders"
   ]
  },
  {
   "cell_type": "code",
   "execution_count": 61,
   "id": "3946b690",
   "metadata": {
    "ExecuteTime": {
     "end_time": "2022-03-11T10:24:28.274287Z",
     "start_time": "2022-03-11T10:24:28.263287Z"
    }
   },
   "outputs": [
    {
     "data": {
      "text/html": [
       "<div>\n",
       "<style scoped>\n",
       "    .dataframe tbody tr th:only-of-type {\n",
       "        vertical-align: middle;\n",
       "    }\n",
       "\n",
       "    .dataframe tbody tr th {\n",
       "        vertical-align: top;\n",
       "    }\n",
       "\n",
       "    .dataframe thead th {\n",
       "        text-align: right;\n",
       "    }\n",
       "</style>\n",
       "<table border=\"1\" class=\"dataframe\">\n",
       "  <thead>\n",
       "    <tr style=\"text-align: right;\">\n",
       "      <th></th>\n",
       "      <th>Order Status</th>\n",
       "      <th>Type</th>\n",
       "      <th>Delivery Status</th>\n",
       "    </tr>\n",
       "    <tr>\n",
       "      <th>Order Id</th>\n",
       "      <th></th>\n",
       "      <th></th>\n",
       "      <th></th>\n",
       "    </tr>\n",
       "  </thead>\n",
       "  <tbody>\n",
       "    <tr>\n",
       "      <th>75936</th>\n",
       "      <td>PENDING_PAYMENT</td>\n",
       "      <td>PAYMENT</td>\n",
       "      <td>Advance shipping</td>\n",
       "    </tr>\n",
       "    <tr>\n",
       "      <th>75924</th>\n",
       "      <td>PENDING_PAYMENT</td>\n",
       "      <td>PAYMENT</td>\n",
       "      <td>Late delivery</td>\n",
       "    </tr>\n",
       "    <tr>\n",
       "      <th>75921</th>\n",
       "      <td>PENDING_PAYMENT</td>\n",
       "      <td>PAYMENT</td>\n",
       "      <td>Shipping on time</td>\n",
       "    </tr>\n",
       "    <tr>\n",
       "      <th>75913</th>\n",
       "      <td>PENDING_PAYMENT</td>\n",
       "      <td>PAYMENT</td>\n",
       "      <td>Shipping on time</td>\n",
       "    </tr>\n",
       "    <tr>\n",
       "      <th>75908</th>\n",
       "      <td>PENDING_PAYMENT</td>\n",
       "      <td>PAYMENT</td>\n",
       "      <td>Shipping on time</td>\n",
       "    </tr>\n",
       "    <tr>\n",
       "      <th>...</th>\n",
       "      <td>...</td>\n",
       "      <td>...</td>\n",
       "      <td>...</td>\n",
       "    </tr>\n",
       "    <tr>\n",
       "      <th>26052</th>\n",
       "      <td>PENDING_PAYMENT</td>\n",
       "      <td>PAYMENT</td>\n",
       "      <td>Advance shipping</td>\n",
       "    </tr>\n",
       "    <tr>\n",
       "      <th>26052</th>\n",
       "      <td>PENDING_PAYMENT</td>\n",
       "      <td>PAYMENT</td>\n",
       "      <td>Advance shipping</td>\n",
       "    </tr>\n",
       "    <tr>\n",
       "      <th>26047</th>\n",
       "      <td>PENDING_PAYMENT</td>\n",
       "      <td>PAYMENT</td>\n",
       "      <td>Advance shipping</td>\n",
       "    </tr>\n",
       "    <tr>\n",
       "      <th>26022</th>\n",
       "      <td>PENDING_PAYMENT</td>\n",
       "      <td>PAYMENT</td>\n",
       "      <td>Advance shipping</td>\n",
       "    </tr>\n",
       "    <tr>\n",
       "      <th>26018</th>\n",
       "      <td>PENDING_PAYMENT</td>\n",
       "      <td>PAYMENT</td>\n",
       "      <td>Shipping on time</td>\n",
       "    </tr>\n",
       "  </tbody>\n",
       "</table>\n",
       "<p>39832 rows × 3 columns</p>\n",
       "</div>"
      ],
      "text/plain": [
       "             Order Status     Type   Delivery Status\n",
       "Order Id                                            \n",
       "75936     PENDING_PAYMENT  PAYMENT  Advance shipping\n",
       "75924     PENDING_PAYMENT  PAYMENT     Late delivery\n",
       "75921     PENDING_PAYMENT  PAYMENT  Shipping on time\n",
       "75913     PENDING_PAYMENT  PAYMENT  Shipping on time\n",
       "75908     PENDING_PAYMENT  PAYMENT  Shipping on time\n",
       "...                   ...      ...               ...\n",
       "26052     PENDING_PAYMENT  PAYMENT  Advance shipping\n",
       "26052     PENDING_PAYMENT  PAYMENT  Advance shipping\n",
       "26047     PENDING_PAYMENT  PAYMENT  Advance shipping\n",
       "26022     PENDING_PAYMENT  PAYMENT  Advance shipping\n",
       "26018     PENDING_PAYMENT  PAYMENT  Shipping on time\n",
       "\n",
       "[39832 rows x 3 columns]"
      ]
     },
     "execution_count": 61,
     "metadata": {},
     "output_type": "execute_result"
    }
   ],
   "source": [
    "pending_payment_df"
   ]
  },
  {
   "cell_type": "code",
   "execution_count": 62,
   "id": "79414f1a",
   "metadata": {
    "ExecuteTime": {
     "end_time": "2022-03-11T10:24:30.993614Z",
     "start_time": "2022-03-11T10:24:30.971616Z"
    }
   },
   "outputs": [
    {
     "data": {
      "text/html": [
       "<div>\n",
       "<style scoped>\n",
       "    .dataframe tbody tr th:only-of-type {\n",
       "        vertical-align: middle;\n",
       "    }\n",
       "\n",
       "    .dataframe tbody tr th {\n",
       "        vertical-align: top;\n",
       "    }\n",
       "\n",
       "    .dataframe thead th {\n",
       "        text-align: right;\n",
       "    }\n",
       "</style>\n",
       "<table border=\"1\" class=\"dataframe\">\n",
       "  <thead>\n",
       "    <tr style=\"text-align: right;\">\n",
       "      <th></th>\n",
       "      <th>Order Status</th>\n",
       "      <th>Type</th>\n",
       "      <th>Delivery Status</th>\n",
       "    </tr>\n",
       "  </thead>\n",
       "  <tbody>\n",
       "    <tr>\n",
       "      <th>Advance shipping</th>\n",
       "      <td>NaN</td>\n",
       "      <td>NaN</td>\n",
       "      <td>9588.0</td>\n",
       "    </tr>\n",
       "    <tr>\n",
       "      <th>Late delivery</th>\n",
       "      <td>NaN</td>\n",
       "      <td>NaN</td>\n",
       "      <td>22922.0</td>\n",
       "    </tr>\n",
       "    <tr>\n",
       "      <th>PAYMENT</th>\n",
       "      <td>NaN</td>\n",
       "      <td>39832.0</td>\n",
       "      <td>NaN</td>\n",
       "    </tr>\n",
       "    <tr>\n",
       "      <th>PENDING_PAYMENT</th>\n",
       "      <td>39832.0</td>\n",
       "      <td>NaN</td>\n",
       "      <td>NaN</td>\n",
       "    </tr>\n",
       "    <tr>\n",
       "      <th>Shipping on time</th>\n",
       "      <td>NaN</td>\n",
       "      <td>NaN</td>\n",
       "      <td>7322.0</td>\n",
       "    </tr>\n",
       "  </tbody>\n",
       "</table>\n",
       "</div>"
      ],
      "text/plain": [
       "                  Order Status     Type  Delivery Status\n",
       "Advance shipping           NaN      NaN           9588.0\n",
       "Late delivery              NaN      NaN          22922.0\n",
       "PAYMENT                    NaN  39832.0              NaN\n",
       "PENDING_PAYMENT        39832.0      NaN              NaN\n",
       "Shipping on time           NaN      NaN           7322.0"
      ]
     },
     "execution_count": 62,
     "metadata": {},
     "output_type": "execute_result"
    }
   ],
   "source": [
    "pending_payment_df.apply(pd.Series.value_counts)"
   ]
  },
  {
   "cell_type": "markdown",
   "id": "bc41e600",
   "metadata": {},
   "source": [
    "#### All \"Pending Payment\" status orders have payment type = \"Payment\" and are never cancelled"
   ]
  },
  {
   "cell_type": "markdown",
   "id": "3e3b5df4",
   "metadata": {},
   "source": [
    "#### 5. Cancelled Orders"
   ]
  },
  {
   "cell_type": "code",
   "execution_count": 63,
   "id": "e8c55599",
   "metadata": {
    "ExecuteTime": {
     "end_time": "2022-03-11T10:25:27.977201Z",
     "start_time": "2022-03-11T10:25:27.961495Z"
    }
   },
   "outputs": [
    {
     "data": {
      "text/html": [
       "<div>\n",
       "<style scoped>\n",
       "    .dataframe tbody tr th:only-of-type {\n",
       "        vertical-align: middle;\n",
       "    }\n",
       "\n",
       "    .dataframe tbody tr th {\n",
       "        vertical-align: top;\n",
       "    }\n",
       "\n",
       "    .dataframe thead th {\n",
       "        text-align: right;\n",
       "    }\n",
       "</style>\n",
       "<table border=\"1\" class=\"dataframe\">\n",
       "  <thead>\n",
       "    <tr style=\"text-align: right;\">\n",
       "      <th></th>\n",
       "      <th>Order Status</th>\n",
       "      <th>Type</th>\n",
       "      <th>Delivery Status</th>\n",
       "    </tr>\n",
       "    <tr>\n",
       "      <th>Order Id</th>\n",
       "      <th></th>\n",
       "      <th></th>\n",
       "      <th></th>\n",
       "    </tr>\n",
       "  </thead>\n",
       "  <tbody>\n",
       "    <tr>\n",
       "      <th>75935</th>\n",
       "      <td>CANCELED</td>\n",
       "      <td>TRANSFER</td>\n",
       "      <td>Shipping canceled</td>\n",
       "    </tr>\n",
       "    <tr>\n",
       "      <th>75917</th>\n",
       "      <td>CANCELED</td>\n",
       "      <td>TRANSFER</td>\n",
       "      <td>Shipping canceled</td>\n",
       "    </tr>\n",
       "    <tr>\n",
       "      <th>75901</th>\n",
       "      <td>CANCELED</td>\n",
       "      <td>TRANSFER</td>\n",
       "      <td>Shipping canceled</td>\n",
       "    </tr>\n",
       "    <tr>\n",
       "      <th>42331</th>\n",
       "      <td>CANCELED</td>\n",
       "      <td>TRANSFER</td>\n",
       "      <td>Shipping canceled</td>\n",
       "    </tr>\n",
       "    <tr>\n",
       "      <th>41345</th>\n",
       "      <td>CANCELED</td>\n",
       "      <td>TRANSFER</td>\n",
       "      <td>Shipping canceled</td>\n",
       "    </tr>\n",
       "    <tr>\n",
       "      <th>...</th>\n",
       "      <td>...</td>\n",
       "      <td>...</td>\n",
       "      <td>...</td>\n",
       "    </tr>\n",
       "    <tr>\n",
       "      <th>27051</th>\n",
       "      <td>CANCELED</td>\n",
       "      <td>TRANSFER</td>\n",
       "      <td>Shipping canceled</td>\n",
       "    </tr>\n",
       "    <tr>\n",
       "      <th>26915</th>\n",
       "      <td>CANCELED</td>\n",
       "      <td>TRANSFER</td>\n",
       "      <td>Shipping canceled</td>\n",
       "    </tr>\n",
       "    <tr>\n",
       "      <th>26741</th>\n",
       "      <td>CANCELED</td>\n",
       "      <td>TRANSFER</td>\n",
       "      <td>Shipping canceled</td>\n",
       "    </tr>\n",
       "    <tr>\n",
       "      <th>26741</th>\n",
       "      <td>CANCELED</td>\n",
       "      <td>TRANSFER</td>\n",
       "      <td>Shipping canceled</td>\n",
       "    </tr>\n",
       "    <tr>\n",
       "      <th>26667</th>\n",
       "      <td>CANCELED</td>\n",
       "      <td>TRANSFER</td>\n",
       "      <td>Shipping canceled</td>\n",
       "    </tr>\n",
       "  </tbody>\n",
       "</table>\n",
       "<p>3692 rows × 3 columns</p>\n",
       "</div>"
      ],
      "text/plain": [
       "         Order Status      Type    Delivery Status\n",
       "Order Id                                          \n",
       "75935        CANCELED  TRANSFER  Shipping canceled\n",
       "75917        CANCELED  TRANSFER  Shipping canceled\n",
       "75901        CANCELED  TRANSFER  Shipping canceled\n",
       "42331        CANCELED  TRANSFER  Shipping canceled\n",
       "41345        CANCELED  TRANSFER  Shipping canceled\n",
       "...               ...       ...                ...\n",
       "27051        CANCELED  TRANSFER  Shipping canceled\n",
       "26915        CANCELED  TRANSFER  Shipping canceled\n",
       "26741        CANCELED  TRANSFER  Shipping canceled\n",
       "26741        CANCELED  TRANSFER  Shipping canceled\n",
       "26667        CANCELED  TRANSFER  Shipping canceled\n",
       "\n",
       "[3692 rows x 3 columns]"
      ]
     },
     "execution_count": 63,
     "metadata": {},
     "output_type": "execute_result"
    }
   ],
   "source": [
    "canceled_df "
   ]
  },
  {
   "cell_type": "code",
   "execution_count": 64,
   "id": "dedeabb9",
   "metadata": {
    "ExecuteTime": {
     "end_time": "2022-03-11T10:25:31.098359Z",
     "start_time": "2022-03-11T10:25:31.077362Z"
    }
   },
   "outputs": [
    {
     "data": {
      "text/html": [
       "<div>\n",
       "<style scoped>\n",
       "    .dataframe tbody tr th:only-of-type {\n",
       "        vertical-align: middle;\n",
       "    }\n",
       "\n",
       "    .dataframe tbody tr th {\n",
       "        vertical-align: top;\n",
       "    }\n",
       "\n",
       "    .dataframe thead th {\n",
       "        text-align: right;\n",
       "    }\n",
       "</style>\n",
       "<table border=\"1\" class=\"dataframe\">\n",
       "  <thead>\n",
       "    <tr style=\"text-align: right;\">\n",
       "      <th></th>\n",
       "      <th>Order Status</th>\n",
       "      <th>Type</th>\n",
       "      <th>Delivery Status</th>\n",
       "    </tr>\n",
       "  </thead>\n",
       "  <tbody>\n",
       "    <tr>\n",
       "      <th>CANCELED</th>\n",
       "      <td>3692.0</td>\n",
       "      <td>NaN</td>\n",
       "      <td>NaN</td>\n",
       "    </tr>\n",
       "    <tr>\n",
       "      <th>Shipping canceled</th>\n",
       "      <td>NaN</td>\n",
       "      <td>NaN</td>\n",
       "      <td>3692.0</td>\n",
       "    </tr>\n",
       "    <tr>\n",
       "      <th>TRANSFER</th>\n",
       "      <td>NaN</td>\n",
       "      <td>3692.0</td>\n",
       "      <td>NaN</td>\n",
       "    </tr>\n",
       "  </tbody>\n",
       "</table>\n",
       "</div>"
      ],
      "text/plain": [
       "                   Order Status    Type  Delivery Status\n",
       "CANCELED                 3692.0     NaN              NaN\n",
       "Shipping canceled           NaN     NaN           3692.0\n",
       "TRANSFER                    NaN  3692.0              NaN"
      ]
     },
     "execution_count": 64,
     "metadata": {},
     "output_type": "execute_result"
    }
   ],
   "source": [
    "canceled_df.apply(pd.Series.value_counts)"
   ]
  },
  {
   "cell_type": "markdown",
   "id": "f0a79af7",
   "metadata": {},
   "source": [
    "#### All \"Canceled\" status orders are paid via transfer and have their shipping cancelled"
   ]
  },
  {
   "cell_type": "markdown",
   "id": "c77adf0a",
   "metadata": {},
   "source": [
    "#### 6. Processing Orders"
   ]
  },
  {
   "cell_type": "code",
   "execution_count": 66,
   "id": "46fde0ac",
   "metadata": {
    "ExecuteTime": {
     "end_time": "2022-03-11T10:27:15.387037Z",
     "start_time": "2022-03-11T10:27:15.376040Z"
    }
   },
   "outputs": [
    {
     "data": {
      "text/html": [
       "<div>\n",
       "<style scoped>\n",
       "    .dataframe tbody tr th:only-of-type {\n",
       "        vertical-align: middle;\n",
       "    }\n",
       "\n",
       "    .dataframe tbody tr th {\n",
       "        vertical-align: top;\n",
       "    }\n",
       "\n",
       "    .dataframe thead th {\n",
       "        text-align: right;\n",
       "    }\n",
       "</style>\n",
       "<table border=\"1\" class=\"dataframe\">\n",
       "  <thead>\n",
       "    <tr style=\"text-align: right;\">\n",
       "      <th></th>\n",
       "      <th>Order Status</th>\n",
       "      <th>Type</th>\n",
       "      <th>Delivery Status</th>\n",
       "    </tr>\n",
       "    <tr>\n",
       "      <th>Order Id</th>\n",
       "      <th></th>\n",
       "      <th></th>\n",
       "      <th></th>\n",
       "    </tr>\n",
       "  </thead>\n",
       "  <tbody>\n",
       "    <tr>\n",
       "      <th>75933</th>\n",
       "      <td>PROCESSING</td>\n",
       "      <td>TRANSFER</td>\n",
       "      <td>Late delivery</td>\n",
       "    </tr>\n",
       "    <tr>\n",
       "      <th>75926</th>\n",
       "      <td>PROCESSING</td>\n",
       "      <td>TRANSFER</td>\n",
       "      <td>Late delivery</td>\n",
       "    </tr>\n",
       "    <tr>\n",
       "      <th>75920</th>\n",
       "      <td>PROCESSING</td>\n",
       "      <td>TRANSFER</td>\n",
       "      <td>Shipping on time</td>\n",
       "    </tr>\n",
       "    <tr>\n",
       "      <th>75911</th>\n",
       "      <td>PROCESSING</td>\n",
       "      <td>TRANSFER</td>\n",
       "      <td>Advance shipping</td>\n",
       "    </tr>\n",
       "    <tr>\n",
       "      <th>75893</th>\n",
       "      <td>PROCESSING</td>\n",
       "      <td>TRANSFER</td>\n",
       "      <td>Shipping on time</td>\n",
       "    </tr>\n",
       "    <tr>\n",
       "      <th>...</th>\n",
       "      <td>...</td>\n",
       "      <td>...</td>\n",
       "      <td>...</td>\n",
       "    </tr>\n",
       "    <tr>\n",
       "      <th>26193</th>\n",
       "      <td>PROCESSING</td>\n",
       "      <td>TRANSFER</td>\n",
       "      <td>Shipping on time</td>\n",
       "    </tr>\n",
       "    <tr>\n",
       "      <th>26160</th>\n",
       "      <td>PROCESSING</td>\n",
       "      <td>TRANSFER</td>\n",
       "      <td>Late delivery</td>\n",
       "    </tr>\n",
       "    <tr>\n",
       "      <th>26160</th>\n",
       "      <td>PROCESSING</td>\n",
       "      <td>TRANSFER</td>\n",
       "      <td>Late delivery</td>\n",
       "    </tr>\n",
       "    <tr>\n",
       "      <th>26159</th>\n",
       "      <td>PROCESSING</td>\n",
       "      <td>TRANSFER</td>\n",
       "      <td>Late delivery</td>\n",
       "    </tr>\n",
       "    <tr>\n",
       "      <th>26137</th>\n",
       "      <td>PROCESSING</td>\n",
       "      <td>TRANSFER</td>\n",
       "      <td>Advance shipping</td>\n",
       "    </tr>\n",
       "  </tbody>\n",
       "</table>\n",
       "<p>21902 rows × 3 columns</p>\n",
       "</div>"
      ],
      "text/plain": [
       "         Order Status      Type   Delivery Status\n",
       "Order Id                                         \n",
       "75933      PROCESSING  TRANSFER     Late delivery\n",
       "75926      PROCESSING  TRANSFER     Late delivery\n",
       "75920      PROCESSING  TRANSFER  Shipping on time\n",
       "75911      PROCESSING  TRANSFER  Advance shipping\n",
       "75893      PROCESSING  TRANSFER  Shipping on time\n",
       "...               ...       ...               ...\n",
       "26193      PROCESSING  TRANSFER  Shipping on time\n",
       "26160      PROCESSING  TRANSFER     Late delivery\n",
       "26160      PROCESSING  TRANSFER     Late delivery\n",
       "26159      PROCESSING  TRANSFER     Late delivery\n",
       "26137      PROCESSING  TRANSFER  Advance shipping\n",
       "\n",
       "[21902 rows x 3 columns]"
      ]
     },
     "execution_count": 66,
     "metadata": {},
     "output_type": "execute_result"
    }
   ],
   "source": [
    "processing_df"
   ]
  },
  {
   "cell_type": "code",
   "execution_count": 72,
   "id": "e52de095",
   "metadata": {
    "ExecuteTime": {
     "end_time": "2022-03-11T10:27:56.234319Z",
     "start_time": "2022-03-11T10:27:56.213112Z"
    }
   },
   "outputs": [
    {
     "data": {
      "text/html": [
       "<div>\n",
       "<style scoped>\n",
       "    .dataframe tbody tr th:only-of-type {\n",
       "        vertical-align: middle;\n",
       "    }\n",
       "\n",
       "    .dataframe tbody tr th {\n",
       "        vertical-align: top;\n",
       "    }\n",
       "\n",
       "    .dataframe thead th {\n",
       "        text-align: right;\n",
       "    }\n",
       "</style>\n",
       "<table border=\"1\" class=\"dataframe\">\n",
       "  <thead>\n",
       "    <tr style=\"text-align: right;\">\n",
       "      <th></th>\n",
       "      <th>Order Status</th>\n",
       "      <th>Type</th>\n",
       "      <th>Delivery Status</th>\n",
       "    </tr>\n",
       "  </thead>\n",
       "  <tbody>\n",
       "    <tr>\n",
       "      <th>Advance shipping</th>\n",
       "      <td>NaN</td>\n",
       "      <td>NaN</td>\n",
       "      <td>5369.0</td>\n",
       "    </tr>\n",
       "    <tr>\n",
       "      <th>Late delivery</th>\n",
       "      <td>NaN</td>\n",
       "      <td>NaN</td>\n",
       "      <td>12503.0</td>\n",
       "    </tr>\n",
       "    <tr>\n",
       "      <th>PROCESSING</th>\n",
       "      <td>21902.0</td>\n",
       "      <td>NaN</td>\n",
       "      <td>NaN</td>\n",
       "    </tr>\n",
       "    <tr>\n",
       "      <th>Shipping on time</th>\n",
       "      <td>NaN</td>\n",
       "      <td>NaN</td>\n",
       "      <td>4030.0</td>\n",
       "    </tr>\n",
       "    <tr>\n",
       "      <th>TRANSFER</th>\n",
       "      <td>NaN</td>\n",
       "      <td>21902.0</td>\n",
       "      <td>NaN</td>\n",
       "    </tr>\n",
       "  </tbody>\n",
       "</table>\n",
       "</div>"
      ],
      "text/plain": [
       "                  Order Status     Type  Delivery Status\n",
       "Advance shipping           NaN      NaN           5369.0\n",
       "Late delivery              NaN      NaN          12503.0\n",
       "PROCESSING             21902.0      NaN              NaN\n",
       "Shipping on time           NaN      NaN           4030.0\n",
       "TRANSFER                   NaN  21902.0              NaN"
      ]
     },
     "execution_count": 72,
     "metadata": {},
     "output_type": "execute_result"
    }
   ],
   "source": [
    "processing_df.apply(pd.Series.value_counts)"
   ]
  },
  {
   "cell_type": "markdown",
   "id": "cbaf6af5",
   "metadata": {},
   "source": [
    "##### All \"Processing\" orders are paid by transfer and are never cancelled"
   ]
  },
  {
   "cell_type": "markdown",
   "id": "3097e502",
   "metadata": {},
   "source": [
    "#### 7. Fraudulent Orders"
   ]
  },
  {
   "cell_type": "code",
   "execution_count": 73,
   "id": "7177b82c",
   "metadata": {
    "ExecuteTime": {
     "end_time": "2022-03-11T10:28:45.270329Z",
     "start_time": "2022-03-11T10:28:45.259330Z"
    }
   },
   "outputs": [
    {
     "data": {
      "text/html": [
       "<div>\n",
       "<style scoped>\n",
       "    .dataframe tbody tr th:only-of-type {\n",
       "        vertical-align: middle;\n",
       "    }\n",
       "\n",
       "    .dataframe tbody tr th {\n",
       "        vertical-align: top;\n",
       "    }\n",
       "\n",
       "    .dataframe thead th {\n",
       "        text-align: right;\n",
       "    }\n",
       "</style>\n",
       "<table border=\"1\" class=\"dataframe\">\n",
       "  <thead>\n",
       "    <tr style=\"text-align: right;\">\n",
       "      <th></th>\n",
       "      <th>Order Status</th>\n",
       "      <th>Type</th>\n",
       "      <th>Delivery Status</th>\n",
       "    </tr>\n",
       "    <tr>\n",
       "      <th>Order Id</th>\n",
       "      <th></th>\n",
       "      <th></th>\n",
       "      <th></th>\n",
       "    </tr>\n",
       "  </thead>\n",
       "  <tbody>\n",
       "    <tr>\n",
       "      <th>75930</th>\n",
       "      <td>SUSPECTED_FRAUD</td>\n",
       "      <td>TRANSFER</td>\n",
       "      <td>Shipping canceled</td>\n",
       "    </tr>\n",
       "    <tr>\n",
       "      <th>75916</th>\n",
       "      <td>SUSPECTED_FRAUD</td>\n",
       "      <td>TRANSFER</td>\n",
       "      <td>Shipping canceled</td>\n",
       "    </tr>\n",
       "    <tr>\n",
       "      <th>33824</th>\n",
       "      <td>SUSPECTED_FRAUD</td>\n",
       "      <td>TRANSFER</td>\n",
       "      <td>Shipping canceled</td>\n",
       "    </tr>\n",
       "    <tr>\n",
       "      <th>31364</th>\n",
       "      <td>SUSPECTED_FRAUD</td>\n",
       "      <td>TRANSFER</td>\n",
       "      <td>Shipping canceled</td>\n",
       "    </tr>\n",
       "    <tr>\n",
       "      <th>40495</th>\n",
       "      <td>SUSPECTED_FRAUD</td>\n",
       "      <td>TRANSFER</td>\n",
       "      <td>Shipping canceled</td>\n",
       "    </tr>\n",
       "    <tr>\n",
       "      <th>...</th>\n",
       "      <td>...</td>\n",
       "      <td>...</td>\n",
       "      <td>...</td>\n",
       "    </tr>\n",
       "    <tr>\n",
       "      <th>26934</th>\n",
       "      <td>SUSPECTED_FRAUD</td>\n",
       "      <td>TRANSFER</td>\n",
       "      <td>Shipping canceled</td>\n",
       "    </tr>\n",
       "    <tr>\n",
       "      <th>26780</th>\n",
       "      <td>SUSPECTED_FRAUD</td>\n",
       "      <td>TRANSFER</td>\n",
       "      <td>Shipping canceled</td>\n",
       "    </tr>\n",
       "    <tr>\n",
       "      <th>26658</th>\n",
       "      <td>SUSPECTED_FRAUD</td>\n",
       "      <td>TRANSFER</td>\n",
       "      <td>Shipping canceled</td>\n",
       "    </tr>\n",
       "    <tr>\n",
       "      <th>26480</th>\n",
       "      <td>SUSPECTED_FRAUD</td>\n",
       "      <td>TRANSFER</td>\n",
       "      <td>Shipping canceled</td>\n",
       "    </tr>\n",
       "    <tr>\n",
       "      <th>26118</th>\n",
       "      <td>SUSPECTED_FRAUD</td>\n",
       "      <td>TRANSFER</td>\n",
       "      <td>Shipping canceled</td>\n",
       "    </tr>\n",
       "  </tbody>\n",
       "</table>\n",
       "<p>4062 rows × 3 columns</p>\n",
       "</div>"
      ],
      "text/plain": [
       "             Order Status      Type    Delivery Status\n",
       "Order Id                                              \n",
       "75930     SUSPECTED_FRAUD  TRANSFER  Shipping canceled\n",
       "75916     SUSPECTED_FRAUD  TRANSFER  Shipping canceled\n",
       "33824     SUSPECTED_FRAUD  TRANSFER  Shipping canceled\n",
       "31364     SUSPECTED_FRAUD  TRANSFER  Shipping canceled\n",
       "40495     SUSPECTED_FRAUD  TRANSFER  Shipping canceled\n",
       "...                   ...       ...                ...\n",
       "26934     SUSPECTED_FRAUD  TRANSFER  Shipping canceled\n",
       "26780     SUSPECTED_FRAUD  TRANSFER  Shipping canceled\n",
       "26658     SUSPECTED_FRAUD  TRANSFER  Shipping canceled\n",
       "26480     SUSPECTED_FRAUD  TRANSFER  Shipping canceled\n",
       "26118     SUSPECTED_FRAUD  TRANSFER  Shipping canceled\n",
       "\n",
       "[4062 rows x 3 columns]"
      ]
     },
     "execution_count": 73,
     "metadata": {},
     "output_type": "execute_result"
    }
   ],
   "source": [
    "fraud_df "
   ]
  },
  {
   "cell_type": "code",
   "execution_count": 74,
   "id": "9691a146",
   "metadata": {
    "ExecuteTime": {
     "end_time": "2022-03-11T10:28:48.133064Z",
     "start_time": "2022-03-11T10:28:48.109066Z"
    }
   },
   "outputs": [
    {
     "data": {
      "text/html": [
       "<div>\n",
       "<style scoped>\n",
       "    .dataframe tbody tr th:only-of-type {\n",
       "        vertical-align: middle;\n",
       "    }\n",
       "\n",
       "    .dataframe tbody tr th {\n",
       "        vertical-align: top;\n",
       "    }\n",
       "\n",
       "    .dataframe thead th {\n",
       "        text-align: right;\n",
       "    }\n",
       "</style>\n",
       "<table border=\"1\" class=\"dataframe\">\n",
       "  <thead>\n",
       "    <tr style=\"text-align: right;\">\n",
       "      <th></th>\n",
       "      <th>Order Status</th>\n",
       "      <th>Type</th>\n",
       "      <th>Delivery Status</th>\n",
       "    </tr>\n",
       "  </thead>\n",
       "  <tbody>\n",
       "    <tr>\n",
       "      <th>SUSPECTED_FRAUD</th>\n",
       "      <td>4062.0</td>\n",
       "      <td>NaN</td>\n",
       "      <td>NaN</td>\n",
       "    </tr>\n",
       "    <tr>\n",
       "      <th>Shipping canceled</th>\n",
       "      <td>NaN</td>\n",
       "      <td>NaN</td>\n",
       "      <td>4062.0</td>\n",
       "    </tr>\n",
       "    <tr>\n",
       "      <th>TRANSFER</th>\n",
       "      <td>NaN</td>\n",
       "      <td>4062.0</td>\n",
       "      <td>NaN</td>\n",
       "    </tr>\n",
       "  </tbody>\n",
       "</table>\n",
       "</div>"
      ],
      "text/plain": [
       "                   Order Status    Type  Delivery Status\n",
       "SUSPECTED_FRAUD          4062.0     NaN              NaN\n",
       "Shipping canceled           NaN     NaN           4062.0\n",
       "TRANSFER                    NaN  4062.0              NaN"
      ]
     },
     "execution_count": 74,
     "metadata": {},
     "output_type": "execute_result"
    }
   ],
   "source": [
    "fraud_df.apply(pd.Series.value_counts) "
   ]
  },
  {
   "cell_type": "markdown",
   "id": "970fe490",
   "metadata": {},
   "source": [
    "##### All fraudulent orders are paid via transfer and have their shipping cancelled"
   ]
  },
  {
   "cell_type": "markdown",
   "id": "952532a7",
   "metadata": {},
   "source": [
    "#### 8. On hold orders "
   ]
  },
  {
   "cell_type": "code",
   "execution_count": 75,
   "id": "7044e11a",
   "metadata": {
    "ExecuteTime": {
     "end_time": "2022-03-11T10:29:12.162954Z",
     "start_time": "2022-03-11T10:29:12.151966Z"
    }
   },
   "outputs": [
    {
     "data": {
      "text/html": [
       "<div>\n",
       "<style scoped>\n",
       "    .dataframe tbody tr th:only-of-type {\n",
       "        vertical-align: middle;\n",
       "    }\n",
       "\n",
       "    .dataframe tbody tr th {\n",
       "        vertical-align: top;\n",
       "    }\n",
       "\n",
       "    .dataframe thead th {\n",
       "        text-align: right;\n",
       "    }\n",
       "</style>\n",
       "<table border=\"1\" class=\"dataframe\">\n",
       "  <thead>\n",
       "    <tr style=\"text-align: right;\">\n",
       "      <th></th>\n",
       "      <th>Order Status</th>\n",
       "      <th>Type</th>\n",
       "      <th>Delivery Status</th>\n",
       "    </tr>\n",
       "    <tr>\n",
       "      <th>Order Id</th>\n",
       "      <th></th>\n",
       "      <th></th>\n",
       "      <th></th>\n",
       "    </tr>\n",
       "  </thead>\n",
       "  <tbody>\n",
       "    <tr>\n",
       "      <th>75910</th>\n",
       "      <td>ON_HOLD</td>\n",
       "      <td>DEBIT</td>\n",
       "      <td>Late delivery</td>\n",
       "    </tr>\n",
       "    <tr>\n",
       "      <th>51050</th>\n",
       "      <td>ON_HOLD</td>\n",
       "      <td>DEBIT</td>\n",
       "      <td>Late delivery</td>\n",
       "    </tr>\n",
       "    <tr>\n",
       "      <th>45680</th>\n",
       "      <td>ON_HOLD</td>\n",
       "      <td>DEBIT</td>\n",
       "      <td>Late delivery</td>\n",
       "    </tr>\n",
       "    <tr>\n",
       "      <th>42992</th>\n",
       "      <td>ON_HOLD</td>\n",
       "      <td>DEBIT</td>\n",
       "      <td>Late delivery</td>\n",
       "    </tr>\n",
       "    <tr>\n",
       "      <th>41304</th>\n",
       "      <td>ON_HOLD</td>\n",
       "      <td>DEBIT</td>\n",
       "      <td>Late delivery</td>\n",
       "    </tr>\n",
       "    <tr>\n",
       "      <th>...</th>\n",
       "      <td>...</td>\n",
       "      <td>...</td>\n",
       "      <td>...</td>\n",
       "    </tr>\n",
       "    <tr>\n",
       "      <th>26182</th>\n",
       "      <td>ON_HOLD</td>\n",
       "      <td>DEBIT</td>\n",
       "      <td>Advance shipping</td>\n",
       "    </tr>\n",
       "    <tr>\n",
       "      <th>26150</th>\n",
       "      <td>ON_HOLD</td>\n",
       "      <td>DEBIT</td>\n",
       "      <td>Late delivery</td>\n",
       "    </tr>\n",
       "    <tr>\n",
       "      <th>26150</th>\n",
       "      <td>ON_HOLD</td>\n",
       "      <td>DEBIT</td>\n",
       "      <td>Late delivery</td>\n",
       "    </tr>\n",
       "    <tr>\n",
       "      <th>26116</th>\n",
       "      <td>ON_HOLD</td>\n",
       "      <td>DEBIT</td>\n",
       "      <td>Advance shipping</td>\n",
       "    </tr>\n",
       "    <tr>\n",
       "      <th>26051</th>\n",
       "      <td>ON_HOLD</td>\n",
       "      <td>DEBIT</td>\n",
       "      <td>Shipping on time</td>\n",
       "    </tr>\n",
       "  </tbody>\n",
       "</table>\n",
       "<p>9804 rows × 3 columns</p>\n",
       "</div>"
      ],
      "text/plain": [
       "         Order Status   Type   Delivery Status\n",
       "Order Id                                      \n",
       "75910         ON_HOLD  DEBIT     Late delivery\n",
       "51050         ON_HOLD  DEBIT     Late delivery\n",
       "45680         ON_HOLD  DEBIT     Late delivery\n",
       "42992         ON_HOLD  DEBIT     Late delivery\n",
       "41304         ON_HOLD  DEBIT     Late delivery\n",
       "...               ...    ...               ...\n",
       "26182         ON_HOLD  DEBIT  Advance shipping\n",
       "26150         ON_HOLD  DEBIT     Late delivery\n",
       "26150         ON_HOLD  DEBIT     Late delivery\n",
       "26116         ON_HOLD  DEBIT  Advance shipping\n",
       "26051         ON_HOLD  DEBIT  Shipping on time\n",
       "\n",
       "[9804 rows x 3 columns]"
      ]
     },
     "execution_count": 75,
     "metadata": {},
     "output_type": "execute_result"
    }
   ],
   "source": [
    "onhold_df "
   ]
  },
  {
   "cell_type": "code",
   "execution_count": 76,
   "id": "241b8b60",
   "metadata": {
    "ExecuteTime": {
     "end_time": "2022-03-11T10:29:16.419642Z",
     "start_time": "2022-03-11T10:29:16.401658Z"
    }
   },
   "outputs": [
    {
     "data": {
      "text/html": [
       "<div>\n",
       "<style scoped>\n",
       "    .dataframe tbody tr th:only-of-type {\n",
       "        vertical-align: middle;\n",
       "    }\n",
       "\n",
       "    .dataframe tbody tr th {\n",
       "        vertical-align: top;\n",
       "    }\n",
       "\n",
       "    .dataframe thead th {\n",
       "        text-align: right;\n",
       "    }\n",
       "</style>\n",
       "<table border=\"1\" class=\"dataframe\">\n",
       "  <thead>\n",
       "    <tr style=\"text-align: right;\">\n",
       "      <th></th>\n",
       "      <th>Order Status</th>\n",
       "      <th>Type</th>\n",
       "      <th>Delivery Status</th>\n",
       "    </tr>\n",
       "  </thead>\n",
       "  <tbody>\n",
       "    <tr>\n",
       "      <th>Advance shipping</th>\n",
       "      <td>NaN</td>\n",
       "      <td>NaN</td>\n",
       "      <td>2413.0</td>\n",
       "    </tr>\n",
       "    <tr>\n",
       "      <th>DEBIT</th>\n",
       "      <td>NaN</td>\n",
       "      <td>9804.0</td>\n",
       "      <td>NaN</td>\n",
       "    </tr>\n",
       "    <tr>\n",
       "      <th>Late delivery</th>\n",
       "      <td>NaN</td>\n",
       "      <td>NaN</td>\n",
       "      <td>5450.0</td>\n",
       "    </tr>\n",
       "    <tr>\n",
       "      <th>ON_HOLD</th>\n",
       "      <td>9804.0</td>\n",
       "      <td>NaN</td>\n",
       "      <td>NaN</td>\n",
       "    </tr>\n",
       "    <tr>\n",
       "      <th>Shipping on time</th>\n",
       "      <td>NaN</td>\n",
       "      <td>NaN</td>\n",
       "      <td>1941.0</td>\n",
       "    </tr>\n",
       "  </tbody>\n",
       "</table>\n",
       "</div>"
      ],
      "text/plain": [
       "                  Order Status    Type  Delivery Status\n",
       "Advance shipping           NaN     NaN           2413.0\n",
       "DEBIT                      NaN  9804.0              NaN\n",
       "Late delivery              NaN     NaN           5450.0\n",
       "ON_HOLD                 9804.0     NaN              NaN\n",
       "Shipping on time           NaN     NaN           1941.0"
      ]
     },
     "execution_count": 76,
     "metadata": {},
     "output_type": "execute_result"
    }
   ],
   "source": [
    "onhold_df.apply(pd.Series.value_counts) "
   ]
  },
  {
   "cell_type": "markdown",
   "id": "56b0d93b",
   "metadata": {},
   "source": [
    "#####  All ON_Hold orders are paid via debit and are never cancelled"
   ]
  },
  {
   "cell_type": "markdown",
   "id": "40427119",
   "metadata": {},
   "source": [
    "#### 9. Payment Review orders "
   ]
  },
  {
   "cell_type": "code",
   "execution_count": 77,
   "id": "1c068aac",
   "metadata": {
    "ExecuteTime": {
     "end_time": "2022-03-11T10:30:04.890770Z",
     "start_time": "2022-03-11T10:30:04.877770Z"
    }
   },
   "outputs": [
    {
     "data": {
      "text/html": [
       "<div>\n",
       "<style scoped>\n",
       "    .dataframe tbody tr th:only-of-type {\n",
       "        vertical-align: middle;\n",
       "    }\n",
       "\n",
       "    .dataframe tbody tr th {\n",
       "        vertical-align: top;\n",
       "    }\n",
       "\n",
       "    .dataframe thead th {\n",
       "        text-align: right;\n",
       "    }\n",
       "</style>\n",
       "<table border=\"1\" class=\"dataframe\">\n",
       "  <thead>\n",
       "    <tr style=\"text-align: right;\">\n",
       "      <th></th>\n",
       "      <th>Order Status</th>\n",
       "      <th>Type</th>\n",
       "      <th>Delivery Status</th>\n",
       "    </tr>\n",
       "    <tr>\n",
       "      <th>Order Id</th>\n",
       "      <th></th>\n",
       "      <th></th>\n",
       "      <th></th>\n",
       "    </tr>\n",
       "  </thead>\n",
       "  <tbody>\n",
       "    <tr>\n",
       "      <th>75813</th>\n",
       "      <td>PAYMENT_REVIEW</td>\n",
       "      <td>PAYMENT</td>\n",
       "      <td>Late delivery</td>\n",
       "    </tr>\n",
       "    <tr>\n",
       "      <th>49521</th>\n",
       "      <td>PAYMENT_REVIEW</td>\n",
       "      <td>PAYMENT</td>\n",
       "      <td>Shipping on time</td>\n",
       "    </tr>\n",
       "    <tr>\n",
       "      <th>30305</th>\n",
       "      <td>PAYMENT_REVIEW</td>\n",
       "      <td>PAYMENT</td>\n",
       "      <td>Late delivery</td>\n",
       "    </tr>\n",
       "    <tr>\n",
       "      <th>39159</th>\n",
       "      <td>PAYMENT_REVIEW</td>\n",
       "      <td>PAYMENT</td>\n",
       "      <td>Late delivery</td>\n",
       "    </tr>\n",
       "    <tr>\n",
       "      <th>47262</th>\n",
       "      <td>PAYMENT_REVIEW</td>\n",
       "      <td>PAYMENT</td>\n",
       "      <td>Late delivery</td>\n",
       "    </tr>\n",
       "    <tr>\n",
       "      <th>...</th>\n",
       "      <td>...</td>\n",
       "      <td>...</td>\n",
       "      <td>...</td>\n",
       "    </tr>\n",
       "    <tr>\n",
       "      <th>27343</th>\n",
       "      <td>PAYMENT_REVIEW</td>\n",
       "      <td>PAYMENT</td>\n",
       "      <td>Late delivery</td>\n",
       "    </tr>\n",
       "    <tr>\n",
       "      <th>26894</th>\n",
       "      <td>PAYMENT_REVIEW</td>\n",
       "      <td>PAYMENT</td>\n",
       "      <td>Late delivery</td>\n",
       "    </tr>\n",
       "    <tr>\n",
       "      <th>26758</th>\n",
       "      <td>PAYMENT_REVIEW</td>\n",
       "      <td>PAYMENT</td>\n",
       "      <td>Shipping on time</td>\n",
       "    </tr>\n",
       "    <tr>\n",
       "      <th>26194</th>\n",
       "      <td>PAYMENT_REVIEW</td>\n",
       "      <td>PAYMENT</td>\n",
       "      <td>Late delivery</td>\n",
       "    </tr>\n",
       "    <tr>\n",
       "      <th>26059</th>\n",
       "      <td>PAYMENT_REVIEW</td>\n",
       "      <td>PAYMENT</td>\n",
       "      <td>Late delivery</td>\n",
       "    </tr>\n",
       "  </tbody>\n",
       "</table>\n",
       "<p>1893 rows × 3 columns</p>\n",
       "</div>"
      ],
      "text/plain": [
       "            Order Status     Type   Delivery Status\n",
       "Order Id                                           \n",
       "75813     PAYMENT_REVIEW  PAYMENT     Late delivery\n",
       "49521     PAYMENT_REVIEW  PAYMENT  Shipping on time\n",
       "30305     PAYMENT_REVIEW  PAYMENT     Late delivery\n",
       "39159     PAYMENT_REVIEW  PAYMENT     Late delivery\n",
       "47262     PAYMENT_REVIEW  PAYMENT     Late delivery\n",
       "...                  ...      ...               ...\n",
       "27343     PAYMENT_REVIEW  PAYMENT     Late delivery\n",
       "26894     PAYMENT_REVIEW  PAYMENT     Late delivery\n",
       "26758     PAYMENT_REVIEW  PAYMENT  Shipping on time\n",
       "26194     PAYMENT_REVIEW  PAYMENT     Late delivery\n",
       "26059     PAYMENT_REVIEW  PAYMENT     Late delivery\n",
       "\n",
       "[1893 rows x 3 columns]"
      ]
     },
     "execution_count": 77,
     "metadata": {},
     "output_type": "execute_result"
    }
   ],
   "source": [
    "paymentreview_df "
   ]
  },
  {
   "cell_type": "code",
   "execution_count": 78,
   "id": "ca997e67",
   "metadata": {
    "ExecuteTime": {
     "end_time": "2022-03-11T10:30:07.254563Z",
     "start_time": "2022-03-11T10:30:07.238889Z"
    }
   },
   "outputs": [
    {
     "data": {
      "text/html": [
       "<div>\n",
       "<style scoped>\n",
       "    .dataframe tbody tr th:only-of-type {\n",
       "        vertical-align: middle;\n",
       "    }\n",
       "\n",
       "    .dataframe tbody tr th {\n",
       "        vertical-align: top;\n",
       "    }\n",
       "\n",
       "    .dataframe thead th {\n",
       "        text-align: right;\n",
       "    }\n",
       "</style>\n",
       "<table border=\"1\" class=\"dataframe\">\n",
       "  <thead>\n",
       "    <tr style=\"text-align: right;\">\n",
       "      <th></th>\n",
       "      <th>Order Status</th>\n",
       "      <th>Type</th>\n",
       "      <th>Delivery Status</th>\n",
       "    </tr>\n",
       "  </thead>\n",
       "  <tbody>\n",
       "    <tr>\n",
       "      <th>Advance shipping</th>\n",
       "      <td>NaN</td>\n",
       "      <td>NaN</td>\n",
       "      <td>420.0</td>\n",
       "    </tr>\n",
       "    <tr>\n",
       "      <th>Late delivery</th>\n",
       "      <td>NaN</td>\n",
       "      <td>NaN</td>\n",
       "      <td>1082.0</td>\n",
       "    </tr>\n",
       "    <tr>\n",
       "      <th>PAYMENT</th>\n",
       "      <td>NaN</td>\n",
       "      <td>1893.0</td>\n",
       "      <td>NaN</td>\n",
       "    </tr>\n",
       "    <tr>\n",
       "      <th>PAYMENT_REVIEW</th>\n",
       "      <td>1893.0</td>\n",
       "      <td>NaN</td>\n",
       "      <td>NaN</td>\n",
       "    </tr>\n",
       "    <tr>\n",
       "      <th>Shipping on time</th>\n",
       "      <td>NaN</td>\n",
       "      <td>NaN</td>\n",
       "      <td>391.0</td>\n",
       "    </tr>\n",
       "  </tbody>\n",
       "</table>\n",
       "</div>"
      ],
      "text/plain": [
       "                  Order Status    Type  Delivery Status\n",
       "Advance shipping           NaN     NaN            420.0\n",
       "Late delivery              NaN     NaN           1082.0\n",
       "PAYMENT                    NaN  1893.0              NaN\n",
       "PAYMENT_REVIEW          1893.0     NaN              NaN\n",
       "Shipping on time           NaN     NaN            391.0"
      ]
     },
     "execution_count": 78,
     "metadata": {},
     "output_type": "execute_result"
    }
   ],
   "source": [
    "paymentreview_df.apply(pd.Series.value_counts)"
   ]
  },
  {
   "cell_type": "markdown",
   "id": "43cc3f64",
   "metadata": {},
   "source": [
    "##### All payment_review orders are paid via \"Payment\" and are never cancelled"
   ]
  },
  {
   "cell_type": "markdown",
   "id": "6e6fa6bd",
   "metadata": {
    "ExecuteTime": {
     "end_time": "2022-03-11T10:38:16.668037Z",
     "start_time": "2022-03-11T10:38:16.639037Z"
    }
   },
   "source": [
    "# Create new tablet to summarize this info "
   ]
  },
  {
   "cell_type": "markdown",
   "id": "e006ac3c",
   "metadata": {},
   "source": [
    "Function to get % decomposition of delivery status and payment type for each order status"
   ]
  },
  {
   "cell_type": "code",
   "execution_count": 179,
   "id": "010b4ee5",
   "metadata": {
    "ExecuteTime": {
     "end_time": "2022-03-11T11:16:06.950831Z",
     "start_time": "2022-03-11T11:16:06.940830Z"
    }
   },
   "outputs": [],
   "source": [
    "my_dict = {}\n",
    "n = orders_df.shape[0]\n",
    "\n",
    "def get_percentages(df,i):\n",
    "    global my_dict\n",
    "    global statuses\n",
    "    global n\n",
    "    delivery = df[\"Delivery Status\"].value_counts(normalize=True)\n",
    "    payment = df.iloc[1][\"Type\"]\n",
    "    percent = round(df.shape[0]/n*100,2)\n",
    "    \n",
    "    if i ==4 or i == 6:\n",
    "        my_dict[statuses[i]] = [percent,0,0,0,round(delivery[0]*100,2), payment]\n",
    "    else:\n",
    "        my_dict[statuses[i]] = [percent,round(delivery[0]*100,2), round(delivery[1]*100,2), round(delivery[2]*100,2),0,payment]\n",
    "    "
   ]
  },
  {
   "cell_type": "markdown",
   "id": "b19ac404",
   "metadata": {},
   "source": [
    "Put all order dfs in a list"
   ]
  },
  {
   "cell_type": "code",
   "execution_count": 180,
   "id": "b4198470",
   "metadata": {
    "ExecuteTime": {
     "end_time": "2022-03-11T11:16:07.618389Z",
     "start_time": "2022-03-11T11:16:07.611390Z"
    }
   },
   "outputs": [],
   "source": [
    "df_list = [complete_df,\n",
    "pending_df,\n",
    "closed_df,\n",
    "pending_payment_df,\n",
    "canceled_df ,\n",
    "processing_df,\n",
    "fraud_df ,\n",
    "onhold_df ,\n",
    "paymentreview_df ]"
   ]
  },
  {
   "cell_type": "markdown",
   "id": "74c99712",
   "metadata": {},
   "source": [
    "##### Call function and populate dict"
   ]
  },
  {
   "cell_type": "code",
   "execution_count": 181,
   "id": "38e7791a",
   "metadata": {
    "ExecuteTime": {
     "end_time": "2022-03-11T11:16:08.378077Z",
     "start_time": "2022-03-11T11:16:08.349735Z"
    }
   },
   "outputs": [],
   "source": [
    "for i in range(len(df_list)):\n",
    "    get_percentages(df_list[i],i)"
   ]
  },
  {
   "cell_type": "code",
   "execution_count": 182,
   "id": "d3fd2342",
   "metadata": {
    "ExecuteTime": {
     "end_time": "2022-03-11T11:16:08.734794Z",
     "start_time": "2022-03-11T11:16:08.727793Z"
    }
   },
   "outputs": [
    {
     "data": {
      "text/plain": [
       "{'COMPLETE': [32.96, 57.49, 23.76, 18.75, 0, 'DEBIT'],\n",
       " 'PENDING': [11.2, 57.9, 24.01, 18.08, 0, 'TRANSFER'],\n",
       " 'CLOSED': [10.87, 56.63, 24.52, 18.85, 0, 'CASH'],\n",
       " 'PENDING_PAYMENT': [22.07, 57.55, 24.07, 18.38, 0, 'PAYMENT'],\n",
       " 'CANCELED': [2.05, 0, 0, 0, 100.0, 'TRANSFER'],\n",
       " 'PROCESSING': [12.13, 57.09, 24.51, 18.4, 0, 'TRANSFER'],\n",
       " 'SUSPECTED_FRAUD': [2.25, 0, 0, 0, 100.0, 'TRANSFER'],\n",
       " 'ON_HOLD': [5.43, 55.59, 24.61, 19.8, 0, 'DEBIT'],\n",
       " 'PAYMENT_REVIEW': [1.05, 57.16, 22.19, 20.66, 0, 'PAYMENT']}"
      ]
     },
     "execution_count": 182,
     "metadata": {},
     "output_type": "execute_result"
    }
   ],
   "source": [
    "my_dict"
   ]
  },
  {
   "cell_type": "markdown",
   "id": "9431e86d",
   "metadata": {
    "ExecuteTime": {
     "end_time": "2022-03-11T11:00:54.628969Z",
     "start_time": "2022-03-11T11:00:54.624972Z"
    }
   },
   "source": [
    "#### Convert into dataframe"
   ]
  },
  {
   "cell_type": "code",
   "execution_count": 183,
   "id": "f19530d3",
   "metadata": {
    "ExecuteTime": {
     "end_time": "2022-03-11T11:16:18.520449Z",
     "start_time": "2022-03-11T11:16:18.502732Z"
    }
   },
   "outputs": [
    {
     "data": {
      "text/html": [
       "<div>\n",
       "<style scoped>\n",
       "    .dataframe tbody tr th:only-of-type {\n",
       "        vertical-align: middle;\n",
       "    }\n",
       "\n",
       "    .dataframe tbody tr th {\n",
       "        vertical-align: top;\n",
       "    }\n",
       "\n",
       "    .dataframe thead th {\n",
       "        text-align: right;\n",
       "    }\n",
       "</style>\n",
       "<table border=\"1\" class=\"dataframe\">\n",
       "  <thead>\n",
       "    <tr style=\"text-align: right;\">\n",
       "      <th></th>\n",
       "      <th>% of all orders</th>\n",
       "      <th>Late delivery %</th>\n",
       "      <th>Advance shipping %</th>\n",
       "      <th>Shipping on time %</th>\n",
       "      <th>Shipping Cancelled %</th>\n",
       "      <th>Payment%</th>\n",
       "    </tr>\n",
       "  </thead>\n",
       "  <tbody>\n",
       "    <tr>\n",
       "      <th>COMPLETE</th>\n",
       "      <td>32.96</td>\n",
       "      <td>57.49</td>\n",
       "      <td>23.76</td>\n",
       "      <td>18.75</td>\n",
       "      <td>0.0</td>\n",
       "      <td>DEBIT</td>\n",
       "    </tr>\n",
       "    <tr>\n",
       "      <th>PENDING</th>\n",
       "      <td>11.20</td>\n",
       "      <td>57.90</td>\n",
       "      <td>24.01</td>\n",
       "      <td>18.08</td>\n",
       "      <td>0.0</td>\n",
       "      <td>TRANSFER</td>\n",
       "    </tr>\n",
       "    <tr>\n",
       "      <th>CLOSED</th>\n",
       "      <td>10.87</td>\n",
       "      <td>56.63</td>\n",
       "      <td>24.52</td>\n",
       "      <td>18.85</td>\n",
       "      <td>0.0</td>\n",
       "      <td>CASH</td>\n",
       "    </tr>\n",
       "    <tr>\n",
       "      <th>PENDING_PAYMENT</th>\n",
       "      <td>22.07</td>\n",
       "      <td>57.55</td>\n",
       "      <td>24.07</td>\n",
       "      <td>18.38</td>\n",
       "      <td>0.0</td>\n",
       "      <td>PAYMENT</td>\n",
       "    </tr>\n",
       "    <tr>\n",
       "      <th>CANCELED</th>\n",
       "      <td>2.05</td>\n",
       "      <td>0.00</td>\n",
       "      <td>0.00</td>\n",
       "      <td>0.00</td>\n",
       "      <td>100.0</td>\n",
       "      <td>TRANSFER</td>\n",
       "    </tr>\n",
       "    <tr>\n",
       "      <th>PROCESSING</th>\n",
       "      <td>12.13</td>\n",
       "      <td>57.09</td>\n",
       "      <td>24.51</td>\n",
       "      <td>18.40</td>\n",
       "      <td>0.0</td>\n",
       "      <td>TRANSFER</td>\n",
       "    </tr>\n",
       "    <tr>\n",
       "      <th>SUSPECTED_FRAUD</th>\n",
       "      <td>2.25</td>\n",
       "      <td>0.00</td>\n",
       "      <td>0.00</td>\n",
       "      <td>0.00</td>\n",
       "      <td>100.0</td>\n",
       "      <td>TRANSFER</td>\n",
       "    </tr>\n",
       "    <tr>\n",
       "      <th>ON_HOLD</th>\n",
       "      <td>5.43</td>\n",
       "      <td>55.59</td>\n",
       "      <td>24.61</td>\n",
       "      <td>19.80</td>\n",
       "      <td>0.0</td>\n",
       "      <td>DEBIT</td>\n",
       "    </tr>\n",
       "    <tr>\n",
       "      <th>PAYMENT_REVIEW</th>\n",
       "      <td>1.05</td>\n",
       "      <td>57.16</td>\n",
       "      <td>22.19</td>\n",
       "      <td>20.66</td>\n",
       "      <td>0.0</td>\n",
       "      <td>PAYMENT</td>\n",
       "    </tr>\n",
       "  </tbody>\n",
       "</table>\n",
       "</div>"
      ],
      "text/plain": [
       "                 % of all orders  Late delivery %  Advance shipping %  \\\n",
       "COMPLETE                   32.96            57.49               23.76   \n",
       "PENDING                    11.20            57.90               24.01   \n",
       "CLOSED                     10.87            56.63               24.52   \n",
       "PENDING_PAYMENT            22.07            57.55               24.07   \n",
       "CANCELED                    2.05             0.00                0.00   \n",
       "PROCESSING                 12.13            57.09               24.51   \n",
       "SUSPECTED_FRAUD             2.25             0.00                0.00   \n",
       "ON_HOLD                     5.43            55.59               24.61   \n",
       "PAYMENT_REVIEW              1.05            57.16               22.19   \n",
       "\n",
       "                 Shipping on time %  Shipping Cancelled %  Payment%  \n",
       "COMPLETE                      18.75                   0.0     DEBIT  \n",
       "PENDING                       18.08                   0.0  TRANSFER  \n",
       "CLOSED                        18.85                   0.0      CASH  \n",
       "PENDING_PAYMENT               18.38                   0.0   PAYMENT  \n",
       "CANCELED                       0.00                 100.0  TRANSFER  \n",
       "PROCESSING                    18.40                   0.0  TRANSFER  \n",
       "SUSPECTED_FRAUD                0.00                 100.0  TRANSFER  \n",
       "ON_HOLD                       19.80                   0.0     DEBIT  \n",
       "PAYMENT_REVIEW                20.66                   0.0   PAYMENT  "
      ]
     },
     "execution_count": 183,
     "metadata": {},
     "output_type": "execute_result"
    }
   ],
   "source": [
    "orders_by_status_df = pd.DataFrame.from_dict(my_dict, orient=\"index\")\n",
    "orders_by_status_df.set_axis([\"% of all orders\",\"Late delivery %\",\"Advance shipping %\",\"Shipping on time %\",\"Shipping Cancelled %\", \"Payment%\"],axis=1, inplace=True)\n",
    "orders_by_status_df"
   ]
  },
  {
   "cell_type": "markdown",
   "id": "9f237139",
   "metadata": {},
   "source": [
    "There does not seem to be a relationship between order type and shipping \n",
    "I would have expected that those which take longer to processes would experience more delays"
   ]
  },
  {
   "cell_type": "markdown",
   "id": "e7549bae",
   "metadata": {},
   "source": [
    "##### Save file"
   ]
  },
  {
   "cell_type": "code",
   "execution_count": 184,
   "id": "7ce77ae1",
   "metadata": {
    "ExecuteTime": {
     "end_time": "2022-03-11T11:17:18.247642Z",
     "start_time": "2022-03-11T11:17:18.235658Z"
    }
   },
   "outputs": [],
   "source": [
    "orders_by_status_df.to_csv(\"BigSupplyCo_Data_Files/custom_order_table.csv\")"
   ]
  },
  {
   "cell_type": "markdown",
   "id": "62f10501",
   "metadata": {},
   "source": [
    "# Get some summary stats for the orders as a whole "
   ]
  },
  {
   "cell_type": "markdown",
   "id": "46422b91",
   "metadata": {},
   "source": [
    "#### Get percentage compositon of orders by payment type as well "
   ]
  },
  {
   "cell_type": "code",
   "execution_count": 189,
   "id": "e51e8bad",
   "metadata": {
    "ExecuteTime": {
     "end_time": "2022-03-11T11:21:03.048203Z",
     "start_time": "2022-03-11T11:21:03.022872Z"
    }
   },
   "outputs": [
    {
     "data": {
      "text/plain": [
       "DEBIT       38.386541\n",
       "TRANSFER    27.633102\n",
       "PAYMENT     23.113910\n",
       "CASH        10.866446\n",
       "Name: Type, dtype: float64"
      ]
     },
     "execution_count": 189,
     "metadata": {},
     "output_type": "execute_result"
    }
   ],
   "source": [
    "orders_df[\"Type\"].value_counts(normalize=True)*100"
   ]
  },
  {
   "cell_type": "code",
   "execution_count": 197,
   "id": "bd2d52b0",
   "metadata": {
    "ExecuteTime": {
     "end_time": "2022-03-11T11:25:12.822987Z",
     "start_time": "2022-03-11T11:25:12.787994Z"
    }
   },
   "outputs": [
    {
     "data": {
      "text/plain": [
       "Type      Late Delivery Risk\n",
       "DEBIT     1                     21.963893\n",
       "          0                     16.422648\n",
       "TRANSFER  0                     14.219002\n",
       "          1                     13.414100\n",
       "PAYMENT   1                     13.297215\n",
       "          0                      9.816695\n",
       "CASH      1                      6.153923\n",
       "          0                      4.712523\n",
       "dtype: float64"
      ]
     },
     "execution_count": 197,
     "metadata": {},
     "output_type": "execute_result"
    }
   ],
   "source": [
    "payments_delays = order_status_df = orders_df.filter([\"Type\",\"Late Delivery Risk\"]).copy()\n",
    "temp = payments_delays.value_counts(normalize=True)*100\n",
    "temp"
   ]
  },
  {
   "cell_type": "code",
   "execution_count": 200,
   "id": "ca9bf1bd",
   "metadata": {
    "ExecuteTime": {
     "end_time": "2022-03-11T11:25:30.114600Z",
     "start_time": "2022-03-11T11:25:30.110591Z"
    }
   },
   "outputs": [
    {
     "data": {
      "text/plain": [
       "16.422648031509148"
      ]
     },
     "execution_count": 200,
     "metadata": {},
     "output_type": "execute_result"
    }
   ],
   "source": [
    "temp[1"
   ]
  },
  {
   "cell_type": "code",
   "execution_count": null,
   "id": "f2accee8",
   "metadata": {},
   "outputs": [],
   "source": []
  }
 ],
 "metadata": {
  "kernelspec": {
   "display_name": "Python 3 (ipykernel)",
   "language": "python",
   "name": "python3"
  },
  "language_info": {
   "codemirror_mode": {
    "name": "ipython",
    "version": 3
   },
   "file_extension": ".py",
   "mimetype": "text/x-python",
   "name": "python",
   "nbconvert_exporter": "python",
   "pygments_lexer": "ipython3",
   "version": "3.8.12"
  }
 },
 "nbformat": 4,
 "nbformat_minor": 5
}
