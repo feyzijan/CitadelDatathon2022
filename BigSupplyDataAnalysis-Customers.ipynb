{
 "cells": [
  {
   "cell_type": "markdown",
   "id": "c44448ec",
   "metadata": {},
   "source": [
    "###  Imports"
   ]
  },
  {
   "cell_type": "code",
   "execution_count": 235,
   "id": "cacbd979",
   "metadata": {
    "ExecuteTime": {
     "end_time": "2022-03-12T10:34:11.629600Z",
     "start_time": "2022-03-12T10:34:11.623599Z"
    }
   },
   "outputs": [],
   "source": [
    "import pandas as pd\n",
    "import numpy as np\n",
    "import matplotlib.pyplot as plt\n",
    "pd.options.display.max_columns = None"
   ]
  },
  {
   "cell_type": "markdown",
   "id": "588d27d2",
   "metadata": {},
   "source": [
    "#### Read dataframes with index columns"
   ]
  },
  {
   "cell_type": "code",
   "execution_count": 236,
   "id": "a3f04fa0",
   "metadata": {
    "ExecuteTime": {
     "end_time": "2022-03-12T10:34:12.362711Z",
     "start_time": "2022-03-12T10:34:11.992434Z"
    }
   },
   "outputs": [],
   "source": [
    "departments_df = pd.read_csv(\"BigSupplyCo_Data_Files\\departments_v2.csv\", index_col=\"Department Id\")\n",
    "orders_df = pd.read_csv(\"BigSupplyCo_Data_Files\\orders_v2.csv\", index_col = \"Order Id\")\n",
    "products_df = pd.read_csv(\"BigSupplyCo_Data_Files\\products_v2.csv\", index_col = \"Product Id\")\n",
    "customers_df = pd.read_csv(\"BigSupplyCo_Data_Files\\customers_v2.csv\", index_col = \"Customer Id\")"
   ]
  },
  {
   "cell_type": "markdown",
   "id": "8a582597",
   "metadata": {},
   "source": [
    "# Analyze how the customer segment relates to shipping info "
   ]
  },
  {
   "cell_type": "code",
   "execution_count": 237,
   "id": "e84cd1af",
   "metadata": {
    "ExecuteTime": {
     "end_time": "2022-03-12T10:34:12.378711Z",
     "start_time": "2022-03-12T10:34:12.363713Z"
    }
   },
   "outputs": [
    {
     "data": {
      "text/html": [
       "<div>\n",
       "<style scoped>\n",
       "    .dataframe tbody tr th:only-of-type {\n",
       "        vertical-align: middle;\n",
       "    }\n",
       "\n",
       "    .dataframe tbody tr th {\n",
       "        vertical-align: top;\n",
       "    }\n",
       "\n",
       "    .dataframe thead th {\n",
       "        text-align: right;\n",
       "    }\n",
       "</style>\n",
       "<table border=\"1\" class=\"dataframe\">\n",
       "  <thead>\n",
       "    <tr style=\"text-align: right;\">\n",
       "      <th></th>\n",
       "      <th>Customer Segment</th>\n",
       "      <th>Customer Country</th>\n",
       "      <th>Customer City</th>\n",
       "      <th>Customer State</th>\n",
       "      <th>Customer Street</th>\n",
       "      <th>Customer Zipcode</th>\n",
       "    </tr>\n",
       "    <tr>\n",
       "      <th>Customer Id</th>\n",
       "      <th></th>\n",
       "      <th></th>\n",
       "      <th></th>\n",
       "      <th></th>\n",
       "      <th></th>\n",
       "      <th></th>\n",
       "    </tr>\n",
       "  </thead>\n",
       "  <tbody>\n",
       "    <tr>\n",
       "      <th>20755</th>\n",
       "      <td>Consumer</td>\n",
       "      <td>Puerto Rico</td>\n",
       "      <td>Caguas</td>\n",
       "      <td>PR</td>\n",
       "      <td>5365 Noble Nectar Island</td>\n",
       "      <td>725.0</td>\n",
       "    </tr>\n",
       "  </tbody>\n",
       "</table>\n",
       "</div>"
      ],
      "text/plain": [
       "            Customer Segment Customer Country Customer City Customer State  \\\n",
       "Customer Id                                                                  \n",
       "20755               Consumer      Puerto Rico        Caguas             PR   \n",
       "\n",
       "                      Customer Street  Customer Zipcode  \n",
       "Customer Id                                              \n",
       "20755        5365 Noble Nectar Island             725.0  "
      ]
     },
     "execution_count": 237,
     "metadata": {},
     "output_type": "execute_result"
    }
   ],
   "source": [
    "customers_df.head(1)"
   ]
  },
  {
   "cell_type": "markdown",
   "id": "cfa17171",
   "metadata": {
    "ExecuteTime": {
     "end_time": "2022-03-11T14:33:05.770762Z",
     "start_time": "2022-03-11T14:33:05.745762Z"
    }
   },
   "source": [
    "I want to remove the extra location info"
   ]
  },
  {
   "cell_type": "markdown",
   "id": "4cf83a4a",
   "metadata": {},
   "source": [
    "I'll consider the country for now"
   ]
  },
  {
   "cell_type": "code",
   "execution_count": 238,
   "id": "b7fb2c2e",
   "metadata": {
    "ExecuteTime": {
     "end_time": "2022-03-12T10:34:13.435045Z",
     "start_time": "2022-03-12T10:34:13.423842Z"
    }
   },
   "outputs": [
    {
     "data": {
      "text/html": [
       "<div>\n",
       "<style scoped>\n",
       "    .dataframe tbody tr th:only-of-type {\n",
       "        vertical-align: middle;\n",
       "    }\n",
       "\n",
       "    .dataframe tbody tr th {\n",
       "        vertical-align: top;\n",
       "    }\n",
       "\n",
       "    .dataframe thead th {\n",
       "        text-align: right;\n",
       "    }\n",
       "</style>\n",
       "<table border=\"1\" class=\"dataframe\">\n",
       "  <thead>\n",
       "    <tr style=\"text-align: right;\">\n",
       "      <th></th>\n",
       "      <th>Customer Segment</th>\n",
       "      <th>Customer Country</th>\n",
       "    </tr>\n",
       "    <tr>\n",
       "      <th>Customer Id</th>\n",
       "      <th></th>\n",
       "      <th></th>\n",
       "    </tr>\n",
       "  </thead>\n",
       "  <tbody>\n",
       "    <tr>\n",
       "      <th>20755</th>\n",
       "      <td>Consumer</td>\n",
       "      <td>Puerto Rico</td>\n",
       "    </tr>\n",
       "  </tbody>\n",
       "</table>\n",
       "</div>"
      ],
      "text/plain": [
       "            Customer Segment Customer Country\n",
       "Customer Id                                  \n",
       "20755               Consumer      Puerto Rico"
      ]
     },
     "execution_count": 238,
     "metadata": {},
     "output_type": "execute_result"
    }
   ],
   "source": [
    "customers_df.drop([\"Customer City\",\"Customer State\",\"Customer Street\",\"Customer Zipcode\",\"Customer Country\"],axis=1,inplace=True)\n",
    "customers_df.head(1)"
   ]
  },
  {
   "cell_type": "code",
   "execution_count": 239,
   "id": "2bb1de1a",
   "metadata": {
    "ExecuteTime": {
     "end_time": "2022-03-12T10:34:16.041961Z",
     "start_time": "2022-03-12T10:34:16.022977Z"
    }
   },
   "outputs": [
    {
     "data": {
      "text/html": [
       "<div>\n",
       "<style scoped>\n",
       "    .dataframe tbody tr th:only-of-type {\n",
       "        vertical-align: middle;\n",
       "    }\n",
       "\n",
       "    .dataframe tbody tr th {\n",
       "        vertical-align: top;\n",
       "    }\n",
       "\n",
       "    .dataframe thead th {\n",
       "        text-align: right;\n",
       "    }\n",
       "</style>\n",
       "<table border=\"1\" class=\"dataframe\">\n",
       "  <thead>\n",
       "    <tr style=\"text-align: right;\">\n",
       "      <th></th>\n",
       "      <th>Customer Segment</th>\n",
       "      <th>Customer Country</th>\n",
       "    </tr>\n",
       "  </thead>\n",
       "  <tbody>\n",
       "    <tr>\n",
       "      <th>Consumer</th>\n",
       "      <td>10695.0</td>\n",
       "      <td>NaN</td>\n",
       "    </tr>\n",
       "    <tr>\n",
       "      <th>Corporate</th>\n",
       "      <td>6239.0</td>\n",
       "      <td>NaN</td>\n",
       "    </tr>\n",
       "    <tr>\n",
       "      <th>EE. UU.</th>\n",
       "      <td>NaN</td>\n",
       "      <td>12719.0</td>\n",
       "    </tr>\n",
       "    <tr>\n",
       "      <th>Home Office</th>\n",
       "      <td>3718.0</td>\n",
       "      <td>NaN</td>\n",
       "    </tr>\n",
       "    <tr>\n",
       "      <th>Puerto Rico</th>\n",
       "      <td>NaN</td>\n",
       "      <td>7933.0</td>\n",
       "    </tr>\n",
       "  </tbody>\n",
       "</table>\n",
       "</div>"
      ],
      "text/plain": [
       "             Customer Segment  Customer Country\n",
       "Consumer              10695.0               NaN\n",
       "Corporate              6239.0               NaN\n",
       "EE. UU.                   NaN           12719.0\n",
       "Home Office            3718.0               NaN\n",
       "Puerto Rico               NaN            7933.0"
      ]
     },
     "execution_count": 239,
     "metadata": {},
     "output_type": "execute_result"
    }
   ],
   "source": [
    "customers_df.apply(pd.Series.value_counts)"
   ]
  },
  {
   "cell_type": "markdown",
   "id": "a84e8e37",
   "metadata": {},
   "source": [
    "## Combine customer and Orders dataset "
   ]
  },
  {
   "cell_type": "code",
   "execution_count": 129,
   "id": "6fd82342",
   "metadata": {
    "ExecuteTime": {
     "end_time": "2022-03-11T15:34:42.428653Z",
     "start_time": "2022-03-11T15:34:42.415664Z"
    }
   },
   "outputs": [],
   "source": [
    "orders_df.rename(columns = {\"Order Customer Id\": \"Customer Id\"}, inplace=True)"
   ]
  },
  {
   "cell_type": "code",
   "execution_count": 130,
   "id": "22cbaa50",
   "metadata": {
    "ExecuteTime": {
     "end_time": "2022-03-11T15:34:44.612206Z",
     "start_time": "2022-03-11T15:34:44.546914Z"
    }
   },
   "outputs": [],
   "source": [
    "orders_df = pd.merge(orders_df, customers_df, on=\"Customer Id\")"
   ]
  },
  {
   "cell_type": "markdown",
   "id": "4408a5e3",
   "metadata": {},
   "source": [
    "## Need to isolate other factors "
   ]
  },
  {
   "cell_type": "markdown",
   "id": "553aadf6",
   "metadata": {},
   "source": [
    "Lets start with geography"
   ]
  },
  {
   "cell_type": "code",
   "execution_count": 132,
   "id": "d366a57a",
   "metadata": {
    "ExecuteTime": {
     "end_time": "2022-03-11T15:35:09.714603Z",
     "start_time": "2022-03-11T15:35:09.690859Z"
    }
   },
   "outputs": [
    {
     "data": {
      "text/plain": [
       "LATAM           49309\n",
       "Europe          48090\n",
       "Pacific Asia    39585\n",
       "USCA            24627\n",
       "Africa          11154\n",
       "Name: Market, dtype: int64"
      ]
     },
     "execution_count": 132,
     "metadata": {},
     "output_type": "execute_result"
    }
   ],
   "source": [
    "orders_df[\"Market\"].value_counts()"
   ]
  },
  {
   "cell_type": "code",
   "execution_count": 133,
   "id": "1f518899",
   "metadata": {
    "ExecuteTime": {
     "end_time": "2022-03-11T15:35:10.173627Z",
     "start_time": "2022-03-11T15:35:10.158628Z"
    }
   },
   "outputs": [
    {
     "data": {
      "text/html": [
       "<div>\n",
       "<style scoped>\n",
       "    .dataframe tbody tr th:only-of-type {\n",
       "        vertical-align: middle;\n",
       "    }\n",
       "\n",
       "    .dataframe tbody tr th {\n",
       "        vertical-align: top;\n",
       "    }\n",
       "\n",
       "    .dataframe thead th {\n",
       "        text-align: right;\n",
       "    }\n",
       "</style>\n",
       "<table border=\"1\" class=\"dataframe\">\n",
       "  <thead>\n",
       "    <tr style=\"text-align: right;\">\n",
       "      <th></th>\n",
       "      <th>Product Id</th>\n",
       "      <th>Customer Id</th>\n",
       "      <th>Department Id</th>\n",
       "      <th>Market</th>\n",
       "      <th>Order City</th>\n",
       "      <th>Order Country</th>\n",
       "      <th>Order Region</th>\n",
       "      <th>Order State</th>\n",
       "      <th>Order Status</th>\n",
       "      <th>Order Zipcode</th>\n",
       "      <th>order date (DateOrders)</th>\n",
       "      <th>Order Item Discount</th>\n",
       "      <th>Order Item Discount Rate</th>\n",
       "      <th>Order Item Id</th>\n",
       "      <th>Order Item Quantity</th>\n",
       "      <th>Sales</th>\n",
       "      <th>Order Item Total</th>\n",
       "      <th>Order Profit</th>\n",
       "      <th>Type</th>\n",
       "      <th>Days for shipping (real)</th>\n",
       "      <th>Days for shipment (scheduled)</th>\n",
       "      <th>Delivery Status</th>\n",
       "      <th>Late Delivery Risk</th>\n",
       "      <th>Customer Segment</th>\n",
       "    </tr>\n",
       "  </thead>\n",
       "  <tbody>\n",
       "    <tr>\n",
       "      <th>0</th>\n",
       "      <td>1360</td>\n",
       "      <td>20755</td>\n",
       "      <td>2</td>\n",
       "      <td>Pacific Asia</td>\n",
       "      <td>Bekasi</td>\n",
       "      <td>Indonesia</td>\n",
       "      <td>Southeast Asia</td>\n",
       "      <td>Java Occidental</td>\n",
       "      <td>COMPLETE</td>\n",
       "      <td>NaN</td>\n",
       "      <td>1/31/2018 22:56</td>\n",
       "      <td>13.11</td>\n",
       "      <td>0.04</td>\n",
       "      <td>180517</td>\n",
       "      <td>1</td>\n",
       "      <td>327.75</td>\n",
       "      <td>314.640015</td>\n",
       "      <td>91.25</td>\n",
       "      <td>DEBIT</td>\n",
       "      <td>3</td>\n",
       "      <td>4</td>\n",
       "      <td>Advance shipping</td>\n",
       "      <td>0</td>\n",
       "      <td>Consumer</td>\n",
       "    </tr>\n",
       "  </tbody>\n",
       "</table>\n",
       "</div>"
      ],
      "text/plain": [
       "   Product Id  Customer Id  Department Id        Market Order City  \\\n",
       "0        1360        20755              2  Pacific Asia     Bekasi   \n",
       "\n",
       "  Order Country    Order Region      Order State Order Status  Order Zipcode  \\\n",
       "0     Indonesia  Southeast Asia  Java Occidental     COMPLETE            NaN   \n",
       "\n",
       "  order date (DateOrders)  Order Item Discount  Order Item Discount Rate  \\\n",
       "0         1/31/2018 22:56                13.11                      0.04   \n",
       "\n",
       "   Order Item Id  Order Item Quantity   Sales  Order Item Total  Order Profit  \\\n",
       "0         180517                    1  327.75        314.640015         91.25   \n",
       "\n",
       "    Type  Days for shipping (real)  Days for shipment (scheduled)  \\\n",
       "0  DEBIT                         3                              4   \n",
       "\n",
       "    Delivery Status  Late Delivery Risk Customer Segment  \n",
       "0  Advance shipping                   0         Consumer  "
      ]
     },
     "execution_count": 133,
     "metadata": {},
     "output_type": "execute_result"
    }
   ],
   "source": [
    "orders_df.head(1)"
   ]
  },
  {
   "cell_type": "code",
   "execution_count": 134,
   "id": "2742acf1",
   "metadata": {
    "ExecuteTime": {
     "end_time": "2022-03-11T15:35:10.582409Z",
     "start_time": "2022-03-11T15:35:10.545838Z"
    }
   },
   "outputs": [],
   "source": [
    "orders_df.drop([\"Order City\",\"Order Country\",\"Order Region\",\"Order State\"],axis=1,inplace=True)"
   ]
  },
  {
   "cell_type": "markdown",
   "id": "c58b581e",
   "metadata": {},
   "source": [
    "I am going to assume for now that the purchase specific info does not affect shipping and cut those columns"
   ]
  },
  {
   "cell_type": "code",
   "execution_count": 135,
   "id": "925d9e54",
   "metadata": {
    "ExecuteTime": {
     "end_time": "2022-03-11T15:35:11.903623Z",
     "start_time": "2022-03-11T15:35:11.877622Z"
    }
   },
   "outputs": [
    {
     "data": {
      "text/html": [
       "<div>\n",
       "<style scoped>\n",
       "    .dataframe tbody tr th:only-of-type {\n",
       "        vertical-align: middle;\n",
       "    }\n",
       "\n",
       "    .dataframe tbody tr th {\n",
       "        vertical-align: top;\n",
       "    }\n",
       "\n",
       "    .dataframe thead th {\n",
       "        text-align: right;\n",
       "    }\n",
       "</style>\n",
       "<table border=\"1\" class=\"dataframe\">\n",
       "  <thead>\n",
       "    <tr style=\"text-align: right;\">\n",
       "      <th></th>\n",
       "      <th>Product Id</th>\n",
       "      <th>Customer Id</th>\n",
       "      <th>Department Id</th>\n",
       "      <th>Market</th>\n",
       "      <th>Order Status</th>\n",
       "      <th>Order Zipcode</th>\n",
       "      <th>order date (DateOrders)</th>\n",
       "      <th>Order Item Discount</th>\n",
       "      <th>Order Item Discount Rate</th>\n",
       "      <th>Order Item Id</th>\n",
       "      <th>Order Item Quantity</th>\n",
       "      <th>Sales</th>\n",
       "      <th>Order Item Total</th>\n",
       "      <th>Order Profit</th>\n",
       "      <th>Type</th>\n",
       "      <th>Days for shipping (real)</th>\n",
       "      <th>Days for shipment (scheduled)</th>\n",
       "      <th>Delivery Status</th>\n",
       "      <th>Late Delivery Risk</th>\n",
       "      <th>Customer Segment</th>\n",
       "    </tr>\n",
       "  </thead>\n",
       "  <tbody>\n",
       "    <tr>\n",
       "      <th>0</th>\n",
       "      <td>1360</td>\n",
       "      <td>20755</td>\n",
       "      <td>2</td>\n",
       "      <td>Pacific Asia</td>\n",
       "      <td>COMPLETE</td>\n",
       "      <td>NaN</td>\n",
       "      <td>1/31/2018 22:56</td>\n",
       "      <td>13.11</td>\n",
       "      <td>0.04</td>\n",
       "      <td>180517</td>\n",
       "      <td>1</td>\n",
       "      <td>327.75</td>\n",
       "      <td>314.640015</td>\n",
       "      <td>91.25</td>\n",
       "      <td>DEBIT</td>\n",
       "      <td>3</td>\n",
       "      <td>4</td>\n",
       "      <td>Advance shipping</td>\n",
       "      <td>0</td>\n",
       "      <td>Consumer</td>\n",
       "    </tr>\n",
       "  </tbody>\n",
       "</table>\n",
       "</div>"
      ],
      "text/plain": [
       "   Product Id  Customer Id  Department Id        Market Order Status  \\\n",
       "0        1360        20755              2  Pacific Asia     COMPLETE   \n",
       "\n",
       "   Order Zipcode order date (DateOrders)  Order Item Discount  \\\n",
       "0            NaN         1/31/2018 22:56                13.11   \n",
       "\n",
       "   Order Item Discount Rate  Order Item Id  Order Item Quantity   Sales  \\\n",
       "0                      0.04         180517                    1  327.75   \n",
       "\n",
       "   Order Item Total  Order Profit   Type  Days for shipping (real)  \\\n",
       "0        314.640015         91.25  DEBIT                         3   \n",
       "\n",
       "   Days for shipment (scheduled)   Delivery Status  Late Delivery Risk  \\\n",
       "0                              4  Advance shipping                   0   \n",
       "\n",
       "  Customer Segment  \n",
       "0         Consumer  "
      ]
     },
     "execution_count": 135,
     "metadata": {},
     "output_type": "execute_result"
    }
   ],
   "source": [
    "orders_df.head(1)"
   ]
  },
  {
   "cell_type": "code",
   "execution_count": 137,
   "id": "331bc2cd",
   "metadata": {
    "ExecuteTime": {
     "end_time": "2022-03-11T15:36:22.183266Z",
     "start_time": "2022-03-11T15:36:22.156269Z"
    }
   },
   "outputs": [
    {
     "ename": "KeyError",
     "evalue": "\"['Order Status', 'Order Zipcode', 'Order Item Discount', 'Order Item Discount Rate', 'Sales', 'Order Item Total', 'Order Profit', 'Type'] not found in axis\"",
     "output_type": "error",
     "traceback": [
      "\u001b[1;31m---------------------------------------------------------------------------\u001b[0m",
      "\u001b[1;31mKeyError\u001b[0m                                  Traceback (most recent call last)",
      "\u001b[1;32m~\\AppData\\Local\\Temp/ipykernel_15696/1487252331.py\u001b[0m in \u001b[0;36m<module>\u001b[1;34m\u001b[0m\n\u001b[1;32m----> 1\u001b[1;33m \u001b[0morders_df\u001b[0m\u001b[1;33m.\u001b[0m\u001b[0mdrop\u001b[0m\u001b[1;33m(\u001b[0m\u001b[1;33m[\u001b[0m\u001b[1;34m\"Order Status\"\u001b[0m\u001b[1;33m,\u001b[0m\u001b[1;34m\"Order Zipcode\"\u001b[0m\u001b[1;33m,\u001b[0m\u001b[1;34m\"Order Item Discount\"\u001b[0m\u001b[1;33m,\u001b[0m\u001b[1;34m\"Order Item Discount Rate\"\u001b[0m\u001b[1;33m,\u001b[0m\u001b[1;34m\"Sales\"\u001b[0m\u001b[1;33m,\u001b[0m\u001b[1;34m\"Order Item Total\"\u001b[0m\u001b[1;33m,\u001b[0m\u001b[1;34m\"Order Profit\"\u001b[0m\u001b[1;33m,\u001b[0m\u001b[1;34m\"Type\"\u001b[0m\u001b[1;33m]\u001b[0m\u001b[1;33m,\u001b[0m\u001b[0maxis\u001b[0m\u001b[1;33m=\u001b[0m\u001b[1;36m1\u001b[0m\u001b[1;33m,\u001b[0m\u001b[0minplace\u001b[0m\u001b[1;33m=\u001b[0m\u001b[1;32mTrue\u001b[0m\u001b[1;33m)\u001b[0m\u001b[1;33m\u001b[0m\u001b[1;33m\u001b[0m\u001b[0m\n\u001b[0m\u001b[0;32m      2\u001b[0m \u001b[0morders_df\u001b[0m\u001b[1;33m\u001b[0m\u001b[1;33m\u001b[0m\u001b[0m\n",
      "\u001b[1;32mC:\\ProgramData\\Anaconda3\\lib\\site-packages\\pandas\\util\\_decorators.py\u001b[0m in \u001b[0;36mwrapper\u001b[1;34m(*args, **kwargs)\u001b[0m\n\u001b[0;32m    309\u001b[0m                     \u001b[0mstacklevel\u001b[0m\u001b[1;33m=\u001b[0m\u001b[0mstacklevel\u001b[0m\u001b[1;33m,\u001b[0m\u001b[1;33m\u001b[0m\u001b[1;33m\u001b[0m\u001b[0m\n\u001b[0;32m    310\u001b[0m                 )\n\u001b[1;32m--> 311\u001b[1;33m             \u001b[1;32mreturn\u001b[0m \u001b[0mfunc\u001b[0m\u001b[1;33m(\u001b[0m\u001b[1;33m*\u001b[0m\u001b[0margs\u001b[0m\u001b[1;33m,\u001b[0m \u001b[1;33m**\u001b[0m\u001b[0mkwargs\u001b[0m\u001b[1;33m)\u001b[0m\u001b[1;33m\u001b[0m\u001b[1;33m\u001b[0m\u001b[0m\n\u001b[0m\u001b[0;32m    312\u001b[0m \u001b[1;33m\u001b[0m\u001b[0m\n\u001b[0;32m    313\u001b[0m         \u001b[1;32mreturn\u001b[0m \u001b[0mwrapper\u001b[0m\u001b[1;33m\u001b[0m\u001b[1;33m\u001b[0m\u001b[0m\n",
      "\u001b[1;32mC:\\ProgramData\\Anaconda3\\lib\\site-packages\\pandas\\core\\frame.py\u001b[0m in \u001b[0;36mdrop\u001b[1;34m(self, labels, axis, index, columns, level, inplace, errors)\u001b[0m\n\u001b[0;32m   4946\u001b[0m                 \u001b[0mweight\u001b[0m  \u001b[1;36m1.0\u001b[0m     \u001b[1;36m0.8\u001b[0m\u001b[1;33m\u001b[0m\u001b[1;33m\u001b[0m\u001b[0m\n\u001b[0;32m   4947\u001b[0m         \"\"\"\n\u001b[1;32m-> 4948\u001b[1;33m         return super().drop(\n\u001b[0m\u001b[0;32m   4949\u001b[0m             \u001b[0mlabels\u001b[0m\u001b[1;33m=\u001b[0m\u001b[0mlabels\u001b[0m\u001b[1;33m,\u001b[0m\u001b[1;33m\u001b[0m\u001b[1;33m\u001b[0m\u001b[0m\n\u001b[0;32m   4950\u001b[0m             \u001b[0maxis\u001b[0m\u001b[1;33m=\u001b[0m\u001b[0maxis\u001b[0m\u001b[1;33m,\u001b[0m\u001b[1;33m\u001b[0m\u001b[1;33m\u001b[0m\u001b[0m\n",
      "\u001b[1;32mC:\\ProgramData\\Anaconda3\\lib\\site-packages\\pandas\\core\\generic.py\u001b[0m in \u001b[0;36mdrop\u001b[1;34m(self, labels, axis, index, columns, level, inplace, errors)\u001b[0m\n\u001b[0;32m   4277\u001b[0m         \u001b[1;32mfor\u001b[0m \u001b[0maxis\u001b[0m\u001b[1;33m,\u001b[0m \u001b[0mlabels\u001b[0m \u001b[1;32min\u001b[0m \u001b[0maxes\u001b[0m\u001b[1;33m.\u001b[0m\u001b[0mitems\u001b[0m\u001b[1;33m(\u001b[0m\u001b[1;33m)\u001b[0m\u001b[1;33m:\u001b[0m\u001b[1;33m\u001b[0m\u001b[1;33m\u001b[0m\u001b[0m\n\u001b[0;32m   4278\u001b[0m             \u001b[1;32mif\u001b[0m \u001b[0mlabels\u001b[0m \u001b[1;32mis\u001b[0m \u001b[1;32mnot\u001b[0m \u001b[1;32mNone\u001b[0m\u001b[1;33m:\u001b[0m\u001b[1;33m\u001b[0m\u001b[1;33m\u001b[0m\u001b[0m\n\u001b[1;32m-> 4279\u001b[1;33m                 \u001b[0mobj\u001b[0m \u001b[1;33m=\u001b[0m \u001b[0mobj\u001b[0m\u001b[1;33m.\u001b[0m\u001b[0m_drop_axis\u001b[0m\u001b[1;33m(\u001b[0m\u001b[0mlabels\u001b[0m\u001b[1;33m,\u001b[0m \u001b[0maxis\u001b[0m\u001b[1;33m,\u001b[0m \u001b[0mlevel\u001b[0m\u001b[1;33m=\u001b[0m\u001b[0mlevel\u001b[0m\u001b[1;33m,\u001b[0m \u001b[0merrors\u001b[0m\u001b[1;33m=\u001b[0m\u001b[0merrors\u001b[0m\u001b[1;33m)\u001b[0m\u001b[1;33m\u001b[0m\u001b[1;33m\u001b[0m\u001b[0m\n\u001b[0m\u001b[0;32m   4280\u001b[0m \u001b[1;33m\u001b[0m\u001b[0m\n\u001b[0;32m   4281\u001b[0m         \u001b[1;32mif\u001b[0m \u001b[0minplace\u001b[0m\u001b[1;33m:\u001b[0m\u001b[1;33m\u001b[0m\u001b[1;33m\u001b[0m\u001b[0m\n",
      "\u001b[1;32mC:\\ProgramData\\Anaconda3\\lib\\site-packages\\pandas\\core\\generic.py\u001b[0m in \u001b[0;36m_drop_axis\u001b[1;34m(self, labels, axis, level, errors, consolidate, only_slice)\u001b[0m\n\u001b[0;32m   4321\u001b[0m                 \u001b[0mnew_axis\u001b[0m \u001b[1;33m=\u001b[0m \u001b[0maxis\u001b[0m\u001b[1;33m.\u001b[0m\u001b[0mdrop\u001b[0m\u001b[1;33m(\u001b[0m\u001b[0mlabels\u001b[0m\u001b[1;33m,\u001b[0m \u001b[0mlevel\u001b[0m\u001b[1;33m=\u001b[0m\u001b[0mlevel\u001b[0m\u001b[1;33m,\u001b[0m \u001b[0merrors\u001b[0m\u001b[1;33m=\u001b[0m\u001b[0merrors\u001b[0m\u001b[1;33m)\u001b[0m\u001b[1;33m\u001b[0m\u001b[1;33m\u001b[0m\u001b[0m\n\u001b[0;32m   4322\u001b[0m             \u001b[1;32melse\u001b[0m\u001b[1;33m:\u001b[0m\u001b[1;33m\u001b[0m\u001b[1;33m\u001b[0m\u001b[0m\n\u001b[1;32m-> 4323\u001b[1;33m                 \u001b[0mnew_axis\u001b[0m \u001b[1;33m=\u001b[0m \u001b[0maxis\u001b[0m\u001b[1;33m.\u001b[0m\u001b[0mdrop\u001b[0m\u001b[1;33m(\u001b[0m\u001b[0mlabels\u001b[0m\u001b[1;33m,\u001b[0m \u001b[0merrors\u001b[0m\u001b[1;33m=\u001b[0m\u001b[0merrors\u001b[0m\u001b[1;33m)\u001b[0m\u001b[1;33m\u001b[0m\u001b[1;33m\u001b[0m\u001b[0m\n\u001b[0m\u001b[0;32m   4324\u001b[0m             \u001b[0mindexer\u001b[0m \u001b[1;33m=\u001b[0m \u001b[0maxis\u001b[0m\u001b[1;33m.\u001b[0m\u001b[0mget_indexer\u001b[0m\u001b[1;33m(\u001b[0m\u001b[0mnew_axis\u001b[0m\u001b[1;33m)\u001b[0m\u001b[1;33m\u001b[0m\u001b[1;33m\u001b[0m\u001b[0m\n\u001b[0;32m   4325\u001b[0m \u001b[1;33m\u001b[0m\u001b[0m\n",
      "\u001b[1;32mC:\\ProgramData\\Anaconda3\\lib\\site-packages\\pandas\\core\\indexes\\base.py\u001b[0m in \u001b[0;36mdrop\u001b[1;34m(self, labels, errors)\u001b[0m\n\u001b[0;32m   6642\u001b[0m         \u001b[1;32mif\u001b[0m \u001b[0mmask\u001b[0m\u001b[1;33m.\u001b[0m\u001b[0many\u001b[0m\u001b[1;33m(\u001b[0m\u001b[1;33m)\u001b[0m\u001b[1;33m:\u001b[0m\u001b[1;33m\u001b[0m\u001b[1;33m\u001b[0m\u001b[0m\n\u001b[0;32m   6643\u001b[0m             \u001b[1;32mif\u001b[0m \u001b[0merrors\u001b[0m \u001b[1;33m!=\u001b[0m \u001b[1;34m\"ignore\"\u001b[0m\u001b[1;33m:\u001b[0m\u001b[1;33m\u001b[0m\u001b[1;33m\u001b[0m\u001b[0m\n\u001b[1;32m-> 6644\u001b[1;33m                 \u001b[1;32mraise\u001b[0m \u001b[0mKeyError\u001b[0m\u001b[1;33m(\u001b[0m\u001b[1;34mf\"{list(labels[mask])} not found in axis\"\u001b[0m\u001b[1;33m)\u001b[0m\u001b[1;33m\u001b[0m\u001b[1;33m\u001b[0m\u001b[0m\n\u001b[0m\u001b[0;32m   6645\u001b[0m             \u001b[0mindexer\u001b[0m \u001b[1;33m=\u001b[0m \u001b[0mindexer\u001b[0m\u001b[1;33m[\u001b[0m\u001b[1;33m~\u001b[0m\u001b[0mmask\u001b[0m\u001b[1;33m]\u001b[0m\u001b[1;33m\u001b[0m\u001b[1;33m\u001b[0m\u001b[0m\n\u001b[0;32m   6646\u001b[0m         \u001b[1;32mreturn\u001b[0m \u001b[0mself\u001b[0m\u001b[1;33m.\u001b[0m\u001b[0mdelete\u001b[0m\u001b[1;33m(\u001b[0m\u001b[0mindexer\u001b[0m\u001b[1;33m)\u001b[0m\u001b[1;33m\u001b[0m\u001b[1;33m\u001b[0m\u001b[0m\n",
      "\u001b[1;31mKeyError\u001b[0m: \"['Order Status', 'Order Zipcode', 'Order Item Discount', 'Order Item Discount Rate', 'Sales', 'Order Item Total', 'Order Profit', 'Type'] not found in axis\""
     ]
    }
   ],
   "source": [
    "orders_df.drop([\"Order Status\",\"Order Zipcode\",\"Order Item Discount\",\"Order Item Discount Rate\",\"Sales\",\"Order Item Total\",\"Order Profit\",\"Type\"],axis=1,inplace=True)\n",
    "orders_df"
   ]
  },
  {
   "cell_type": "markdown",
   "id": "5ad90c4b",
   "metadata": {},
   "source": [
    "Will drop customer id, product id (and keep category id), order data, quantity"
   ]
  },
  {
   "cell_type": "code",
   "execution_count": 139,
   "id": "54ada90c",
   "metadata": {
    "ExecuteTime": {
     "end_time": "2022-03-11T15:36:37.143552Z",
     "start_time": "2022-03-11T15:36:37.126858Z"
    }
   },
   "outputs": [
    {
     "data": {
      "text/html": [
       "<div>\n",
       "<style scoped>\n",
       "    .dataframe tbody tr th:only-of-type {\n",
       "        vertical-align: middle;\n",
       "    }\n",
       "\n",
       "    .dataframe tbody tr th {\n",
       "        vertical-align: top;\n",
       "    }\n",
       "\n",
       "    .dataframe thead th {\n",
       "        text-align: right;\n",
       "    }\n",
       "</style>\n",
       "<table border=\"1\" class=\"dataframe\">\n",
       "  <thead>\n",
       "    <tr style=\"text-align: right;\">\n",
       "      <th></th>\n",
       "      <th>Product Id</th>\n",
       "      <th>Department Id</th>\n",
       "      <th>Market</th>\n",
       "      <th>Days for shipping (real)</th>\n",
       "      <th>Days for shipment (scheduled)</th>\n",
       "      <th>Delivery Status</th>\n",
       "      <th>Late Delivery Risk</th>\n",
       "      <th>Customer Segment</th>\n",
       "    </tr>\n",
       "  </thead>\n",
       "  <tbody>\n",
       "    <tr>\n",
       "      <th>0</th>\n",
       "      <td>1360</td>\n",
       "      <td>2</td>\n",
       "      <td>Pacific Asia</td>\n",
       "      <td>3</td>\n",
       "      <td>4</td>\n",
       "      <td>Advance shipping</td>\n",
       "      <td>0</td>\n",
       "      <td>Consumer</td>\n",
       "    </tr>\n",
       "    <tr>\n",
       "      <th>1</th>\n",
       "      <td>1360</td>\n",
       "      <td>2</td>\n",
       "      <td>Pacific Asia</td>\n",
       "      <td>5</td>\n",
       "      <td>4</td>\n",
       "      <td>Late delivery</td>\n",
       "      <td>1</td>\n",
       "      <td>Consumer</td>\n",
       "    </tr>\n",
       "    <tr>\n",
       "      <th>2</th>\n",
       "      <td>1360</td>\n",
       "      <td>2</td>\n",
       "      <td>Pacific Asia</td>\n",
       "      <td>4</td>\n",
       "      <td>4</td>\n",
       "      <td>Shipping on time</td>\n",
       "      <td>0</td>\n",
       "      <td>Consumer</td>\n",
       "    </tr>\n",
       "    <tr>\n",
       "      <th>3</th>\n",
       "      <td>1360</td>\n",
       "      <td>2</td>\n",
       "      <td>Pacific Asia</td>\n",
       "      <td>3</td>\n",
       "      <td>4</td>\n",
       "      <td>Advance shipping</td>\n",
       "      <td>0</td>\n",
       "      <td>Home Office</td>\n",
       "    </tr>\n",
       "    <tr>\n",
       "      <th>4</th>\n",
       "      <td>1360</td>\n",
       "      <td>2</td>\n",
       "      <td>Pacific Asia</td>\n",
       "      <td>2</td>\n",
       "      <td>4</td>\n",
       "      <td>Advance shipping</td>\n",
       "      <td>0</td>\n",
       "      <td>Corporate</td>\n",
       "    </tr>\n",
       "    <tr>\n",
       "      <th>...</th>\n",
       "      <td>...</td>\n",
       "      <td>...</td>\n",
       "      <td>...</td>\n",
       "      <td>...</td>\n",
       "      <td>...</td>\n",
       "      <td>...</td>\n",
       "      <td>...</td>\n",
       "      <td>...</td>\n",
       "    </tr>\n",
       "    <tr>\n",
       "      <th>172760</th>\n",
       "      <td>1358</td>\n",
       "      <td>9</td>\n",
       "      <td>Pacific Asia</td>\n",
       "      <td>5</td>\n",
       "      <td>2</td>\n",
       "      <td>Late delivery</td>\n",
       "      <td>1</td>\n",
       "      <td>Home Office</td>\n",
       "    </tr>\n",
       "    <tr>\n",
       "      <th>172761</th>\n",
       "      <td>1354</td>\n",
       "      <td>9</td>\n",
       "      <td>Pacific Asia</td>\n",
       "      <td>2</td>\n",
       "      <td>2</td>\n",
       "      <td>Shipping on time</td>\n",
       "      <td>0</td>\n",
       "      <td>Home Office</td>\n",
       "    </tr>\n",
       "    <tr>\n",
       "      <th>172762</th>\n",
       "      <td>1358</td>\n",
       "      <td>9</td>\n",
       "      <td>Pacific Asia</td>\n",
       "      <td>2</td>\n",
       "      <td>2</td>\n",
       "      <td>Shipping on time</td>\n",
       "      <td>0</td>\n",
       "      <td>Home Office</td>\n",
       "    </tr>\n",
       "    <tr>\n",
       "      <th>172763</th>\n",
       "      <td>403</td>\n",
       "      <td>4</td>\n",
       "      <td>USCA</td>\n",
       "      <td>6</td>\n",
       "      <td>2</td>\n",
       "      <td>Late delivery</td>\n",
       "      <td>1</td>\n",
       "      <td>Home Office</td>\n",
       "    </tr>\n",
       "    <tr>\n",
       "      <th>172764</th>\n",
       "      <td>1004</td>\n",
       "      <td>7</td>\n",
       "      <td>Pacific Asia</td>\n",
       "      <td>3</td>\n",
       "      <td>4</td>\n",
       "      <td>Advance shipping</td>\n",
       "      <td>0</td>\n",
       "      <td>Corporate</td>\n",
       "    </tr>\n",
       "  </tbody>\n",
       "</table>\n",
       "<p>172765 rows × 8 columns</p>\n",
       "</div>"
      ],
      "text/plain": [
       "        Product Id  Department Id        Market  Days for shipping (real)  \\\n",
       "0             1360              2  Pacific Asia                         3   \n",
       "1             1360              2  Pacific Asia                         5   \n",
       "2             1360              2  Pacific Asia                         4   \n",
       "3             1360              2  Pacific Asia                         3   \n",
       "4             1360              2  Pacific Asia                         2   \n",
       "...            ...            ...           ...                       ...   \n",
       "172760        1358              9  Pacific Asia                         5   \n",
       "172761        1354              9  Pacific Asia                         2   \n",
       "172762        1358              9  Pacific Asia                         2   \n",
       "172763         403              4          USCA                         6   \n",
       "172764        1004              7  Pacific Asia                         3   \n",
       "\n",
       "        Days for shipment (scheduled)   Delivery Status  Late Delivery Risk  \\\n",
       "0                                   4  Advance shipping                   0   \n",
       "1                                   4     Late delivery                   1   \n",
       "2                                   4  Shipping on time                   0   \n",
       "3                                   4  Advance shipping                   0   \n",
       "4                                   4  Advance shipping                   0   \n",
       "...                               ...               ...                 ...   \n",
       "172760                              2     Late delivery                   1   \n",
       "172761                              2  Shipping on time                   0   \n",
       "172762                              2  Shipping on time                   0   \n",
       "172763                              2     Late delivery                   1   \n",
       "172764                              4  Advance shipping                   0   \n",
       "\n",
       "       Customer Segment  \n",
       "0              Consumer  \n",
       "1              Consumer  \n",
       "2              Consumer  \n",
       "3           Home Office  \n",
       "4             Corporate  \n",
       "...                 ...  \n",
       "172760      Home Office  \n",
       "172761      Home Office  \n",
       "172762      Home Office  \n",
       "172763      Home Office  \n",
       "172764        Corporate  \n",
       "\n",
       "[172765 rows x 8 columns]"
      ]
     },
     "execution_count": 139,
     "metadata": {},
     "output_type": "execute_result"
    }
   ],
   "source": [
    "orders_df.drop([\"Customer Id\",\"Order Item Id\",\"order date (DateOrders)\",\"Order Item Quantity\"],axis=1,inplace=True)\n",
    "orders_df"
   ]
  },
  {
   "cell_type": "markdown",
   "id": "78c8173e",
   "metadata": {},
   "source": [
    "Drop more columns"
   ]
  },
  {
   "cell_type": "code",
   "execution_count": 140,
   "id": "cb2891ee",
   "metadata": {
    "ExecuteTime": {
     "end_time": "2022-03-11T15:36:47.749203Z",
     "start_time": "2022-03-11T15:36:47.724738Z"
    }
   },
   "outputs": [
    {
     "data": {
      "text/html": [
       "<div>\n",
       "<style scoped>\n",
       "    .dataframe tbody tr th:only-of-type {\n",
       "        vertical-align: middle;\n",
       "    }\n",
       "\n",
       "    .dataframe tbody tr th {\n",
       "        vertical-align: top;\n",
       "    }\n",
       "\n",
       "    .dataframe thead th {\n",
       "        text-align: right;\n",
       "    }\n",
       "</style>\n",
       "<table border=\"1\" class=\"dataframe\">\n",
       "  <thead>\n",
       "    <tr style=\"text-align: right;\">\n",
       "      <th></th>\n",
       "      <th>Product Id</th>\n",
       "      <th>Department Id</th>\n",
       "      <th>Market</th>\n",
       "      <th>Late Delivery Risk</th>\n",
       "      <th>Customer Segment</th>\n",
       "    </tr>\n",
       "  </thead>\n",
       "  <tbody>\n",
       "    <tr>\n",
       "      <th>0</th>\n",
       "      <td>1360</td>\n",
       "      <td>2</td>\n",
       "      <td>Pacific Asia</td>\n",
       "      <td>0</td>\n",
       "      <td>Consumer</td>\n",
       "    </tr>\n",
       "    <tr>\n",
       "      <th>1</th>\n",
       "      <td>1360</td>\n",
       "      <td>2</td>\n",
       "      <td>Pacific Asia</td>\n",
       "      <td>1</td>\n",
       "      <td>Consumer</td>\n",
       "    </tr>\n",
       "    <tr>\n",
       "      <th>2</th>\n",
       "      <td>1360</td>\n",
       "      <td>2</td>\n",
       "      <td>Pacific Asia</td>\n",
       "      <td>0</td>\n",
       "      <td>Consumer</td>\n",
       "    </tr>\n",
       "    <tr>\n",
       "      <th>3</th>\n",
       "      <td>1360</td>\n",
       "      <td>2</td>\n",
       "      <td>Pacific Asia</td>\n",
       "      <td>0</td>\n",
       "      <td>Home Office</td>\n",
       "    </tr>\n",
       "    <tr>\n",
       "      <th>4</th>\n",
       "      <td>1360</td>\n",
       "      <td>2</td>\n",
       "      <td>Pacific Asia</td>\n",
       "      <td>0</td>\n",
       "      <td>Corporate</td>\n",
       "    </tr>\n",
       "    <tr>\n",
       "      <th>...</th>\n",
       "      <td>...</td>\n",
       "      <td>...</td>\n",
       "      <td>...</td>\n",
       "      <td>...</td>\n",
       "      <td>...</td>\n",
       "    </tr>\n",
       "    <tr>\n",
       "      <th>172760</th>\n",
       "      <td>1358</td>\n",
       "      <td>9</td>\n",
       "      <td>Pacific Asia</td>\n",
       "      <td>1</td>\n",
       "      <td>Home Office</td>\n",
       "    </tr>\n",
       "    <tr>\n",
       "      <th>172761</th>\n",
       "      <td>1354</td>\n",
       "      <td>9</td>\n",
       "      <td>Pacific Asia</td>\n",
       "      <td>0</td>\n",
       "      <td>Home Office</td>\n",
       "    </tr>\n",
       "    <tr>\n",
       "      <th>172762</th>\n",
       "      <td>1358</td>\n",
       "      <td>9</td>\n",
       "      <td>Pacific Asia</td>\n",
       "      <td>0</td>\n",
       "      <td>Home Office</td>\n",
       "    </tr>\n",
       "    <tr>\n",
       "      <th>172763</th>\n",
       "      <td>403</td>\n",
       "      <td>4</td>\n",
       "      <td>USCA</td>\n",
       "      <td>1</td>\n",
       "      <td>Home Office</td>\n",
       "    </tr>\n",
       "    <tr>\n",
       "      <th>172764</th>\n",
       "      <td>1004</td>\n",
       "      <td>7</td>\n",
       "      <td>Pacific Asia</td>\n",
       "      <td>0</td>\n",
       "      <td>Corporate</td>\n",
       "    </tr>\n",
       "  </tbody>\n",
       "</table>\n",
       "<p>172765 rows × 5 columns</p>\n",
       "</div>"
      ],
      "text/plain": [
       "        Product Id  Department Id        Market  Late Delivery Risk  \\\n",
       "0             1360              2  Pacific Asia                   0   \n",
       "1             1360              2  Pacific Asia                   1   \n",
       "2             1360              2  Pacific Asia                   0   \n",
       "3             1360              2  Pacific Asia                   0   \n",
       "4             1360              2  Pacific Asia                   0   \n",
       "...            ...            ...           ...                 ...   \n",
       "172760        1358              9  Pacific Asia                   1   \n",
       "172761        1354              9  Pacific Asia                   0   \n",
       "172762        1358              9  Pacific Asia                   0   \n",
       "172763         403              4          USCA                   1   \n",
       "172764        1004              7  Pacific Asia                   0   \n",
       "\n",
       "       Customer Segment  \n",
       "0              Consumer  \n",
       "1              Consumer  \n",
       "2              Consumer  \n",
       "3           Home Office  \n",
       "4             Corporate  \n",
       "...                 ...  \n",
       "172760      Home Office  \n",
       "172761      Home Office  \n",
       "172762      Home Office  \n",
       "172763      Home Office  \n",
       "172764        Corporate  \n",
       "\n",
       "[172765 rows x 5 columns]"
      ]
     },
     "execution_count": 140,
     "metadata": {},
     "output_type": "execute_result"
    }
   ],
   "source": [
    "orders_df.drop([\"Days for shipping (real)\",\"Days for shipment (scheduled)\",\"Delivery Status\"],axis=1,inplace=True)\n",
    "orders_df"
   ]
  },
  {
   "cell_type": "markdown",
   "id": "aae47bd3",
   "metadata": {
    "ExecuteTime": {
     "end_time": "2022-03-11T15:13:21.887420Z",
     "start_time": "2022-03-11T15:13:21.868241Z"
    }
   },
   "source": [
    "Put market and customer segment in categories:"
   ]
  },
  {
   "cell_type": "code",
   "execution_count": 141,
   "id": "e7fb0566",
   "metadata": {
    "ExecuteTime": {
     "end_time": "2022-03-11T15:36:54.335158Z",
     "start_time": "2022-03-11T15:36:54.308171Z"
    }
   },
   "outputs": [
    {
     "name": "stdout",
     "output_type": "stream",
     "text": [
      "['Pacific Asia' 'Africa' 'LATAM' 'USCA' 'Europe']\n",
      "['Consumer' 'Home Office' 'Corporate']\n"
     ]
    }
   ],
   "source": [
    "markets = pd.Series.unique(orders_df[\"Market\"])\n",
    "print(markets)\n",
    "segments =  pd.Series.unique(orders_df[\"Customer Segment\"])\n",
    "print(segments)"
   ]
  },
  {
   "cell_type": "code",
   "execution_count": 142,
   "id": "d102a01a",
   "metadata": {
    "ExecuteTime": {
     "end_time": "2022-03-11T15:36:54.824954Z",
     "start_time": "2022-03-11T15:36:54.809288Z"
    }
   },
   "outputs": [
    {
     "data": {
      "text/html": [
       "<div>\n",
       "<style scoped>\n",
       "    .dataframe tbody tr th:only-of-type {\n",
       "        vertical-align: middle;\n",
       "    }\n",
       "\n",
       "    .dataframe tbody tr th {\n",
       "        vertical-align: top;\n",
       "    }\n",
       "\n",
       "    .dataframe thead th {\n",
       "        text-align: right;\n",
       "    }\n",
       "</style>\n",
       "<table border=\"1\" class=\"dataframe\">\n",
       "  <thead>\n",
       "    <tr style=\"text-align: right;\">\n",
       "      <th></th>\n",
       "      <th>Market</th>\n",
       "      <th>Customer Segment</th>\n",
       "    </tr>\n",
       "  </thead>\n",
       "  <tbody>\n",
       "    <tr>\n",
       "      <th>Pacific Asia</th>\n",
       "      <td>0.0</td>\n",
       "      <td>NaN</td>\n",
       "    </tr>\n",
       "    <tr>\n",
       "      <th>Africa</th>\n",
       "      <td>1.0</td>\n",
       "      <td>NaN</td>\n",
       "    </tr>\n",
       "    <tr>\n",
       "      <th>LATAM</th>\n",
       "      <td>2.0</td>\n",
       "      <td>NaN</td>\n",
       "    </tr>\n",
       "    <tr>\n",
       "      <th>USCA</th>\n",
       "      <td>3.0</td>\n",
       "      <td>NaN</td>\n",
       "    </tr>\n",
       "    <tr>\n",
       "      <th>Europe</th>\n",
       "      <td>4.0</td>\n",
       "      <td>NaN</td>\n",
       "    </tr>\n",
       "    <tr>\n",
       "      <th>Consumer</th>\n",
       "      <td>NaN</td>\n",
       "      <td>0.0</td>\n",
       "    </tr>\n",
       "    <tr>\n",
       "      <th>Home Office</th>\n",
       "      <td>NaN</td>\n",
       "      <td>1.0</td>\n",
       "    </tr>\n",
       "    <tr>\n",
       "      <th>Corporate</th>\n",
       "      <td>NaN</td>\n",
       "      <td>2.0</td>\n",
       "    </tr>\n",
       "  </tbody>\n",
       "</table>\n",
       "</div>"
      ],
      "text/plain": [
       "              Market  Customer Segment\n",
       "Pacific Asia     0.0               NaN\n",
       "Africa           1.0               NaN\n",
       "LATAM            2.0               NaN\n",
       "USCA             3.0               NaN\n",
       "Europe           4.0               NaN\n",
       "Consumer         NaN               0.0\n",
       "Home Office      NaN               1.0\n",
       "Corporate        NaN               2.0"
      ]
     },
     "execution_count": 142,
     "metadata": {},
     "output_type": "execute_result"
    }
   ],
   "source": [
    "category_dict = { \"Market\": {\"Pacific Asia\": 0, \"Africa\":1,\"LATAM\":2,\"USCA\":3,\"Europe\":4}, \n",
    "                 \"Customer Segment\": {\"Consumer\":0, \"Home Office\":1 , \"Corporate\":2}\n",
    "                }\n",
    "categories_df = pd.DataFrame.from_dict(category_dict)\n",
    "categories_df"
   ]
  },
  {
   "cell_type": "code",
   "execution_count": 143,
   "id": "3d991635",
   "metadata": {
    "ExecuteTime": {
     "end_time": "2022-03-11T15:36:57.733161Z",
     "start_time": "2022-03-11T15:36:57.633620Z"
    }
   },
   "outputs": [],
   "source": [
    "orders_df.replace(category_dict, inplace=True)"
   ]
  },
  {
   "cell_type": "code",
   "execution_count": 144,
   "id": "f5573a9e",
   "metadata": {
    "ExecuteTime": {
     "end_time": "2022-03-11T15:36:58.061113Z",
     "start_time": "2022-03-11T15:36:58.055113Z"
    }
   },
   "outputs": [
    {
     "data": {
      "text/html": [
       "<div>\n",
       "<style scoped>\n",
       "    .dataframe tbody tr th:only-of-type {\n",
       "        vertical-align: middle;\n",
       "    }\n",
       "\n",
       "    .dataframe tbody tr th {\n",
       "        vertical-align: top;\n",
       "    }\n",
       "\n",
       "    .dataframe thead th {\n",
       "        text-align: right;\n",
       "    }\n",
       "</style>\n",
       "<table border=\"1\" class=\"dataframe\">\n",
       "  <thead>\n",
       "    <tr style=\"text-align: right;\">\n",
       "      <th></th>\n",
       "      <th>Product Id</th>\n",
       "      <th>Department Id</th>\n",
       "      <th>Market</th>\n",
       "      <th>Late Delivery Risk</th>\n",
       "      <th>Customer Segment</th>\n",
       "    </tr>\n",
       "  </thead>\n",
       "  <tbody>\n",
       "    <tr>\n",
       "      <th>0</th>\n",
       "      <td>1360</td>\n",
       "      <td>2</td>\n",
       "      <td>0</td>\n",
       "      <td>0</td>\n",
       "      <td>0</td>\n",
       "    </tr>\n",
       "    <tr>\n",
       "      <th>1</th>\n",
       "      <td>1360</td>\n",
       "      <td>2</td>\n",
       "      <td>0</td>\n",
       "      <td>1</td>\n",
       "      <td>0</td>\n",
       "    </tr>\n",
       "    <tr>\n",
       "      <th>2</th>\n",
       "      <td>1360</td>\n",
       "      <td>2</td>\n",
       "      <td>0</td>\n",
       "      <td>0</td>\n",
       "      <td>0</td>\n",
       "    </tr>\n",
       "    <tr>\n",
       "      <th>3</th>\n",
       "      <td>1360</td>\n",
       "      <td>2</td>\n",
       "      <td>0</td>\n",
       "      <td>0</td>\n",
       "      <td>1</td>\n",
       "    </tr>\n",
       "    <tr>\n",
       "      <th>4</th>\n",
       "      <td>1360</td>\n",
       "      <td>2</td>\n",
       "      <td>0</td>\n",
       "      <td>0</td>\n",
       "      <td>2</td>\n",
       "    </tr>\n",
       "    <tr>\n",
       "      <th>...</th>\n",
       "      <td>...</td>\n",
       "      <td>...</td>\n",
       "      <td>...</td>\n",
       "      <td>...</td>\n",
       "      <td>...</td>\n",
       "    </tr>\n",
       "    <tr>\n",
       "      <th>172760</th>\n",
       "      <td>1358</td>\n",
       "      <td>9</td>\n",
       "      <td>0</td>\n",
       "      <td>1</td>\n",
       "      <td>1</td>\n",
       "    </tr>\n",
       "    <tr>\n",
       "      <th>172761</th>\n",
       "      <td>1354</td>\n",
       "      <td>9</td>\n",
       "      <td>0</td>\n",
       "      <td>0</td>\n",
       "      <td>1</td>\n",
       "    </tr>\n",
       "    <tr>\n",
       "      <th>172762</th>\n",
       "      <td>1358</td>\n",
       "      <td>9</td>\n",
       "      <td>0</td>\n",
       "      <td>0</td>\n",
       "      <td>1</td>\n",
       "    </tr>\n",
       "    <tr>\n",
       "      <th>172763</th>\n",
       "      <td>403</td>\n",
       "      <td>4</td>\n",
       "      <td>3</td>\n",
       "      <td>1</td>\n",
       "      <td>1</td>\n",
       "    </tr>\n",
       "    <tr>\n",
       "      <th>172764</th>\n",
       "      <td>1004</td>\n",
       "      <td>7</td>\n",
       "      <td>0</td>\n",
       "      <td>0</td>\n",
       "      <td>2</td>\n",
       "    </tr>\n",
       "  </tbody>\n",
       "</table>\n",
       "<p>172765 rows × 5 columns</p>\n",
       "</div>"
      ],
      "text/plain": [
       "        Product Id  Department Id  Market  Late Delivery Risk  \\\n",
       "0             1360              2       0                   0   \n",
       "1             1360              2       0                   1   \n",
       "2             1360              2       0                   0   \n",
       "3             1360              2       0                   0   \n",
       "4             1360              2       0                   0   \n",
       "...            ...            ...     ...                 ...   \n",
       "172760        1358              9       0                   1   \n",
       "172761        1354              9       0                   0   \n",
       "172762        1358              9       0                   0   \n",
       "172763         403              4       3                   1   \n",
       "172764        1004              7       0                   0   \n",
       "\n",
       "        Customer Segment  \n",
       "0                      0  \n",
       "1                      0  \n",
       "2                      0  \n",
       "3                      1  \n",
       "4                      2  \n",
       "...                  ...  \n",
       "172760                 1  \n",
       "172761                 1  \n",
       "172762                 1  \n",
       "172763                 1  \n",
       "172764                 2  \n",
       "\n",
       "[172765 rows x 5 columns]"
      ]
     },
     "execution_count": 144,
     "metadata": {},
     "output_type": "execute_result"
    }
   ],
   "source": [
    "orders_df"
   ]
  },
  {
   "cell_type": "markdown",
   "id": "79a28691",
   "metadata": {},
   "source": [
    "### Replace product id with category "
   ]
  },
  {
   "cell_type": "code",
   "execution_count": 148,
   "id": "46a84397",
   "metadata": {
    "ExecuteTime": {
     "end_time": "2022-03-11T15:38:23.827349Z",
     "start_time": "2022-03-11T15:38:23.802840Z"
    }
   },
   "outputs": [],
   "source": [
    "orders_df = pd.merge(orders_df,products_df, on=\"Product Id\")\n"
   ]
  },
  {
   "cell_type": "code",
   "execution_count": 151,
   "id": "7563df62",
   "metadata": {
    "ExecuteTime": {
     "end_time": "2022-03-11T15:39:10.957819Z",
     "start_time": "2022-03-11T15:39:10.940827Z"
    }
   },
   "outputs": [
    {
     "data": {
      "text/html": [
       "<div>\n",
       "<style scoped>\n",
       "    .dataframe tbody tr th:only-of-type {\n",
       "        vertical-align: middle;\n",
       "    }\n",
       "\n",
       "    .dataframe tbody tr th {\n",
       "        vertical-align: top;\n",
       "    }\n",
       "\n",
       "    .dataframe thead th {\n",
       "        text-align: right;\n",
       "    }\n",
       "</style>\n",
       "<table border=\"1\" class=\"dataframe\">\n",
       "  <thead>\n",
       "    <tr style=\"text-align: right;\">\n",
       "      <th></th>\n",
       "      <th>Department Id</th>\n",
       "      <th>Market</th>\n",
       "      <th>Late Delivery Risk</th>\n",
       "      <th>Customer Segment</th>\n",
       "      <th>Product Category Id</th>\n",
       "    </tr>\n",
       "  </thead>\n",
       "  <tbody>\n",
       "    <tr>\n",
       "      <th>0</th>\n",
       "      <td>2</td>\n",
       "      <td>0</td>\n",
       "      <td>0</td>\n",
       "      <td>0</td>\n",
       "      <td>73</td>\n",
       "    </tr>\n",
       "    <tr>\n",
       "      <th>1</th>\n",
       "      <td>2</td>\n",
       "      <td>0</td>\n",
       "      <td>1</td>\n",
       "      <td>0</td>\n",
       "      <td>73</td>\n",
       "    </tr>\n",
       "    <tr>\n",
       "      <th>2</th>\n",
       "      <td>2</td>\n",
       "      <td>0</td>\n",
       "      <td>0</td>\n",
       "      <td>0</td>\n",
       "      <td>73</td>\n",
       "    </tr>\n",
       "    <tr>\n",
       "      <th>3</th>\n",
       "      <td>2</td>\n",
       "      <td>0</td>\n",
       "      <td>0</td>\n",
       "      <td>1</td>\n",
       "      <td>73</td>\n",
       "    </tr>\n",
       "    <tr>\n",
       "      <th>4</th>\n",
       "      <td>2</td>\n",
       "      <td>0</td>\n",
       "      <td>0</td>\n",
       "      <td>2</td>\n",
       "      <td>73</td>\n",
       "    </tr>\n",
       "    <tr>\n",
       "      <th>...</th>\n",
       "      <td>...</td>\n",
       "      <td>...</td>\n",
       "      <td>...</td>\n",
       "      <td>...</td>\n",
       "      <td>...</td>\n",
       "    </tr>\n",
       "    <tr>\n",
       "      <th>172760</th>\n",
       "      <td>7</td>\n",
       "      <td>0</td>\n",
       "      <td>1</td>\n",
       "      <td>0</td>\n",
       "      <td>74</td>\n",
       "    </tr>\n",
       "    <tr>\n",
       "      <th>172761</th>\n",
       "      <td>7</td>\n",
       "      <td>0</td>\n",
       "      <td>1</td>\n",
       "      <td>0</td>\n",
       "      <td>74</td>\n",
       "    </tr>\n",
       "    <tr>\n",
       "      <th>172762</th>\n",
       "      <td>7</td>\n",
       "      <td>0</td>\n",
       "      <td>1</td>\n",
       "      <td>0</td>\n",
       "      <td>74</td>\n",
       "    </tr>\n",
       "    <tr>\n",
       "      <th>172763</th>\n",
       "      <td>7</td>\n",
       "      <td>0</td>\n",
       "      <td>0</td>\n",
       "      <td>0</td>\n",
       "      <td>74</td>\n",
       "    </tr>\n",
       "    <tr>\n",
       "      <th>172764</th>\n",
       "      <td>7</td>\n",
       "      <td>0</td>\n",
       "      <td>0</td>\n",
       "      <td>2</td>\n",
       "      <td>74</td>\n",
       "    </tr>\n",
       "  </tbody>\n",
       "</table>\n",
       "<p>172765 rows × 5 columns</p>\n",
       "</div>"
      ],
      "text/plain": [
       "        Department Id  Market  Late Delivery Risk  Customer Segment  \\\n",
       "0                   2       0                   0                 0   \n",
       "1                   2       0                   1                 0   \n",
       "2                   2       0                   0                 0   \n",
       "3                   2       0                   0                 1   \n",
       "4                   2       0                   0                 2   \n",
       "...               ...     ...                 ...               ...   \n",
       "172760              7       0                   1                 0   \n",
       "172761              7       0                   1                 0   \n",
       "172762              7       0                   1                 0   \n",
       "172763              7       0                   0                 0   \n",
       "172764              7       0                   0                 2   \n",
       "\n",
       "        Product Category Id  \n",
       "0                        73  \n",
       "1                        73  \n",
       "2                        73  \n",
       "3                        73  \n",
       "4                        73  \n",
       "...                     ...  \n",
       "172760                   74  \n",
       "172761                   74  \n",
       "172762                   74  \n",
       "172763                   74  \n",
       "172764                   74  \n",
       "\n",
       "[172765 rows x 5 columns]"
      ]
     },
     "execution_count": 151,
     "metadata": {},
     "output_type": "execute_result"
    }
   ],
   "source": [
    "orders_df.drop([\"Product Id\",\"Product Name\",\"Product Price\",\"Category Name\"],axis=1, inplace=True)\n",
    "orders_df"
   ]
  },
  {
   "cell_type": "markdown",
   "id": "d7a1a4e9",
   "metadata": {},
   "source": [
    "s"
   ]
  },
  {
   "cell_type": "code",
   "execution_count": 152,
   "id": "06ad2479",
   "metadata": {
    "ExecuteTime": {
     "end_time": "2022-03-11T15:39:20.205832Z",
     "start_time": "2022-03-11T15:39:20.195847Z"
    }
   },
   "outputs": [],
   "source": [
    "consumer_orders = orders_df.loc[(orders_df[\"Customer Segment\"] == 0)]\n",
    "home_orders = orders_df.loc[(orders_df[\"Customer Segment\"] == 1)] \n",
    "corporate_orders = orders_df.loc[(orders_df[\"Customer Segment\"] == 2)]"
   ]
  },
  {
   "cell_type": "code",
   "execution_count": 153,
   "id": "8364b996",
   "metadata": {
    "ExecuteTime": {
     "end_time": "2022-03-11T15:39:29.101524Z",
     "start_time": "2022-03-11T15:39:29.086689Z"
    }
   },
   "outputs": [
    {
     "data": {
      "text/plain": [
       "1    57.311563\n",
       "0    42.688437\n",
       "Name: Late Delivery Risk, dtype: float64"
      ]
     },
     "execution_count": 153,
     "metadata": {},
     "output_type": "execute_result"
    }
   ],
   "source": [
    "consumer_orders[\"Late Delivery Risk\"].value_counts(normalize=True)*100"
   ]
  },
  {
   "cell_type": "code",
   "execution_count": 154,
   "id": "b1e93e5d",
   "metadata": {
    "ExecuteTime": {
     "end_time": "2022-03-11T15:39:29.428650Z",
     "start_time": "2022-03-11T15:39:29.409649Z"
    }
   },
   "outputs": [
    {
     "data": {
      "text/plain": [
       "1    57.588344\n",
       "0    42.411656\n",
       "Name: Late Delivery Risk, dtype: float64"
      ]
     },
     "execution_count": 154,
     "metadata": {},
     "output_type": "execute_result"
    }
   ],
   "source": [
    "home_orders[\"Late Delivery Risk\"].value_counts(normalize=True)*100"
   ]
  },
  {
   "cell_type": "code",
   "execution_count": 155,
   "id": "1142d36a",
   "metadata": {
    "ExecuteTime": {
     "end_time": "2022-03-11T15:39:30.222612Z",
     "start_time": "2022-03-11T15:39:30.213951Z"
    }
   },
   "outputs": [
    {
     "data": {
      "text/plain": [
       "1    57.07813\n",
       "0    42.92187\n",
       "Name: Late Delivery Risk, dtype: float64"
      ]
     },
     "execution_count": 155,
     "metadata": {},
     "output_type": "execute_result"
    }
   ],
   "source": [
    "corporate_orders[\"Late Delivery Risk\"].value_counts(normalize=True)*100"
   ]
  },
  {
   "cell_type": "markdown",
   "id": "7032eff6",
   "metadata": {},
   "source": [
    "### How do the customers differ by regions"
   ]
  },
  {
   "cell_type": "code",
   "execution_count": 156,
   "id": "6c048f38",
   "metadata": {
    "ExecuteTime": {
     "end_time": "2022-03-11T15:39:31.528236Z",
     "start_time": "2022-03-11T15:39:31.515810Z"
    }
   },
   "outputs": [
    {
     "data": {
      "text/plain": [
       "2    28.454484\n",
       "4    27.928875\n",
       "0    22.768955\n",
       "3    14.405055\n",
       "1     6.442630\n",
       "Name: Market, dtype: float64"
      ]
     },
     "execution_count": 156,
     "metadata": {},
     "output_type": "execute_result"
    }
   ],
   "source": [
    "consumer_orders[\"Market\"].value_counts(normalize=True)*100"
   ]
  },
  {
   "cell_type": "code",
   "execution_count": 157,
   "id": "9e4db5cd",
   "metadata": {
    "ExecuteTime": {
     "end_time": "2022-03-11T15:39:32.065042Z",
     "start_time": "2022-03-11T15:39:32.055043Z"
    }
   },
   "outputs": [
    {
     "data": {
      "text/plain": [
       "2    28.805529\n",
       "4    27.439400\n",
       "0    23.237174\n",
       "3    14.125320\n",
       "1     6.392576\n",
       "Name: Market, dtype: float64"
      ]
     },
     "execution_count": 157,
     "metadata": {},
     "output_type": "execute_result"
    }
   ],
   "source": [
    "home_orders[\"Market\"].value_counts(normalize=True)*100"
   ]
  },
  {
   "cell_type": "code",
   "execution_count": 158,
   "id": "7d79eb46",
   "metadata": {
    "ExecuteTime": {
     "end_time": "2022-03-11T15:39:32.607934Z",
     "start_time": "2022-03-11T15:39:32.590933Z"
    }
   },
   "outputs": [
    {
     "data": {
      "text/plain": [
       "2    28.533354\n",
       "4    27.908925\n",
       "0    22.966799\n",
       "3    14.074398\n",
       "1     6.516525\n",
       "Name: Market, dtype: float64"
      ]
     },
     "execution_count": 158,
     "metadata": {},
     "output_type": "execute_result"
    }
   ],
   "source": [
    "corporate_orders[\"Market\"].value_counts(normalize=True)*100"
   ]
  },
  {
   "cell_type": "markdown",
   "id": "f9abbef6",
   "metadata": {
    "ExecuteTime": {
     "end_time": "2022-03-11T15:33:20.573732Z",
     "start_time": "2022-03-11T15:33:20.559743Z"
    }
   },
   "source": [
    "These seem very roughly in line"
   ]
  },
  {
   "cell_type": "markdown",
   "id": "a43de1f4",
   "metadata": {},
   "source": [
    "##### Check for department stores "
   ]
  },
  {
   "cell_type": "code",
   "execution_count": 160,
   "id": "380f7826",
   "metadata": {
    "ExecuteTime": {
     "end_time": "2022-03-11T15:40:14.304358Z",
     "start_time": "2022-03-11T15:40:14.293374Z"
    }
   },
   "outputs": [
    {
     "data": {
      "text/plain": [
       "7     37.080072\n",
       "4     27.058824\n",
       "5     18.425408\n",
       "3      8.104451\n",
       "6      5.353389\n",
       "2      1.367703\n",
       "9      1.126146\n",
       "10     0.825319\n",
       "11     0.260568\n",
       "12     0.203534\n",
       "8      0.194587\n",
       "Name: Department Id, dtype: float64"
      ]
     },
     "execution_count": 160,
     "metadata": {},
     "output_type": "execute_result"
    }
   ],
   "source": [
    "consumer_orders[\"Department Id\"].value_counts(normalize=True)*100"
   ]
  },
  {
   "cell_type": "code",
   "execution_count": 162,
   "id": "b4cddb0b",
   "metadata": {
    "ExecuteTime": {
     "end_time": "2022-03-11T15:40:22.605554Z",
     "start_time": "2022-03-11T15:40:22.585570Z"
    }
   },
   "outputs": [
    {
     "data": {
      "text/plain": [
       "7     36.794626\n",
       "4     27.468605\n",
       "5     18.291852\n",
       "3      7.937178\n",
       "6      5.373657\n",
       "2      1.307720\n",
       "9      1.265535\n",
       "10     0.791771\n",
       "8      0.305026\n",
       "11     0.288802\n",
       "12     0.175228\n",
       "Name: Department Id, dtype: float64"
      ]
     },
     "execution_count": 162,
     "metadata": {},
     "output_type": "execute_result"
    }
   ],
   "source": [
    "home_orders[\"Department Id\"].value_counts(normalize=True)*100"
   ]
  },
  {
   "cell_type": "code",
   "execution_count": 163,
   "id": "fa7bfdb9",
   "metadata": {
    "ExecuteTime": {
     "end_time": "2022-03-11T15:41:36.359438Z",
     "start_time": "2022-03-11T15:41:36.347443Z"
    }
   },
   "outputs": [
    {
     "data": {
      "text/plain": [
       "7     37.193497\n",
       "4     27.076988\n",
       "5     18.380673\n",
       "3      7.991928\n",
       "6      5.376180\n",
       "2      1.424002\n",
       "9      1.039446\n",
       "10     0.788151\n",
       "11     0.285562\n",
       "8      0.234161\n",
       "12     0.209412\n",
       "Name: Department Id, dtype: float64"
      ]
     },
     "execution_count": 163,
     "metadata": {},
     "output_type": "execute_result"
    }
   ],
   "source": [
    "corporate_orders[\"Department Id\"].value_counts(normalize=True)*100"
   ]
  },
  {
   "cell_type": "markdown",
   "id": "6fcbc594",
   "metadata": {},
   "source": [
    "##### Check for product categories"
   ]
  },
  {
   "cell_type": "code",
   "execution_count": 166,
   "id": "3c359cb8",
   "metadata": {
    "ExecuteTime": {
     "end_time": "2022-03-11T15:46:54.393517Z",
     "start_time": "2022-03-11T15:46:54.387528Z"
    }
   },
   "outputs": [
    {
     "data": {
      "text/plain": [
       "17    13.594274\n",
       "18    12.234399\n",
       "24    11.622679\n",
       "46    10.650861\n",
       "45     9.676806\n",
       "48     8.664728\n",
       "43     7.548647\n",
       "9      6.971595\n",
       "29     6.170879\n",
       "37     1.163051\n",
       "Name: Product Category Id, dtype: float64"
      ]
     },
     "execution_count": 166,
     "metadata": {},
     "output_type": "execute_result"
    }
   ],
   "source": [
    "(consumer_orders[\"Product Category Id\"].value_counts(normalize=True)*100)[0:10]"
   ]
  },
  {
   "cell_type": "code",
   "execution_count": 168,
   "id": "b1573ad1",
   "metadata": {
    "ExecuteTime": {
     "end_time": "2022-03-11T15:47:17.275443Z",
     "start_time": "2022-03-11T15:47:17.255457Z"
    }
   },
   "outputs": [
    {
     "data": {
      "text/plain": [
       "17    14.053931\n",
       "18    12.291917\n",
       "24    11.600740\n",
       "46    10.422819\n",
       "45     9.523964\n",
       "48     8.569945\n",
       "43     7.667846\n",
       "9      6.752766\n",
       "29     6.025895\n",
       "37     1.087062\n",
       "Name: Product Category Id, dtype: float64"
      ]
     },
     "execution_count": 168,
     "metadata": {},
     "output_type": "execute_result"
    }
   ],
   "source": [
    "(home_orders[\"Product Category Id\"].value_counts(normalize=True)*100)[0:10]"
   ]
  },
  {
   "cell_type": "code",
   "execution_count": 169,
   "id": "644c3ba2",
   "metadata": {
    "ExecuteTime": {
     "end_time": "2022-03-11T15:47:25.014456Z",
     "start_time": "2022-03-11T15:47:24.994466Z"
    }
   },
   "outputs": [
    {
     "data": {
      "text/plain": [
       "17    13.377627\n",
       "18    12.440984\n",
       "24    11.704234\n",
       "46    10.916083\n",
       "45     9.532059\n",
       "48     8.549726\n",
       "43     7.698751\n",
       "9      6.916311\n",
       "29     5.977764\n",
       "37     1.102269\n",
       "Name: Product Category Id, dtype: float64"
      ]
     },
     "execution_count": 169,
     "metadata": {},
     "output_type": "execute_result"
    }
   ],
   "source": [
    "(corporate_orders[\"Product Category Id\"].value_counts(normalize=True)*100)[0:10]"
   ]
  },
  {
   "cell_type": "markdown",
   "id": "a9ecfedc",
   "metadata": {},
   "source": [
    "Their top 10 product categories are roughly identical"
   ]
  },
  {
   "cell_type": "code",
   "execution_count": 171,
   "id": "d360a5c9",
   "metadata": {
    "ExecuteTime": {
     "end_time": "2022-03-11T15:48:15.260224Z",
     "start_time": "2022-03-11T15:48:15.241237Z"
    }
   },
   "outputs": [
    {
     "data": {
      "text/html": [
       "<div>\n",
       "<style scoped>\n",
       "    .dataframe tbody tr th:only-of-type {\n",
       "        vertical-align: middle;\n",
       "    }\n",
       "\n",
       "    .dataframe tbody tr th {\n",
       "        vertical-align: top;\n",
       "    }\n",
       "\n",
       "    .dataframe thead th {\n",
       "        text-align: right;\n",
       "    }\n",
       "</style>\n",
       "<table border=\"1\" class=\"dataframe\">\n",
       "  <thead>\n",
       "    <tr style=\"text-align: right;\">\n",
       "      <th></th>\n",
       "      <th>Department Id</th>\n",
       "      <th>Market</th>\n",
       "      <th>Late Delivery Risk</th>\n",
       "      <th>Customer Segment</th>\n",
       "      <th>Product Category Id</th>\n",
       "    </tr>\n",
       "  </thead>\n",
       "  <tbody>\n",
       "    <tr>\n",
       "      <th>Department Id</th>\n",
       "      <td>1.000000</td>\n",
       "      <td>-0.029279</td>\n",
       "      <td>0.000681</td>\n",
       "      <td>0.000232</td>\n",
       "      <td>0.889059</td>\n",
       "    </tr>\n",
       "    <tr>\n",
       "      <th>Market</th>\n",
       "      <td>-0.029279</td>\n",
       "      <td>1.000000</td>\n",
       "      <td>0.003122</td>\n",
       "      <td>-0.002994</td>\n",
       "      <td>-0.083852</td>\n",
       "    </tr>\n",
       "    <tr>\n",
       "      <th>Late Delivery Risk</th>\n",
       "      <td>0.000681</td>\n",
       "      <td>0.003122</td>\n",
       "      <td>1.000000</td>\n",
       "      <td>-0.001735</td>\n",
       "      <td>0.001499</td>\n",
       "    </tr>\n",
       "    <tr>\n",
       "      <th>Customer Segment</th>\n",
       "      <td>0.000232</td>\n",
       "      <td>-0.002994</td>\n",
       "      <td>-0.001735</td>\n",
       "      <td>1.000000</td>\n",
       "      <td>0.001429</td>\n",
       "    </tr>\n",
       "    <tr>\n",
       "      <th>Product Category Id</th>\n",
       "      <td>0.889059</td>\n",
       "      <td>-0.083852</td>\n",
       "      <td>0.001499</td>\n",
       "      <td>0.001429</td>\n",
       "      <td>1.000000</td>\n",
       "    </tr>\n",
       "  </tbody>\n",
       "</table>\n",
       "</div>"
      ],
      "text/plain": [
       "                     Department Id    Market  Late Delivery Risk  \\\n",
       "Department Id             1.000000 -0.029279            0.000681   \n",
       "Market                   -0.029279  1.000000            0.003122   \n",
       "Late Delivery Risk        0.000681  0.003122            1.000000   \n",
       "Customer Segment          0.000232 -0.002994           -0.001735   \n",
       "Product Category Id       0.889059 -0.083852            0.001499   \n",
       "\n",
       "                     Customer Segment  Product Category Id  \n",
       "Department Id                0.000232             0.889059  \n",
       "Market                      -0.002994            -0.083852  \n",
       "Late Delivery Risk          -0.001735             0.001499  \n",
       "Customer Segment             1.000000             0.001429  \n",
       "Product Category Id          0.001429             1.000000  "
      ]
     },
     "execution_count": 171,
     "metadata": {},
     "output_type": "execute_result"
    }
   ],
   "source": [
    "orders_df.corr()"
   ]
  },
  {
   "cell_type": "markdown",
   "id": "2a0f780d",
   "metadata": {},
   "source": [
    "# Lets compare a given category of products, shipped to a given region, from a single department store, and get an insight"
   ]
  },
  {
   "cell_type": "markdown",
   "id": "d83ee3a0",
   "metadata": {},
   "source": [
    "Department store 7 only:"
   ]
  },
  {
   "cell_type": "code",
   "execution_count": 200,
   "id": "b483edd3",
   "metadata": {
    "ExecuteTime": {
     "end_time": "2022-03-11T15:56:26.148005Z",
     "start_time": "2022-03-11T15:56:26.138375Z"
    }
   },
   "outputs": [
    {
     "data": {
      "text/html": [
       "<div>\n",
       "<style scoped>\n",
       "    .dataframe tbody tr th:only-of-type {\n",
       "        vertical-align: middle;\n",
       "    }\n",
       "\n",
       "    .dataframe tbody tr th {\n",
       "        vertical-align: top;\n",
       "    }\n",
       "\n",
       "    .dataframe thead th {\n",
       "        text-align: right;\n",
       "    }\n",
       "</style>\n",
       "<table border=\"1\" class=\"dataframe\">\n",
       "  <thead>\n",
       "    <tr style=\"text-align: right;\">\n",
       "      <th></th>\n",
       "      <th>Department Id</th>\n",
       "      <th>Market</th>\n",
       "      <th>Late Delivery Risk</th>\n",
       "      <th>Customer Segment</th>\n",
       "      <th>Product Category Id</th>\n",
       "    </tr>\n",
       "  </thead>\n",
       "  <tbody>\n",
       "    <tr>\n",
       "      <th>43930</th>\n",
       "      <td>7</td>\n",
       "      <td>1</td>\n",
       "      <td>1</td>\n",
       "      <td>1</td>\n",
       "      <td>48</td>\n",
       "    </tr>\n",
       "    <tr>\n",
       "      <th>43931</th>\n",
       "      <td>7</td>\n",
       "      <td>2</td>\n",
       "      <td>1</td>\n",
       "      <td>1</td>\n",
       "      <td>48</td>\n",
       "    </tr>\n",
       "    <tr>\n",
       "      <th>43932</th>\n",
       "      <td>7</td>\n",
       "      <td>2</td>\n",
       "      <td>1</td>\n",
       "      <td>1</td>\n",
       "      <td>48</td>\n",
       "    </tr>\n",
       "    <tr>\n",
       "      <th>43933</th>\n",
       "      <td>7</td>\n",
       "      <td>2</td>\n",
       "      <td>0</td>\n",
       "      <td>1</td>\n",
       "      <td>48</td>\n",
       "    </tr>\n",
       "    <tr>\n",
       "      <th>43934</th>\n",
       "      <td>7</td>\n",
       "      <td>1</td>\n",
       "      <td>1</td>\n",
       "      <td>1</td>\n",
       "      <td>48</td>\n",
       "    </tr>\n",
       "  </tbody>\n",
       "</table>\n",
       "</div>"
      ],
      "text/plain": [
       "       Department Id  Market  Late Delivery Risk  Customer Segment  \\\n",
       "43930              7       1                   1                 1   \n",
       "43931              7       2                   1                 1   \n",
       "43932              7       2                   1                 1   \n",
       "43933              7       2                   0                 1   \n",
       "43934              7       1                   1                 1   \n",
       "\n",
       "       Product Category Id  \n",
       "43930                   48  \n",
       "43931                   48  \n",
       "43932                   48  \n",
       "43933                   48  \n",
       "43934                   48  "
      ]
     },
     "execution_count": 200,
     "metadata": {},
     "output_type": "execute_result"
    }
   ],
   "source": [
    "order_test_df = orders_df.loc[(orders_df[\"Department Id\"] == 7)]\n",
    "order_test_df.head()"
   ]
  },
  {
   "cell_type": "code",
   "execution_count": 201,
   "id": "da8a1aee",
   "metadata": {
    "ExecuteTime": {
     "end_time": "2022-03-11T15:56:32.520361Z",
     "start_time": "2022-03-11T15:56:32.514363Z"
    }
   },
   "outputs": [
    {
     "data": {
      "text/plain": [
       "46    0.288445\n",
       "45    0.259163\n",
       "48    0.232380\n",
       "43    0.205472\n",
       "74    0.007918\n",
       "44    0.006622\n",
       "Name: Product Category Id, dtype: float64"
      ]
     },
     "execution_count": 201,
     "metadata": {},
     "output_type": "execute_result"
    }
   ],
   "source": [
    "order_test_df[\"Product Category Id\"].value_counts(normalize=True)"
   ]
  },
  {
   "cell_type": "markdown",
   "id": "6fb46322",
   "metadata": {},
   "source": [
    "Lets pick product 46, which is: Lifevests"
   ]
  },
  {
   "cell_type": "code",
   "execution_count": 202,
   "id": "cec87c88",
   "metadata": {
    "ExecuteTime": {
     "end_time": "2022-03-11T15:56:37.801921Z",
     "start_time": "2022-03-11T15:56:37.786288Z"
    }
   },
   "outputs": [
    {
     "data": {
      "text/html": [
       "<div>\n",
       "<style scoped>\n",
       "    .dataframe tbody tr th:only-of-type {\n",
       "        vertical-align: middle;\n",
       "    }\n",
       "\n",
       "    .dataframe tbody tr th {\n",
       "        vertical-align: top;\n",
       "    }\n",
       "\n",
       "    .dataframe thead th {\n",
       "        text-align: right;\n",
       "    }\n",
       "</style>\n",
       "<table border=\"1\" class=\"dataframe\">\n",
       "  <thead>\n",
       "    <tr style=\"text-align: right;\">\n",
       "      <th></th>\n",
       "      <th>Product Category Id</th>\n",
       "      <th>Product Name</th>\n",
       "      <th>Product Price</th>\n",
       "      <th>Category Name</th>\n",
       "    </tr>\n",
       "    <tr>\n",
       "      <th>Product Id</th>\n",
       "      <th></th>\n",
       "      <th></th>\n",
       "      <th></th>\n",
       "      <th></th>\n",
       "    </tr>\n",
       "  </thead>\n",
       "  <tbody>\n",
       "    <tr>\n",
       "      <th>1014</th>\n",
       "      <td>46</td>\n",
       "      <td>O'Brien Men's Neoprene Life Vest</td>\n",
       "      <td>49.98</td>\n",
       "      <td>Indoor/Outdoor Games</td>\n",
       "    </tr>\n",
       "  </tbody>\n",
       "</table>\n",
       "</div>"
      ],
      "text/plain": [
       "            Product Category Id                      Product Name  \\\n",
       "Product Id                                                          \n",
       "1014                         46  O'Brien Men's Neoprene Life Vest   \n",
       "\n",
       "            Product Price         Category Name  \n",
       "Product Id                                       \n",
       "1014                49.98  Indoor/Outdoor Games  "
      ]
     },
     "execution_count": 202,
     "metadata": {},
     "output_type": "execute_result"
    }
   ],
   "source": [
    "products_df.loc[products_df[\"Product Category Id\"] == 46]"
   ]
  },
  {
   "cell_type": "code",
   "execution_count": 203,
   "id": "a772059f",
   "metadata": {
    "ExecuteTime": {
     "end_time": "2022-03-11T15:56:45.264265Z",
     "start_time": "2022-03-11T15:56:45.246276Z"
    }
   },
   "outputs": [
    {
     "data": {
      "text/html": [
       "<div>\n",
       "<style scoped>\n",
       "    .dataframe tbody tr th:only-of-type {\n",
       "        vertical-align: middle;\n",
       "    }\n",
       "\n",
       "    .dataframe tbody tr th {\n",
       "        vertical-align: top;\n",
       "    }\n",
       "\n",
       "    .dataframe thead th {\n",
       "        text-align: right;\n",
       "    }\n",
       "</style>\n",
       "<table border=\"1\" class=\"dataframe\">\n",
       "  <thead>\n",
       "    <tr style=\"text-align: right;\">\n",
       "      <th></th>\n",
       "      <th>Department Id</th>\n",
       "      <th>Market</th>\n",
       "      <th>Late Delivery Risk</th>\n",
       "      <th>Customer Segment</th>\n",
       "      <th>Product Category Id</th>\n",
       "    </tr>\n",
       "  </thead>\n",
       "  <tbody>\n",
       "    <tr>\n",
       "      <th>58770</th>\n",
       "      <td>7</td>\n",
       "      <td>0</td>\n",
       "      <td>1</td>\n",
       "      <td>1</td>\n",
       "      <td>46</td>\n",
       "    </tr>\n",
       "    <tr>\n",
       "      <th>58771</th>\n",
       "      <td>7</td>\n",
       "      <td>0</td>\n",
       "      <td>1</td>\n",
       "      <td>1</td>\n",
       "      <td>46</td>\n",
       "    </tr>\n",
       "    <tr>\n",
       "      <th>58772</th>\n",
       "      <td>7</td>\n",
       "      <td>0</td>\n",
       "      <td>0</td>\n",
       "      <td>1</td>\n",
       "      <td>46</td>\n",
       "    </tr>\n",
       "    <tr>\n",
       "      <th>58773</th>\n",
       "      <td>7</td>\n",
       "      <td>1</td>\n",
       "      <td>1</td>\n",
       "      <td>1</td>\n",
       "      <td>46</td>\n",
       "    </tr>\n",
       "    <tr>\n",
       "      <th>58774</th>\n",
       "      <td>7</td>\n",
       "      <td>0</td>\n",
       "      <td>1</td>\n",
       "      <td>1</td>\n",
       "      <td>46</td>\n",
       "    </tr>\n",
       "  </tbody>\n",
       "</table>\n",
       "</div>"
      ],
      "text/plain": [
       "       Department Id  Market  Late Delivery Risk  Customer Segment  \\\n",
       "58770              7       0                   1                 1   \n",
       "58771              7       0                   1                 1   \n",
       "58772              7       0                   0                 1   \n",
       "58773              7       1                   1                 1   \n",
       "58774              7       0                   1                 1   \n",
       "\n",
       "       Product Category Id  \n",
       "58770                   46  \n",
       "58771                   46  \n",
       "58772                   46  \n",
       "58773                   46  \n",
       "58774                   46  "
      ]
     },
     "execution_count": 203,
     "metadata": {},
     "output_type": "execute_result"
    }
   ],
   "source": [
    "order_test_df = order_test_df.loc[(order_test_df[\"Product Category Id\"] == 46)]\n",
    "order_test_df.head()"
   ]
  },
  {
   "cell_type": "code",
   "execution_count": 204,
   "id": "a9e41e0b",
   "metadata": {
    "ExecuteTime": {
     "end_time": "2022-03-11T15:56:48.000349Z",
     "start_time": "2022-03-11T15:56:47.992162Z"
    }
   },
   "outputs": [
    {
     "data": {
      "text/plain": [
       "2    0.303086\n",
       "4    0.269518\n",
       "0    0.209962\n",
       "3    0.148349\n",
       "1    0.069085\n",
       "Name: Market, dtype: float64"
      ]
     },
     "execution_count": 204,
     "metadata": {},
     "output_type": "execute_result"
    }
   ],
   "source": [
    "order_test_df[\"Market\"].value_counts(normalize=True)"
   ]
  },
  {
   "cell_type": "markdown",
   "id": "e63e210b",
   "metadata": {},
   "source": [
    "Pick region 2, which is LATAM"
   ]
  },
  {
   "cell_type": "code",
   "execution_count": 205,
   "id": "4429c2a2",
   "metadata": {
    "ExecuteTime": {
     "end_time": "2022-03-11T15:56:57.154425Z",
     "start_time": "2022-03-11T15:56:57.127444Z"
    }
   },
   "outputs": [
    {
     "data": {
      "text/html": [
       "<div>\n",
       "<style scoped>\n",
       "    .dataframe tbody tr th:only-of-type {\n",
       "        vertical-align: middle;\n",
       "    }\n",
       "\n",
       "    .dataframe tbody tr th {\n",
       "        vertical-align: top;\n",
       "    }\n",
       "\n",
       "    .dataframe thead th {\n",
       "        text-align: right;\n",
       "    }\n",
       "</style>\n",
       "<table border=\"1\" class=\"dataframe\">\n",
       "  <thead>\n",
       "    <tr style=\"text-align: right;\">\n",
       "      <th></th>\n",
       "      <th>Department Id</th>\n",
       "      <th>Market</th>\n",
       "      <th>Late Delivery Risk</th>\n",
       "      <th>Customer Segment</th>\n",
       "      <th>Product Category Id</th>\n",
       "    </tr>\n",
       "  </thead>\n",
       "  <tbody>\n",
       "    <tr>\n",
       "      <th>58778</th>\n",
       "      <td>7</td>\n",
       "      <td>2</td>\n",
       "      <td>1</td>\n",
       "      <td>1</td>\n",
       "      <td>46</td>\n",
       "    </tr>\n",
       "    <tr>\n",
       "      <th>58782</th>\n",
       "      <td>7</td>\n",
       "      <td>2</td>\n",
       "      <td>1</td>\n",
       "      <td>1</td>\n",
       "      <td>46</td>\n",
       "    </tr>\n",
       "    <tr>\n",
       "      <th>58794</th>\n",
       "      <td>7</td>\n",
       "      <td>2</td>\n",
       "      <td>0</td>\n",
       "      <td>1</td>\n",
       "      <td>46</td>\n",
       "    </tr>\n",
       "    <tr>\n",
       "      <th>58796</th>\n",
       "      <td>7</td>\n",
       "      <td>2</td>\n",
       "      <td>1</td>\n",
       "      <td>1</td>\n",
       "      <td>46</td>\n",
       "    </tr>\n",
       "    <tr>\n",
       "      <th>58797</th>\n",
       "      <td>7</td>\n",
       "      <td>2</td>\n",
       "      <td>1</td>\n",
       "      <td>1</td>\n",
       "      <td>46</td>\n",
       "    </tr>\n",
       "  </tbody>\n",
       "</table>\n",
       "</div>"
      ],
      "text/plain": [
       "       Department Id  Market  Late Delivery Risk  Customer Segment  \\\n",
       "58778              7       2                   1                 1   \n",
       "58782              7       2                   1                 1   \n",
       "58794              7       2                   0                 1   \n",
       "58796              7       2                   1                 1   \n",
       "58797              7       2                   1                 1   \n",
       "\n",
       "       Product Category Id  \n",
       "58778                   46  \n",
       "58782                   46  \n",
       "58794                   46  \n",
       "58796                   46  \n",
       "58797                   46  "
      ]
     },
     "execution_count": 205,
     "metadata": {},
     "output_type": "execute_result"
    }
   ],
   "source": [
    "order_test_df = order_test_df.loc[(order_test_df[\"Market\"] == 2)]\n",
    "order_test_df.head()"
   ]
  },
  {
   "cell_type": "markdown",
   "id": "baee4d2f",
   "metadata": {},
   "source": [
    "Everything is equal other than customer segment, so lets see"
   ]
  },
  {
   "cell_type": "code",
   "execution_count": 206,
   "id": "77a98f4d",
   "metadata": {
    "ExecuteTime": {
     "end_time": "2022-03-11T15:57:01.207100Z",
     "start_time": "2022-03-11T15:57:01.190116Z"
    }
   },
   "outputs": [
    {
     "data": {
      "text/html": [
       "<div>\n",
       "<style scoped>\n",
       "    .dataframe tbody tr th:only-of-type {\n",
       "        vertical-align: middle;\n",
       "    }\n",
       "\n",
       "    .dataframe tbody tr th {\n",
       "        vertical-align: top;\n",
       "    }\n",
       "\n",
       "    .dataframe thead th {\n",
       "        text-align: right;\n",
       "    }\n",
       "</style>\n",
       "<table border=\"1\" class=\"dataframe\">\n",
       "  <thead>\n",
       "    <tr style=\"text-align: right;\">\n",
       "      <th></th>\n",
       "      <th>Department Id</th>\n",
       "      <th>Market</th>\n",
       "      <th>Late Delivery Risk</th>\n",
       "      <th>Customer Segment</th>\n",
       "      <th>Product Category Id</th>\n",
       "    </tr>\n",
       "  </thead>\n",
       "  <tbody>\n",
       "    <tr>\n",
       "      <th>0</th>\n",
       "      <td>NaN</td>\n",
       "      <td>NaN</td>\n",
       "      <td>2352.0</td>\n",
       "      <td>2889.0</td>\n",
       "      <td>NaN</td>\n",
       "    </tr>\n",
       "    <tr>\n",
       "      <th>1</th>\n",
       "      <td>NaN</td>\n",
       "      <td>NaN</td>\n",
       "      <td>3246.0</td>\n",
       "      <td>962.0</td>\n",
       "      <td>NaN</td>\n",
       "    </tr>\n",
       "    <tr>\n",
       "      <th>2</th>\n",
       "      <td>NaN</td>\n",
       "      <td>5598.0</td>\n",
       "      <td>NaN</td>\n",
       "      <td>1747.0</td>\n",
       "      <td>NaN</td>\n",
       "    </tr>\n",
       "    <tr>\n",
       "      <th>7</th>\n",
       "      <td>5598.0</td>\n",
       "      <td>NaN</td>\n",
       "      <td>NaN</td>\n",
       "      <td>NaN</td>\n",
       "      <td>NaN</td>\n",
       "    </tr>\n",
       "    <tr>\n",
       "      <th>46</th>\n",
       "      <td>NaN</td>\n",
       "      <td>NaN</td>\n",
       "      <td>NaN</td>\n",
       "      <td>NaN</td>\n",
       "      <td>5598.0</td>\n",
       "    </tr>\n",
       "  </tbody>\n",
       "</table>\n",
       "</div>"
      ],
      "text/plain": [
       "    Department Id  Market  Late Delivery Risk  Customer Segment  \\\n",
       "0             NaN     NaN              2352.0            2889.0   \n",
       "1             NaN     NaN              3246.0             962.0   \n",
       "2             NaN  5598.0                 NaN            1747.0   \n",
       "7          5598.0     NaN                 NaN               NaN   \n",
       "46            NaN     NaN                 NaN               NaN   \n",
       "\n",
       "    Product Category Id  \n",
       "0                   NaN  \n",
       "1                   NaN  \n",
       "2                   NaN  \n",
       "7                   NaN  \n",
       "46               5598.0  "
      ]
     },
     "execution_count": 206,
     "metadata": {},
     "output_type": "execute_result"
    }
   ],
   "source": [
    "order_test_df.apply(pd.Series.value_counts)"
   ]
  },
  {
   "cell_type": "markdown",
   "id": "463508b4",
   "metadata": {},
   "source": [
    "### Drop everything else "
   ]
  },
  {
   "cell_type": "code",
   "execution_count": 208,
   "id": "5faf0892",
   "metadata": {
    "ExecuteTime": {
     "end_time": "2022-03-11T15:58:15.733158Z",
     "start_time": "2022-03-11T15:58:15.712160Z"
    }
   },
   "outputs": [
    {
     "data": {
      "text/html": [
       "<div>\n",
       "<style scoped>\n",
       "    .dataframe tbody tr th:only-of-type {\n",
       "        vertical-align: middle;\n",
       "    }\n",
       "\n",
       "    .dataframe tbody tr th {\n",
       "        vertical-align: top;\n",
       "    }\n",
       "\n",
       "    .dataframe thead th {\n",
       "        text-align: right;\n",
       "    }\n",
       "</style>\n",
       "<table border=\"1\" class=\"dataframe\">\n",
       "  <thead>\n",
       "    <tr style=\"text-align: right;\">\n",
       "      <th></th>\n",
       "      <th>Late Delivery Risk</th>\n",
       "      <th>Customer Segment</th>\n",
       "    </tr>\n",
       "  </thead>\n",
       "  <tbody>\n",
       "    <tr>\n",
       "      <th>58778</th>\n",
       "      <td>1</td>\n",
       "      <td>1</td>\n",
       "    </tr>\n",
       "    <tr>\n",
       "      <th>58782</th>\n",
       "      <td>1</td>\n",
       "      <td>1</td>\n",
       "    </tr>\n",
       "    <tr>\n",
       "      <th>58794</th>\n",
       "      <td>0</td>\n",
       "      <td>1</td>\n",
       "    </tr>\n",
       "    <tr>\n",
       "      <th>58796</th>\n",
       "      <td>1</td>\n",
       "      <td>1</td>\n",
       "    </tr>\n",
       "    <tr>\n",
       "      <th>58797</th>\n",
       "      <td>1</td>\n",
       "      <td>1</td>\n",
       "    </tr>\n",
       "    <tr>\n",
       "      <th>...</th>\n",
       "      <td>...</td>\n",
       "      <td>...</td>\n",
       "    </tr>\n",
       "    <tr>\n",
       "      <th>77235</th>\n",
       "      <td>0</td>\n",
       "      <td>1</td>\n",
       "    </tr>\n",
       "    <tr>\n",
       "      <th>77236</th>\n",
       "      <td>0</td>\n",
       "      <td>1</td>\n",
       "    </tr>\n",
       "    <tr>\n",
       "      <th>77237</th>\n",
       "      <td>0</td>\n",
       "      <td>0</td>\n",
       "    </tr>\n",
       "    <tr>\n",
       "      <th>77238</th>\n",
       "      <td>0</td>\n",
       "      <td>0</td>\n",
       "    </tr>\n",
       "    <tr>\n",
       "      <th>77239</th>\n",
       "      <td>0</td>\n",
       "      <td>0</td>\n",
       "    </tr>\n",
       "  </tbody>\n",
       "</table>\n",
       "<p>5598 rows × 2 columns</p>\n",
       "</div>"
      ],
      "text/plain": [
       "       Late Delivery Risk  Customer Segment\n",
       "58778                   1                 1\n",
       "58782                   1                 1\n",
       "58794                   0                 1\n",
       "58796                   1                 1\n",
       "58797                   1                 1\n",
       "...                   ...               ...\n",
       "77235                   0                 1\n",
       "77236                   0                 1\n",
       "77237                   0                 0\n",
       "77238                   0                 0\n",
       "77239                   0                 0\n",
       "\n",
       "[5598 rows x 2 columns]"
      ]
     },
     "execution_count": 208,
     "metadata": {},
     "output_type": "execute_result"
    }
   ],
   "source": [
    "order_test_df.drop(labels=[\"Department Id\",\"Market\",\"Product Category Id\"], axis=1,inplace=True)\n",
    "order_test_df"
   ]
  },
  {
   "cell_type": "code",
   "execution_count": 211,
   "id": "43bf7e7e",
   "metadata": {
    "ExecuteTime": {
     "end_time": "2022-03-11T15:58:34.559920Z",
     "start_time": "2022-03-11T15:58:34.549933Z"
    }
   },
   "outputs": [
    {
     "data": {
      "text/plain": [
       "Late Delivery Risk  Customer Segment\n",
       "1                   0                   1681\n",
       "0                   0                   1208\n",
       "1                   2                   1003\n",
       "0                   2                    744\n",
       "1                   1                    562\n",
       "0                   1                    400\n",
       "dtype: int64"
      ]
     },
     "execution_count": 211,
     "metadata": {},
     "output_type": "execute_result"
    }
   ],
   "source": [
    "order_test_df.value_counts()"
   ]
  },
  {
   "cell_type": "markdown",
   "id": "a20baee1",
   "metadata": {},
   "source": [
    "# Get delay percentage by region"
   ]
  },
  {
   "cell_type": "code",
   "execution_count": 219,
   "id": "2dc85ded",
   "metadata": {
    "ExecuteTime": {
     "end_time": "2022-03-11T16:06:19.114886Z",
     "start_time": "2022-03-11T16:06:19.096900Z"
    }
   },
   "outputs": [
    {
     "data": {
      "text/plain": [
       "Market  Late Delivery Risk\n",
       "2       1                     28044\n",
       "4       1                     27743\n",
       "0       1                     22712\n",
       "2       0                     21265\n",
       "4       0                     20347\n",
       "0       0                     16873\n",
       "3       1                     14138\n",
       "        0                     10489\n",
       "1       1                      6340\n",
       "        0                      4814\n",
       "dtype: int64"
      ]
     },
     "execution_count": 219,
     "metadata": {},
     "output_type": "execute_result"
    }
   ],
   "source": [
    "markets_deliveries = orders_df.filter([\"Market\", \"Late Delivery Risk\"])\n",
    "markets_deliveries.value_counts()"
   ]
  },
  {
   "cell_type": "code",
   "execution_count": 224,
   "id": "f2d5155f",
   "metadata": {
    "ExecuteTime": {
     "end_time": "2022-03-11T16:07:03.645041Z",
     "start_time": "2022-03-11T16:07:03.628054Z"
    }
   },
   "outputs": [
    {
     "data": {
      "text/plain": [
       "1    0.5729\n",
       "0    0.4271\n",
       "Name: Late Delivery Risk, dtype: float64"
      ]
     },
     "execution_count": 224,
     "metadata": {},
     "output_type": "execute_result"
    }
   ],
   "source": [
    "orders_df[\"Late Delivery Risk\"].value_counts(normalize=True)"
   ]
  },
  {
   "cell_type": "code",
   "execution_count": null,
   "id": "7946868a",
   "metadata": {},
   "outputs": [],
   "source": []
  },
  {
   "cell_type": "code",
   "execution_count": null,
   "id": "a09ee87b",
   "metadata": {},
   "outputs": [],
   "source": []
  },
  {
   "cell_type": "code",
   "execution_count": null,
   "id": "bc06c53f",
   "metadata": {},
   "outputs": [],
   "source": []
  },
  {
   "cell_type": "code",
   "execution_count": null,
   "id": "34547c70",
   "metadata": {},
   "outputs": [],
   "source": []
  }
 ],
 "metadata": {
  "kernelspec": {
   "display_name": "Python 3 (ipykernel)",
   "language": "python",
   "name": "python3"
  },
  "language_info": {
   "codemirror_mode": {
    "name": "ipython",
    "version": 3
   },
   "file_extension": ".py",
   "mimetype": "text/x-python",
   "name": "python",
   "nbconvert_exporter": "python",
   "pygments_lexer": "ipython3",
   "version": "3.8.12"
  }
 },
 "nbformat": 4,
 "nbformat_minor": 5
}
