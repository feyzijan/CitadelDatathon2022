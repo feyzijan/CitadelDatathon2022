{
 "cells": [
  {
   "cell_type": "markdown",
   "id": "a800310e",
   "metadata": {},
   "source": [
    "Imports"
   ]
  },
  {
   "cell_type": "code",
   "execution_count": 117,
   "id": "0610a947",
   "metadata": {
    "ExecuteTime": {
     "end_time": "2022-03-13T21:16:00.874271Z",
     "start_time": "2022-03-13T21:16:00.866282Z"
    }
   },
   "outputs": [],
   "source": [
    "import pandas as pd\n",
    "import numpy as np\n",
    "import matplotlib.pyplot as plt\n",
    "import seaborn as sns"
   ]
  },
  {
   "cell_type": "markdown",
   "id": "de990f9e",
   "metadata": {},
   "source": [
    "### Objective:\n",
    "- Go through each dataset and make necessary adjustments to make the data more usable\n",
    "\n"
   ]
  },
  {
   "cell_type": "markdown",
   "id": "8f06bb3f",
   "metadata": {},
   "source": [
    "##### Import datasets"
   ]
  },
  {
   "cell_type": "code",
   "execution_count": 118,
   "id": "96ccf8e8",
   "metadata": {
    "ExecuteTime": {
     "end_time": "2022-03-13T21:16:01.866531Z",
     "start_time": "2022-03-13T21:16:01.438015Z"
    }
   },
   "outputs": [],
   "source": [
    "products_df = pd.read_csv(\"BigSupplyCo_Data_Files\\BigSupplyCo_Products.csv\")\n",
    "categories_df = pd.read_csv(\"BigSupplyCo_Data_Files/BigSupplyCo_Categories.csv\")\n",
    "customers_df = pd.read_csv(\"BigSupplyCo_Data_Files/BigSupplyCo_Customers.csv\")\n",
    "departments_df = pd.read_csv(\"BigSupplyCo_Data_Files/BigSupplyCo_Departments_Cleaned.csv\")\n",
    "orders_df = pd.read_csv(\"BigSupplyCo_Data_Files/BigSupplyCo_Orders.csv\")"
   ]
  },
  {
   "cell_type": "markdown",
   "id": "bc703c3e",
   "metadata": {},
   "source": [
    "## 1. Inspect all datasets"
   ]
  },
  {
   "cell_type": "code",
   "execution_count": 119,
   "id": "8075620e",
   "metadata": {
    "ExecuteTime": {
     "end_time": "2022-03-13T21:16:01.882531Z",
     "start_time": "2022-03-13T21:16:01.868535Z"
    }
   },
   "outputs": [
    {
     "data": {
      "text/html": [
       "<div>\n",
       "<style scoped>\n",
       "    .dataframe tbody tr th:only-of-type {\n",
       "        vertical-align: middle;\n",
       "    }\n",
       "\n",
       "    .dataframe tbody tr th {\n",
       "        vertical-align: top;\n",
       "    }\n",
       "\n",
       "    .dataframe thead th {\n",
       "        text-align: right;\n",
       "    }\n",
       "</style>\n",
       "<table border=\"1\" class=\"dataframe\">\n",
       "  <thead>\n",
       "    <tr style=\"text-align: right;\">\n",
       "      <th></th>\n",
       "      <th>Product Card Id</th>\n",
       "      <th>Product Category Id</th>\n",
       "      <th>Product Description</th>\n",
       "      <th>Product Image</th>\n",
       "      <th>Product Name</th>\n",
       "      <th>Product Price</th>\n",
       "      <th>Product Status</th>\n",
       "    </tr>\n",
       "  </thead>\n",
       "  <tbody>\n",
       "    <tr>\n",
       "      <th>0</th>\n",
       "      <td>1360</td>\n",
       "      <td>73</td>\n",
       "      <td>NaN</td>\n",
       "      <td>http://images.acmesports.sports/Smart+watch</td>\n",
       "      <td>Smart watch</td>\n",
       "      <td>327.750000</td>\n",
       "      <td>0</td>\n",
       "    </tr>\n",
       "    <tr>\n",
       "      <th>1</th>\n",
       "      <td>365</td>\n",
       "      <td>17</td>\n",
       "      <td>NaN</td>\n",
       "      <td>http://images.acmesports.sports/Perfect+Fitnes...</td>\n",
       "      <td>Perfect Fitness Perfect Rip Deck</td>\n",
       "      <td>59.990002</td>\n",
       "      <td>0</td>\n",
       "    </tr>\n",
       "    <tr>\n",
       "      <th>2</th>\n",
       "      <td>627</td>\n",
       "      <td>29</td>\n",
       "      <td>NaN</td>\n",
       "      <td>http://images.acmesports.sports/Under+Armour+G...</td>\n",
       "      <td>Under Armour Girls' Toddler Spine Surge Runni</td>\n",
       "      <td>39.990002</td>\n",
       "      <td>0</td>\n",
       "    </tr>\n",
       "  </tbody>\n",
       "</table>\n",
       "</div>"
      ],
      "text/plain": [
       "   Product Card Id  Product Category Id  Product Description  \\\n",
       "0             1360                   73                  NaN   \n",
       "1              365                   17                  NaN   \n",
       "2              627                   29                  NaN   \n",
       "\n",
       "                                       Product Image  \\\n",
       "0       http://images.acmesports.sports/Smart+watch    \n",
       "1  http://images.acmesports.sports/Perfect+Fitnes...   \n",
       "2  http://images.acmesports.sports/Under+Armour+G...   \n",
       "\n",
       "                                    Product Name  Product Price  \\\n",
       "0                                   Smart watch      327.750000   \n",
       "1               Perfect Fitness Perfect Rip Deck      59.990002   \n",
       "2  Under Armour Girls' Toddler Spine Surge Runni      39.990002   \n",
       "\n",
       "   Product Status  \n",
       "0               0  \n",
       "1               0  \n",
       "2               0  "
      ]
     },
     "execution_count": 119,
     "metadata": {},
     "output_type": "execute_result"
    }
   ],
   "source": [
    "pd.options.display.max_columns = None\n",
    "products_df.head(3)"
   ]
  },
  {
   "cell_type": "code",
   "execution_count": 120,
   "id": "b2009a83",
   "metadata": {
    "ExecuteTime": {
     "end_time": "2022-03-13T21:16:01.898531Z",
     "start_time": "2022-03-13T21:16:01.883532Z"
    }
   },
   "outputs": [
    {
     "data": {
      "text/html": [
       "<div>\n",
       "<style scoped>\n",
       "    .dataframe tbody tr th:only-of-type {\n",
       "        vertical-align: middle;\n",
       "    }\n",
       "\n",
       "    .dataframe tbody tr th {\n",
       "        vertical-align: top;\n",
       "    }\n",
       "\n",
       "    .dataframe thead th {\n",
       "        text-align: right;\n",
       "    }\n",
       "</style>\n",
       "<table border=\"1\" class=\"dataframe\">\n",
       "  <thead>\n",
       "    <tr style=\"text-align: right;\">\n",
       "      <th></th>\n",
       "      <th>Category Id</th>\n",
       "      <th>Category Name</th>\n",
       "    </tr>\n",
       "  </thead>\n",
       "  <tbody>\n",
       "    <tr>\n",
       "      <th>0</th>\n",
       "      <td>73</td>\n",
       "      <td>Sporting Goods</td>\n",
       "    </tr>\n",
       "    <tr>\n",
       "      <th>1</th>\n",
       "      <td>17</td>\n",
       "      <td>Cleats</td>\n",
       "    </tr>\n",
       "    <tr>\n",
       "      <th>2</th>\n",
       "      <td>29</td>\n",
       "      <td>Shop By Sport</td>\n",
       "    </tr>\n",
       "    <tr>\n",
       "      <th>3</th>\n",
       "      <td>24</td>\n",
       "      <td>Women's Apparel</td>\n",
       "    </tr>\n",
       "    <tr>\n",
       "      <th>4</th>\n",
       "      <td>13</td>\n",
       "      <td>Electronics</td>\n",
       "    </tr>\n",
       "  </tbody>\n",
       "</table>\n",
       "</div>"
      ],
      "text/plain": [
       "   Category Id    Category Name\n",
       "0           73   Sporting Goods\n",
       "1           17           Cleats\n",
       "2           29    Shop By Sport\n",
       "3           24  Women's Apparel\n",
       "4           13      Electronics"
      ]
     },
     "execution_count": 120,
     "metadata": {},
     "output_type": "execute_result"
    }
   ],
   "source": [
    "categories_df.head()"
   ]
  },
  {
   "cell_type": "code",
   "execution_count": 121,
   "id": "a1aee20f",
   "metadata": {
    "ExecuteTime": {
     "end_time": "2022-03-13T21:16:01.914531Z",
     "start_time": "2022-03-13T21:16:01.900533Z"
    }
   },
   "outputs": [
    {
     "data": {
      "text/html": [
       "<div>\n",
       "<style scoped>\n",
       "    .dataframe tbody tr th:only-of-type {\n",
       "        vertical-align: middle;\n",
       "    }\n",
       "\n",
       "    .dataframe tbody tr th {\n",
       "        vertical-align: top;\n",
       "    }\n",
       "\n",
       "    .dataframe thead th {\n",
       "        text-align: right;\n",
       "    }\n",
       "</style>\n",
       "<table border=\"1\" class=\"dataframe\">\n",
       "  <thead>\n",
       "    <tr style=\"text-align: right;\">\n",
       "      <th></th>\n",
       "      <th>Customer Id</th>\n",
       "      <th>Customer City</th>\n",
       "      <th>Customer Country</th>\n",
       "      <th>Customer Email</th>\n",
       "      <th>Customer Fname</th>\n",
       "      <th>Customer Lname</th>\n",
       "      <th>Customer Password</th>\n",
       "      <th>Customer Segment</th>\n",
       "      <th>Customer State</th>\n",
       "      <th>Customer Street</th>\n",
       "      <th>Customer Zipcode</th>\n",
       "    </tr>\n",
       "  </thead>\n",
       "  <tbody>\n",
       "    <tr>\n",
       "      <th>0</th>\n",
       "      <td>20755</td>\n",
       "      <td>Caguas</td>\n",
       "      <td>Puerto Rico</td>\n",
       "      <td>XXXXXXXXX</td>\n",
       "      <td>Cally</td>\n",
       "      <td>Holloway</td>\n",
       "      <td>XXXXXXXXX</td>\n",
       "      <td>Consumer</td>\n",
       "      <td>PR</td>\n",
       "      <td>5365 Noble Nectar Island</td>\n",
       "      <td>725.0</td>\n",
       "    </tr>\n",
       "    <tr>\n",
       "      <th>1</th>\n",
       "      <td>19492</td>\n",
       "      <td>Caguas</td>\n",
       "      <td>Puerto Rico</td>\n",
       "      <td>XXXXXXXXX</td>\n",
       "      <td>Irene</td>\n",
       "      <td>Luna</td>\n",
       "      <td>XXXXXXXXX</td>\n",
       "      <td>Consumer</td>\n",
       "      <td>PR</td>\n",
       "      <td>2679 Rustic Loop</td>\n",
       "      <td>725.0</td>\n",
       "    </tr>\n",
       "    <tr>\n",
       "      <th>2</th>\n",
       "      <td>19491</td>\n",
       "      <td>San Jose</td>\n",
       "      <td>EE. UU.</td>\n",
       "      <td>XXXXXXXXX</td>\n",
       "      <td>Gillian</td>\n",
       "      <td>Maldonado</td>\n",
       "      <td>XXXXXXXXX</td>\n",
       "      <td>Consumer</td>\n",
       "      <td>CA</td>\n",
       "      <td>8510 Round Bear Gate</td>\n",
       "      <td>95125.0</td>\n",
       "    </tr>\n",
       "    <tr>\n",
       "      <th>3</th>\n",
       "      <td>19490</td>\n",
       "      <td>Los Angeles</td>\n",
       "      <td>EE. UU.</td>\n",
       "      <td>XXXXXXXXX</td>\n",
       "      <td>Tana</td>\n",
       "      <td>Tate</td>\n",
       "      <td>XXXXXXXXX</td>\n",
       "      <td>Home Office</td>\n",
       "      <td>CA</td>\n",
       "      <td>3200 Amber Bend</td>\n",
       "      <td>90027.0</td>\n",
       "    </tr>\n",
       "    <tr>\n",
       "      <th>4</th>\n",
       "      <td>19489</td>\n",
       "      <td>Caguas</td>\n",
       "      <td>Puerto Rico</td>\n",
       "      <td>XXXXXXXXX</td>\n",
       "      <td>Orli</td>\n",
       "      <td>Hendricks</td>\n",
       "      <td>XXXXXXXXX</td>\n",
       "      <td>Corporate</td>\n",
       "      <td>PR</td>\n",
       "      <td>8671 Iron Anchor Corners</td>\n",
       "      <td>725.0</td>\n",
       "    </tr>\n",
       "  </tbody>\n",
       "</table>\n",
       "</div>"
      ],
      "text/plain": [
       "   Customer Id Customer City Customer Country Customer Email Customer Fname  \\\n",
       "0        20755        Caguas      Puerto Rico      XXXXXXXXX          Cally   \n",
       "1        19492        Caguas      Puerto Rico      XXXXXXXXX          Irene   \n",
       "2        19491      San Jose          EE. UU.      XXXXXXXXX        Gillian   \n",
       "3        19490   Los Angeles          EE. UU.      XXXXXXXXX           Tana   \n",
       "4        19489        Caguas      Puerto Rico      XXXXXXXXX           Orli   \n",
       "\n",
       "  Customer Lname Customer Password Customer Segment Customer State  \\\n",
       "0       Holloway         XXXXXXXXX         Consumer             PR   \n",
       "1           Luna         XXXXXXXXX         Consumer             PR   \n",
       "2      Maldonado         XXXXXXXXX         Consumer             CA   \n",
       "3           Tate         XXXXXXXXX      Home Office             CA   \n",
       "4      Hendricks         XXXXXXXXX        Corporate             PR   \n",
       "\n",
       "            Customer Street  Customer Zipcode  \n",
       "0  5365 Noble Nectar Island             725.0  \n",
       "1          2679 Rustic Loop             725.0  \n",
       "2      8510 Round Bear Gate           95125.0  \n",
       "3           3200 Amber Bend           90027.0  \n",
       "4  8671 Iron Anchor Corners             725.0  "
      ]
     },
     "execution_count": 121,
     "metadata": {},
     "output_type": "execute_result"
    }
   ],
   "source": [
    "customers_df.head()"
   ]
  },
  {
   "cell_type": "code",
   "execution_count": 122,
   "id": "b62f3c36",
   "metadata": {
    "ExecuteTime": {
     "end_time": "2022-03-13T21:16:01.929531Z",
     "start_time": "2022-03-13T21:16:01.915532Z"
    }
   },
   "outputs": [
    {
     "data": {
      "text/html": [
       "<div>\n",
       "<style scoped>\n",
       "    .dataframe tbody tr th:only-of-type {\n",
       "        vertical-align: middle;\n",
       "    }\n",
       "\n",
       "    .dataframe tbody tr th {\n",
       "        vertical-align: top;\n",
       "    }\n",
       "\n",
       "    .dataframe thead th {\n",
       "        text-align: right;\n",
       "    }\n",
       "</style>\n",
       "<table border=\"1\" class=\"dataframe\">\n",
       "  <thead>\n",
       "    <tr style=\"text-align: right;\">\n",
       "      <th></th>\n",
       "      <th>Department Id</th>\n",
       "      <th>Department Name</th>\n",
       "      <th>Latitude</th>\n",
       "      <th>Longitude</th>\n",
       "    </tr>\n",
       "  </thead>\n",
       "  <tbody>\n",
       "    <tr>\n",
       "      <th>0</th>\n",
       "      <td>2</td>\n",
       "      <td>Fitness</td>\n",
       "      <td>18.251453</td>\n",
       "      <td>-66.037056</td>\n",
       "    </tr>\n",
       "    <tr>\n",
       "      <th>1</th>\n",
       "      <td>3</td>\n",
       "      <td>Footwear</td>\n",
       "      <td>18.234663</td>\n",
       "      <td>-66.370598</td>\n",
       "    </tr>\n",
       "    <tr>\n",
       "      <th>2</th>\n",
       "      <td>4</td>\n",
       "      <td>Apparel</td>\n",
       "      <td>18.380119</td>\n",
       "      <td>-66.183128</td>\n",
       "    </tr>\n",
       "    <tr>\n",
       "      <th>3</th>\n",
       "      <td>5</td>\n",
       "      <td>Golf</td>\n",
       "      <td>18.235573</td>\n",
       "      <td>-66.370613</td>\n",
       "    </tr>\n",
       "    <tr>\n",
       "      <th>4</th>\n",
       "      <td>6</td>\n",
       "      <td>Outdoors</td>\n",
       "      <td>18.261381</td>\n",
       "      <td>-66.370567</td>\n",
       "    </tr>\n",
       "  </tbody>\n",
       "</table>\n",
       "</div>"
      ],
      "text/plain": [
       "   Department Id Department Name   Latitude  Longitude\n",
       "0              2         Fitness  18.251453 -66.037056\n",
       "1              3        Footwear  18.234663 -66.370598\n",
       "2              4         Apparel  18.380119 -66.183128\n",
       "3              5            Golf  18.235573 -66.370613\n",
       "4              6        Outdoors  18.261381 -66.370567"
      ]
     },
     "execution_count": 122,
     "metadata": {},
     "output_type": "execute_result"
    }
   ],
   "source": [
    "departments_df.head()"
   ]
  },
  {
   "cell_type": "code",
   "execution_count": 123,
   "id": "7f54c3ba",
   "metadata": {
    "ExecuteTime": {
     "end_time": "2022-03-13T21:16:01.945531Z",
     "start_time": "2022-03-13T21:16:01.930533Z"
    }
   },
   "outputs": [
    {
     "data": {
      "text/html": [
       "<div>\n",
       "<style scoped>\n",
       "    .dataframe tbody tr th:only-of-type {\n",
       "        vertical-align: middle;\n",
       "    }\n",
       "\n",
       "    .dataframe tbody tr th {\n",
       "        vertical-align: top;\n",
       "    }\n",
       "\n",
       "    .dataframe thead th {\n",
       "        text-align: right;\n",
       "    }\n",
       "</style>\n",
       "<table border=\"1\" class=\"dataframe\">\n",
       "  <thead>\n",
       "    <tr style=\"text-align: right;\">\n",
       "      <th></th>\n",
       "      <th>Unnamed: 0</th>\n",
       "      <th>Order Id</th>\n",
       "      <th>Order Item Cardprod Id</th>\n",
       "      <th>Order Customer Id</th>\n",
       "      <th>Order Department Id</th>\n",
       "      <th>Market</th>\n",
       "      <th>Order City</th>\n",
       "      <th>Order Country</th>\n",
       "      <th>Order Region</th>\n",
       "      <th>Order State</th>\n",
       "      <th>Order Status</th>\n",
       "      <th>Order Zipcode</th>\n",
       "      <th>order date (DateOrders)</th>\n",
       "      <th>Order Item Discount</th>\n",
       "      <th>Order Item Discount Rate</th>\n",
       "      <th>Order Item Id</th>\n",
       "      <th>Order Item Quantity</th>\n",
       "      <th>Sales</th>\n",
       "      <th>Order Item Total</th>\n",
       "      <th>Order Profit</th>\n",
       "      <th>Type</th>\n",
       "      <th>Days for shipping (real)</th>\n",
       "      <th>Days for shipment (scheduled)</th>\n",
       "      <th>Delivery Status</th>\n",
       "      <th>Late Delivery Risk</th>\n",
       "    </tr>\n",
       "  </thead>\n",
       "  <tbody>\n",
       "    <tr>\n",
       "      <th>0</th>\n",
       "      <td>0</td>\n",
       "      <td>77202</td>\n",
       "      <td>1360</td>\n",
       "      <td>20755</td>\n",
       "      <td>2</td>\n",
       "      <td>Pacific Asia</td>\n",
       "      <td>Bekasi</td>\n",
       "      <td>Indonesia</td>\n",
       "      <td>Southeast Asia</td>\n",
       "      <td>Java Occidental</td>\n",
       "      <td>COMPLETE</td>\n",
       "      <td>NaN</td>\n",
       "      <td>1/31/2018 22:56</td>\n",
       "      <td>13.110000</td>\n",
       "      <td>0.04</td>\n",
       "      <td>180517</td>\n",
       "      <td>1</td>\n",
       "      <td>327.75</td>\n",
       "      <td>314.640015</td>\n",
       "      <td>91.250000</td>\n",
       "      <td>DEBIT</td>\n",
       "      <td>3</td>\n",
       "      <td>4</td>\n",
       "      <td>Advance shipping</td>\n",
       "      <td>0</td>\n",
       "    </tr>\n",
       "    <tr>\n",
       "      <th>1</th>\n",
       "      <td>1</td>\n",
       "      <td>75939</td>\n",
       "      <td>1360</td>\n",
       "      <td>19492</td>\n",
       "      <td>2</td>\n",
       "      <td>Pacific Asia</td>\n",
       "      <td>Bikaner</td>\n",
       "      <td>India</td>\n",
       "      <td>South Asia</td>\n",
       "      <td>Rajastán</td>\n",
       "      <td>PENDING</td>\n",
       "      <td>NaN</td>\n",
       "      <td>1/13/2018 12:27</td>\n",
       "      <td>16.389999</td>\n",
       "      <td>0.05</td>\n",
       "      <td>179254</td>\n",
       "      <td>1</td>\n",
       "      <td>327.75</td>\n",
       "      <td>311.359985</td>\n",
       "      <td>-249.089996</td>\n",
       "      <td>TRANSFER</td>\n",
       "      <td>5</td>\n",
       "      <td>4</td>\n",
       "      <td>Late delivery</td>\n",
       "      <td>1</td>\n",
       "    </tr>\n",
       "    <tr>\n",
       "      <th>2</th>\n",
       "      <td>2</td>\n",
       "      <td>75938</td>\n",
       "      <td>1360</td>\n",
       "      <td>19491</td>\n",
       "      <td>2</td>\n",
       "      <td>Pacific Asia</td>\n",
       "      <td>Bikaner</td>\n",
       "      <td>India</td>\n",
       "      <td>South Asia</td>\n",
       "      <td>Rajastán</td>\n",
       "      <td>CLOSED</td>\n",
       "      <td>NaN</td>\n",
       "      <td>1/13/2018 12:06</td>\n",
       "      <td>18.030001</td>\n",
       "      <td>0.06</td>\n",
       "      <td>179253</td>\n",
       "      <td>1</td>\n",
       "      <td>327.75</td>\n",
       "      <td>309.720001</td>\n",
       "      <td>-247.779999</td>\n",
       "      <td>CASH</td>\n",
       "      <td>4</td>\n",
       "      <td>4</td>\n",
       "      <td>Shipping on time</td>\n",
       "      <td>0</td>\n",
       "    </tr>\n",
       "    <tr>\n",
       "      <th>3</th>\n",
       "      <td>3</td>\n",
       "      <td>75937</td>\n",
       "      <td>1360</td>\n",
       "      <td>19490</td>\n",
       "      <td>2</td>\n",
       "      <td>Pacific Asia</td>\n",
       "      <td>Townsville</td>\n",
       "      <td>Australia</td>\n",
       "      <td>Oceania</td>\n",
       "      <td>Queensland</td>\n",
       "      <td>COMPLETE</td>\n",
       "      <td>NaN</td>\n",
       "      <td>1/13/2018 11:45</td>\n",
       "      <td>22.940001</td>\n",
       "      <td>0.07</td>\n",
       "      <td>179252</td>\n",
       "      <td>1</td>\n",
       "      <td>327.75</td>\n",
       "      <td>304.809998</td>\n",
       "      <td>22.860001</td>\n",
       "      <td>DEBIT</td>\n",
       "      <td>3</td>\n",
       "      <td>4</td>\n",
       "      <td>Advance shipping</td>\n",
       "      <td>0</td>\n",
       "    </tr>\n",
       "    <tr>\n",
       "      <th>4</th>\n",
       "      <td>4</td>\n",
       "      <td>75936</td>\n",
       "      <td>1360</td>\n",
       "      <td>19489</td>\n",
       "      <td>2</td>\n",
       "      <td>Pacific Asia</td>\n",
       "      <td>Townsville</td>\n",
       "      <td>Australia</td>\n",
       "      <td>Oceania</td>\n",
       "      <td>Queensland</td>\n",
       "      <td>PENDING_PAYMENT</td>\n",
       "      <td>NaN</td>\n",
       "      <td>1/13/2018 11:24</td>\n",
       "      <td>29.500000</td>\n",
       "      <td>0.09</td>\n",
       "      <td>179251</td>\n",
       "      <td>1</td>\n",
       "      <td>327.75</td>\n",
       "      <td>298.250000</td>\n",
       "      <td>134.210007</td>\n",
       "      <td>PAYMENT</td>\n",
       "      <td>2</td>\n",
       "      <td>4</td>\n",
       "      <td>Advance shipping</td>\n",
       "      <td>0</td>\n",
       "    </tr>\n",
       "  </tbody>\n",
       "</table>\n",
       "</div>"
      ],
      "text/plain": [
       "   Unnamed: 0  Order Id  Order Item Cardprod Id  Order Customer Id  \\\n",
       "0           0     77202                    1360              20755   \n",
       "1           1     75939                    1360              19492   \n",
       "2           2     75938                    1360              19491   \n",
       "3           3     75937                    1360              19490   \n",
       "4           4     75936                    1360              19489   \n",
       "\n",
       "   Order Department Id        Market  Order City Order Country  \\\n",
       "0                    2  Pacific Asia      Bekasi     Indonesia   \n",
       "1                    2  Pacific Asia     Bikaner         India   \n",
       "2                    2  Pacific Asia     Bikaner         India   \n",
       "3                    2  Pacific Asia  Townsville     Australia   \n",
       "4                    2  Pacific Asia  Townsville     Australia   \n",
       "\n",
       "     Order Region      Order State     Order Status  Order Zipcode  \\\n",
       "0  Southeast Asia  Java Occidental         COMPLETE            NaN   \n",
       "1      South Asia         Rajastán          PENDING            NaN   \n",
       "2      South Asia         Rajastán           CLOSED            NaN   \n",
       "3         Oceania       Queensland         COMPLETE            NaN   \n",
       "4         Oceania       Queensland  PENDING_PAYMENT            NaN   \n",
       "\n",
       "  order date (DateOrders)  Order Item Discount  Order Item Discount Rate  \\\n",
       "0         1/31/2018 22:56            13.110000                      0.04   \n",
       "1         1/13/2018 12:27            16.389999                      0.05   \n",
       "2         1/13/2018 12:06            18.030001                      0.06   \n",
       "3         1/13/2018 11:45            22.940001                      0.07   \n",
       "4         1/13/2018 11:24            29.500000                      0.09   \n",
       "\n",
       "   Order Item Id  Order Item Quantity   Sales  Order Item Total  Order Profit  \\\n",
       "0         180517                    1  327.75        314.640015     91.250000   \n",
       "1         179254                    1  327.75        311.359985   -249.089996   \n",
       "2         179253                    1  327.75        309.720001   -247.779999   \n",
       "3         179252                    1  327.75        304.809998     22.860001   \n",
       "4         179251                    1  327.75        298.250000    134.210007   \n",
       "\n",
       "       Type  Days for shipping (real)  Days for shipment (scheduled)  \\\n",
       "0     DEBIT                         3                              4   \n",
       "1  TRANSFER                         5                              4   \n",
       "2      CASH                         4                              4   \n",
       "3     DEBIT                         3                              4   \n",
       "4   PAYMENT                         2                              4   \n",
       "\n",
       "    Delivery Status  Late Delivery Risk  \n",
       "0  Advance shipping                   0  \n",
       "1     Late delivery                   1  \n",
       "2  Shipping on time                   0  \n",
       "3  Advance shipping                   0  \n",
       "4  Advance shipping                   0  "
      ]
     },
     "execution_count": 123,
     "metadata": {},
     "output_type": "execute_result"
    }
   ],
   "source": [
    "orders_df.head()"
   ]
  },
  {
   "cell_type": "markdown",
   "id": "f0ff326a",
   "metadata": {},
   "source": [
    "## 2. Start making adjustments"
   ]
  },
  {
   "cell_type": "markdown",
   "id": "a2dfff49",
   "metadata": {},
   "source": [
    "### A) Customer Dataset"
   ]
  },
  {
   "cell_type": "markdown",
   "id": "6f1a631f",
   "metadata": {},
   "source": [
    "- Drop personal information\n",
    "- Replace the Country label EE.UU. with USA\n",
    "- Set index to customer id"
   ]
  },
  {
   "cell_type": "code",
   "execution_count": 124,
   "id": "6c69bcba",
   "metadata": {
    "ExecuteTime": {
     "end_time": "2022-03-13T21:16:01.961531Z",
     "start_time": "2022-03-13T21:16:01.946533Z"
    }
   },
   "outputs": [],
   "source": [
    "customers_df.drop(labels=[\"Customer Email\",\"Customer Fname\", \"Customer Lname\", \"Customer Password\"], axis=1, inplace=True)"
   ]
  },
  {
   "cell_type": "code",
   "execution_count": 125,
   "id": "e8c120f2",
   "metadata": {
    "ExecuteTime": {
     "end_time": "2022-03-13T21:16:01.976531Z",
     "start_time": "2022-03-13T21:16:01.962533Z"
    }
   },
   "outputs": [],
   "source": [
    "customers_df[\"Customer Country\"].replace({\"EE. UU.\": \"USA\"},inplace=True)"
   ]
  },
  {
   "cell_type": "code",
   "execution_count": 126,
   "id": "1ba15487",
   "metadata": {
    "ExecuteTime": {
     "end_time": "2022-03-13T21:16:01.991535Z",
     "start_time": "2022-03-13T21:16:01.977532Z"
    }
   },
   "outputs": [],
   "source": [
    "customers_df.set_index(\"Customer Id\",inplace=True)"
   ]
  },
  {
   "cell_type": "markdown",
   "id": "9654657c",
   "metadata": {},
   "source": [
    "## B) Departments Dataset "
   ]
  },
  {
   "cell_type": "markdown",
   "id": "07d89f24",
   "metadata": {},
   "source": [
    "- Reset index"
   ]
  },
  {
   "cell_type": "code",
   "execution_count": 127,
   "id": "81817a18",
   "metadata": {
    "ExecuteTime": {
     "end_time": "2022-03-13T21:16:02.007532Z",
     "start_time": "2022-03-13T21:16:01.993534Z"
    }
   },
   "outputs": [],
   "source": [
    "departments_df.set_index(\"Department Id\",inplace=True)"
   ]
  },
  {
   "cell_type": "markdown",
   "id": "b979b229",
   "metadata": {},
   "source": [
    "## C) Products and Categories dataset "
   ]
  },
  {
   "cell_type": "markdown",
   "id": "845f58c4",
   "metadata": {},
   "source": [
    "- Merge these two together\n",
    "- Drop product status as they're all zero, Image, and description columns as they are unnecessary"
   ]
  },
  {
   "cell_type": "code",
   "execution_count": 128,
   "id": "f43a5a0f",
   "metadata": {
    "ExecuteTime": {
     "end_time": "2022-03-13T21:16:02.069531Z",
     "start_time": "2022-03-13T21:16:02.050532Z"
    }
   },
   "outputs": [],
   "source": [
    "categories_df.rename(columns = {\"Category Id\": \"Product Category Id\"}, inplace=True)\n",
    "products_df = pd.merge(products_df, categories_df, on=\"Product Category Id\")"
   ]
  },
  {
   "cell_type": "code",
   "execution_count": 129,
   "id": "fcd4270a",
   "metadata": {
    "ExecuteTime": {
     "end_time": "2022-03-13T21:16:02.099363Z",
     "start_time": "2022-03-13T21:16:02.084363Z"
    }
   },
   "outputs": [
    {
     "data": {
      "text/html": [
       "<div>\n",
       "<style scoped>\n",
       "    .dataframe tbody tr th:only-of-type {\n",
       "        vertical-align: middle;\n",
       "    }\n",
       "\n",
       "    .dataframe tbody tr th {\n",
       "        vertical-align: top;\n",
       "    }\n",
       "\n",
       "    .dataframe thead th {\n",
       "        text-align: right;\n",
       "    }\n",
       "</style>\n",
       "<table border=\"1\" class=\"dataframe\">\n",
       "  <thead>\n",
       "    <tr style=\"text-align: right;\">\n",
       "      <th></th>\n",
       "      <th>Product Card Id</th>\n",
       "      <th>Product Category Id</th>\n",
       "      <th>Product Description</th>\n",
       "      <th>Product Price</th>\n",
       "      <th>Product Status</th>\n",
       "    </tr>\n",
       "  </thead>\n",
       "  <tbody>\n",
       "    <tr>\n",
       "      <th>count</th>\n",
       "      <td>118.000000</td>\n",
       "      <td>118.000000</td>\n",
       "      <td>0.0</td>\n",
       "      <td>118.000000</td>\n",
       "      <td>118.0</td>\n",
       "    </tr>\n",
       "    <tr>\n",
       "      <th>mean</th>\n",
       "      <td>689.576271</td>\n",
       "      <td>33.449153</td>\n",
       "      <td>NaN</td>\n",
       "      <td>166.412966</td>\n",
       "      <td>0.0</td>\n",
       "    </tr>\n",
       "    <tr>\n",
       "      <th>std</th>\n",
       "      <td>403.120380</td>\n",
       "      <td>19.292883</td>\n",
       "      <td>NaN</td>\n",
       "      <td>262.184328</td>\n",
       "      <td>0.0</td>\n",
       "    </tr>\n",
       "    <tr>\n",
       "      <th>min</th>\n",
       "      <td>19.000000</td>\n",
       "      <td>2.000000</td>\n",
       "      <td>NaN</td>\n",
       "      <td>9.990000</td>\n",
       "      <td>0.0</td>\n",
       "    </tr>\n",
       "    <tr>\n",
       "      <th>25%</th>\n",
       "      <td>303.500000</td>\n",
       "      <td>17.000000</td>\n",
       "      <td>NaN</td>\n",
       "      <td>31.990000</td>\n",
       "      <td>0.0</td>\n",
       "    </tr>\n",
       "    <tr>\n",
       "      <th>50%</th>\n",
       "      <td>729.000000</td>\n",
       "      <td>35.000000</td>\n",
       "      <td>NaN</td>\n",
       "      <td>87.195000</td>\n",
       "      <td>0.0</td>\n",
       "    </tr>\n",
       "    <tr>\n",
       "      <th>75%</th>\n",
       "      <td>905.750000</td>\n",
       "      <td>40.750000</td>\n",
       "      <td>NaN</td>\n",
       "      <td>199.990005</td>\n",
       "      <td>0.0</td>\n",
       "    </tr>\n",
       "    <tr>\n",
       "      <th>max</th>\n",
       "      <td>1363.000000</td>\n",
       "      <td>76.000000</td>\n",
       "      <td>NaN</td>\n",
       "      <td>1999.989990</td>\n",
       "      <td>0.0</td>\n",
       "    </tr>\n",
       "  </tbody>\n",
       "</table>\n",
       "</div>"
      ],
      "text/plain": [
       "       Product Card Id  Product Category Id  Product Description  \\\n",
       "count       118.000000           118.000000                  0.0   \n",
       "mean        689.576271            33.449153                  NaN   \n",
       "std         403.120380            19.292883                  NaN   \n",
       "min          19.000000             2.000000                  NaN   \n",
       "25%         303.500000            17.000000                  NaN   \n",
       "50%         729.000000            35.000000                  NaN   \n",
       "75%         905.750000            40.750000                  NaN   \n",
       "max        1363.000000            76.000000                  NaN   \n",
       "\n",
       "       Product Price  Product Status  \n",
       "count     118.000000           118.0  \n",
       "mean      166.412966             0.0  \n",
       "std       262.184328             0.0  \n",
       "min         9.990000             0.0  \n",
       "25%        31.990000             0.0  \n",
       "50%        87.195000             0.0  \n",
       "75%       199.990005             0.0  \n",
       "max      1999.989990             0.0  "
      ]
     },
     "execution_count": 129,
     "metadata": {},
     "output_type": "execute_result"
    }
   ],
   "source": [
    "products_df.describe()"
   ]
  },
  {
   "cell_type": "code",
   "execution_count": 130,
   "id": "3a1d5138",
   "metadata": {
    "ExecuteTime": {
     "end_time": "2022-03-13T21:16:02.130363Z",
     "start_time": "2022-03-13T21:16:02.124364Z"
    }
   },
   "outputs": [],
   "source": [
    "products_df.drop(labels=[\"Product Description\", \"Product Image\",\"Product Status\"], axis = 1, inplace=True)"
   ]
  },
  {
   "cell_type": "markdown",
   "id": "0c28b0a8",
   "metadata": {},
   "source": [
    "## D) Orders Dataset "
   ]
  },
  {
   "cell_type": "markdown",
   "id": "56ce8526",
   "metadata": {},
   "source": [
    "- Reset index, remove unnamed column"
   ]
  },
  {
   "cell_type": "code",
   "execution_count": 131,
   "id": "c7227fa4",
   "metadata": {
    "ExecuteTime": {
     "end_time": "2022-03-13T21:16:02.330363Z",
     "start_time": "2022-03-13T21:16:02.315363Z"
    }
   },
   "outputs": [],
   "source": [
    "orders_df.set_index(\"Order Id\", inplace=True)"
   ]
  },
  {
   "cell_type": "code",
   "execution_count": 132,
   "id": "e4a84368",
   "metadata": {
    "ExecuteTime": {
     "end_time": "2022-03-13T21:16:02.878956Z",
     "start_time": "2022-03-13T21:16:02.835955Z"
    }
   },
   "outputs": [],
   "source": [
    "orders_df.drop(labels=[\"Unnamed: 0\"], axis=1, inplace=True)"
   ]
  },
  {
   "cell_type": "markdown",
   "id": "6b185d09",
   "metadata": {},
   "source": [
    "## E) Minor adjustments to datasets"
   ]
  },
  {
   "cell_type": "markdown",
   "id": "c53ca204",
   "metadata": {
    "ExecuteTime": {
     "end_time": "2022-03-11T21:47:28.715985Z",
     "start_time": "2022-03-11T21:47:28.710112Z"
    }
   },
   "source": [
    "- Harmonise some column names for easy merging"
   ]
  },
  {
   "cell_type": "code",
   "execution_count": 133,
   "id": "28dd2972",
   "metadata": {
    "ExecuteTime": {
     "end_time": "2022-03-13T21:16:02.942955Z",
     "start_time": "2022-03-13T21:16:02.931955Z"
    }
   },
   "outputs": [],
   "source": [
    "orders_rename = {'Order Item Cardprod Id': \"Product Id\",\n",
    "                'Order Customer Id': \"Customer Id\",\n",
    "                 'Order Department Id': \"Department Id\",\n",
    "                 'order date (DateOrders)': \"Order Date\",\n",
    "                 'Type': \"Payment Method\",\n",
    "                 'Late Delivery Risk': \"Late Delivery\"}\n",
    "products_rename = {\"Product Card Id\": \"Product Id\"}\n",
    "\n",
    "orders_df.rename(columns = orders_rename, inplace =True)\n",
    "products_df.rename(columns = products_rename, inplace=True)"
   ]
  },
  {
   "cell_type": "markdown",
   "id": "f4cb22e7",
   "metadata": {
    "ExecuteTime": {
     "end_time": "2022-03-11T21:59:31.398277Z",
     "start_time": "2022-03-11T21:59:31.373263Z"
    }
   },
   "source": [
    "- Rearrange columns in customer df so the inportant customer segment information is near the start"
   ]
  },
  {
   "cell_type": "code",
   "execution_count": 134,
   "id": "f604ceab",
   "metadata": {
    "ExecuteTime": {
     "end_time": "2022-03-13T21:16:03.006954Z",
     "start_time": "2022-03-13T21:16:02.990954Z"
    }
   },
   "outputs": [
    {
     "data": {
      "text/html": [
       "<div>\n",
       "<style scoped>\n",
       "    .dataframe tbody tr th:only-of-type {\n",
       "        vertical-align: middle;\n",
       "    }\n",
       "\n",
       "    .dataframe tbody tr th {\n",
       "        vertical-align: top;\n",
       "    }\n",
       "\n",
       "    .dataframe thead th {\n",
       "        text-align: right;\n",
       "    }\n",
       "</style>\n",
       "<table border=\"1\" class=\"dataframe\">\n",
       "  <thead>\n",
       "    <tr style=\"text-align: right;\">\n",
       "      <th></th>\n",
       "      <th>Customer Segment</th>\n",
       "      <th>Customer Country</th>\n",
       "      <th>Customer City</th>\n",
       "      <th>Customer State</th>\n",
       "      <th>Customer Street</th>\n",
       "      <th>Customer Zipcode</th>\n",
       "    </tr>\n",
       "    <tr>\n",
       "      <th>Customer Id</th>\n",
       "      <th></th>\n",
       "      <th></th>\n",
       "      <th></th>\n",
       "      <th></th>\n",
       "      <th></th>\n",
       "      <th></th>\n",
       "    </tr>\n",
       "  </thead>\n",
       "  <tbody>\n",
       "    <tr>\n",
       "      <th>20755</th>\n",
       "      <td>Consumer</td>\n",
       "      <td>Puerto Rico</td>\n",
       "      <td>Caguas</td>\n",
       "      <td>PR</td>\n",
       "      <td>5365 Noble Nectar Island</td>\n",
       "      <td>725.0</td>\n",
       "    </tr>\n",
       "  </tbody>\n",
       "</table>\n",
       "</div>"
      ],
      "text/plain": [
       "            Customer Segment Customer Country Customer City Customer State  \\\n",
       "Customer Id                                                                  \n",
       "20755               Consumer      Puerto Rico        Caguas             PR   \n",
       "\n",
       "                      Customer Street  Customer Zipcode  \n",
       "Customer Id                                              \n",
       "20755        5365 Noble Nectar Island             725.0  "
      ]
     },
     "execution_count": 134,
     "metadata": {},
     "output_type": "execute_result"
    }
   ],
   "source": [
    "cols = customers_df.columns.tolist()\n",
    "cols[0] = \"Customer Segment\"\n",
    "cols[2] =  \"Customer City\"\n",
    "customers_df = customers_df[cols]\n",
    "customers_df.head(1)"
   ]
  },
  {
   "cell_type": "markdown",
   "id": "90286b78",
   "metadata": {},
   "source": [
    "## F) Combine all the data in one dataframe and cut extraneous data"
   ]
  },
  {
   "cell_type": "markdown",
   "id": "38062084",
   "metadata": {},
   "source": [
    "### i. Do the combinations "
   ]
  },
  {
   "cell_type": "markdown",
   "id": "376eeaeb",
   "metadata": {},
   "source": [
    "- Combine orders and customer df"
   ]
  },
  {
   "cell_type": "code",
   "execution_count": 135,
   "id": "3524a684",
   "metadata": {
    "ExecuteTime": {
     "end_time": "2022-03-13T21:16:03.195965Z",
     "start_time": "2022-03-13T21:16:03.116955Z"
    }
   },
   "outputs": [
    {
     "data": {
      "text/html": [
       "<div>\n",
       "<style scoped>\n",
       "    .dataframe tbody tr th:only-of-type {\n",
       "        vertical-align: middle;\n",
       "    }\n",
       "\n",
       "    .dataframe tbody tr th {\n",
       "        vertical-align: top;\n",
       "    }\n",
       "\n",
       "    .dataframe thead th {\n",
       "        text-align: right;\n",
       "    }\n",
       "</style>\n",
       "<table border=\"1\" class=\"dataframe\">\n",
       "  <thead>\n",
       "    <tr style=\"text-align: right;\">\n",
       "      <th></th>\n",
       "      <th>Product Id</th>\n",
       "      <th>Customer Id</th>\n",
       "      <th>Department Id</th>\n",
       "      <th>Market</th>\n",
       "      <th>Order City</th>\n",
       "      <th>Order Country</th>\n",
       "      <th>Order Region</th>\n",
       "      <th>Order State</th>\n",
       "      <th>Order Status</th>\n",
       "      <th>Order Zipcode</th>\n",
       "      <th>Order Date</th>\n",
       "      <th>Order Item Discount</th>\n",
       "      <th>Order Item Discount Rate</th>\n",
       "      <th>Order Item Id</th>\n",
       "      <th>Order Item Quantity</th>\n",
       "      <th>Sales</th>\n",
       "      <th>Order Item Total</th>\n",
       "      <th>Order Profit</th>\n",
       "      <th>Payment Method</th>\n",
       "      <th>Days for shipping (real)</th>\n",
       "      <th>Days for shipment (scheduled)</th>\n",
       "      <th>Delivery Status</th>\n",
       "      <th>Late Delivery</th>\n",
       "      <th>Customer Segment</th>\n",
       "      <th>Customer Country</th>\n",
       "      <th>Customer City</th>\n",
       "      <th>Customer State</th>\n",
       "      <th>Customer Street</th>\n",
       "      <th>Customer Zipcode</th>\n",
       "    </tr>\n",
       "  </thead>\n",
       "  <tbody>\n",
       "    <tr>\n",
       "      <th>0</th>\n",
       "      <td>1360</td>\n",
       "      <td>20755</td>\n",
       "      <td>2</td>\n",
       "      <td>Pacific Asia</td>\n",
       "      <td>Bekasi</td>\n",
       "      <td>Indonesia</td>\n",
       "      <td>Southeast Asia</td>\n",
       "      <td>Java Occidental</td>\n",
       "      <td>COMPLETE</td>\n",
       "      <td>NaN</td>\n",
       "      <td>1/31/2018 22:56</td>\n",
       "      <td>13.110000</td>\n",
       "      <td>0.04</td>\n",
       "      <td>180517</td>\n",
       "      <td>1</td>\n",
       "      <td>327.75</td>\n",
       "      <td>314.640015</td>\n",
       "      <td>91.250000</td>\n",
       "      <td>DEBIT</td>\n",
       "      <td>3</td>\n",
       "      <td>4</td>\n",
       "      <td>Advance shipping</td>\n",
       "      <td>0</td>\n",
       "      <td>Consumer</td>\n",
       "      <td>Puerto Rico</td>\n",
       "      <td>Caguas</td>\n",
       "      <td>PR</td>\n",
       "      <td>5365 Noble Nectar Island</td>\n",
       "      <td>725.0</td>\n",
       "    </tr>\n",
       "    <tr>\n",
       "      <th>1</th>\n",
       "      <td>1360</td>\n",
       "      <td>19492</td>\n",
       "      <td>2</td>\n",
       "      <td>Pacific Asia</td>\n",
       "      <td>Bikaner</td>\n",
       "      <td>India</td>\n",
       "      <td>South Asia</td>\n",
       "      <td>Rajastán</td>\n",
       "      <td>PENDING</td>\n",
       "      <td>NaN</td>\n",
       "      <td>1/13/2018 12:27</td>\n",
       "      <td>16.389999</td>\n",
       "      <td>0.05</td>\n",
       "      <td>179254</td>\n",
       "      <td>1</td>\n",
       "      <td>327.75</td>\n",
       "      <td>311.359985</td>\n",
       "      <td>-249.089996</td>\n",
       "      <td>TRANSFER</td>\n",
       "      <td>5</td>\n",
       "      <td>4</td>\n",
       "      <td>Late delivery</td>\n",
       "      <td>1</td>\n",
       "      <td>Consumer</td>\n",
       "      <td>Puerto Rico</td>\n",
       "      <td>Caguas</td>\n",
       "      <td>PR</td>\n",
       "      <td>2679 Rustic Loop</td>\n",
       "      <td>725.0</td>\n",
       "    </tr>\n",
       "    <tr>\n",
       "      <th>2</th>\n",
       "      <td>1360</td>\n",
       "      <td>19491</td>\n",
       "      <td>2</td>\n",
       "      <td>Pacific Asia</td>\n",
       "      <td>Bikaner</td>\n",
       "      <td>India</td>\n",
       "      <td>South Asia</td>\n",
       "      <td>Rajastán</td>\n",
       "      <td>CLOSED</td>\n",
       "      <td>NaN</td>\n",
       "      <td>1/13/2018 12:06</td>\n",
       "      <td>18.030001</td>\n",
       "      <td>0.06</td>\n",
       "      <td>179253</td>\n",
       "      <td>1</td>\n",
       "      <td>327.75</td>\n",
       "      <td>309.720001</td>\n",
       "      <td>-247.779999</td>\n",
       "      <td>CASH</td>\n",
       "      <td>4</td>\n",
       "      <td>4</td>\n",
       "      <td>Shipping on time</td>\n",
       "      <td>0</td>\n",
       "      <td>Consumer</td>\n",
       "      <td>USA</td>\n",
       "      <td>San Jose</td>\n",
       "      <td>CA</td>\n",
       "      <td>8510 Round Bear Gate</td>\n",
       "      <td>95125.0</td>\n",
       "    </tr>\n",
       "  </tbody>\n",
       "</table>\n",
       "</div>"
      ],
      "text/plain": [
       "   Product Id  Customer Id  Department Id        Market Order City  \\\n",
       "0        1360        20755              2  Pacific Asia     Bekasi   \n",
       "1        1360        19492              2  Pacific Asia    Bikaner   \n",
       "2        1360        19491              2  Pacific Asia    Bikaner   \n",
       "\n",
       "  Order Country    Order Region      Order State Order Status  Order Zipcode  \\\n",
       "0     Indonesia  Southeast Asia  Java Occidental     COMPLETE            NaN   \n",
       "1         India      South Asia         Rajastán      PENDING            NaN   \n",
       "2         India      South Asia         Rajastán       CLOSED            NaN   \n",
       "\n",
       "        Order Date  Order Item Discount  Order Item Discount Rate  \\\n",
       "0  1/31/2018 22:56            13.110000                      0.04   \n",
       "1  1/13/2018 12:27            16.389999                      0.05   \n",
       "2  1/13/2018 12:06            18.030001                      0.06   \n",
       "\n",
       "   Order Item Id  Order Item Quantity   Sales  Order Item Total  Order Profit  \\\n",
       "0         180517                    1  327.75        314.640015     91.250000   \n",
       "1         179254                    1  327.75        311.359985   -249.089996   \n",
       "2         179253                    1  327.75        309.720001   -247.779999   \n",
       "\n",
       "  Payment Method  Days for shipping (real)  Days for shipment (scheduled)  \\\n",
       "0          DEBIT                         3                              4   \n",
       "1       TRANSFER                         5                              4   \n",
       "2           CASH                         4                              4   \n",
       "\n",
       "    Delivery Status  Late Delivery Customer Segment Customer Country  \\\n",
       "0  Advance shipping              0         Consumer      Puerto Rico   \n",
       "1     Late delivery              1         Consumer      Puerto Rico   \n",
       "2  Shipping on time              0         Consumer              USA   \n",
       "\n",
       "  Customer City Customer State           Customer Street  Customer Zipcode  \n",
       "0        Caguas             PR  5365 Noble Nectar Island             725.0  \n",
       "1        Caguas             PR          2679 Rustic Loop             725.0  \n",
       "2      San Jose             CA      8510 Round Bear Gate           95125.0  "
      ]
     },
     "execution_count": 135,
     "metadata": {},
     "output_type": "execute_result"
    }
   ],
   "source": [
    "combined_df = pd.merge(orders_df, customers_df, on=\"Customer Id\")\n",
    "combined_df.head(3)"
   ]
  },
  {
   "cell_type": "markdown",
   "id": "7d4becf1",
   "metadata": {},
   "source": [
    "- Add on departments df"
   ]
  },
  {
   "cell_type": "code",
   "execution_count": 136,
   "id": "e2831917",
   "metadata": {
    "ExecuteTime": {
     "end_time": "2022-03-13T21:16:03.290966Z",
     "start_time": "2022-03-13T21:16:03.196970Z"
    },
    "scrolled": true
   },
   "outputs": [
    {
     "data": {
      "text/html": [
       "<div>\n",
       "<style scoped>\n",
       "    .dataframe tbody tr th:only-of-type {\n",
       "        vertical-align: middle;\n",
       "    }\n",
       "\n",
       "    .dataframe tbody tr th {\n",
       "        vertical-align: top;\n",
       "    }\n",
       "\n",
       "    .dataframe thead th {\n",
       "        text-align: right;\n",
       "    }\n",
       "</style>\n",
       "<table border=\"1\" class=\"dataframe\">\n",
       "  <thead>\n",
       "    <tr style=\"text-align: right;\">\n",
       "      <th></th>\n",
       "      <th>Product Id</th>\n",
       "      <th>Customer Id</th>\n",
       "      <th>Department Id</th>\n",
       "      <th>Market</th>\n",
       "      <th>Order City</th>\n",
       "      <th>Order Country</th>\n",
       "      <th>Order Region</th>\n",
       "      <th>Order State</th>\n",
       "      <th>Order Status</th>\n",
       "      <th>Order Zipcode</th>\n",
       "      <th>Order Date</th>\n",
       "      <th>Order Item Discount</th>\n",
       "      <th>Order Item Discount Rate</th>\n",
       "      <th>Order Item Id</th>\n",
       "      <th>Order Item Quantity</th>\n",
       "      <th>Sales</th>\n",
       "      <th>Order Item Total</th>\n",
       "      <th>Order Profit</th>\n",
       "      <th>Payment Method</th>\n",
       "      <th>Days for shipping (real)</th>\n",
       "      <th>Days for shipment (scheduled)</th>\n",
       "      <th>Delivery Status</th>\n",
       "      <th>Late Delivery</th>\n",
       "      <th>Customer Segment</th>\n",
       "      <th>Customer Country</th>\n",
       "      <th>Customer City</th>\n",
       "      <th>Customer State</th>\n",
       "      <th>Customer Street</th>\n",
       "      <th>Customer Zipcode</th>\n",
       "      <th>Department Name</th>\n",
       "      <th>Latitude</th>\n",
       "      <th>Longitude</th>\n",
       "    </tr>\n",
       "  </thead>\n",
       "  <tbody>\n",
       "    <tr>\n",
       "      <th>0</th>\n",
       "      <td>1360</td>\n",
       "      <td>20755</td>\n",
       "      <td>2</td>\n",
       "      <td>Pacific Asia</td>\n",
       "      <td>Bekasi</td>\n",
       "      <td>Indonesia</td>\n",
       "      <td>Southeast Asia</td>\n",
       "      <td>Java Occidental</td>\n",
       "      <td>COMPLETE</td>\n",
       "      <td>NaN</td>\n",
       "      <td>1/31/2018 22:56</td>\n",
       "      <td>13.110000</td>\n",
       "      <td>0.04</td>\n",
       "      <td>180517</td>\n",
       "      <td>1</td>\n",
       "      <td>327.75</td>\n",
       "      <td>314.640015</td>\n",
       "      <td>91.250000</td>\n",
       "      <td>DEBIT</td>\n",
       "      <td>3</td>\n",
       "      <td>4</td>\n",
       "      <td>Advance shipping</td>\n",
       "      <td>0</td>\n",
       "      <td>Consumer</td>\n",
       "      <td>Puerto Rico</td>\n",
       "      <td>Caguas</td>\n",
       "      <td>PR</td>\n",
       "      <td>5365 Noble Nectar Island</td>\n",
       "      <td>725.0</td>\n",
       "      <td>Fitness</td>\n",
       "      <td>18.251453</td>\n",
       "      <td>-66.037056</td>\n",
       "    </tr>\n",
       "    <tr>\n",
       "      <th>1</th>\n",
       "      <td>1360</td>\n",
       "      <td>19492</td>\n",
       "      <td>2</td>\n",
       "      <td>Pacific Asia</td>\n",
       "      <td>Bikaner</td>\n",
       "      <td>India</td>\n",
       "      <td>South Asia</td>\n",
       "      <td>Rajastán</td>\n",
       "      <td>PENDING</td>\n",
       "      <td>NaN</td>\n",
       "      <td>1/13/2018 12:27</td>\n",
       "      <td>16.389999</td>\n",
       "      <td>0.05</td>\n",
       "      <td>179254</td>\n",
       "      <td>1</td>\n",
       "      <td>327.75</td>\n",
       "      <td>311.359985</td>\n",
       "      <td>-249.089996</td>\n",
       "      <td>TRANSFER</td>\n",
       "      <td>5</td>\n",
       "      <td>4</td>\n",
       "      <td>Late delivery</td>\n",
       "      <td>1</td>\n",
       "      <td>Consumer</td>\n",
       "      <td>Puerto Rico</td>\n",
       "      <td>Caguas</td>\n",
       "      <td>PR</td>\n",
       "      <td>2679 Rustic Loop</td>\n",
       "      <td>725.0</td>\n",
       "      <td>Fitness</td>\n",
       "      <td>18.251453</td>\n",
       "      <td>-66.037056</td>\n",
       "    </tr>\n",
       "    <tr>\n",
       "      <th>2</th>\n",
       "      <td>1360</td>\n",
       "      <td>19491</td>\n",
       "      <td>2</td>\n",
       "      <td>Pacific Asia</td>\n",
       "      <td>Bikaner</td>\n",
       "      <td>India</td>\n",
       "      <td>South Asia</td>\n",
       "      <td>Rajastán</td>\n",
       "      <td>CLOSED</td>\n",
       "      <td>NaN</td>\n",
       "      <td>1/13/2018 12:06</td>\n",
       "      <td>18.030001</td>\n",
       "      <td>0.06</td>\n",
       "      <td>179253</td>\n",
       "      <td>1</td>\n",
       "      <td>327.75</td>\n",
       "      <td>309.720001</td>\n",
       "      <td>-247.779999</td>\n",
       "      <td>CASH</td>\n",
       "      <td>4</td>\n",
       "      <td>4</td>\n",
       "      <td>Shipping on time</td>\n",
       "      <td>0</td>\n",
       "      <td>Consumer</td>\n",
       "      <td>USA</td>\n",
       "      <td>San Jose</td>\n",
       "      <td>CA</td>\n",
       "      <td>8510 Round Bear Gate</td>\n",
       "      <td>95125.0</td>\n",
       "      <td>Fitness</td>\n",
       "      <td>18.251453</td>\n",
       "      <td>-66.037056</td>\n",
       "    </tr>\n",
       "    <tr>\n",
       "      <th>3</th>\n",
       "      <td>1360</td>\n",
       "      <td>19490</td>\n",
       "      <td>2</td>\n",
       "      <td>Pacific Asia</td>\n",
       "      <td>Townsville</td>\n",
       "      <td>Australia</td>\n",
       "      <td>Oceania</td>\n",
       "      <td>Queensland</td>\n",
       "      <td>COMPLETE</td>\n",
       "      <td>NaN</td>\n",
       "      <td>1/13/2018 11:45</td>\n",
       "      <td>22.940001</td>\n",
       "      <td>0.07</td>\n",
       "      <td>179252</td>\n",
       "      <td>1</td>\n",
       "      <td>327.75</td>\n",
       "      <td>304.809998</td>\n",
       "      <td>22.860001</td>\n",
       "      <td>DEBIT</td>\n",
       "      <td>3</td>\n",
       "      <td>4</td>\n",
       "      <td>Advance shipping</td>\n",
       "      <td>0</td>\n",
       "      <td>Home Office</td>\n",
       "      <td>USA</td>\n",
       "      <td>Los Angeles</td>\n",
       "      <td>CA</td>\n",
       "      <td>3200 Amber Bend</td>\n",
       "      <td>90027.0</td>\n",
       "      <td>Fitness</td>\n",
       "      <td>18.251453</td>\n",
       "      <td>-66.037056</td>\n",
       "    </tr>\n",
       "    <tr>\n",
       "      <th>4</th>\n",
       "      <td>1360</td>\n",
       "      <td>19489</td>\n",
       "      <td>2</td>\n",
       "      <td>Pacific Asia</td>\n",
       "      <td>Townsville</td>\n",
       "      <td>Australia</td>\n",
       "      <td>Oceania</td>\n",
       "      <td>Queensland</td>\n",
       "      <td>PENDING_PAYMENT</td>\n",
       "      <td>NaN</td>\n",
       "      <td>1/13/2018 11:24</td>\n",
       "      <td>29.500000</td>\n",
       "      <td>0.09</td>\n",
       "      <td>179251</td>\n",
       "      <td>1</td>\n",
       "      <td>327.75</td>\n",
       "      <td>298.250000</td>\n",
       "      <td>134.210007</td>\n",
       "      <td>PAYMENT</td>\n",
       "      <td>2</td>\n",
       "      <td>4</td>\n",
       "      <td>Advance shipping</td>\n",
       "      <td>0</td>\n",
       "      <td>Corporate</td>\n",
       "      <td>Puerto Rico</td>\n",
       "      <td>Caguas</td>\n",
       "      <td>PR</td>\n",
       "      <td>8671 Iron Anchor Corners</td>\n",
       "      <td>725.0</td>\n",
       "      <td>Fitness</td>\n",
       "      <td>18.251453</td>\n",
       "      <td>-66.037056</td>\n",
       "    </tr>\n",
       "  </tbody>\n",
       "</table>\n",
       "</div>"
      ],
      "text/plain": [
       "   Product Id  Customer Id  Department Id        Market  Order City  \\\n",
       "0        1360        20755              2  Pacific Asia      Bekasi   \n",
       "1        1360        19492              2  Pacific Asia     Bikaner   \n",
       "2        1360        19491              2  Pacific Asia     Bikaner   \n",
       "3        1360        19490              2  Pacific Asia  Townsville   \n",
       "4        1360        19489              2  Pacific Asia  Townsville   \n",
       "\n",
       "  Order Country    Order Region      Order State     Order Status  \\\n",
       "0     Indonesia  Southeast Asia  Java Occidental         COMPLETE   \n",
       "1         India      South Asia         Rajastán          PENDING   \n",
       "2         India      South Asia         Rajastán           CLOSED   \n",
       "3     Australia         Oceania       Queensland         COMPLETE   \n",
       "4     Australia         Oceania       Queensland  PENDING_PAYMENT   \n",
       "\n",
       "   Order Zipcode       Order Date  Order Item Discount  \\\n",
       "0            NaN  1/31/2018 22:56            13.110000   \n",
       "1            NaN  1/13/2018 12:27            16.389999   \n",
       "2            NaN  1/13/2018 12:06            18.030001   \n",
       "3            NaN  1/13/2018 11:45            22.940001   \n",
       "4            NaN  1/13/2018 11:24            29.500000   \n",
       "\n",
       "   Order Item Discount Rate  Order Item Id  Order Item Quantity   Sales  \\\n",
       "0                      0.04         180517                    1  327.75   \n",
       "1                      0.05         179254                    1  327.75   \n",
       "2                      0.06         179253                    1  327.75   \n",
       "3                      0.07         179252                    1  327.75   \n",
       "4                      0.09         179251                    1  327.75   \n",
       "\n",
       "   Order Item Total  Order Profit Payment Method  Days for shipping (real)  \\\n",
       "0        314.640015     91.250000          DEBIT                         3   \n",
       "1        311.359985   -249.089996       TRANSFER                         5   \n",
       "2        309.720001   -247.779999           CASH                         4   \n",
       "3        304.809998     22.860001          DEBIT                         3   \n",
       "4        298.250000    134.210007        PAYMENT                         2   \n",
       "\n",
       "   Days for shipment (scheduled)   Delivery Status  Late Delivery  \\\n",
       "0                              4  Advance shipping              0   \n",
       "1                              4     Late delivery              1   \n",
       "2                              4  Shipping on time              0   \n",
       "3                              4  Advance shipping              0   \n",
       "4                              4  Advance shipping              0   \n",
       "\n",
       "  Customer Segment Customer Country Customer City Customer State  \\\n",
       "0         Consumer      Puerto Rico        Caguas             PR   \n",
       "1         Consumer      Puerto Rico        Caguas             PR   \n",
       "2         Consumer              USA      San Jose             CA   \n",
       "3      Home Office              USA   Los Angeles             CA   \n",
       "4        Corporate      Puerto Rico        Caguas             PR   \n",
       "\n",
       "            Customer Street  Customer Zipcode Department Name   Latitude  \\\n",
       "0  5365 Noble Nectar Island             725.0         Fitness  18.251453   \n",
       "1          2679 Rustic Loop             725.0         Fitness  18.251453   \n",
       "2      8510 Round Bear Gate           95125.0         Fitness  18.251453   \n",
       "3           3200 Amber Bend           90027.0         Fitness  18.251453   \n",
       "4  8671 Iron Anchor Corners             725.0         Fitness  18.251453   \n",
       "\n",
       "   Longitude  \n",
       "0 -66.037056  \n",
       "1 -66.037056  \n",
       "2 -66.037056  \n",
       "3 -66.037056  \n",
       "4 -66.037056  "
      ]
     },
     "execution_count": 136,
     "metadata": {},
     "output_type": "execute_result"
    }
   ],
   "source": [
    "combined_df = pd.merge(combined_df, departments_df, on=\"Department Id\")\n",
    "combined_df.head()"
   ]
  },
  {
   "cell_type": "markdown",
   "id": "bba935a9",
   "metadata": {},
   "source": [
    "- Add on products df"
   ]
  },
  {
   "cell_type": "code",
   "execution_count": 137,
   "id": "5e28f8b6",
   "metadata": {
    "ExecuteTime": {
     "end_time": "2022-03-13T21:16:03.385973Z",
     "start_time": "2022-03-13T21:16:03.291965Z"
    }
   },
   "outputs": [
    {
     "data": {
      "text/html": [
       "<div>\n",
       "<style scoped>\n",
       "    .dataframe tbody tr th:only-of-type {\n",
       "        vertical-align: middle;\n",
       "    }\n",
       "\n",
       "    .dataframe tbody tr th {\n",
       "        vertical-align: top;\n",
       "    }\n",
       "\n",
       "    .dataframe thead th {\n",
       "        text-align: right;\n",
       "    }\n",
       "</style>\n",
       "<table border=\"1\" class=\"dataframe\">\n",
       "  <thead>\n",
       "    <tr style=\"text-align: right;\">\n",
       "      <th></th>\n",
       "      <th>Product Id</th>\n",
       "      <th>Customer Id</th>\n",
       "      <th>Department Id</th>\n",
       "      <th>Market</th>\n",
       "      <th>Order City</th>\n",
       "      <th>Order Country</th>\n",
       "      <th>Order Region</th>\n",
       "      <th>Order State</th>\n",
       "      <th>Order Status</th>\n",
       "      <th>Order Zipcode</th>\n",
       "      <th>Order Date</th>\n",
       "      <th>Order Item Discount</th>\n",
       "      <th>Order Item Discount Rate</th>\n",
       "      <th>Order Item Id</th>\n",
       "      <th>Order Item Quantity</th>\n",
       "      <th>Sales</th>\n",
       "      <th>Order Item Total</th>\n",
       "      <th>Order Profit</th>\n",
       "      <th>Payment Method</th>\n",
       "      <th>Days for shipping (real)</th>\n",
       "      <th>Days for shipment (scheduled)</th>\n",
       "      <th>Delivery Status</th>\n",
       "      <th>Late Delivery</th>\n",
       "      <th>Customer Segment</th>\n",
       "      <th>Customer Country</th>\n",
       "      <th>Customer City</th>\n",
       "      <th>Customer State</th>\n",
       "      <th>Customer Street</th>\n",
       "      <th>Customer Zipcode</th>\n",
       "      <th>Department Name</th>\n",
       "      <th>Latitude</th>\n",
       "      <th>Longitude</th>\n",
       "      <th>Product Category Id</th>\n",
       "      <th>Product Name</th>\n",
       "      <th>Product Price</th>\n",
       "      <th>Category Name</th>\n",
       "    </tr>\n",
       "  </thead>\n",
       "  <tbody>\n",
       "    <tr>\n",
       "      <th>0</th>\n",
       "      <td>1360</td>\n",
       "      <td>20755</td>\n",
       "      <td>2</td>\n",
       "      <td>Pacific Asia</td>\n",
       "      <td>Bekasi</td>\n",
       "      <td>Indonesia</td>\n",
       "      <td>Southeast Asia</td>\n",
       "      <td>Java Occidental</td>\n",
       "      <td>COMPLETE</td>\n",
       "      <td>NaN</td>\n",
       "      <td>1/31/2018 22:56</td>\n",
       "      <td>13.110000</td>\n",
       "      <td>0.04</td>\n",
       "      <td>180517</td>\n",
       "      <td>1</td>\n",
       "      <td>327.75</td>\n",
       "      <td>314.640015</td>\n",
       "      <td>91.250000</td>\n",
       "      <td>DEBIT</td>\n",
       "      <td>3</td>\n",
       "      <td>4</td>\n",
       "      <td>Advance shipping</td>\n",
       "      <td>0</td>\n",
       "      <td>Consumer</td>\n",
       "      <td>Puerto Rico</td>\n",
       "      <td>Caguas</td>\n",
       "      <td>PR</td>\n",
       "      <td>5365 Noble Nectar Island</td>\n",
       "      <td>725.0</td>\n",
       "      <td>Fitness</td>\n",
       "      <td>18.251453</td>\n",
       "      <td>-66.037056</td>\n",
       "      <td>73</td>\n",
       "      <td>Smart watch</td>\n",
       "      <td>327.75</td>\n",
       "      <td>Sporting Goods</td>\n",
       "    </tr>\n",
       "    <tr>\n",
       "      <th>1</th>\n",
       "      <td>1360</td>\n",
       "      <td>19492</td>\n",
       "      <td>2</td>\n",
       "      <td>Pacific Asia</td>\n",
       "      <td>Bikaner</td>\n",
       "      <td>India</td>\n",
       "      <td>South Asia</td>\n",
       "      <td>Rajastán</td>\n",
       "      <td>PENDING</td>\n",
       "      <td>NaN</td>\n",
       "      <td>1/13/2018 12:27</td>\n",
       "      <td>16.389999</td>\n",
       "      <td>0.05</td>\n",
       "      <td>179254</td>\n",
       "      <td>1</td>\n",
       "      <td>327.75</td>\n",
       "      <td>311.359985</td>\n",
       "      <td>-249.089996</td>\n",
       "      <td>TRANSFER</td>\n",
       "      <td>5</td>\n",
       "      <td>4</td>\n",
       "      <td>Late delivery</td>\n",
       "      <td>1</td>\n",
       "      <td>Consumer</td>\n",
       "      <td>Puerto Rico</td>\n",
       "      <td>Caguas</td>\n",
       "      <td>PR</td>\n",
       "      <td>2679 Rustic Loop</td>\n",
       "      <td>725.0</td>\n",
       "      <td>Fitness</td>\n",
       "      <td>18.251453</td>\n",
       "      <td>-66.037056</td>\n",
       "      <td>73</td>\n",
       "      <td>Smart watch</td>\n",
       "      <td>327.75</td>\n",
       "      <td>Sporting Goods</td>\n",
       "    </tr>\n",
       "    <tr>\n",
       "      <th>2</th>\n",
       "      <td>1360</td>\n",
       "      <td>19491</td>\n",
       "      <td>2</td>\n",
       "      <td>Pacific Asia</td>\n",
       "      <td>Bikaner</td>\n",
       "      <td>India</td>\n",
       "      <td>South Asia</td>\n",
       "      <td>Rajastán</td>\n",
       "      <td>CLOSED</td>\n",
       "      <td>NaN</td>\n",
       "      <td>1/13/2018 12:06</td>\n",
       "      <td>18.030001</td>\n",
       "      <td>0.06</td>\n",
       "      <td>179253</td>\n",
       "      <td>1</td>\n",
       "      <td>327.75</td>\n",
       "      <td>309.720001</td>\n",
       "      <td>-247.779999</td>\n",
       "      <td>CASH</td>\n",
       "      <td>4</td>\n",
       "      <td>4</td>\n",
       "      <td>Shipping on time</td>\n",
       "      <td>0</td>\n",
       "      <td>Consumer</td>\n",
       "      <td>USA</td>\n",
       "      <td>San Jose</td>\n",
       "      <td>CA</td>\n",
       "      <td>8510 Round Bear Gate</td>\n",
       "      <td>95125.0</td>\n",
       "      <td>Fitness</td>\n",
       "      <td>18.251453</td>\n",
       "      <td>-66.037056</td>\n",
       "      <td>73</td>\n",
       "      <td>Smart watch</td>\n",
       "      <td>327.75</td>\n",
       "      <td>Sporting Goods</td>\n",
       "    </tr>\n",
       "    <tr>\n",
       "      <th>3</th>\n",
       "      <td>1360</td>\n",
       "      <td>19490</td>\n",
       "      <td>2</td>\n",
       "      <td>Pacific Asia</td>\n",
       "      <td>Townsville</td>\n",
       "      <td>Australia</td>\n",
       "      <td>Oceania</td>\n",
       "      <td>Queensland</td>\n",
       "      <td>COMPLETE</td>\n",
       "      <td>NaN</td>\n",
       "      <td>1/13/2018 11:45</td>\n",
       "      <td>22.940001</td>\n",
       "      <td>0.07</td>\n",
       "      <td>179252</td>\n",
       "      <td>1</td>\n",
       "      <td>327.75</td>\n",
       "      <td>304.809998</td>\n",
       "      <td>22.860001</td>\n",
       "      <td>DEBIT</td>\n",
       "      <td>3</td>\n",
       "      <td>4</td>\n",
       "      <td>Advance shipping</td>\n",
       "      <td>0</td>\n",
       "      <td>Home Office</td>\n",
       "      <td>USA</td>\n",
       "      <td>Los Angeles</td>\n",
       "      <td>CA</td>\n",
       "      <td>3200 Amber Bend</td>\n",
       "      <td>90027.0</td>\n",
       "      <td>Fitness</td>\n",
       "      <td>18.251453</td>\n",
       "      <td>-66.037056</td>\n",
       "      <td>73</td>\n",
       "      <td>Smart watch</td>\n",
       "      <td>327.75</td>\n",
       "      <td>Sporting Goods</td>\n",
       "    </tr>\n",
       "    <tr>\n",
       "      <th>4</th>\n",
       "      <td>1360</td>\n",
       "      <td>19489</td>\n",
       "      <td>2</td>\n",
       "      <td>Pacific Asia</td>\n",
       "      <td>Townsville</td>\n",
       "      <td>Australia</td>\n",
       "      <td>Oceania</td>\n",
       "      <td>Queensland</td>\n",
       "      <td>PENDING_PAYMENT</td>\n",
       "      <td>NaN</td>\n",
       "      <td>1/13/2018 11:24</td>\n",
       "      <td>29.500000</td>\n",
       "      <td>0.09</td>\n",
       "      <td>179251</td>\n",
       "      <td>1</td>\n",
       "      <td>327.75</td>\n",
       "      <td>298.250000</td>\n",
       "      <td>134.210007</td>\n",
       "      <td>PAYMENT</td>\n",
       "      <td>2</td>\n",
       "      <td>4</td>\n",
       "      <td>Advance shipping</td>\n",
       "      <td>0</td>\n",
       "      <td>Corporate</td>\n",
       "      <td>Puerto Rico</td>\n",
       "      <td>Caguas</td>\n",
       "      <td>PR</td>\n",
       "      <td>8671 Iron Anchor Corners</td>\n",
       "      <td>725.0</td>\n",
       "      <td>Fitness</td>\n",
       "      <td>18.251453</td>\n",
       "      <td>-66.037056</td>\n",
       "      <td>73</td>\n",
       "      <td>Smart watch</td>\n",
       "      <td>327.75</td>\n",
       "      <td>Sporting Goods</td>\n",
       "    </tr>\n",
       "  </tbody>\n",
       "</table>\n",
       "</div>"
      ],
      "text/plain": [
       "   Product Id  Customer Id  Department Id        Market  Order City  \\\n",
       "0        1360        20755              2  Pacific Asia      Bekasi   \n",
       "1        1360        19492              2  Pacific Asia     Bikaner   \n",
       "2        1360        19491              2  Pacific Asia     Bikaner   \n",
       "3        1360        19490              2  Pacific Asia  Townsville   \n",
       "4        1360        19489              2  Pacific Asia  Townsville   \n",
       "\n",
       "  Order Country    Order Region      Order State     Order Status  \\\n",
       "0     Indonesia  Southeast Asia  Java Occidental         COMPLETE   \n",
       "1         India      South Asia         Rajastán          PENDING   \n",
       "2         India      South Asia         Rajastán           CLOSED   \n",
       "3     Australia         Oceania       Queensland         COMPLETE   \n",
       "4     Australia         Oceania       Queensland  PENDING_PAYMENT   \n",
       "\n",
       "   Order Zipcode       Order Date  Order Item Discount  \\\n",
       "0            NaN  1/31/2018 22:56            13.110000   \n",
       "1            NaN  1/13/2018 12:27            16.389999   \n",
       "2            NaN  1/13/2018 12:06            18.030001   \n",
       "3            NaN  1/13/2018 11:45            22.940001   \n",
       "4            NaN  1/13/2018 11:24            29.500000   \n",
       "\n",
       "   Order Item Discount Rate  Order Item Id  Order Item Quantity   Sales  \\\n",
       "0                      0.04         180517                    1  327.75   \n",
       "1                      0.05         179254                    1  327.75   \n",
       "2                      0.06         179253                    1  327.75   \n",
       "3                      0.07         179252                    1  327.75   \n",
       "4                      0.09         179251                    1  327.75   \n",
       "\n",
       "   Order Item Total  Order Profit Payment Method  Days for shipping (real)  \\\n",
       "0        314.640015     91.250000          DEBIT                         3   \n",
       "1        311.359985   -249.089996       TRANSFER                         5   \n",
       "2        309.720001   -247.779999           CASH                         4   \n",
       "3        304.809998     22.860001          DEBIT                         3   \n",
       "4        298.250000    134.210007        PAYMENT                         2   \n",
       "\n",
       "   Days for shipment (scheduled)   Delivery Status  Late Delivery  \\\n",
       "0                              4  Advance shipping              0   \n",
       "1                              4     Late delivery              1   \n",
       "2                              4  Shipping on time              0   \n",
       "3                              4  Advance shipping              0   \n",
       "4                              4  Advance shipping              0   \n",
       "\n",
       "  Customer Segment Customer Country Customer City Customer State  \\\n",
       "0         Consumer      Puerto Rico        Caguas             PR   \n",
       "1         Consumer      Puerto Rico        Caguas             PR   \n",
       "2         Consumer              USA      San Jose             CA   \n",
       "3      Home Office              USA   Los Angeles             CA   \n",
       "4        Corporate      Puerto Rico        Caguas             PR   \n",
       "\n",
       "            Customer Street  Customer Zipcode Department Name   Latitude  \\\n",
       "0  5365 Noble Nectar Island             725.0         Fitness  18.251453   \n",
       "1          2679 Rustic Loop             725.0         Fitness  18.251453   \n",
       "2      8510 Round Bear Gate           95125.0         Fitness  18.251453   \n",
       "3           3200 Amber Bend           90027.0         Fitness  18.251453   \n",
       "4  8671 Iron Anchor Corners             725.0         Fitness  18.251453   \n",
       "\n",
       "   Longitude  Product Category Id  Product Name  Product Price   Category Name  \n",
       "0 -66.037056                   73  Smart watch          327.75  Sporting Goods  \n",
       "1 -66.037056                   73  Smart watch          327.75  Sporting Goods  \n",
       "2 -66.037056                   73  Smart watch          327.75  Sporting Goods  \n",
       "3 -66.037056                   73  Smart watch          327.75  Sporting Goods  \n",
       "4 -66.037056                   73  Smart watch          327.75  Sporting Goods  "
      ]
     },
     "execution_count": 137,
     "metadata": {},
     "output_type": "execute_result"
    }
   ],
   "source": [
    "combined_df = pd.merge(combined_df, products_df, on=\"Product Id\")\n",
    "combined_df.head()"
   ]
  },
  {
   "cell_type": "markdown",
   "id": "1568f7fc",
   "metadata": {},
   "source": [
    "## ii. Inspect dataset and recommend which columns to cut right away"
   ]
  },
  {
   "cell_type": "code",
   "execution_count": 138,
   "id": "2ce4e346",
   "metadata": {
    "ExecuteTime": {
     "end_time": "2022-03-13T21:16:03.449974Z",
     "start_time": "2022-03-13T21:16:03.386974Z"
    }
   },
   "outputs": [],
   "source": [
    "combined_df_backup = combined_df.copy()"
   ]
  },
  {
   "cell_type": "code",
   "execution_count": 139,
   "id": "460e4bad",
   "metadata": {
    "ExecuteTime": {
     "end_time": "2022-03-13T21:16:05.874311Z",
     "start_time": "2022-03-13T21:16:03.450974Z"
    }
   },
   "outputs": [],
   "source": [
    "combined_df_backup.to_csv(\"BigSupplyCo_Data_Files/master_table_unfiltered.csv\")"
   ]
  },
  {
   "cell_type": "code",
   "execution_count": 140,
   "id": "6f4e02bf",
   "metadata": {
    "ExecuteTime": {
     "end_time": "2022-03-13T21:16:05.966326Z",
     "start_time": "2022-03-13T21:16:05.875311Z"
    },
    "scrolled": true
   },
   "outputs": [
    {
     "data": {
      "text/html": [
       "<div>\n",
       "<style scoped>\n",
       "    .dataframe tbody tr th:only-of-type {\n",
       "        vertical-align: middle;\n",
       "    }\n",
       "\n",
       "    .dataframe tbody tr th {\n",
       "        vertical-align: top;\n",
       "    }\n",
       "\n",
       "    .dataframe thead th {\n",
       "        text-align: right;\n",
       "    }\n",
       "</style>\n",
       "<table border=\"1\" class=\"dataframe\">\n",
       "  <thead>\n",
       "    <tr style=\"text-align: right;\">\n",
       "      <th></th>\n",
       "      <th>Product Id</th>\n",
       "      <th>Customer Id</th>\n",
       "      <th>Department Id</th>\n",
       "      <th>Order Zipcode</th>\n",
       "      <th>Order Item Discount</th>\n",
       "      <th>Order Item Discount Rate</th>\n",
       "      <th>Order Item Id</th>\n",
       "      <th>Order Item Quantity</th>\n",
       "      <th>Sales</th>\n",
       "      <th>Order Item Total</th>\n",
       "      <th>Order Profit</th>\n",
       "      <th>Days for shipping (real)</th>\n",
       "      <th>Days for shipment (scheduled)</th>\n",
       "      <th>Late Delivery</th>\n",
       "      <th>Customer Zipcode</th>\n",
       "      <th>Latitude</th>\n",
       "      <th>Longitude</th>\n",
       "      <th>Product Category Id</th>\n",
       "      <th>Product Price</th>\n",
       "    </tr>\n",
       "  </thead>\n",
       "  <tbody>\n",
       "    <tr>\n",
       "      <th>count</th>\n",
       "      <td>180519.000000</td>\n",
       "      <td>180519.000000</td>\n",
       "      <td>180519.000000</td>\n",
       "      <td>24840.000000</td>\n",
       "      <td>180519.000000</td>\n",
       "      <td>180519.000000</td>\n",
       "      <td>180519.000000</td>\n",
       "      <td>180519.000000</td>\n",
       "      <td>180519.000000</td>\n",
       "      <td>180519.000000</td>\n",
       "      <td>180519.000000</td>\n",
       "      <td>180519.000000</td>\n",
       "      <td>180519.000000</td>\n",
       "      <td>180519.000000</td>\n",
       "      <td>180516.000000</td>\n",
       "      <td>180519.000000</td>\n",
       "      <td>180519.000000</td>\n",
       "      <td>180519.000000</td>\n",
       "      <td>180519.000000</td>\n",
       "    </tr>\n",
       "    <tr>\n",
       "      <th>mean</th>\n",
       "      <td>692.509764</td>\n",
       "      <td>6691.379495</td>\n",
       "      <td>5.443460</td>\n",
       "      <td>55426.132327</td>\n",
       "      <td>20.664741</td>\n",
       "      <td>0.101668</td>\n",
       "      <td>90260.000000</td>\n",
       "      <td>2.127638</td>\n",
       "      <td>203.772096</td>\n",
       "      <td>183.107609</td>\n",
       "      <td>21.974989</td>\n",
       "      <td>3.497654</td>\n",
       "      <td>2.931847</td>\n",
       "      <td>0.548291</td>\n",
       "      <td>35921.126914</td>\n",
       "      <td>18.274543</td>\n",
       "      <td>-66.306329</td>\n",
       "      <td>31.851451</td>\n",
       "      <td>141.232550</td>\n",
       "    </tr>\n",
       "    <tr>\n",
       "      <th>std</th>\n",
       "      <td>336.446807</td>\n",
       "      <td>4162.918106</td>\n",
       "      <td>1.629246</td>\n",
       "      <td>31919.279101</td>\n",
       "      <td>21.800901</td>\n",
       "      <td>0.070415</td>\n",
       "      <td>52111.490959</td>\n",
       "      <td>1.453451</td>\n",
       "      <td>132.273077</td>\n",
       "      <td>120.043670</td>\n",
       "      <td>104.433526</td>\n",
       "      <td>1.623722</td>\n",
       "      <td>1.374449</td>\n",
       "      <td>0.497664</td>\n",
       "      <td>37542.461122</td>\n",
       "      <td>0.065465</td>\n",
       "      <td>0.099406</td>\n",
       "      <td>15.640064</td>\n",
       "      <td>139.732492</td>\n",
       "    </tr>\n",
       "    <tr>\n",
       "      <th>min</th>\n",
       "      <td>19.000000</td>\n",
       "      <td>1.000000</td>\n",
       "      <td>2.000000</td>\n",
       "      <td>1040.000000</td>\n",
       "      <td>0.000000</td>\n",
       "      <td>0.000000</td>\n",
       "      <td>1.000000</td>\n",
       "      <td>1.000000</td>\n",
       "      <td>9.990000</td>\n",
       "      <td>7.490000</td>\n",
       "      <td>-4274.979980</td>\n",
       "      <td>0.000000</td>\n",
       "      <td>0.000000</td>\n",
       "      <td>0.000000</td>\n",
       "      <td>603.000000</td>\n",
       "      <td>18.227760</td>\n",
       "      <td>-66.370613</td>\n",
       "      <td>2.000000</td>\n",
       "      <td>9.990000</td>\n",
       "    </tr>\n",
       "    <tr>\n",
       "      <th>25%</th>\n",
       "      <td>403.000000</td>\n",
       "      <td>3258.500000</td>\n",
       "      <td>4.000000</td>\n",
       "      <td>23464.000000</td>\n",
       "      <td>5.400000</td>\n",
       "      <td>0.040000</td>\n",
       "      <td>45130.500000</td>\n",
       "      <td>1.000000</td>\n",
       "      <td>119.980003</td>\n",
       "      <td>104.379997</td>\n",
       "      <td>7.000000</td>\n",
       "      <td>2.000000</td>\n",
       "      <td>2.000000</td>\n",
       "      <td>0.000000</td>\n",
       "      <td>725.000000</td>\n",
       "      <td>18.227760</td>\n",
       "      <td>-66.370598</td>\n",
       "      <td>18.000000</td>\n",
       "      <td>50.000000</td>\n",
       "    </tr>\n",
       "    <tr>\n",
       "      <th>50%</th>\n",
       "      <td>627.000000</td>\n",
       "      <td>6457.000000</td>\n",
       "      <td>5.000000</td>\n",
       "      <td>59405.000000</td>\n",
       "      <td>14.000000</td>\n",
       "      <td>0.100000</td>\n",
       "      <td>90260.000000</td>\n",
       "      <td>1.000000</td>\n",
       "      <td>199.919998</td>\n",
       "      <td>163.990005</td>\n",
       "      <td>31.520000</td>\n",
       "      <td>3.000000</td>\n",
       "      <td>4.000000</td>\n",
       "      <td>1.000000</td>\n",
       "      <td>19380.000000</td>\n",
       "      <td>18.235573</td>\n",
       "      <td>-66.370590</td>\n",
       "      <td>29.000000</td>\n",
       "      <td>59.990002</td>\n",
       "    </tr>\n",
       "    <tr>\n",
       "      <th>75%</th>\n",
       "      <td>1004.000000</td>\n",
       "      <td>9779.000000</td>\n",
       "      <td>7.000000</td>\n",
       "      <td>90008.000000</td>\n",
       "      <td>29.990000</td>\n",
       "      <td>0.160000</td>\n",
       "      <td>135389.500000</td>\n",
       "      <td>3.000000</td>\n",
       "      <td>299.950012</td>\n",
       "      <td>247.399994</td>\n",
       "      <td>64.800003</td>\n",
       "      <td>5.000000</td>\n",
       "      <td>4.000000</td>\n",
       "      <td>1.000000</td>\n",
       "      <td>78207.000000</td>\n",
       "      <td>18.380119</td>\n",
       "      <td>-66.183128</td>\n",
       "      <td>45.000000</td>\n",
       "      <td>199.990005</td>\n",
       "    </tr>\n",
       "    <tr>\n",
       "      <th>max</th>\n",
       "      <td>1363.000000</td>\n",
       "      <td>20757.000000</td>\n",
       "      <td>12.000000</td>\n",
       "      <td>99301.000000</td>\n",
       "      <td>500.000000</td>\n",
       "      <td>0.250000</td>\n",
       "      <td>180519.000000</td>\n",
       "      <td>5.000000</td>\n",
       "      <td>1999.989990</td>\n",
       "      <td>1939.989990</td>\n",
       "      <td>911.799988</td>\n",
       "      <td>6.000000</td>\n",
       "      <td>4.000000</td>\n",
       "      <td>1.000000</td>\n",
       "      <td>99205.000000</td>\n",
       "      <td>18.380119</td>\n",
       "      <td>-66.027496</td>\n",
       "      <td>76.000000</td>\n",
       "      <td>1999.989990</td>\n",
       "    </tr>\n",
       "  </tbody>\n",
       "</table>\n",
       "</div>"
      ],
      "text/plain": [
       "          Product Id    Customer Id  Department Id  Order Zipcode  \\\n",
       "count  180519.000000  180519.000000  180519.000000   24840.000000   \n",
       "mean      692.509764    6691.379495       5.443460   55426.132327   \n",
       "std       336.446807    4162.918106       1.629246   31919.279101   \n",
       "min        19.000000       1.000000       2.000000    1040.000000   \n",
       "25%       403.000000    3258.500000       4.000000   23464.000000   \n",
       "50%       627.000000    6457.000000       5.000000   59405.000000   \n",
       "75%      1004.000000    9779.000000       7.000000   90008.000000   \n",
       "max      1363.000000   20757.000000      12.000000   99301.000000   \n",
       "\n",
       "       Order Item Discount  Order Item Discount Rate  Order Item Id  \\\n",
       "count        180519.000000             180519.000000  180519.000000   \n",
       "mean             20.664741                  0.101668   90260.000000   \n",
       "std              21.800901                  0.070415   52111.490959   \n",
       "min               0.000000                  0.000000       1.000000   \n",
       "25%               5.400000                  0.040000   45130.500000   \n",
       "50%              14.000000                  0.100000   90260.000000   \n",
       "75%              29.990000                  0.160000  135389.500000   \n",
       "max             500.000000                  0.250000  180519.000000   \n",
       "\n",
       "       Order Item Quantity          Sales  Order Item Total   Order Profit  \\\n",
       "count        180519.000000  180519.000000     180519.000000  180519.000000   \n",
       "mean              2.127638     203.772096        183.107609      21.974989   \n",
       "std               1.453451     132.273077        120.043670     104.433526   \n",
       "min               1.000000       9.990000          7.490000   -4274.979980   \n",
       "25%               1.000000     119.980003        104.379997       7.000000   \n",
       "50%               1.000000     199.919998        163.990005      31.520000   \n",
       "75%               3.000000     299.950012        247.399994      64.800003   \n",
       "max               5.000000    1999.989990       1939.989990     911.799988   \n",
       "\n",
       "       Days for shipping (real)  Days for shipment (scheduled)  Late Delivery  \\\n",
       "count             180519.000000                  180519.000000  180519.000000   \n",
       "mean                   3.497654                       2.931847       0.548291   \n",
       "std                    1.623722                       1.374449       0.497664   \n",
       "min                    0.000000                       0.000000       0.000000   \n",
       "25%                    2.000000                       2.000000       0.000000   \n",
       "50%                    3.000000                       4.000000       1.000000   \n",
       "75%                    5.000000                       4.000000       1.000000   \n",
       "max                    6.000000                       4.000000       1.000000   \n",
       "\n",
       "       Customer Zipcode       Latitude      Longitude  Product Category Id  \\\n",
       "count     180516.000000  180519.000000  180519.000000        180519.000000   \n",
       "mean       35921.126914      18.274543     -66.306329            31.851451   \n",
       "std        37542.461122       0.065465       0.099406            15.640064   \n",
       "min          603.000000      18.227760     -66.370613             2.000000   \n",
       "25%          725.000000      18.227760     -66.370598            18.000000   \n",
       "50%        19380.000000      18.235573     -66.370590            29.000000   \n",
       "75%        78207.000000      18.380119     -66.183128            45.000000   \n",
       "max        99205.000000      18.380119     -66.027496            76.000000   \n",
       "\n",
       "       Product Price  \n",
       "count  180519.000000  \n",
       "mean      141.232550  \n",
       "std       139.732492  \n",
       "min         9.990000  \n",
       "25%        50.000000  \n",
       "50%        59.990002  \n",
       "75%       199.990005  \n",
       "max      1999.989990  "
      ]
     },
     "execution_count": 140,
     "metadata": {},
     "output_type": "execute_result"
    }
   ],
   "source": [
    "combined_df.describe()"
   ]
  },
  {
   "cell_type": "markdown",
   "id": "c35187a7",
   "metadata": {},
   "source": [
    "#### Define dropping functions for ease of use "
   ]
  },
  {
   "cell_type": "code",
   "execution_count": 141,
   "id": "43ccf340",
   "metadata": {
    "ExecuteTime": {
     "end_time": "2022-03-13T21:16:05.981326Z",
     "start_time": "2022-03-13T21:16:05.967328Z"
    }
   },
   "outputs": [],
   "source": [
    "def drop_col(df,cols):\n",
    "    df.drop(labels=cols, axis=1, inplace=True)"
   ]
  },
  {
   "cell_type": "markdown",
   "id": "fff0e786",
   "metadata": {},
   "source": [
    "- Longitude and latitude information for departments is likely unnecessary as all the stores are located fairly close to eachother in Puerto rico"
   ]
  },
  {
   "cell_type": "markdown",
   "id": "23ba4f76",
   "metadata": {},
   "source": [
    "#### Plot departments in map "
   ]
  },
  {
   "cell_type": "code",
   "execution_count": 142,
   "id": "664d51c4",
   "metadata": {
    "ExecuteTime": {
     "end_time": "2022-03-13T21:16:06.027326Z",
     "start_time": "2022-03-13T21:16:05.982329Z"
    }
   },
   "outputs": [
    {
     "data": {
      "application/vnd.plotly.v1+json": {
       "config": {
        "plotlyServerURL": "https://plot.ly"
       },
       "data": [
        {
         "geo": "geo",
         "hovertemplate": "<b>%{hovertext}</b><br><br>Latitude=%{lat}<br>Longitude=%{lon}<extra></extra>",
         "hovertext": [
          "Fitness",
          "Footwear",
          "Apparel",
          "Golf",
          "Outdoors",
          "Fan Shop",
          "Book Shop",
          "Discs Shop",
          "Technology",
          "Pet Shop",
          "Health and Beauty "
         ],
         "lat": [
          18.2514534,
          18.23466301,
          18.38011932,
          18.23557282,
          18.26138115,
          18.22776032,
          18.25456238,
          18.26964951,
          18.27085495,
          18.36678124,
          18.25112343
         ],
         "legendgroup": "",
         "lon": [
          -66.03705597,
          -66.37059784,
          -66.18312836,
          -66.3706131,
          -66.37056732,
          -66.37059021,
          -66.03705597,
          -66.0370636,
          -66.03705597,
          -66.02749634,
          -66.0370636
         ],
         "marker": {
          "color": "#636efa",
          "symbol": "circle"
         },
         "mode": "markers",
         "name": "",
         "showlegend": false,
         "type": "scattergeo"
        }
       ],
       "layout": {
        "geo": {
         "center": {},
         "domain": {
          "x": [
           0,
           1
          ],
          "y": [
           0,
           1
          ]
         }
        },
        "legend": {
         "tracegroupgap": 0
        },
        "margin": {
         "t": 60
        },
        "template": {
         "data": {
          "bar": [
           {
            "error_x": {
             "color": "#2a3f5f"
            },
            "error_y": {
             "color": "#2a3f5f"
            },
            "marker": {
             "line": {
              "color": "#E5ECF6",
              "width": 0.5
             },
             "pattern": {
              "fillmode": "overlay",
              "size": 10,
              "solidity": 0.2
             }
            },
            "type": "bar"
           }
          ],
          "barpolar": [
           {
            "marker": {
             "line": {
              "color": "#E5ECF6",
              "width": 0.5
             },
             "pattern": {
              "fillmode": "overlay",
              "size": 10,
              "solidity": 0.2
             }
            },
            "type": "barpolar"
           }
          ],
          "carpet": [
           {
            "aaxis": {
             "endlinecolor": "#2a3f5f",
             "gridcolor": "white",
             "linecolor": "white",
             "minorgridcolor": "white",
             "startlinecolor": "#2a3f5f"
            },
            "baxis": {
             "endlinecolor": "#2a3f5f",
             "gridcolor": "white",
             "linecolor": "white",
             "minorgridcolor": "white",
             "startlinecolor": "#2a3f5f"
            },
            "type": "carpet"
           }
          ],
          "choropleth": [
           {
            "colorbar": {
             "outlinewidth": 0,
             "ticks": ""
            },
            "type": "choropleth"
           }
          ],
          "contour": [
           {
            "colorbar": {
             "outlinewidth": 0,
             "ticks": ""
            },
            "colorscale": [
             [
              0,
              "#0d0887"
             ],
             [
              0.1111111111111111,
              "#46039f"
             ],
             [
              0.2222222222222222,
              "#7201a8"
             ],
             [
              0.3333333333333333,
              "#9c179e"
             ],
             [
              0.4444444444444444,
              "#bd3786"
             ],
             [
              0.5555555555555556,
              "#d8576b"
             ],
             [
              0.6666666666666666,
              "#ed7953"
             ],
             [
              0.7777777777777778,
              "#fb9f3a"
             ],
             [
              0.8888888888888888,
              "#fdca26"
             ],
             [
              1,
              "#f0f921"
             ]
            ],
            "type": "contour"
           }
          ],
          "contourcarpet": [
           {
            "colorbar": {
             "outlinewidth": 0,
             "ticks": ""
            },
            "type": "contourcarpet"
           }
          ],
          "heatmap": [
           {
            "colorbar": {
             "outlinewidth": 0,
             "ticks": ""
            },
            "colorscale": [
             [
              0,
              "#0d0887"
             ],
             [
              0.1111111111111111,
              "#46039f"
             ],
             [
              0.2222222222222222,
              "#7201a8"
             ],
             [
              0.3333333333333333,
              "#9c179e"
             ],
             [
              0.4444444444444444,
              "#bd3786"
             ],
             [
              0.5555555555555556,
              "#d8576b"
             ],
             [
              0.6666666666666666,
              "#ed7953"
             ],
             [
              0.7777777777777778,
              "#fb9f3a"
             ],
             [
              0.8888888888888888,
              "#fdca26"
             ],
             [
              1,
              "#f0f921"
             ]
            ],
            "type": "heatmap"
           }
          ],
          "heatmapgl": [
           {
            "colorbar": {
             "outlinewidth": 0,
             "ticks": ""
            },
            "colorscale": [
             [
              0,
              "#0d0887"
             ],
             [
              0.1111111111111111,
              "#46039f"
             ],
             [
              0.2222222222222222,
              "#7201a8"
             ],
             [
              0.3333333333333333,
              "#9c179e"
             ],
             [
              0.4444444444444444,
              "#bd3786"
             ],
             [
              0.5555555555555556,
              "#d8576b"
             ],
             [
              0.6666666666666666,
              "#ed7953"
             ],
             [
              0.7777777777777778,
              "#fb9f3a"
             ],
             [
              0.8888888888888888,
              "#fdca26"
             ],
             [
              1,
              "#f0f921"
             ]
            ],
            "type": "heatmapgl"
           }
          ],
          "histogram": [
           {
            "marker": {
             "pattern": {
              "fillmode": "overlay",
              "size": 10,
              "solidity": 0.2
             }
            },
            "type": "histogram"
           }
          ],
          "histogram2d": [
           {
            "colorbar": {
             "outlinewidth": 0,
             "ticks": ""
            },
            "colorscale": [
             [
              0,
              "#0d0887"
             ],
             [
              0.1111111111111111,
              "#46039f"
             ],
             [
              0.2222222222222222,
              "#7201a8"
             ],
             [
              0.3333333333333333,
              "#9c179e"
             ],
             [
              0.4444444444444444,
              "#bd3786"
             ],
             [
              0.5555555555555556,
              "#d8576b"
             ],
             [
              0.6666666666666666,
              "#ed7953"
             ],
             [
              0.7777777777777778,
              "#fb9f3a"
             ],
             [
              0.8888888888888888,
              "#fdca26"
             ],
             [
              1,
              "#f0f921"
             ]
            ],
            "type": "histogram2d"
           }
          ],
          "histogram2dcontour": [
           {
            "colorbar": {
             "outlinewidth": 0,
             "ticks": ""
            },
            "colorscale": [
             [
              0,
              "#0d0887"
             ],
             [
              0.1111111111111111,
              "#46039f"
             ],
             [
              0.2222222222222222,
              "#7201a8"
             ],
             [
              0.3333333333333333,
              "#9c179e"
             ],
             [
              0.4444444444444444,
              "#bd3786"
             ],
             [
              0.5555555555555556,
              "#d8576b"
             ],
             [
              0.6666666666666666,
              "#ed7953"
             ],
             [
              0.7777777777777778,
              "#fb9f3a"
             ],
             [
              0.8888888888888888,
              "#fdca26"
             ],
             [
              1,
              "#f0f921"
             ]
            ],
            "type": "histogram2dcontour"
           }
          ],
          "mesh3d": [
           {
            "colorbar": {
             "outlinewidth": 0,
             "ticks": ""
            },
            "type": "mesh3d"
           }
          ],
          "parcoords": [
           {
            "line": {
             "colorbar": {
              "outlinewidth": 0,
              "ticks": ""
             }
            },
            "type": "parcoords"
           }
          ],
          "pie": [
           {
            "automargin": true,
            "type": "pie"
           }
          ],
          "scatter": [
           {
            "marker": {
             "colorbar": {
              "outlinewidth": 0,
              "ticks": ""
             }
            },
            "type": "scatter"
           }
          ],
          "scatter3d": [
           {
            "line": {
             "colorbar": {
              "outlinewidth": 0,
              "ticks": ""
             }
            },
            "marker": {
             "colorbar": {
              "outlinewidth": 0,
              "ticks": ""
             }
            },
            "type": "scatter3d"
           }
          ],
          "scattercarpet": [
           {
            "marker": {
             "colorbar": {
              "outlinewidth": 0,
              "ticks": ""
             }
            },
            "type": "scattercarpet"
           }
          ],
          "scattergeo": [
           {
            "marker": {
             "colorbar": {
              "outlinewidth": 0,
              "ticks": ""
             }
            },
            "type": "scattergeo"
           }
          ],
          "scattergl": [
           {
            "marker": {
             "colorbar": {
              "outlinewidth": 0,
              "ticks": ""
             }
            },
            "type": "scattergl"
           }
          ],
          "scattermapbox": [
           {
            "marker": {
             "colorbar": {
              "outlinewidth": 0,
              "ticks": ""
             }
            },
            "type": "scattermapbox"
           }
          ],
          "scatterpolar": [
           {
            "marker": {
             "colorbar": {
              "outlinewidth": 0,
              "ticks": ""
             }
            },
            "type": "scatterpolar"
           }
          ],
          "scatterpolargl": [
           {
            "marker": {
             "colorbar": {
              "outlinewidth": 0,
              "ticks": ""
             }
            },
            "type": "scatterpolargl"
           }
          ],
          "scatterternary": [
           {
            "marker": {
             "colorbar": {
              "outlinewidth": 0,
              "ticks": ""
             }
            },
            "type": "scatterternary"
           }
          ],
          "surface": [
           {
            "colorbar": {
             "outlinewidth": 0,
             "ticks": ""
            },
            "colorscale": [
             [
              0,
              "#0d0887"
             ],
             [
              0.1111111111111111,
              "#46039f"
             ],
             [
              0.2222222222222222,
              "#7201a8"
             ],
             [
              0.3333333333333333,
              "#9c179e"
             ],
             [
              0.4444444444444444,
              "#bd3786"
             ],
             [
              0.5555555555555556,
              "#d8576b"
             ],
             [
              0.6666666666666666,
              "#ed7953"
             ],
             [
              0.7777777777777778,
              "#fb9f3a"
             ],
             [
              0.8888888888888888,
              "#fdca26"
             ],
             [
              1,
              "#f0f921"
             ]
            ],
            "type": "surface"
           }
          ],
          "table": [
           {
            "cells": {
             "fill": {
              "color": "#EBF0F8"
             },
             "line": {
              "color": "white"
             }
            },
            "header": {
             "fill": {
              "color": "#C8D4E3"
             },
             "line": {
              "color": "white"
             }
            },
            "type": "table"
           }
          ]
         },
         "layout": {
          "annotationdefaults": {
           "arrowcolor": "#2a3f5f",
           "arrowhead": 0,
           "arrowwidth": 1
          },
          "autotypenumbers": "strict",
          "coloraxis": {
           "colorbar": {
            "outlinewidth": 0,
            "ticks": ""
           }
          },
          "colorscale": {
           "diverging": [
            [
             0,
             "#8e0152"
            ],
            [
             0.1,
             "#c51b7d"
            ],
            [
             0.2,
             "#de77ae"
            ],
            [
             0.3,
             "#f1b6da"
            ],
            [
             0.4,
             "#fde0ef"
            ],
            [
             0.5,
             "#f7f7f7"
            ],
            [
             0.6,
             "#e6f5d0"
            ],
            [
             0.7,
             "#b8e186"
            ],
            [
             0.8,
             "#7fbc41"
            ],
            [
             0.9,
             "#4d9221"
            ],
            [
             1,
             "#276419"
            ]
           ],
           "sequential": [
            [
             0,
             "#0d0887"
            ],
            [
             0.1111111111111111,
             "#46039f"
            ],
            [
             0.2222222222222222,
             "#7201a8"
            ],
            [
             0.3333333333333333,
             "#9c179e"
            ],
            [
             0.4444444444444444,
             "#bd3786"
            ],
            [
             0.5555555555555556,
             "#d8576b"
            ],
            [
             0.6666666666666666,
             "#ed7953"
            ],
            [
             0.7777777777777778,
             "#fb9f3a"
            ],
            [
             0.8888888888888888,
             "#fdca26"
            ],
            [
             1,
             "#f0f921"
            ]
           ],
           "sequentialminus": [
            [
             0,
             "#0d0887"
            ],
            [
             0.1111111111111111,
             "#46039f"
            ],
            [
             0.2222222222222222,
             "#7201a8"
            ],
            [
             0.3333333333333333,
             "#9c179e"
            ],
            [
             0.4444444444444444,
             "#bd3786"
            ],
            [
             0.5555555555555556,
             "#d8576b"
            ],
            [
             0.6666666666666666,
             "#ed7953"
            ],
            [
             0.7777777777777778,
             "#fb9f3a"
            ],
            [
             0.8888888888888888,
             "#fdca26"
            ],
            [
             1,
             "#f0f921"
            ]
           ]
          },
          "colorway": [
           "#636efa",
           "#EF553B",
           "#00cc96",
           "#ab63fa",
           "#FFA15A",
           "#19d3f3",
           "#FF6692",
           "#B6E880",
           "#FF97FF",
           "#FECB52"
          ],
          "font": {
           "color": "#2a3f5f"
          },
          "geo": {
           "bgcolor": "white",
           "lakecolor": "white",
           "landcolor": "#E5ECF6",
           "showlakes": true,
           "showland": true,
           "subunitcolor": "white"
          },
          "hoverlabel": {
           "align": "left"
          },
          "hovermode": "closest",
          "mapbox": {
           "style": "light"
          },
          "paper_bgcolor": "white",
          "plot_bgcolor": "#E5ECF6",
          "polar": {
           "angularaxis": {
            "gridcolor": "white",
            "linecolor": "white",
            "ticks": ""
           },
           "bgcolor": "#E5ECF6",
           "radialaxis": {
            "gridcolor": "white",
            "linecolor": "white",
            "ticks": ""
           }
          },
          "scene": {
           "xaxis": {
            "backgroundcolor": "#E5ECF6",
            "gridcolor": "white",
            "gridwidth": 2,
            "linecolor": "white",
            "showbackground": true,
            "ticks": "",
            "zerolinecolor": "white"
           },
           "yaxis": {
            "backgroundcolor": "#E5ECF6",
            "gridcolor": "white",
            "gridwidth": 2,
            "linecolor": "white",
            "showbackground": true,
            "ticks": "",
            "zerolinecolor": "white"
           },
           "zaxis": {
            "backgroundcolor": "#E5ECF6",
            "gridcolor": "white",
            "gridwidth": 2,
            "linecolor": "white",
            "showbackground": true,
            "ticks": "",
            "zerolinecolor": "white"
           }
          },
          "shapedefaults": {
           "line": {
            "color": "#2a3f5f"
           }
          },
          "ternary": {
           "aaxis": {
            "gridcolor": "white",
            "linecolor": "white",
            "ticks": ""
           },
           "baxis": {
            "gridcolor": "white",
            "linecolor": "white",
            "ticks": ""
           },
           "bgcolor": "#E5ECF6",
           "caxis": {
            "gridcolor": "white",
            "linecolor": "white",
            "ticks": ""
           }
          },
          "title": {
           "x": 0.05
          },
          "xaxis": {
           "automargin": true,
           "gridcolor": "white",
           "linecolor": "white",
           "ticks": "",
           "title": {
            "standoff": 15
           },
           "zerolinecolor": "white",
           "zerolinewidth": 2
          },
          "yaxis": {
           "automargin": true,
           "gridcolor": "white",
           "linecolor": "white",
           "ticks": "",
           "title": {
            "standoff": 15
           },
           "zerolinecolor": "white",
           "zerolinewidth": 2
          }
         }
        },
        "title": {
         "text": "World map",
         "x": 0.5
        }
       }
      },
      "text/html": [
       "<div>                            <div id=\"e341402a-79f9-494f-8854-02107917d941\" class=\"plotly-graph-div\" style=\"height:525px; width:100%;\"></div>            <script type=\"text/javascript\">                require([\"plotly\"], function(Plotly) {                    window.PLOTLYENV=window.PLOTLYENV || {};                                    if (document.getElementById(\"e341402a-79f9-494f-8854-02107917d941\")) {                    Plotly.newPlot(                        \"e341402a-79f9-494f-8854-02107917d941\",                        [{\"geo\":\"geo\",\"hovertemplate\":\"<b>%{hovertext}</b><br><br>Latitude=%{lat}<br>Longitude=%{lon}<extra></extra>\",\"hovertext\":[\"Fitness\",\"Footwear\",\"Apparel\",\"Golf\",\"Outdoors\",\"Fan Shop\",\"Book Shop\",\"Discs Shop\",\"Technology\",\"Pet Shop\",\"Health and Beauty \"],\"lat\":[18.2514534,18.23466301,18.38011932,18.23557282,18.26138115,18.22776032,18.25456238,18.26964951,18.27085495,18.36678124,18.25112343],\"legendgroup\":\"\",\"lon\":[-66.03705597,-66.37059784,-66.18312836,-66.3706131,-66.37056732,-66.37059021,-66.03705597,-66.0370636,-66.03705597,-66.02749634,-66.0370636],\"marker\":{\"color\":\"#636efa\",\"symbol\":\"circle\"},\"mode\":\"markers\",\"name\":\"\",\"showlegend\":false,\"type\":\"scattergeo\"}],                        {\"template\":{\"data\":{\"bar\":[{\"error_x\":{\"color\":\"#2a3f5f\"},\"error_y\":{\"color\":\"#2a3f5f\"},\"marker\":{\"line\":{\"color\":\"#E5ECF6\",\"width\":0.5},\"pattern\":{\"fillmode\":\"overlay\",\"size\":10,\"solidity\":0.2}},\"type\":\"bar\"}],\"barpolar\":[{\"marker\":{\"line\":{\"color\":\"#E5ECF6\",\"width\":0.5},\"pattern\":{\"fillmode\":\"overlay\",\"size\":10,\"solidity\":0.2}},\"type\":\"barpolar\"}],\"carpet\":[{\"aaxis\":{\"endlinecolor\":\"#2a3f5f\",\"gridcolor\":\"white\",\"linecolor\":\"white\",\"minorgridcolor\":\"white\",\"startlinecolor\":\"#2a3f5f\"},\"baxis\":{\"endlinecolor\":\"#2a3f5f\",\"gridcolor\":\"white\",\"linecolor\":\"white\",\"minorgridcolor\":\"white\",\"startlinecolor\":\"#2a3f5f\"},\"type\":\"carpet\"}],\"choropleth\":[{\"colorbar\":{\"outlinewidth\":0,\"ticks\":\"\"},\"type\":\"choropleth\"}],\"contour\":[{\"colorbar\":{\"outlinewidth\":0,\"ticks\":\"\"},\"colorscale\":[[0.0,\"#0d0887\"],[0.1111111111111111,\"#46039f\"],[0.2222222222222222,\"#7201a8\"],[0.3333333333333333,\"#9c179e\"],[0.4444444444444444,\"#bd3786\"],[0.5555555555555556,\"#d8576b\"],[0.6666666666666666,\"#ed7953\"],[0.7777777777777778,\"#fb9f3a\"],[0.8888888888888888,\"#fdca26\"],[1.0,\"#f0f921\"]],\"type\":\"contour\"}],\"contourcarpet\":[{\"colorbar\":{\"outlinewidth\":0,\"ticks\":\"\"},\"type\":\"contourcarpet\"}],\"heatmap\":[{\"colorbar\":{\"outlinewidth\":0,\"ticks\":\"\"},\"colorscale\":[[0.0,\"#0d0887\"],[0.1111111111111111,\"#46039f\"],[0.2222222222222222,\"#7201a8\"],[0.3333333333333333,\"#9c179e\"],[0.4444444444444444,\"#bd3786\"],[0.5555555555555556,\"#d8576b\"],[0.6666666666666666,\"#ed7953\"],[0.7777777777777778,\"#fb9f3a\"],[0.8888888888888888,\"#fdca26\"],[1.0,\"#f0f921\"]],\"type\":\"heatmap\"}],\"heatmapgl\":[{\"colorbar\":{\"outlinewidth\":0,\"ticks\":\"\"},\"colorscale\":[[0.0,\"#0d0887\"],[0.1111111111111111,\"#46039f\"],[0.2222222222222222,\"#7201a8\"],[0.3333333333333333,\"#9c179e\"],[0.4444444444444444,\"#bd3786\"],[0.5555555555555556,\"#d8576b\"],[0.6666666666666666,\"#ed7953\"],[0.7777777777777778,\"#fb9f3a\"],[0.8888888888888888,\"#fdca26\"],[1.0,\"#f0f921\"]],\"type\":\"heatmapgl\"}],\"histogram\":[{\"marker\":{\"pattern\":{\"fillmode\":\"overlay\",\"size\":10,\"solidity\":0.2}},\"type\":\"histogram\"}],\"histogram2d\":[{\"colorbar\":{\"outlinewidth\":0,\"ticks\":\"\"},\"colorscale\":[[0.0,\"#0d0887\"],[0.1111111111111111,\"#46039f\"],[0.2222222222222222,\"#7201a8\"],[0.3333333333333333,\"#9c179e\"],[0.4444444444444444,\"#bd3786\"],[0.5555555555555556,\"#d8576b\"],[0.6666666666666666,\"#ed7953\"],[0.7777777777777778,\"#fb9f3a\"],[0.8888888888888888,\"#fdca26\"],[1.0,\"#f0f921\"]],\"type\":\"histogram2d\"}],\"histogram2dcontour\":[{\"colorbar\":{\"outlinewidth\":0,\"ticks\":\"\"},\"colorscale\":[[0.0,\"#0d0887\"],[0.1111111111111111,\"#46039f\"],[0.2222222222222222,\"#7201a8\"],[0.3333333333333333,\"#9c179e\"],[0.4444444444444444,\"#bd3786\"],[0.5555555555555556,\"#d8576b\"],[0.6666666666666666,\"#ed7953\"],[0.7777777777777778,\"#fb9f3a\"],[0.8888888888888888,\"#fdca26\"],[1.0,\"#f0f921\"]],\"type\":\"histogram2dcontour\"}],\"mesh3d\":[{\"colorbar\":{\"outlinewidth\":0,\"ticks\":\"\"},\"type\":\"mesh3d\"}],\"parcoords\":[{\"line\":{\"colorbar\":{\"outlinewidth\":0,\"ticks\":\"\"}},\"type\":\"parcoords\"}],\"pie\":[{\"automargin\":true,\"type\":\"pie\"}],\"scatter\":[{\"marker\":{\"colorbar\":{\"outlinewidth\":0,\"ticks\":\"\"}},\"type\":\"scatter\"}],\"scatter3d\":[{\"line\":{\"colorbar\":{\"outlinewidth\":0,\"ticks\":\"\"}},\"marker\":{\"colorbar\":{\"outlinewidth\":0,\"ticks\":\"\"}},\"type\":\"scatter3d\"}],\"scattercarpet\":[{\"marker\":{\"colorbar\":{\"outlinewidth\":0,\"ticks\":\"\"}},\"type\":\"scattercarpet\"}],\"scattergeo\":[{\"marker\":{\"colorbar\":{\"outlinewidth\":0,\"ticks\":\"\"}},\"type\":\"scattergeo\"}],\"scattergl\":[{\"marker\":{\"colorbar\":{\"outlinewidth\":0,\"ticks\":\"\"}},\"type\":\"scattergl\"}],\"scattermapbox\":[{\"marker\":{\"colorbar\":{\"outlinewidth\":0,\"ticks\":\"\"}},\"type\":\"scattermapbox\"}],\"scatterpolar\":[{\"marker\":{\"colorbar\":{\"outlinewidth\":0,\"ticks\":\"\"}},\"type\":\"scatterpolar\"}],\"scatterpolargl\":[{\"marker\":{\"colorbar\":{\"outlinewidth\":0,\"ticks\":\"\"}},\"type\":\"scatterpolargl\"}],\"scatterternary\":[{\"marker\":{\"colorbar\":{\"outlinewidth\":0,\"ticks\":\"\"}},\"type\":\"scatterternary\"}],\"surface\":[{\"colorbar\":{\"outlinewidth\":0,\"ticks\":\"\"},\"colorscale\":[[0.0,\"#0d0887\"],[0.1111111111111111,\"#46039f\"],[0.2222222222222222,\"#7201a8\"],[0.3333333333333333,\"#9c179e\"],[0.4444444444444444,\"#bd3786\"],[0.5555555555555556,\"#d8576b\"],[0.6666666666666666,\"#ed7953\"],[0.7777777777777778,\"#fb9f3a\"],[0.8888888888888888,\"#fdca26\"],[1.0,\"#f0f921\"]],\"type\":\"surface\"}],\"table\":[{\"cells\":{\"fill\":{\"color\":\"#EBF0F8\"},\"line\":{\"color\":\"white\"}},\"header\":{\"fill\":{\"color\":\"#C8D4E3\"},\"line\":{\"color\":\"white\"}},\"type\":\"table\"}]},\"layout\":{\"annotationdefaults\":{\"arrowcolor\":\"#2a3f5f\",\"arrowhead\":0,\"arrowwidth\":1},\"autotypenumbers\":\"strict\",\"coloraxis\":{\"colorbar\":{\"outlinewidth\":0,\"ticks\":\"\"}},\"colorscale\":{\"diverging\":[[0,\"#8e0152\"],[0.1,\"#c51b7d\"],[0.2,\"#de77ae\"],[0.3,\"#f1b6da\"],[0.4,\"#fde0ef\"],[0.5,\"#f7f7f7\"],[0.6,\"#e6f5d0\"],[0.7,\"#b8e186\"],[0.8,\"#7fbc41\"],[0.9,\"#4d9221\"],[1,\"#276419\"]],\"sequential\":[[0.0,\"#0d0887\"],[0.1111111111111111,\"#46039f\"],[0.2222222222222222,\"#7201a8\"],[0.3333333333333333,\"#9c179e\"],[0.4444444444444444,\"#bd3786\"],[0.5555555555555556,\"#d8576b\"],[0.6666666666666666,\"#ed7953\"],[0.7777777777777778,\"#fb9f3a\"],[0.8888888888888888,\"#fdca26\"],[1.0,\"#f0f921\"]],\"sequentialminus\":[[0.0,\"#0d0887\"],[0.1111111111111111,\"#46039f\"],[0.2222222222222222,\"#7201a8\"],[0.3333333333333333,\"#9c179e\"],[0.4444444444444444,\"#bd3786\"],[0.5555555555555556,\"#d8576b\"],[0.6666666666666666,\"#ed7953\"],[0.7777777777777778,\"#fb9f3a\"],[0.8888888888888888,\"#fdca26\"],[1.0,\"#f0f921\"]]},\"colorway\":[\"#636efa\",\"#EF553B\",\"#00cc96\",\"#ab63fa\",\"#FFA15A\",\"#19d3f3\",\"#FF6692\",\"#B6E880\",\"#FF97FF\",\"#FECB52\"],\"font\":{\"color\":\"#2a3f5f\"},\"geo\":{\"bgcolor\":\"white\",\"lakecolor\":\"white\",\"landcolor\":\"#E5ECF6\",\"showlakes\":true,\"showland\":true,\"subunitcolor\":\"white\"},\"hoverlabel\":{\"align\":\"left\"},\"hovermode\":\"closest\",\"mapbox\":{\"style\":\"light\"},\"paper_bgcolor\":\"white\",\"plot_bgcolor\":\"#E5ECF6\",\"polar\":{\"angularaxis\":{\"gridcolor\":\"white\",\"linecolor\":\"white\",\"ticks\":\"\"},\"bgcolor\":\"#E5ECF6\",\"radialaxis\":{\"gridcolor\":\"white\",\"linecolor\":\"white\",\"ticks\":\"\"}},\"scene\":{\"xaxis\":{\"backgroundcolor\":\"#E5ECF6\",\"gridcolor\":\"white\",\"gridwidth\":2,\"linecolor\":\"white\",\"showbackground\":true,\"ticks\":\"\",\"zerolinecolor\":\"white\"},\"yaxis\":{\"backgroundcolor\":\"#E5ECF6\",\"gridcolor\":\"white\",\"gridwidth\":2,\"linecolor\":\"white\",\"showbackground\":true,\"ticks\":\"\",\"zerolinecolor\":\"white\"},\"zaxis\":{\"backgroundcolor\":\"#E5ECF6\",\"gridcolor\":\"white\",\"gridwidth\":2,\"linecolor\":\"white\",\"showbackground\":true,\"ticks\":\"\",\"zerolinecolor\":\"white\"}},\"shapedefaults\":{\"line\":{\"color\":\"#2a3f5f\"}},\"ternary\":{\"aaxis\":{\"gridcolor\":\"white\",\"linecolor\":\"white\",\"ticks\":\"\"},\"baxis\":{\"gridcolor\":\"white\",\"linecolor\":\"white\",\"ticks\":\"\"},\"bgcolor\":\"#E5ECF6\",\"caxis\":{\"gridcolor\":\"white\",\"linecolor\":\"white\",\"ticks\":\"\"}},\"title\":{\"x\":0.05},\"xaxis\":{\"automargin\":true,\"gridcolor\":\"white\",\"linecolor\":\"white\",\"ticks\":\"\",\"title\":{\"standoff\":15},\"zerolinecolor\":\"white\",\"zerolinewidth\":2},\"yaxis\":{\"automargin\":true,\"gridcolor\":\"white\",\"linecolor\":\"white\",\"ticks\":\"\",\"title\":{\"standoff\":15},\"zerolinecolor\":\"white\",\"zerolinewidth\":2}}},\"geo\":{\"domain\":{\"x\":[0.0,1.0],\"y\":[0.0,1.0]},\"center\":{}},\"legend\":{\"tracegroupgap\":0},\"margin\":{\"t\":60},\"title\":{\"text\":\"World map\",\"x\":0.5}},                        {\"responsive\": true}                    ).then(function(){\n",
       "                            \n",
       "var gd = document.getElementById('e341402a-79f9-494f-8854-02107917d941');\n",
       "var x = new MutationObserver(function (mutations, observer) {{\n",
       "        var display = window.getComputedStyle(gd).display;\n",
       "        if (!display || display === 'none') {{\n",
       "            console.log([gd, 'removed!']);\n",
       "            Plotly.purge(gd);\n",
       "            observer.disconnect();\n",
       "        }}\n",
       "}});\n",
       "\n",
       "// Listen for the removal of the full notebook cells\n",
       "var notebookContainer = gd.closest('#notebook-container');\n",
       "if (notebookContainer) {{\n",
       "    x.observe(notebookContainer, {childList: true});\n",
       "}}\n",
       "\n",
       "// Listen for the clearing of the current output cell\n",
       "var outputEl = gd.closest('.output');\n",
       "if (outputEl) {{\n",
       "    x.observe(outputEl, {childList: true});\n",
       "}}\n",
       "\n",
       "                        })                };                });            </script>        </div>"
      ]
     },
     "metadata": {},
     "output_type": "display_data"
    }
   ],
   "source": [
    "import plotly.express as px\n",
    "\n",
    "fig = px.scatter_geo(departments_df,lat='Latitude',lon='Longitude', hover_name=\"Department Name\")\n",
    "fig.update_layout(title = 'World map', title_x=0.5)\n",
    "fig.show()"
   ]
  },
  {
   "cell_type": "markdown",
   "id": "969134af",
   "metadata": {},
   "source": [
    "#### Keep dropping columns "
   ]
  },
  {
   "cell_type": "code",
   "execution_count": 143,
   "id": "53d2614a",
   "metadata": {
    "ExecuteTime": {
     "end_time": "2022-03-13T21:16:06.107329Z",
     "start_time": "2022-03-13T21:16:06.028327Z"
    }
   },
   "outputs": [],
   "source": [
    "drop_col(combined_df,[\"Longitude\", \"Latitude\"])"
   ]
  },
  {
   "cell_type": "markdown",
   "id": "3abdb8de",
   "metadata": {},
   "source": [
    "- Data relating to customer location are likely unnecessary with regards to shipping, because the products are evidently not shipped there:"
   ]
  },
  {
   "cell_type": "code",
   "execution_count": 144,
   "id": "67895fcb",
   "metadata": {
    "ExecuteTime": {
     "end_time": "2022-03-13T21:16:06.123327Z",
     "start_time": "2022-03-13T21:16:06.108329Z"
    },
    "scrolled": true
   },
   "outputs": [
    {
     "data": {
      "text/html": [
       "<div>\n",
       "<style scoped>\n",
       "    .dataframe tbody tr th:only-of-type {\n",
       "        vertical-align: middle;\n",
       "    }\n",
       "\n",
       "    .dataframe tbody tr th {\n",
       "        vertical-align: top;\n",
       "    }\n",
       "\n",
       "    .dataframe thead th {\n",
       "        text-align: right;\n",
       "    }\n",
       "</style>\n",
       "<table border=\"1\" class=\"dataframe\">\n",
       "  <thead>\n",
       "    <tr style=\"text-align: right;\">\n",
       "      <th></th>\n",
       "      <th>Customer Country</th>\n",
       "    </tr>\n",
       "  </thead>\n",
       "  <tbody>\n",
       "    <tr>\n",
       "      <th>USA</th>\n",
       "      <td>111146</td>\n",
       "    </tr>\n",
       "    <tr>\n",
       "      <th>Puerto Rico</th>\n",
       "      <td>69373</td>\n",
       "    </tr>\n",
       "  </tbody>\n",
       "</table>\n",
       "</div>"
      ],
      "text/plain": [
       "             Customer Country\n",
       "USA                    111146\n",
       "Puerto Rico             69373"
      ]
     },
     "execution_count": 144,
     "metadata": {},
     "output_type": "execute_result"
    }
   ],
   "source": [
    "combined_df[[\"Customer Country\"]].apply(pd.Series.value_counts)"
   ]
  },
  {
   "cell_type": "code",
   "execution_count": 145,
   "id": "dddc7acc",
   "metadata": {
    "ExecuteTime": {
     "end_time": "2022-03-13T21:16:06.155326Z",
     "start_time": "2022-03-13T21:16:06.125328Z"
    }
   },
   "outputs": [
    {
     "data": {
      "text/html": [
       "<div>\n",
       "<style scoped>\n",
       "    .dataframe tbody tr th:only-of-type {\n",
       "        vertical-align: middle;\n",
       "    }\n",
       "\n",
       "    .dataframe tbody tr th {\n",
       "        vertical-align: top;\n",
       "    }\n",
       "\n",
       "    .dataframe thead th {\n",
       "        text-align: right;\n",
       "    }\n",
       "</style>\n",
       "<table border=\"1\" class=\"dataframe\">\n",
       "  <thead>\n",
       "    <tr style=\"text-align: right;\">\n",
       "      <th></th>\n",
       "      <th>Order Country</th>\n",
       "    </tr>\n",
       "  </thead>\n",
       "  <tbody>\n",
       "    <tr>\n",
       "      <th>Estados Unidos</th>\n",
       "      <td>24840</td>\n",
       "    </tr>\n",
       "    <tr>\n",
       "      <th>Francia</th>\n",
       "      <td>13222</td>\n",
       "    </tr>\n",
       "    <tr>\n",
       "      <th>México</th>\n",
       "      <td>13172</td>\n",
       "    </tr>\n",
       "    <tr>\n",
       "      <th>Alemania</th>\n",
       "      <td>9564</td>\n",
       "    </tr>\n",
       "    <tr>\n",
       "      <th>Australia</th>\n",
       "      <td>8497</td>\n",
       "    </tr>\n",
       "    <tr>\n",
       "      <th>...</th>\n",
       "      <td>...</td>\n",
       "    </tr>\n",
       "    <tr>\n",
       "      <th>Guinea Ecuatorial</th>\n",
       "      <td>2</td>\n",
       "    </tr>\n",
       "    <tr>\n",
       "      <th>Sáhara Occidental</th>\n",
       "      <td>2</td>\n",
       "    </tr>\n",
       "    <tr>\n",
       "      <th>Kuwait</th>\n",
       "      <td>2</td>\n",
       "    </tr>\n",
       "    <tr>\n",
       "      <th>Burundi</th>\n",
       "      <td>1</td>\n",
       "    </tr>\n",
       "    <tr>\n",
       "      <th>Serbia</th>\n",
       "      <td>1</td>\n",
       "    </tr>\n",
       "  </tbody>\n",
       "</table>\n",
       "<p>164 rows × 1 columns</p>\n",
       "</div>"
      ],
      "text/plain": [
       "                   Order Country\n",
       "Estados Unidos             24840\n",
       "Francia                    13222\n",
       "México                     13172\n",
       "Alemania                    9564\n",
       "Australia                   8497\n",
       "...                          ...\n",
       "Guinea Ecuatorial              2\n",
       "Sáhara Occidental              2\n",
       "Kuwait                         2\n",
       "Burundi                        1\n",
       "Serbia                         1\n",
       "\n",
       "[164 rows x 1 columns]"
      ]
     },
     "execution_count": 145,
     "metadata": {},
     "output_type": "execute_result"
    }
   ],
   "source": [
    "combined_df[[\"Order Country\"]].apply(pd.Series.value_counts)"
   ]
  },
  {
   "cell_type": "markdown",
   "id": "52732378",
   "metadata": {},
   "source": [
    "- Drop the customer location columns: [\"Customer Country\",\"Customer City\",\"Customer State\",\"Customer Street\",\"Customer Zipcode\"]"
   ]
  },
  {
   "cell_type": "code",
   "execution_count": 146,
   "id": "29e0595f",
   "metadata": {
    "ExecuteTime": {
     "end_time": "2022-03-13T21:16:06.203327Z",
     "start_time": "2022-03-13T21:16:06.156327Z"
    }
   },
   "outputs": [
    {
     "data": {
      "text/html": [
       "<div>\n",
       "<style scoped>\n",
       "    .dataframe tbody tr th:only-of-type {\n",
       "        vertical-align: middle;\n",
       "    }\n",
       "\n",
       "    .dataframe tbody tr th {\n",
       "        vertical-align: top;\n",
       "    }\n",
       "\n",
       "    .dataframe thead th {\n",
       "        text-align: right;\n",
       "    }\n",
       "</style>\n",
       "<table border=\"1\" class=\"dataframe\">\n",
       "  <thead>\n",
       "    <tr style=\"text-align: right;\">\n",
       "      <th></th>\n",
       "      <th>Product Id</th>\n",
       "      <th>Customer Id</th>\n",
       "      <th>Department Id</th>\n",
       "      <th>Market</th>\n",
       "      <th>Order City</th>\n",
       "      <th>Order Country</th>\n",
       "      <th>Order Region</th>\n",
       "      <th>Order State</th>\n",
       "      <th>Order Status</th>\n",
       "      <th>Order Zipcode</th>\n",
       "      <th>Order Date</th>\n",
       "      <th>Order Item Discount</th>\n",
       "      <th>Order Item Discount Rate</th>\n",
       "      <th>Order Item Id</th>\n",
       "      <th>Order Item Quantity</th>\n",
       "      <th>Sales</th>\n",
       "      <th>Order Item Total</th>\n",
       "      <th>Order Profit</th>\n",
       "      <th>Payment Method</th>\n",
       "      <th>Days for shipping (real)</th>\n",
       "      <th>Days for shipment (scheduled)</th>\n",
       "      <th>Delivery Status</th>\n",
       "      <th>Late Delivery</th>\n",
       "      <th>Customer Segment</th>\n",
       "      <th>Department Name</th>\n",
       "      <th>Product Category Id</th>\n",
       "      <th>Product Name</th>\n",
       "      <th>Product Price</th>\n",
       "      <th>Category Name</th>\n",
       "    </tr>\n",
       "  </thead>\n",
       "  <tbody>\n",
       "    <tr>\n",
       "      <th>0</th>\n",
       "      <td>1360</td>\n",
       "      <td>20755</td>\n",
       "      <td>2</td>\n",
       "      <td>Pacific Asia</td>\n",
       "      <td>Bekasi</td>\n",
       "      <td>Indonesia</td>\n",
       "      <td>Southeast Asia</td>\n",
       "      <td>Java Occidental</td>\n",
       "      <td>COMPLETE</td>\n",
       "      <td>NaN</td>\n",
       "      <td>1/31/2018 22:56</td>\n",
       "      <td>13.11</td>\n",
       "      <td>0.04</td>\n",
       "      <td>180517</td>\n",
       "      <td>1</td>\n",
       "      <td>327.75</td>\n",
       "      <td>314.640015</td>\n",
       "      <td>91.25</td>\n",
       "      <td>DEBIT</td>\n",
       "      <td>3</td>\n",
       "      <td>4</td>\n",
       "      <td>Advance shipping</td>\n",
       "      <td>0</td>\n",
       "      <td>Consumer</td>\n",
       "      <td>Fitness</td>\n",
       "      <td>73</td>\n",
       "      <td>Smart watch</td>\n",
       "      <td>327.75</td>\n",
       "      <td>Sporting Goods</td>\n",
       "    </tr>\n",
       "  </tbody>\n",
       "</table>\n",
       "</div>"
      ],
      "text/plain": [
       "   Product Id  Customer Id  Department Id        Market Order City  \\\n",
       "0        1360        20755              2  Pacific Asia     Bekasi   \n",
       "\n",
       "  Order Country    Order Region      Order State Order Status  Order Zipcode  \\\n",
       "0     Indonesia  Southeast Asia  Java Occidental     COMPLETE            NaN   \n",
       "\n",
       "        Order Date  Order Item Discount  Order Item Discount Rate  \\\n",
       "0  1/31/2018 22:56                13.11                      0.04   \n",
       "\n",
       "   Order Item Id  Order Item Quantity   Sales  Order Item Total  Order Profit  \\\n",
       "0         180517                    1  327.75        314.640015         91.25   \n",
       "\n",
       "  Payment Method  Days for shipping (real)  Days for shipment (scheduled)  \\\n",
       "0          DEBIT                         3                              4   \n",
       "\n",
       "    Delivery Status  Late Delivery Customer Segment Department Name  \\\n",
       "0  Advance shipping              0         Consumer         Fitness   \n",
       "\n",
       "   Product Category Id  Product Name  Product Price   Category Name  \n",
       "0                   73  Smart watch          327.75  Sporting Goods  "
      ]
     },
     "execution_count": 146,
     "metadata": {},
     "output_type": "execute_result"
    }
   ],
   "source": [
    "drop_col(combined_df,[\"Customer Country\",\"Customer City\",\"Customer State\",\"Customer Street\",\"Customer Zipcode\"])\n",
    "combined_df.head(1)"
   ]
  },
  {
   "cell_type": "markdown",
   "id": "ab65cc29",
   "metadata": {},
   "source": [
    "- Drop the Order City and State because I will not delve into that specific of an analysis: \"Order City\",\"Order State\" \"Order Country\", \"Order Zipcode\""
   ]
  },
  {
   "cell_type": "code",
   "execution_count": 147,
   "id": "c04e84e9",
   "metadata": {
    "ExecuteTime": {
     "end_time": "2022-03-13T21:16:06.233326Z",
     "start_time": "2022-03-13T21:16:06.204327Z"
    }
   },
   "outputs": [
    {
     "data": {
      "text/html": [
       "<div>\n",
       "<style scoped>\n",
       "    .dataframe tbody tr th:only-of-type {\n",
       "        vertical-align: middle;\n",
       "    }\n",
       "\n",
       "    .dataframe tbody tr th {\n",
       "        vertical-align: top;\n",
       "    }\n",
       "\n",
       "    .dataframe thead th {\n",
       "        text-align: right;\n",
       "    }\n",
       "</style>\n",
       "<table border=\"1\" class=\"dataframe\">\n",
       "  <thead>\n",
       "    <tr style=\"text-align: right;\">\n",
       "      <th></th>\n",
       "      <th>Product Id</th>\n",
       "      <th>Customer Id</th>\n",
       "      <th>Department Id</th>\n",
       "      <th>Market</th>\n",
       "      <th>Order Region</th>\n",
       "      <th>Order Status</th>\n",
       "      <th>Order Date</th>\n",
       "      <th>Order Item Discount</th>\n",
       "      <th>Order Item Discount Rate</th>\n",
       "      <th>Order Item Id</th>\n",
       "      <th>Order Item Quantity</th>\n",
       "      <th>Sales</th>\n",
       "      <th>Order Item Total</th>\n",
       "      <th>Order Profit</th>\n",
       "      <th>Payment Method</th>\n",
       "      <th>Days for shipping (real)</th>\n",
       "      <th>Days for shipment (scheduled)</th>\n",
       "      <th>Delivery Status</th>\n",
       "      <th>Late Delivery</th>\n",
       "      <th>Customer Segment</th>\n",
       "      <th>Department Name</th>\n",
       "      <th>Product Category Id</th>\n",
       "      <th>Product Name</th>\n",
       "      <th>Product Price</th>\n",
       "      <th>Category Name</th>\n",
       "    </tr>\n",
       "  </thead>\n",
       "  <tbody>\n",
       "    <tr>\n",
       "      <th>0</th>\n",
       "      <td>1360</td>\n",
       "      <td>20755</td>\n",
       "      <td>2</td>\n",
       "      <td>Pacific Asia</td>\n",
       "      <td>Southeast Asia</td>\n",
       "      <td>COMPLETE</td>\n",
       "      <td>1/31/2018 22:56</td>\n",
       "      <td>13.11</td>\n",
       "      <td>0.04</td>\n",
       "      <td>180517</td>\n",
       "      <td>1</td>\n",
       "      <td>327.75</td>\n",
       "      <td>314.640015</td>\n",
       "      <td>91.25</td>\n",
       "      <td>DEBIT</td>\n",
       "      <td>3</td>\n",
       "      <td>4</td>\n",
       "      <td>Advance shipping</td>\n",
       "      <td>0</td>\n",
       "      <td>Consumer</td>\n",
       "      <td>Fitness</td>\n",
       "      <td>73</td>\n",
       "      <td>Smart watch</td>\n",
       "      <td>327.75</td>\n",
       "      <td>Sporting Goods</td>\n",
       "    </tr>\n",
       "  </tbody>\n",
       "</table>\n",
       "</div>"
      ],
      "text/plain": [
       "   Product Id  Customer Id  Department Id        Market    Order Region  \\\n",
       "0        1360        20755              2  Pacific Asia  Southeast Asia   \n",
       "\n",
       "  Order Status       Order Date  Order Item Discount  \\\n",
       "0     COMPLETE  1/31/2018 22:56                13.11   \n",
       "\n",
       "   Order Item Discount Rate  Order Item Id  Order Item Quantity   Sales  \\\n",
       "0                      0.04         180517                    1  327.75   \n",
       "\n",
       "   Order Item Total  Order Profit Payment Method  Days for shipping (real)  \\\n",
       "0        314.640015         91.25          DEBIT                         3   \n",
       "\n",
       "   Days for shipment (scheduled)   Delivery Status  Late Delivery  \\\n",
       "0                              4  Advance shipping              0   \n",
       "\n",
       "  Customer Segment Department Name  Product Category Id  Product Name  \\\n",
       "0         Consumer         Fitness                   73  Smart watch    \n",
       "\n",
       "   Product Price   Category Name  \n",
       "0         327.75  Sporting Goods  "
      ]
     },
     "execution_count": 147,
     "metadata": {},
     "output_type": "execute_result"
    }
   ],
   "source": [
    "drop_col(combined_df,[\"Order City\",\"Order State\",\"Order Country\",\"Order Zipcode\"])\n",
    "combined_df.head(1)"
   ]
  },
  {
   "cell_type": "markdown",
   "id": "bb04cb53",
   "metadata": {},
   "source": [
    "- Drop the text based descriptive columns as they will not aid the causal analysis"
   ]
  },
  {
   "cell_type": "code",
   "execution_count": 148,
   "id": "a11b002a",
   "metadata": {
    "ExecuteTime": {
     "end_time": "2022-03-13T21:16:06.263326Z",
     "start_time": "2022-03-13T21:16:06.234328Z"
    }
   },
   "outputs": [
    {
     "data": {
      "text/html": [
       "<div>\n",
       "<style scoped>\n",
       "    .dataframe tbody tr th:only-of-type {\n",
       "        vertical-align: middle;\n",
       "    }\n",
       "\n",
       "    .dataframe tbody tr th {\n",
       "        vertical-align: top;\n",
       "    }\n",
       "\n",
       "    .dataframe thead th {\n",
       "        text-align: right;\n",
       "    }\n",
       "</style>\n",
       "<table border=\"1\" class=\"dataframe\">\n",
       "  <thead>\n",
       "    <tr style=\"text-align: right;\">\n",
       "      <th></th>\n",
       "      <th>Product Id</th>\n",
       "      <th>Customer Id</th>\n",
       "      <th>Department Id</th>\n",
       "      <th>Market</th>\n",
       "      <th>Order Region</th>\n",
       "      <th>Order Status</th>\n",
       "      <th>Order Date</th>\n",
       "      <th>Order Item Discount</th>\n",
       "      <th>Order Item Discount Rate</th>\n",
       "      <th>Order Item Id</th>\n",
       "      <th>Order Item Quantity</th>\n",
       "      <th>Sales</th>\n",
       "      <th>Order Item Total</th>\n",
       "      <th>Order Profit</th>\n",
       "      <th>Payment Method</th>\n",
       "      <th>Days for shipping (real)</th>\n",
       "      <th>Days for shipment (scheduled)</th>\n",
       "      <th>Delivery Status</th>\n",
       "      <th>Late Delivery</th>\n",
       "      <th>Customer Segment</th>\n",
       "      <th>Product Category Id</th>\n",
       "      <th>Product Price</th>\n",
       "    </tr>\n",
       "  </thead>\n",
       "  <tbody>\n",
       "    <tr>\n",
       "      <th>0</th>\n",
       "      <td>1360</td>\n",
       "      <td>20755</td>\n",
       "      <td>2</td>\n",
       "      <td>Pacific Asia</td>\n",
       "      <td>Southeast Asia</td>\n",
       "      <td>COMPLETE</td>\n",
       "      <td>1/31/2018 22:56</td>\n",
       "      <td>13.11</td>\n",
       "      <td>0.04</td>\n",
       "      <td>180517</td>\n",
       "      <td>1</td>\n",
       "      <td>327.75</td>\n",
       "      <td>314.640015</td>\n",
       "      <td>91.25</td>\n",
       "      <td>DEBIT</td>\n",
       "      <td>3</td>\n",
       "      <td>4</td>\n",
       "      <td>Advance shipping</td>\n",
       "      <td>0</td>\n",
       "      <td>Consumer</td>\n",
       "      <td>73</td>\n",
       "      <td>327.75</td>\n",
       "    </tr>\n",
       "  </tbody>\n",
       "</table>\n",
       "</div>"
      ],
      "text/plain": [
       "   Product Id  Customer Id  Department Id        Market    Order Region  \\\n",
       "0        1360        20755              2  Pacific Asia  Southeast Asia   \n",
       "\n",
       "  Order Status       Order Date  Order Item Discount  \\\n",
       "0     COMPLETE  1/31/2018 22:56                13.11   \n",
       "\n",
       "   Order Item Discount Rate  Order Item Id  Order Item Quantity   Sales  \\\n",
       "0                      0.04         180517                    1  327.75   \n",
       "\n",
       "   Order Item Total  Order Profit Payment Method  Days for shipping (real)  \\\n",
       "0        314.640015         91.25          DEBIT                         3   \n",
       "\n",
       "   Days for shipment (scheduled)   Delivery Status  Late Delivery  \\\n",
       "0                              4  Advance shipping              0   \n",
       "\n",
       "  Customer Segment  Product Category Id  Product Price  \n",
       "0         Consumer                   73         327.75  "
      ]
     },
     "execution_count": 148,
     "metadata": {},
     "output_type": "execute_result"
    }
   ],
   "source": [
    "drop_col(combined_df,[\"Product Name\",\"Department Name\",\"Category Name\"])\n",
    "combined_df.head(1)"
   ]
  },
  {
   "cell_type": "markdown",
   "id": "553738e1",
   "metadata": {},
   "source": [
    "#### Inspect some columns to decide if they should be cut "
   ]
  },
  {
   "cell_type": "markdown",
   "id": "16aac837",
   "metadata": {},
   "source": [
    "Check for missing values"
   ]
  },
  {
   "cell_type": "code",
   "execution_count": 149,
   "id": "605a27cc",
   "metadata": {
    "ExecuteTime": {
     "end_time": "2022-03-13T21:16:06.390336Z",
     "start_time": "2022-03-13T21:16:06.264327Z"
    }
   },
   "outputs": [
    {
     "data": {
      "text/plain": [
       "False"
      ]
     },
     "execution_count": 149,
     "metadata": {},
     "output_type": "execute_result"
    }
   ],
   "source": [
    "combined_df.isnull().values.any()"
   ]
  },
  {
   "cell_type": "markdown",
   "id": "cd48bf94",
   "metadata": {},
   "source": [
    "- Drop Order Item Id "
   ]
  },
  {
   "cell_type": "code",
   "execution_count": 150,
   "id": "515ef694",
   "metadata": {
    "ExecuteTime": {
     "end_time": "2022-03-13T21:16:06.560337Z",
     "start_time": "2022-03-13T21:16:06.530337Z"
    }
   },
   "outputs": [
    {
     "data": {
      "text/html": [
       "<div>\n",
       "<style scoped>\n",
       "    .dataframe tbody tr th:only-of-type {\n",
       "        vertical-align: middle;\n",
       "    }\n",
       "\n",
       "    .dataframe tbody tr th {\n",
       "        vertical-align: top;\n",
       "    }\n",
       "\n",
       "    .dataframe thead th {\n",
       "        text-align: right;\n",
       "    }\n",
       "</style>\n",
       "<table border=\"1\" class=\"dataframe\">\n",
       "  <thead>\n",
       "    <tr style=\"text-align: right;\">\n",
       "      <th></th>\n",
       "      <th>Product Id</th>\n",
       "      <th>Customer Id</th>\n",
       "      <th>Department Id</th>\n",
       "      <th>Market</th>\n",
       "      <th>Order Region</th>\n",
       "      <th>Order Status</th>\n",
       "      <th>Order Date</th>\n",
       "      <th>Order Item Discount</th>\n",
       "      <th>Order Item Discount Rate</th>\n",
       "      <th>Order Item Quantity</th>\n",
       "      <th>Sales</th>\n",
       "      <th>Order Item Total</th>\n",
       "      <th>Order Profit</th>\n",
       "      <th>Payment Method</th>\n",
       "      <th>Days for shipping (real)</th>\n",
       "      <th>Days for shipment (scheduled)</th>\n",
       "      <th>Delivery Status</th>\n",
       "      <th>Late Delivery</th>\n",
       "      <th>Customer Segment</th>\n",
       "      <th>Product Category Id</th>\n",
       "      <th>Product Price</th>\n",
       "    </tr>\n",
       "  </thead>\n",
       "  <tbody>\n",
       "    <tr>\n",
       "      <th>0</th>\n",
       "      <td>1360</td>\n",
       "      <td>20755</td>\n",
       "      <td>2</td>\n",
       "      <td>Pacific Asia</td>\n",
       "      <td>Southeast Asia</td>\n",
       "      <td>COMPLETE</td>\n",
       "      <td>1/31/2018 22:56</td>\n",
       "      <td>13.11</td>\n",
       "      <td>0.04</td>\n",
       "      <td>1</td>\n",
       "      <td>327.75</td>\n",
       "      <td>314.640015</td>\n",
       "      <td>91.25</td>\n",
       "      <td>DEBIT</td>\n",
       "      <td>3</td>\n",
       "      <td>4</td>\n",
       "      <td>Advance shipping</td>\n",
       "      <td>0</td>\n",
       "      <td>Consumer</td>\n",
       "      <td>73</td>\n",
       "      <td>327.75</td>\n",
       "    </tr>\n",
       "  </tbody>\n",
       "</table>\n",
       "</div>"
      ],
      "text/plain": [
       "   Product Id  Customer Id  Department Id        Market    Order Region  \\\n",
       "0        1360        20755              2  Pacific Asia  Southeast Asia   \n",
       "\n",
       "  Order Status       Order Date  Order Item Discount  \\\n",
       "0     COMPLETE  1/31/2018 22:56                13.11   \n",
       "\n",
       "   Order Item Discount Rate  Order Item Quantity   Sales  Order Item Total  \\\n",
       "0                      0.04                    1  327.75        314.640015   \n",
       "\n",
       "   Order Profit Payment Method  Days for shipping (real)  \\\n",
       "0         91.25          DEBIT                         3   \n",
       "\n",
       "   Days for shipment (scheduled)   Delivery Status  Late Delivery  \\\n",
       "0                              4  Advance shipping              0   \n",
       "\n",
       "  Customer Segment  Product Category Id  Product Price  \n",
       "0         Consumer                   73         327.75  "
      ]
     },
     "execution_count": 150,
     "metadata": {},
     "output_type": "execute_result"
    }
   ],
   "source": [
    "drop_col(combined_df,[\"Order Item Id\"])\n",
    "combined_df.head(1)"
   ]
  },
  {
   "cell_type": "markdown",
   "id": "b1e27c4a",
   "metadata": {},
   "source": [
    "Take a look at the sales columns"
   ]
  },
  {
   "cell_type": "code",
   "execution_count": 151,
   "id": "05fbcfbb",
   "metadata": {
    "ExecuteTime": {
     "end_time": "2022-03-13T21:16:06.919336Z",
     "start_time": "2022-03-13T21:16:06.895338Z"
    }
   },
   "outputs": [
    {
     "data": {
      "text/html": [
       "<div>\n",
       "<style scoped>\n",
       "    .dataframe tbody tr th:only-of-type {\n",
       "        vertical-align: middle;\n",
       "    }\n",
       "\n",
       "    .dataframe tbody tr th {\n",
       "        vertical-align: top;\n",
       "    }\n",
       "\n",
       "    .dataframe thead th {\n",
       "        text-align: right;\n",
       "    }\n",
       "</style>\n",
       "<table border=\"1\" class=\"dataframe\">\n",
       "  <thead>\n",
       "    <tr style=\"text-align: right;\">\n",
       "      <th></th>\n",
       "      <th>Order Item Discount</th>\n",
       "      <th>Order Item Discount Rate</th>\n",
       "      <th>Order Item Quantity</th>\n",
       "      <th>Sales</th>\n",
       "      <th>Order Item Total</th>\n",
       "      <th>Order Profit</th>\n",
       "      <th>Product Price</th>\n",
       "    </tr>\n",
       "  </thead>\n",
       "  <tbody>\n",
       "    <tr>\n",
       "      <th>0</th>\n",
       "      <td>13.110000</td>\n",
       "      <td>0.04</td>\n",
       "      <td>1</td>\n",
       "      <td>327.75</td>\n",
       "      <td>314.640015</td>\n",
       "      <td>91.250000</td>\n",
       "      <td>327.75</td>\n",
       "    </tr>\n",
       "    <tr>\n",
       "      <th>1</th>\n",
       "      <td>16.389999</td>\n",
       "      <td>0.05</td>\n",
       "      <td>1</td>\n",
       "      <td>327.75</td>\n",
       "      <td>311.359985</td>\n",
       "      <td>-249.089996</td>\n",
       "      <td>327.75</td>\n",
       "    </tr>\n",
       "    <tr>\n",
       "      <th>2</th>\n",
       "      <td>18.030001</td>\n",
       "      <td>0.06</td>\n",
       "      <td>1</td>\n",
       "      <td>327.75</td>\n",
       "      <td>309.720001</td>\n",
       "      <td>-247.779999</td>\n",
       "      <td>327.75</td>\n",
       "    </tr>\n",
       "    <tr>\n",
       "      <th>3</th>\n",
       "      <td>22.940001</td>\n",
       "      <td>0.07</td>\n",
       "      <td>1</td>\n",
       "      <td>327.75</td>\n",
       "      <td>304.809998</td>\n",
       "      <td>22.860001</td>\n",
       "      <td>327.75</td>\n",
       "    </tr>\n",
       "    <tr>\n",
       "      <th>4</th>\n",
       "      <td>29.500000</td>\n",
       "      <td>0.09</td>\n",
       "      <td>1</td>\n",
       "      <td>327.75</td>\n",
       "      <td>298.250000</td>\n",
       "      <td>134.210007</td>\n",
       "      <td>327.75</td>\n",
       "    </tr>\n",
       "  </tbody>\n",
       "</table>\n",
       "</div>"
      ],
      "text/plain": [
       "   Order Item Discount  Order Item Discount Rate  Order Item Quantity   Sales  \\\n",
       "0            13.110000                      0.04                    1  327.75   \n",
       "1            16.389999                      0.05                    1  327.75   \n",
       "2            18.030001                      0.06                    1  327.75   \n",
       "3            22.940001                      0.07                    1  327.75   \n",
       "4            29.500000                      0.09                    1  327.75   \n",
       "\n",
       "   Order Item Total  Order Profit  Product Price  \n",
       "0        314.640015     91.250000         327.75  \n",
       "1        311.359985   -249.089996         327.75  \n",
       "2        309.720001   -247.779999         327.75  \n",
       "3        304.809998     22.860001         327.75  \n",
       "4        298.250000    134.210007         327.75  "
      ]
     },
     "execution_count": 151,
     "metadata": {},
     "output_type": "execute_result"
    }
   ],
   "source": [
    "a = combined_df.columns\n",
    "sales_df = combined_df[[a[7],a[8],a[9],a[10],a[11],a[12],a[-1]]]\n",
    "a = sales_df.columns.to_list()\n",
    "sales_df.head()"
   ]
  },
  {
   "cell_type": "code",
   "execution_count": 152,
   "id": "a1fb19c6",
   "metadata": {
    "ExecuteTime": {
     "end_time": "2022-03-13T21:16:07.057335Z",
     "start_time": "2022-03-13T21:16:07.046335Z"
    }
   },
   "outputs": [
    {
     "data": {
      "text/plain": [
       "1    99134\n",
       "5    20385\n",
       "3    20350\n",
       "4    20335\n",
       "2    20315\n",
       "Name: Order Item Quantity, dtype: int64"
      ]
     },
     "execution_count": 152,
     "metadata": {},
     "output_type": "execute_result"
    }
   ],
   "source": [
    "sales_df[\"Order Item Quantity\"].value_counts()"
   ]
  },
  {
   "cell_type": "markdown",
   "id": "e5549251",
   "metadata": {
    "ExecuteTime": {
     "end_time": "2022-03-11T22:37:43.484646Z",
     "start_time": "2022-03-11T22:37:43.451652Z"
    }
   },
   "source": [
    "- Only the Order Item Quantity may be relevant to me, so I will cut:"
   ]
  },
  {
   "cell_type": "code",
   "execution_count": 153,
   "id": "90f66b20",
   "metadata": {
    "ExecuteTime": {
     "end_time": "2022-03-13T21:16:07.393629Z",
     "start_time": "2022-03-13T21:16:07.386629Z"
    }
   },
   "outputs": [],
   "source": [
    "a.remove(\"Order Item Quantity\")"
   ]
  },
  {
   "cell_type": "code",
   "execution_count": 154,
   "id": "b5feb6d5",
   "metadata": {
    "ExecuteTime": {
     "end_time": "2022-03-13T21:16:07.596630Z",
     "start_time": "2022-03-13T21:16:07.573629Z"
    }
   },
   "outputs": [
    {
     "data": {
      "text/html": [
       "<div>\n",
       "<style scoped>\n",
       "    .dataframe tbody tr th:only-of-type {\n",
       "        vertical-align: middle;\n",
       "    }\n",
       "\n",
       "    .dataframe tbody tr th {\n",
       "        vertical-align: top;\n",
       "    }\n",
       "\n",
       "    .dataframe thead th {\n",
       "        text-align: right;\n",
       "    }\n",
       "</style>\n",
       "<table border=\"1\" class=\"dataframe\">\n",
       "  <thead>\n",
       "    <tr style=\"text-align: right;\">\n",
       "      <th></th>\n",
       "      <th>Product Id</th>\n",
       "      <th>Customer Id</th>\n",
       "      <th>Department Id</th>\n",
       "      <th>Market</th>\n",
       "      <th>Order Region</th>\n",
       "      <th>Order Status</th>\n",
       "      <th>Order Date</th>\n",
       "      <th>Order Item Quantity</th>\n",
       "      <th>Payment Method</th>\n",
       "      <th>Days for shipping (real)</th>\n",
       "      <th>Days for shipment (scheduled)</th>\n",
       "      <th>Delivery Status</th>\n",
       "      <th>Late Delivery</th>\n",
       "      <th>Customer Segment</th>\n",
       "      <th>Product Category Id</th>\n",
       "    </tr>\n",
       "  </thead>\n",
       "  <tbody>\n",
       "    <tr>\n",
       "      <th>0</th>\n",
       "      <td>1360</td>\n",
       "      <td>20755</td>\n",
       "      <td>2</td>\n",
       "      <td>Pacific Asia</td>\n",
       "      <td>Southeast Asia</td>\n",
       "      <td>COMPLETE</td>\n",
       "      <td>1/31/2018 22:56</td>\n",
       "      <td>1</td>\n",
       "      <td>DEBIT</td>\n",
       "      <td>3</td>\n",
       "      <td>4</td>\n",
       "      <td>Advance shipping</td>\n",
       "      <td>0</td>\n",
       "      <td>Consumer</td>\n",
       "      <td>73</td>\n",
       "    </tr>\n",
       "    <tr>\n",
       "      <th>1</th>\n",
       "      <td>1360</td>\n",
       "      <td>19492</td>\n",
       "      <td>2</td>\n",
       "      <td>Pacific Asia</td>\n",
       "      <td>South Asia</td>\n",
       "      <td>PENDING</td>\n",
       "      <td>1/13/2018 12:27</td>\n",
       "      <td>1</td>\n",
       "      <td>TRANSFER</td>\n",
       "      <td>5</td>\n",
       "      <td>4</td>\n",
       "      <td>Late delivery</td>\n",
       "      <td>1</td>\n",
       "      <td>Consumer</td>\n",
       "      <td>73</td>\n",
       "    </tr>\n",
       "    <tr>\n",
       "      <th>2</th>\n",
       "      <td>1360</td>\n",
       "      <td>19491</td>\n",
       "      <td>2</td>\n",
       "      <td>Pacific Asia</td>\n",
       "      <td>South Asia</td>\n",
       "      <td>CLOSED</td>\n",
       "      <td>1/13/2018 12:06</td>\n",
       "      <td>1</td>\n",
       "      <td>CASH</td>\n",
       "      <td>4</td>\n",
       "      <td>4</td>\n",
       "      <td>Shipping on time</td>\n",
       "      <td>0</td>\n",
       "      <td>Consumer</td>\n",
       "      <td>73</td>\n",
       "    </tr>\n",
       "    <tr>\n",
       "      <th>3</th>\n",
       "      <td>1360</td>\n",
       "      <td>19490</td>\n",
       "      <td>2</td>\n",
       "      <td>Pacific Asia</td>\n",
       "      <td>Oceania</td>\n",
       "      <td>COMPLETE</td>\n",
       "      <td>1/13/2018 11:45</td>\n",
       "      <td>1</td>\n",
       "      <td>DEBIT</td>\n",
       "      <td>3</td>\n",
       "      <td>4</td>\n",
       "      <td>Advance shipping</td>\n",
       "      <td>0</td>\n",
       "      <td>Home Office</td>\n",
       "      <td>73</td>\n",
       "    </tr>\n",
       "    <tr>\n",
       "      <th>4</th>\n",
       "      <td>1360</td>\n",
       "      <td>19489</td>\n",
       "      <td>2</td>\n",
       "      <td>Pacific Asia</td>\n",
       "      <td>Oceania</td>\n",
       "      <td>PENDING_PAYMENT</td>\n",
       "      <td>1/13/2018 11:24</td>\n",
       "      <td>1</td>\n",
       "      <td>PAYMENT</td>\n",
       "      <td>2</td>\n",
       "      <td>4</td>\n",
       "      <td>Advance shipping</td>\n",
       "      <td>0</td>\n",
       "      <td>Corporate</td>\n",
       "      <td>73</td>\n",
       "    </tr>\n",
       "  </tbody>\n",
       "</table>\n",
       "</div>"
      ],
      "text/plain": [
       "   Product Id  Customer Id  Department Id        Market    Order Region  \\\n",
       "0        1360        20755              2  Pacific Asia  Southeast Asia   \n",
       "1        1360        19492              2  Pacific Asia      South Asia   \n",
       "2        1360        19491              2  Pacific Asia      South Asia   \n",
       "3        1360        19490              2  Pacific Asia         Oceania   \n",
       "4        1360        19489              2  Pacific Asia         Oceania   \n",
       "\n",
       "      Order Status       Order Date  Order Item Quantity Payment Method  \\\n",
       "0         COMPLETE  1/31/2018 22:56                    1          DEBIT   \n",
       "1          PENDING  1/13/2018 12:27                    1       TRANSFER   \n",
       "2           CLOSED  1/13/2018 12:06                    1           CASH   \n",
       "3         COMPLETE  1/13/2018 11:45                    1          DEBIT   \n",
       "4  PENDING_PAYMENT  1/13/2018 11:24                    1        PAYMENT   \n",
       "\n",
       "   Days for shipping (real)  Days for shipment (scheduled)   Delivery Status  \\\n",
       "0                         3                              4  Advance shipping   \n",
       "1                         5                              4     Late delivery   \n",
       "2                         4                              4  Shipping on time   \n",
       "3                         3                              4  Advance shipping   \n",
       "4                         2                              4  Advance shipping   \n",
       "\n",
       "   Late Delivery Customer Segment  Product Category Id  \n",
       "0              0         Consumer                   73  \n",
       "1              1         Consumer                   73  \n",
       "2              0         Consumer                   73  \n",
       "3              0      Home Office                   73  \n",
       "4              0        Corporate                   73  "
      ]
     },
     "execution_count": 154,
     "metadata": {},
     "output_type": "execute_result"
    }
   ],
   "source": [
    "drop_col(combined_df,a)\n",
    "combined_df.head()"
   ]
  },
  {
   "cell_type": "markdown",
   "id": "dd8090ba",
   "metadata": {
    "ExecuteTime": {
     "end_time": "2022-03-11T22:41:53.819051Z",
     "start_time": "2022-03-11T22:41:53.801051Z"
    }
   },
   "source": [
    "#### Inspect Product categories"
   ]
  },
  {
   "cell_type": "code",
   "execution_count": 155,
   "id": "ebce4808",
   "metadata": {
    "ExecuteTime": {
     "end_time": "2022-03-13T21:16:07.957183Z",
     "start_time": "2022-03-13T21:16:07.945183Z"
    }
   },
   "outputs": [],
   "source": [
    "a = combined_df.columns.to_list()\n",
    "prod_df = combined_df[[a[2],a[-1]]]"
   ]
  },
  {
   "cell_type": "code",
   "execution_count": 156,
   "id": "dde997f6",
   "metadata": {
    "ExecuteTime": {
     "end_time": "2022-03-13T21:16:08.131183Z",
     "start_time": "2022-03-13T21:16:08.121184Z"
    }
   },
   "outputs": [
    {
     "data": {
      "text/plain": [
       "Department Id  Product Category Id\n",
       "2              3                      632\n",
       "               7                      614\n",
       "               73                     357\n",
       "               5                      343\n",
       "               6                      328\n",
       "               2                      138\n",
       "               4                       67\n",
       "dtype: int64"
      ]
     },
     "execution_count": 156,
     "metadata": {},
     "output_type": "execute_result"
    }
   ],
   "source": [
    "prod_df[prod_df[\"Department Id\"] == 2].value_counts()"
   ]
  },
  {
   "cell_type": "markdown",
   "id": "d163642a",
   "metadata": {},
   "source": [
    "Department Id captures product information, so I will cut the columns : Product Id and Product Category Id"
   ]
  },
  {
   "cell_type": "code",
   "execution_count": 157,
   "id": "df7cc7a6",
   "metadata": {
    "ExecuteTime": {
     "end_time": "2022-03-13T21:16:08.991200Z",
     "start_time": "2022-03-13T21:16:08.959202Z"
    }
   },
   "outputs": [
    {
     "data": {
      "text/html": [
       "<div>\n",
       "<style scoped>\n",
       "    .dataframe tbody tr th:only-of-type {\n",
       "        vertical-align: middle;\n",
       "    }\n",
       "\n",
       "    .dataframe tbody tr th {\n",
       "        vertical-align: top;\n",
       "    }\n",
       "\n",
       "    .dataframe thead th {\n",
       "        text-align: right;\n",
       "    }\n",
       "</style>\n",
       "<table border=\"1\" class=\"dataframe\">\n",
       "  <thead>\n",
       "    <tr style=\"text-align: right;\">\n",
       "      <th></th>\n",
       "      <th>Customer Id</th>\n",
       "      <th>Department Id</th>\n",
       "      <th>Market</th>\n",
       "      <th>Order Region</th>\n",
       "      <th>Order Status</th>\n",
       "      <th>Order Date</th>\n",
       "      <th>Order Item Quantity</th>\n",
       "      <th>Payment Method</th>\n",
       "      <th>Days for shipping (real)</th>\n",
       "      <th>Days for shipment (scheduled)</th>\n",
       "      <th>Delivery Status</th>\n",
       "      <th>Late Delivery</th>\n",
       "      <th>Customer Segment</th>\n",
       "    </tr>\n",
       "  </thead>\n",
       "  <tbody>\n",
       "    <tr>\n",
       "      <th>0</th>\n",
       "      <td>20755</td>\n",
       "      <td>2</td>\n",
       "      <td>Pacific Asia</td>\n",
       "      <td>Southeast Asia</td>\n",
       "      <td>COMPLETE</td>\n",
       "      <td>1/31/2018 22:56</td>\n",
       "      <td>1</td>\n",
       "      <td>DEBIT</td>\n",
       "      <td>3</td>\n",
       "      <td>4</td>\n",
       "      <td>Advance shipping</td>\n",
       "      <td>0</td>\n",
       "      <td>Consumer</td>\n",
       "    </tr>\n",
       "  </tbody>\n",
       "</table>\n",
       "</div>"
      ],
      "text/plain": [
       "   Customer Id  Department Id        Market    Order Region Order Status  \\\n",
       "0        20755              2  Pacific Asia  Southeast Asia     COMPLETE   \n",
       "\n",
       "        Order Date  Order Item Quantity Payment Method  \\\n",
       "0  1/31/2018 22:56                    1          DEBIT   \n",
       "\n",
       "   Days for shipping (real)  Days for shipment (scheduled)   Delivery Status  \\\n",
       "0                         3                              4  Advance shipping   \n",
       "\n",
       "   Late Delivery Customer Segment  \n",
       "0              0         Consumer  "
      ]
     },
     "execution_count": 157,
     "metadata": {},
     "output_type": "execute_result"
    }
   ],
   "source": [
    "drop_col(combined_df,[a[0], a[-1]])\n",
    "combined_df.head(1)"
   ]
  },
  {
   "cell_type": "markdown",
   "id": "05dd6c74",
   "metadata": {},
   "source": [
    "- Customer Id does not help me here either - drop it"
   ]
  },
  {
   "cell_type": "code",
   "execution_count": 158,
   "id": "e3a87d7f",
   "metadata": {
    "ExecuteTime": {
     "end_time": "2022-03-13T21:16:09.864361Z",
     "start_time": "2022-03-13T21:16:09.833365Z"
    }
   },
   "outputs": [
    {
     "data": {
      "text/html": [
       "<div>\n",
       "<style scoped>\n",
       "    .dataframe tbody tr th:only-of-type {\n",
       "        vertical-align: middle;\n",
       "    }\n",
       "\n",
       "    .dataframe tbody tr th {\n",
       "        vertical-align: top;\n",
       "    }\n",
       "\n",
       "    .dataframe thead th {\n",
       "        text-align: right;\n",
       "    }\n",
       "</style>\n",
       "<table border=\"1\" class=\"dataframe\">\n",
       "  <thead>\n",
       "    <tr style=\"text-align: right;\">\n",
       "      <th></th>\n",
       "      <th>Department Id</th>\n",
       "      <th>Market</th>\n",
       "      <th>Order Region</th>\n",
       "      <th>Order Status</th>\n",
       "      <th>Order Date</th>\n",
       "      <th>Order Item Quantity</th>\n",
       "      <th>Payment Method</th>\n",
       "      <th>Days for shipping (real)</th>\n",
       "      <th>Days for shipment (scheduled)</th>\n",
       "      <th>Delivery Status</th>\n",
       "      <th>Late Delivery</th>\n",
       "      <th>Customer Segment</th>\n",
       "    </tr>\n",
       "  </thead>\n",
       "  <tbody>\n",
       "    <tr>\n",
       "      <th>0</th>\n",
       "      <td>2</td>\n",
       "      <td>Pacific Asia</td>\n",
       "      <td>Southeast Asia</td>\n",
       "      <td>COMPLETE</td>\n",
       "      <td>1/31/2018 22:56</td>\n",
       "      <td>1</td>\n",
       "      <td>DEBIT</td>\n",
       "      <td>3</td>\n",
       "      <td>4</td>\n",
       "      <td>Advance shipping</td>\n",
       "      <td>0</td>\n",
       "      <td>Consumer</td>\n",
       "    </tr>\n",
       "  </tbody>\n",
       "</table>\n",
       "</div>"
      ],
      "text/plain": [
       "   Department Id        Market    Order Region Order Status       Order Date  \\\n",
       "0              2  Pacific Asia  Southeast Asia     COMPLETE  1/31/2018 22:56   \n",
       "\n",
       "   Order Item Quantity Payment Method  Days for shipping (real)  \\\n",
       "0                    1          DEBIT                         3   \n",
       "\n",
       "   Days for shipment (scheduled)   Delivery Status  Late Delivery  \\\n",
       "0                              4  Advance shipping              0   \n",
       "\n",
       "  Customer Segment  \n",
       "0         Consumer  "
      ]
     },
     "execution_count": 158,
     "metadata": {},
     "output_type": "execute_result"
    }
   ],
   "source": [
    "drop_col(combined_df,[\"Customer Id\"])\n",
    "combined_df.head(1)"
   ]
  },
  {
   "cell_type": "markdown",
   "id": "381e587f",
   "metadata": {},
   "source": [
    "- Drop cancelled and fraudulent orders"
   ]
  },
  {
   "cell_type": "code",
   "execution_count": 159,
   "id": "9b7e904c",
   "metadata": {
    "ExecuteTime": {
     "end_time": "2022-03-13T21:16:10.268361Z",
     "start_time": "2022-03-13T21:16:10.224361Z"
    },
    "scrolled": true
   },
   "outputs": [],
   "source": [
    "combined_df = combined_df.loc[(combined_df[\"Delivery Status\"] != \"Shipping canceled\")].copy()"
   ]
  },
  {
   "cell_type": "markdown",
   "id": "ade4df59",
   "metadata": {},
   "source": [
    "- Previous analysis shows that payment type is a variable that matches the Delivery Status, so will remove that as it is duplicate info"
   ]
  },
  {
   "cell_type": "code",
   "execution_count": 160,
   "id": "622b87e4",
   "metadata": {
    "ExecuteTime": {
     "end_time": "2022-03-13T21:16:10.806494Z",
     "start_time": "2022-03-13T21:16:10.778498Z"
    }
   },
   "outputs": [],
   "source": [
    "drop_col(combined_df,[\"Payment Method\"])"
   ]
  },
  {
   "cell_type": "code",
   "execution_count": 161,
   "id": "713cd2a1",
   "metadata": {
    "ExecuteTime": {
     "end_time": "2022-03-13T21:16:11.045008Z",
     "start_time": "2022-03-13T21:16:11.032008Z"
    }
   },
   "outputs": [
    {
     "data": {
      "text/html": [
       "<div>\n",
       "<style scoped>\n",
       "    .dataframe tbody tr th:only-of-type {\n",
       "        vertical-align: middle;\n",
       "    }\n",
       "\n",
       "    .dataframe tbody tr th {\n",
       "        vertical-align: top;\n",
       "    }\n",
       "\n",
       "    .dataframe thead th {\n",
       "        text-align: right;\n",
       "    }\n",
       "</style>\n",
       "<table border=\"1\" class=\"dataframe\">\n",
       "  <thead>\n",
       "    <tr style=\"text-align: right;\">\n",
       "      <th></th>\n",
       "      <th>Department Id</th>\n",
       "      <th>Market</th>\n",
       "      <th>Order Region</th>\n",
       "      <th>Order Status</th>\n",
       "      <th>Order Date</th>\n",
       "      <th>Order Item Quantity</th>\n",
       "      <th>Days for shipping (real)</th>\n",
       "      <th>Days for shipment (scheduled)</th>\n",
       "      <th>Delivery Status</th>\n",
       "      <th>Late Delivery</th>\n",
       "      <th>Customer Segment</th>\n",
       "    </tr>\n",
       "  </thead>\n",
       "  <tbody>\n",
       "    <tr>\n",
       "      <th>0</th>\n",
       "      <td>2</td>\n",
       "      <td>Pacific Asia</td>\n",
       "      <td>Southeast Asia</td>\n",
       "      <td>COMPLETE</td>\n",
       "      <td>1/31/2018 22:56</td>\n",
       "      <td>1</td>\n",
       "      <td>3</td>\n",
       "      <td>4</td>\n",
       "      <td>Advance shipping</td>\n",
       "      <td>0</td>\n",
       "      <td>Consumer</td>\n",
       "    </tr>\n",
       "  </tbody>\n",
       "</table>\n",
       "</div>"
      ],
      "text/plain": [
       "   Department Id        Market    Order Region Order Status       Order Date  \\\n",
       "0              2  Pacific Asia  Southeast Asia     COMPLETE  1/31/2018 22:56   \n",
       "\n",
       "   Order Item Quantity  Days for shipping (real)  \\\n",
       "0                    1                         3   \n",
       "\n",
       "   Days for shipment (scheduled)   Delivery Status  Late Delivery  \\\n",
       "0                              4  Advance shipping              0   \n",
       "\n",
       "  Customer Segment  \n",
       "0         Consumer  "
      ]
     },
     "execution_count": 161,
     "metadata": {},
     "output_type": "execute_result"
    }
   ],
   "source": [
    "combined_df.head(1)"
   ]
  },
  {
   "cell_type": "markdown",
   "id": "0646e438",
   "metadata": {},
   "source": [
    "Reformat dates column so it is numerical year"
   ]
  },
  {
   "cell_type": "code",
   "execution_count": 162,
   "id": "75f75c67",
   "metadata": {
    "ExecuteTime": {
     "end_time": "2022-03-13T21:16:11.436905Z",
     "start_time": "2022-03-13T21:16:11.426007Z"
    }
   },
   "outputs": [],
   "source": [
    "dates = combined_df[\"Order Date\"]"
   ]
  },
  {
   "cell_type": "code",
   "execution_count": 163,
   "id": "bb4a7884",
   "metadata": {
    "ExecuteTime": {
     "end_time": "2022-03-13T21:16:11.938393Z",
     "start_time": "2022-03-13T21:16:11.620906Z"
    }
   },
   "outputs": [],
   "source": [
    "d4 = dates.str.contains(\"2018\")\n",
    "d3= dates.str.contains(\"2017\")\n",
    "d2= dates.str.contains(\"2016\")\n",
    "d1= dates.str.contains(\"2015\")"
   ]
  },
  {
   "cell_type": "code",
   "execution_count": 164,
   "id": "76d1aef1",
   "metadata": {
    "ExecuteTime": {
     "end_time": "2022-03-13T21:16:11.954395Z",
     "start_time": "2022-03-13T21:16:11.939394Z"
    }
   },
   "outputs": [],
   "source": [
    "temp = combined_df.copy()"
   ]
  },
  {
   "cell_type": "code",
   "execution_count": 165,
   "id": "1f32ba25",
   "metadata": {
    "ExecuteTime": {
     "end_time": "2022-03-13T21:16:12.593442Z",
     "start_time": "2022-03-13T21:16:12.057393Z"
    }
   },
   "outputs": [],
   "source": [
    "temp['Order Date'] = np.where(temp['Order Date'].str.contains(\"2018\")==True, 3, temp['Order Date'])\n",
    "temp['Order Date'] = np.where(temp['Order Date'].str.contains(\"2017\")==True, 2, temp['Order Date'])\n",
    "temp['Order Date'] = np.where(temp['Order Date'].str.contains(\"2016\")==True, 1, temp['Order Date'])\n",
    "temp['Order Date'] = np.where(temp['Order Date'].str.contains(\"2015\")==True, 0, temp['Order Date'])\n",
    "combined_df = temp.copy()"
   ]
  },
  {
   "cell_type": "code",
   "execution_count": 166,
   "id": "66ad9702",
   "metadata": {
    "ExecuteTime": {
     "end_time": "2022-03-13T21:16:12.625445Z",
     "start_time": "2022-03-13T21:16:12.594442Z"
    }
   },
   "outputs": [],
   "source": [
    "combined_df = combined_df.astype({'Order Date':'int'})"
   ]
  },
  {
   "cell_type": "markdown",
   "id": "a6f8a500",
   "metadata": {},
   "source": [
    "##  iii.Change values to categorical"
   ]
  },
  {
   "cell_type": "code",
   "execution_count": 167,
   "id": "3c9e8320",
   "metadata": {
    "ExecuteTime": {
     "end_time": "2022-03-13T21:16:12.973441Z",
     "start_time": "2022-03-13T21:16:12.960441Z"
    }
   },
   "outputs": [],
   "source": [
    "from sklearn.preprocessing import OrdinalEncoder"
   ]
  },
  {
   "cell_type": "code",
   "execution_count": 168,
   "id": "ea69b986",
   "metadata": {
    "ExecuteTime": {
     "end_time": "2022-03-13T21:16:13.177445Z",
     "start_time": "2022-03-13T21:16:13.175445Z"
    }
   },
   "outputs": [],
   "source": [
    "ord_enc = OrdinalEncoder()"
   ]
  },
  {
   "cell_type": "markdown",
   "id": "b3acb9b6",
   "metadata": {},
   "source": [
    "#### First encode  order_status"
   ]
  },
  {
   "cell_type": "code",
   "execution_count": 169,
   "id": "f280905a",
   "metadata": {
    "ExecuteTime": {
     "end_time": "2022-03-13T21:16:16.009506Z",
     "start_time": "2022-03-13T21:16:15.939515Z"
    }
   },
   "outputs": [
    {
     "data": {
      "text/plain": [
       "Order Status Code  Order Status   \n",
       "1.0                COMPLETE           59491\n",
       "5.0                PENDING_PAYMENT    39832\n",
       "6.0                PROCESSING         21902\n",
       "4.0                PENDING            20227\n",
       "0.0                CLOSED             19616\n",
       "2.0                ON_HOLD             9804\n",
       "3.0                PAYMENT_REVIEW      1893\n",
       "dtype: int64"
      ]
     },
     "execution_count": 169,
     "metadata": {},
     "output_type": "execute_result"
    }
   ],
   "source": [
    "combined_df[\"Order Status Code\"] = ord_enc.fit_transform(combined_df[[\"Order Status\"]])\n",
    "order_status_encoding = combined_df[[\"Order Status Code\", \"Order Status\"]]\n",
    "order_status_encoding.value_counts()"
   ]
  },
  {
   "cell_type": "markdown",
   "id": "072b3d47",
   "metadata": {},
   "source": [
    "#### Encode Market, Region, Delivery Status, customer segments"
   ]
  },
  {
   "cell_type": "markdown",
   "id": "e135102f",
   "metadata": {},
   "source": [
    "##### Market"
   ]
  },
  {
   "cell_type": "code",
   "execution_count": 170,
   "id": "4705aae9",
   "metadata": {
    "ExecuteTime": {
     "end_time": "2022-03-13T21:16:16.497644Z",
     "start_time": "2022-03-13T21:16:16.438643Z"
    }
   },
   "outputs": [
    {
     "data": {
      "text/plain": [
       "Market Code  Market      \n",
       "2.0          LATAM           49309\n",
       "1.0          Europe          48090\n",
       "3.0          Pacific Asia    39585\n",
       "4.0          USCA            24627\n",
       "0.0          Africa          11154\n",
       "dtype: int64"
      ]
     },
     "execution_count": 170,
     "metadata": {},
     "output_type": "execute_result"
    }
   ],
   "source": [
    "combined_df[\"Market Code\"] = ord_enc.fit_transform(combined_df[[\"Market\"]])\n",
    "market_encoding = combined_df[[\"Market Code\", \"Market\"]]\n",
    "market_encoding.value_counts()"
   ]
  },
  {
   "cell_type": "code",
   "execution_count": null,
   "id": "08c90a38",
   "metadata": {},
   "outputs": [],
   "source": []
  },
  {
   "cell_type": "markdown",
   "id": "e5f1e52e",
   "metadata": {},
   "source": [
    "##### Region "
   ]
  },
  {
   "cell_type": "code",
   "execution_count": 171,
   "id": "29cb0c99",
   "metadata": {
    "ExecuteTime": {
     "end_time": "2022-03-13T21:16:16.968662Z",
     "start_time": "2022-03-13T21:16:16.902653Z"
    }
   },
   "outputs": [
    {
     "data": {
      "text/plain": [
       "Order Region Code  Order Region   \n",
       "3.0                Central America    27174\n",
       "22.0               Western Europe     25867\n",
       "12.0               South America      14184\n",
       "11.0               Oceania             9733\n",
       "10.0               Northern Europe     9408\n",
       "15.0               Southeast Asia      9136\n",
       "17.0               Southern Europe     9030\n",
       "1.0                Caribbean           7951\n",
       "21.0               West of USA         7595\n",
       "13.0               South Asia          7455\n",
       "7.0                Eastern Asia        6973\n",
       "6.0                East of USA         6617\n",
       "20.0               West Asia           5746\n",
       "18.0               US Center           5653\n",
       "14.0               South of  USA       3855\n",
       "8.0                Eastern Europe      3785\n",
       "19.0               West Africa         3571\n",
       "9.0                North Africa        3086\n",
       "5.0                East Africa         1781\n",
       "2.0                Central Africa      1616\n",
       "16.0               Southern Africa     1100\n",
       "0.0                Canada               907\n",
       "4.0                Central Asia         542\n",
       "dtype: int64"
      ]
     },
     "execution_count": 171,
     "metadata": {},
     "output_type": "execute_result"
    }
   ],
   "source": [
    "combined_df[\"Order Region Code\"] = ord_enc.fit_transform(combined_df[[\"Order Region\"]])\n",
    "region_encoding = combined_df[[\"Order Region Code\", \"Order Region\"]]\n",
    "region_encoding.value_counts()"
   ]
  },
  {
   "cell_type": "markdown",
   "id": "08acb68a",
   "metadata": {},
   "source": [
    "##### Customer Segment"
   ]
  },
  {
   "cell_type": "code",
   "execution_count": 172,
   "id": "d9090fa3",
   "metadata": {
    "ExecuteTime": {
     "end_time": "2022-03-13T21:16:17.340670Z",
     "start_time": "2022-03-13T21:16:17.270670Z"
    }
   },
   "outputs": [
    {
     "data": {
      "text/plain": [
       "Customer Segment Code  Customer Segment\n",
       "0.0                    Consumer            89420\n",
       "1.0                    Corporate           52528\n",
       "2.0                    Home Office         30817\n",
       "dtype: int64"
      ]
     },
     "execution_count": 172,
     "metadata": {},
     "output_type": "execute_result"
    }
   ],
   "source": [
    "combined_df[\"Customer Segment Code\"] = ord_enc.fit_transform(combined_df[[\"Customer Segment\"]])\n",
    "segment_encoding = combined_df[[\"Customer Segment Code\", \"Customer Segment\"]]\n",
    "segment_encoding.value_counts()"
   ]
  },
  {
   "cell_type": "markdown",
   "id": "66002eba",
   "metadata": {},
   "source": [
    "##### Order Status"
   ]
  },
  {
   "cell_type": "code",
   "execution_count": 173,
   "id": "f9e8717a",
   "metadata": {
    "ExecuteTime": {
     "end_time": "2022-03-13T21:16:19.046736Z",
     "start_time": "2022-03-13T21:16:18.978731Z"
    }
   },
   "outputs": [
    {
     "data": {
      "text/plain": [
       "Order Status Code  Order Status   \n",
       "1.0                COMPLETE           59491\n",
       "5.0                PENDING_PAYMENT    39832\n",
       "6.0                PROCESSING         21902\n",
       "4.0                PENDING            20227\n",
       "0.0                CLOSED             19616\n",
       "2.0                ON_HOLD             9804\n",
       "3.0                PAYMENT_REVIEW      1893\n",
       "dtype: int64"
      ]
     },
     "execution_count": 173,
     "metadata": {},
     "output_type": "execute_result"
    }
   ],
   "source": [
    "combined_df[\"Order Status Code\"] = ord_enc.fit_transform(combined_df[[\"Order Status\"]])\n",
    "order_status_encoding = combined_df[[\"Order Status Code\", \"Order Status\"]]\n",
    "order_status_encoding.value_counts()"
   ]
  },
  {
   "cell_type": "markdown",
   "id": "e6bdb68b",
   "metadata": {},
   "source": [
    "#####  Delivery Status"
   ]
  },
  {
   "cell_type": "code",
   "execution_count": 175,
   "id": "71c874c9",
   "metadata": {
    "ExecuteTime": {
     "end_time": "2022-03-13T21:16:28.534320Z",
     "start_time": "2022-03-13T21:16:28.472321Z"
    }
   },
   "outputs": [
    {
     "data": {
      "text/plain": [
       "Delivery Status Code  Delivery Status \n",
       "1.0                   Late delivery       0.572900\n",
       "0.0                   Advance shipping    0.240743\n",
       "2.0                   Shipping on time    0.186357\n",
       "dtype: float64"
      ]
     },
     "execution_count": 175,
     "metadata": {},
     "output_type": "execute_result"
    }
   ],
   "source": [
    "combined_df[\"Delivery Status Code\"] = ord_enc.fit_transform(combined_df[[\"Delivery Status\"]])\n",
    "delivery_status_encoding = combined_df[[\"Delivery Status Code\", \"Delivery Status\"]]\n",
    "delivery_status_encoding.value_counts(normalize=True)"
   ]
  },
  {
   "cell_type": "markdown",
   "id": "9ded7e28",
   "metadata": {},
   "source": [
    "### Remove the nonnumerical columns "
   ]
  },
  {
   "cell_type": "code",
   "execution_count": 59,
   "id": "581671b8",
   "metadata": {
    "ExecuteTime": {
     "end_time": "2022-03-13T20:43:27.696648Z",
     "start_time": "2022-03-13T20:43:27.681652Z"
    }
   },
   "outputs": [],
   "source": [
    "drop_col(combined_df,[\"Market\",\"Order Region\",\"Customer Segment\",\"Delivery Status\",\"Order Status\"])"
   ]
  },
  {
   "cell_type": "code",
   "execution_count": 60,
   "id": "e2011aef",
   "metadata": {
    "ExecuteTime": {
     "end_time": "2022-03-13T20:43:27.711648Z",
     "start_time": "2022-03-13T20:43:27.697651Z"
    }
   },
   "outputs": [],
   "source": [
    "combined_df.rename(columns = {\"Market Code\": \"Market\",\n",
    "                              \"Order Region Code\": \"Order Region\"\n",
    "                              ,\"Customer Segment Code\": \"Customer Segment\",\n",
    "                            \"Delivery Status Code\": \"Delivery Status\",\n",
    "                            \"Order Status Code\": \"Order Status\"}, inplace=True)"
   ]
  },
  {
   "cell_type": "code",
   "execution_count": 61,
   "id": "33f277ea",
   "metadata": {
    "ExecuteTime": {
     "end_time": "2022-03-13T20:43:27.726648Z",
     "start_time": "2022-03-13T20:43:27.712650Z"
    }
   },
   "outputs": [
    {
     "data": {
      "text/plain": [
       "Department Id                      int64\n",
       "Order Date                         int32\n",
       "Order Item Quantity                int64\n",
       "Days for shipping (real)           int64\n",
       "Days for shipment (scheduled)      int64\n",
       "Late Delivery                      int64\n",
       "Order Status                     float64\n",
       "Market                           float64\n",
       "Order Region                     float64\n",
       "Customer Segment                 float64\n",
       "Delivery Status                  float64\n",
       "dtype: object"
      ]
     },
     "execution_count": 61,
     "metadata": {},
     "output_type": "execute_result"
    }
   ],
   "source": [
    "combined_df.dtypes"
   ]
  },
  {
   "cell_type": "code",
   "execution_count": 62,
   "id": "e0af55bd",
   "metadata": {
    "ExecuteTime": {
     "end_time": "2022-03-13T20:43:28.221902Z",
     "start_time": "2022-03-13T20:43:27.728649Z"
    }
   },
   "outputs": [],
   "source": [
    "combined_df.to_csv(\"BigSupplyCo_Data_Files/master_table_filtered.csv\")"
   ]
  },
  {
   "cell_type": "markdown",
   "id": "c894c533",
   "metadata": {},
   "source": [
    "## Drop all columns but the late delivery regarding delivery "
   ]
  },
  {
   "cell_type": "code",
   "execution_count": null,
   "id": "54cdd381",
   "metadata": {},
   "outputs": [],
   "source": [
    "backup_df = combined_df.copy()"
   ]
  },
  {
   "cell_type": "code",
   "execution_count": null,
   "id": "9971901b",
   "metadata": {},
   "outputs": [],
   "source": []
  },
  {
   "cell_type": "code",
   "execution_count": 63,
   "id": "89c9225c",
   "metadata": {
    "ExecuteTime": {
     "end_time": "2022-03-13T20:43:28.236901Z",
     "start_time": "2022-03-13T20:43:28.222902Z"
    }
   },
   "outputs": [],
   "source": [
    "drop_col(combined_df,[\"Days for shipping (real)\",\"Delivery Status\" ])"
   ]
  },
  {
   "cell_type": "markdown",
   "id": "41f0c30b",
   "metadata": {},
   "source": [
    "Drop region as well"
   ]
  },
  {
   "cell_type": "code",
   "execution_count": 64,
   "id": "7ff53881",
   "metadata": {
    "ExecuteTime": {
     "end_time": "2022-03-13T20:43:28.251900Z",
     "start_time": "2022-03-13T20:43:28.237901Z"
    }
   },
   "outputs": [],
   "source": [
    "drop_col(combined_df,[\"Order Region\" ])"
   ]
  },
  {
   "cell_type": "code",
   "execution_count": 65,
   "id": "22c3b862",
   "metadata": {
    "ExecuteTime": {
     "end_time": "2022-03-13T20:43:28.266900Z",
     "start_time": "2022-03-13T20:43:28.252900Z"
    }
   },
   "outputs": [
    {
     "data": {
      "text/html": [
       "<div>\n",
       "<style scoped>\n",
       "    .dataframe tbody tr th:only-of-type {\n",
       "        vertical-align: middle;\n",
       "    }\n",
       "\n",
       "    .dataframe tbody tr th {\n",
       "        vertical-align: top;\n",
       "    }\n",
       "\n",
       "    .dataframe thead th {\n",
       "        text-align: right;\n",
       "    }\n",
       "</style>\n",
       "<table border=\"1\" class=\"dataframe\">\n",
       "  <thead>\n",
       "    <tr style=\"text-align: right;\">\n",
       "      <th></th>\n",
       "      <th>Department Id</th>\n",
       "      <th>Order Date</th>\n",
       "      <th>Order Item Quantity</th>\n",
       "      <th>Days for shipment (scheduled)</th>\n",
       "      <th>Late Delivery</th>\n",
       "      <th>Order Status</th>\n",
       "      <th>Market</th>\n",
       "      <th>Customer Segment</th>\n",
       "    </tr>\n",
       "  </thead>\n",
       "  <tbody>\n",
       "    <tr>\n",
       "      <th>0</th>\n",
       "      <td>2</td>\n",
       "      <td>3</td>\n",
       "      <td>1</td>\n",
       "      <td>4</td>\n",
       "      <td>0</td>\n",
       "      <td>1.0</td>\n",
       "      <td>3.0</td>\n",
       "      <td>0.0</td>\n",
       "    </tr>\n",
       "  </tbody>\n",
       "</table>\n",
       "</div>"
      ],
      "text/plain": [
       "   Department Id  Order Date  Order Item Quantity  \\\n",
       "0              2           3                    1   \n",
       "\n",
       "   Days for shipment (scheduled)  Late Delivery  Order Status  Market  \\\n",
       "0                              4              0           1.0     3.0   \n",
       "\n",
       "   Customer Segment  \n",
       "0               0.0  "
      ]
     },
     "execution_count": 65,
     "metadata": {},
     "output_type": "execute_result"
    }
   ],
   "source": [
    "combined_df.head(1)"
   ]
  },
  {
   "cell_type": "markdown",
   "id": "c6333fe9",
   "metadata": {},
   "source": [
    "## Correlation matrix"
   ]
  },
  {
   "cell_type": "code",
   "execution_count": 66,
   "id": "3daa937e",
   "metadata": {
    "ExecuteTime": {
     "end_time": "2022-03-13T20:43:28.680042Z",
     "start_time": "2022-03-13T20:43:28.267900Z"
    },
    "scrolled": true
   },
   "outputs": [
    {
     "data": {
      "image/png": "[encoded data removed]",
      "text/plain": [
       "<Figure size 1440x1440 with 2 Axes>"
      ]
     },
     "metadata": {
      "needs_background": "light"
     },
     "output_type": "display_data"
    }
   ],
   "source": [
    "data = combined_df\n",
    "X_cor = combined_df.iloc[:,[0,1,2,3,5,6,7]]  #independent columns\n",
    "y_cor = combined_df.iloc[:,4]    #target column i.e price range\n",
    "#get correlations of each features in dataset\n",
    "corrmat = data.corr()\n",
    "top_corr_features = corrmat.index\n",
    "plt.figure(figsize=(20,20))\n",
    "#plot heat map\n",
    "g=sns.heatmap(data[top_corr_features].corr(),annot=True,cmap=\"RdYlGn\")"
   ]
  },
  {
   "cell_type": "markdown",
   "id": "640cd58b",
   "metadata": {},
   "source": [
    "#### More simple correlation matrix "
   ]
  },
  {
   "cell_type": "code",
   "execution_count": 67,
   "id": "b00e77fa",
   "metadata": {
    "ExecuteTime": {
     "end_time": "2022-03-13T20:43:28.962041Z",
     "start_time": "2022-03-13T20:43:28.681043Z"
    }
   },
   "outputs": [
    {
     "data": {
      "image/png": "[encoded data removed]",
      "text/plain": [
       "<Figure size 1440x1440 with 2 Axes>"
      ]
     },
     "metadata": {
      "needs_background": "light"
     },
     "output_type": "display_data"
    }
   ],
   "source": [
    "data = combined_df[[\"Department Id\",\"Days for shipment (scheduled)\",\"Late Delivery\",\"Order Status\",\"Market\",\"Customer Segment\"]]\n",
    "X_cor = combined_df.iloc[:,[0,1,3,5]]  #independent columns\n",
    "y_cor = combined_df.iloc[:,2]    #target column i.e price range\n",
    "#get correlations of each features in dataset\n",
    "corrmat = data.corr()\n",
    "top_corr_features = corrmat.index\n",
    "plt.figure(figsize=(20,20))\n",
    "#plot heat map\n",
    "g=sns.heatmap(data[top_corr_features].corr(),annot=True,cmap=\"RdYlGn\")"
   ]
  },
  {
   "cell_type": "markdown",
   "id": "c84e7dd8",
   "metadata": {
    "ExecuteTime": {
     "end_time": "2022-03-12T11:10:28.536576Z",
     "start_time": "2022-03-12T11:10:28.531575Z"
    },
    "heading_collapsed": true
   },
   "source": [
    "## Cut Either scheduled days or market, and combine Department Id and quantity"
   ]
  },
  {
   "cell_type": "code",
   "execution_count": 68,
   "id": "577e8140",
   "metadata": {
    "ExecuteTime": {
     "end_time": "2022-03-13T20:43:28.978041Z",
     "start_time": "2022-03-13T20:43:28.963042Z"
    },
    "hidden": true
   },
   "outputs": [],
   "source": [
    "drop_col(combined_df,[\"Order Item Quantity\"])"
   ]
  },
  {
   "cell_type": "code",
   "execution_count": 69,
   "id": "605cb3df",
   "metadata": {
    "ExecuteTime": {
     "end_time": "2022-03-13T20:43:28.993041Z",
     "start_time": "2022-03-13T20:43:28.980042Z"
    },
    "hidden": true
   },
   "outputs": [
    {
     "data": {
      "text/html": [
       "<div>\n",
       "<style scoped>\n",
       "    .dataframe tbody tr th:only-of-type {\n",
       "        vertical-align: middle;\n",
       "    }\n",
       "\n",
       "    .dataframe tbody tr th {\n",
       "        vertical-align: top;\n",
       "    }\n",
       "\n",
       "    .dataframe thead th {\n",
       "        text-align: right;\n",
       "    }\n",
       "</style>\n",
       "<table border=\"1\" class=\"dataframe\">\n",
       "  <thead>\n",
       "    <tr style=\"text-align: right;\">\n",
       "      <th></th>\n",
       "      <th>Department Id</th>\n",
       "      <th>Order Date</th>\n",
       "      <th>Days for shipment (scheduled)</th>\n",
       "      <th>Late Delivery</th>\n",
       "      <th>Order Status</th>\n",
       "      <th>Market</th>\n",
       "      <th>Customer Segment</th>\n",
       "    </tr>\n",
       "  </thead>\n",
       "  <tbody>\n",
       "    <tr>\n",
       "      <th>0</th>\n",
       "      <td>2</td>\n",
       "      <td>3</td>\n",
       "      <td>4</td>\n",
       "      <td>0</td>\n",
       "      <td>1.0</td>\n",
       "      <td>3.0</td>\n",
       "      <td>0.0</td>\n",
       "    </tr>\n",
       "  </tbody>\n",
       "</table>\n",
       "</div>"
      ],
      "text/plain": [
       "   Department Id  Order Date  Days for shipment (scheduled)  Late Delivery  \\\n",
       "0              2           3                              4              0   \n",
       "\n",
       "   Order Status  Market  Customer Segment  \n",
       "0           1.0     3.0               0.0  "
      ]
     },
     "execution_count": 69,
     "metadata": {},
     "output_type": "execute_result"
    }
   ],
   "source": [
    "combined_df.head(1)"
   ]
  },
  {
   "cell_type": "code",
   "execution_count": 70,
   "id": "6eb4c903",
   "metadata": {
    "ExecuteTime": {
     "end_time": "2022-03-13T20:43:29.008042Z",
     "start_time": "2022-03-13T20:43:28.994043Z"
    },
    "hidden": true
   },
   "outputs": [
    {
     "data": {
      "text/html": [
       "<div>\n",
       "<style scoped>\n",
       "    .dataframe tbody tr th:only-of-type {\n",
       "        vertical-align: middle;\n",
       "    }\n",
       "\n",
       "    .dataframe tbody tr th {\n",
       "        vertical-align: top;\n",
       "    }\n",
       "\n",
       "    .dataframe thead th {\n",
       "        text-align: right;\n",
       "    }\n",
       "</style>\n",
       "<table border=\"1\" class=\"dataframe\">\n",
       "  <thead>\n",
       "    <tr style=\"text-align: right;\">\n",
       "      <th></th>\n",
       "      <th>Department Id</th>\n",
       "      <th>Order Date</th>\n",
       "      <th>Days for shipment (scheduled)</th>\n",
       "      <th>Late Delivery</th>\n",
       "      <th>Order Status</th>\n",
       "      <th>Market</th>\n",
       "      <th>Customer Segment</th>\n",
       "    </tr>\n",
       "  </thead>\n",
       "  <tbody>\n",
       "    <tr>\n",
       "      <th>0</th>\n",
       "      <td>2</td>\n",
       "      <td>3</td>\n",
       "      <td>4</td>\n",
       "      <td>0</td>\n",
       "      <td>1.0</td>\n",
       "      <td>3.0</td>\n",
       "      <td>0.0</td>\n",
       "    </tr>\n",
       "    <tr>\n",
       "      <th>1</th>\n",
       "      <td>2</td>\n",
       "      <td>3</td>\n",
       "      <td>4</td>\n",
       "      <td>1</td>\n",
       "      <td>4.0</td>\n",
       "      <td>3.0</td>\n",
       "      <td>0.0</td>\n",
       "    </tr>\n",
       "    <tr>\n",
       "      <th>2</th>\n",
       "      <td>2</td>\n",
       "      <td>3</td>\n",
       "      <td>4</td>\n",
       "      <td>0</td>\n",
       "      <td>0.0</td>\n",
       "      <td>3.0</td>\n",
       "      <td>0.0</td>\n",
       "    </tr>\n",
       "    <tr>\n",
       "      <th>3</th>\n",
       "      <td>2</td>\n",
       "      <td>3</td>\n",
       "      <td>4</td>\n",
       "      <td>0</td>\n",
       "      <td>1.0</td>\n",
       "      <td>3.0</td>\n",
       "      <td>2.0</td>\n",
       "    </tr>\n",
       "    <tr>\n",
       "      <th>4</th>\n",
       "      <td>2</td>\n",
       "      <td>3</td>\n",
       "      <td>4</td>\n",
       "      <td>0</td>\n",
       "      <td>5.0</td>\n",
       "      <td>3.0</td>\n",
       "      <td>1.0</td>\n",
       "    </tr>\n",
       "    <tr>\n",
       "      <th>...</th>\n",
       "      <td>...</td>\n",
       "      <td>...</td>\n",
       "      <td>...</td>\n",
       "      <td>...</td>\n",
       "      <td>...</td>\n",
       "      <td>...</td>\n",
       "      <td>...</td>\n",
       "    </tr>\n",
       "    <tr>\n",
       "      <th>180514</th>\n",
       "      <td>12</td>\n",
       "      <td>3</td>\n",
       "      <td>1</td>\n",
       "      <td>1</td>\n",
       "      <td>1.0</td>\n",
       "      <td>3.0</td>\n",
       "      <td>0.0</td>\n",
       "    </tr>\n",
       "    <tr>\n",
       "      <th>180515</th>\n",
       "      <td>12</td>\n",
       "      <td>3</td>\n",
       "      <td>1</td>\n",
       "      <td>1</td>\n",
       "      <td>2.0</td>\n",
       "      <td>3.0</td>\n",
       "      <td>0.0</td>\n",
       "    </tr>\n",
       "    <tr>\n",
       "      <th>180516</th>\n",
       "      <td>12</td>\n",
       "      <td>2</td>\n",
       "      <td>0</td>\n",
       "      <td>1</td>\n",
       "      <td>1.0</td>\n",
       "      <td>3.0</td>\n",
       "      <td>0.0</td>\n",
       "    </tr>\n",
       "    <tr>\n",
       "      <th>180517</th>\n",
       "      <td>12</td>\n",
       "      <td>3</td>\n",
       "      <td>0</td>\n",
       "      <td>0</td>\n",
       "      <td>1.0</td>\n",
       "      <td>3.0</td>\n",
       "      <td>0.0</td>\n",
       "    </tr>\n",
       "    <tr>\n",
       "      <th>180518</th>\n",
       "      <td>12</td>\n",
       "      <td>2</td>\n",
       "      <td>2</td>\n",
       "      <td>1</td>\n",
       "      <td>5.0</td>\n",
       "      <td>3.0</td>\n",
       "      <td>2.0</td>\n",
       "    </tr>\n",
       "  </tbody>\n",
       "</table>\n",
       "<p>172765 rows × 7 columns</p>\n",
       "</div>"
      ],
      "text/plain": [
       "        Department Id  Order Date  Days for shipment (scheduled)  \\\n",
       "0                   2           3                              4   \n",
       "1                   2           3                              4   \n",
       "2                   2           3                              4   \n",
       "3                   2           3                              4   \n",
       "4                   2           3                              4   \n",
       "...               ...         ...                            ...   \n",
       "180514             12           3                              1   \n",
       "180515             12           3                              1   \n",
       "180516             12           2                              0   \n",
       "180517             12           3                              0   \n",
       "180518             12           2                              2   \n",
       "\n",
       "        Late Delivery  Order Status  Market  Customer Segment  \n",
       "0                   0           1.0     3.0               0.0  \n",
       "1                   1           4.0     3.0               0.0  \n",
       "2                   0           0.0     3.0               0.0  \n",
       "3                   0           1.0     3.0               2.0  \n",
       "4                   0           5.0     3.0               1.0  \n",
       "...               ...           ...     ...               ...  \n",
       "180514              1           1.0     3.0               0.0  \n",
       "180515              1           2.0     3.0               0.0  \n",
       "180516              1           1.0     3.0               0.0  \n",
       "180517              0           1.0     3.0               0.0  \n",
       "180518              1           5.0     3.0               2.0  \n",
       "\n",
       "[172765 rows x 7 columns]"
      ]
     },
     "execution_count": 70,
     "metadata": {},
     "output_type": "execute_result"
    }
   ],
   "source": [
    "combined_df"
   ]
  },
  {
   "cell_type": "markdown",
   "id": "a8b41915",
   "metadata": {},
   "source": [
    "# Train Machine Learning Model to predict late deliveries"
   ]
  },
  {
   "cell_type": "markdown",
   "id": "f7faac0f",
   "metadata": {},
   "source": [
    "Drop real shipping day, and Delivery Status, as they give the result"
   ]
  },
  {
   "cell_type": "markdown",
   "id": "93125ca6",
   "metadata": {},
   "source": [
    "- Will drop Order Region as well to make model less complicated for now"
   ]
  },
  {
   "cell_type": "code",
   "execution_count": 71,
   "id": "2bd1e8f7",
   "metadata": {
    "ExecuteTime": {
     "end_time": "2022-03-13T20:43:29.024041Z",
     "start_time": "2022-03-13T20:43:29.009042Z"
    }
   },
   "outputs": [],
   "source": [
    "ml_df = combined_df.copy()"
   ]
  },
  {
   "cell_type": "code",
   "execution_count": 72,
   "id": "7524d02a",
   "metadata": {
    "ExecuteTime": {
     "end_time": "2022-03-13T20:43:29.039041Z",
     "start_time": "2022-03-13T20:43:29.025045Z"
    }
   },
   "outputs": [],
   "source": [
    "ml_df.reset_index(inplace=True)"
   ]
  },
  {
   "cell_type": "code",
   "execution_count": 73,
   "id": "d2914735",
   "metadata": {
    "ExecuteTime": {
     "end_time": "2022-03-13T20:43:29.054041Z",
     "start_time": "2022-03-13T20:43:29.040044Z"
    }
   },
   "outputs": [],
   "source": [
    "drop_col(ml_df,[\"index\"])"
   ]
  },
  {
   "cell_type": "code",
   "execution_count": 74,
   "id": "24647233",
   "metadata": {
    "ExecuteTime": {
     "end_time": "2022-03-13T20:43:29.070044Z",
     "start_time": "2022-03-13T20:43:29.056044Z"
    }
   },
   "outputs": [
    {
     "data": {
      "text/html": [
       "<div>\n",
       "<style scoped>\n",
       "    .dataframe tbody tr th:only-of-type {\n",
       "        vertical-align: middle;\n",
       "    }\n",
       "\n",
       "    .dataframe tbody tr th {\n",
       "        vertical-align: top;\n",
       "    }\n",
       "\n",
       "    .dataframe thead th {\n",
       "        text-align: right;\n",
       "    }\n",
       "</style>\n",
       "<table border=\"1\" class=\"dataframe\">\n",
       "  <thead>\n",
       "    <tr style=\"text-align: right;\">\n",
       "      <th></th>\n",
       "      <th>Department Id</th>\n",
       "      <th>Order Date</th>\n",
       "      <th>Days for shipment (scheduled)</th>\n",
       "      <th>Late Delivery</th>\n",
       "      <th>Order Status</th>\n",
       "      <th>Market</th>\n",
       "      <th>Customer Segment</th>\n",
       "    </tr>\n",
       "  </thead>\n",
       "  <tbody>\n",
       "    <tr>\n",
       "      <th>0</th>\n",
       "      <td>2</td>\n",
       "      <td>3</td>\n",
       "      <td>4</td>\n",
       "      <td>0</td>\n",
       "      <td>1.0</td>\n",
       "      <td>3.0</td>\n",
       "      <td>0.0</td>\n",
       "    </tr>\n",
       "    <tr>\n",
       "      <th>1</th>\n",
       "      <td>2</td>\n",
       "      <td>3</td>\n",
       "      <td>4</td>\n",
       "      <td>1</td>\n",
       "      <td>4.0</td>\n",
       "      <td>3.0</td>\n",
       "      <td>0.0</td>\n",
       "    </tr>\n",
       "    <tr>\n",
       "      <th>2</th>\n",
       "      <td>2</td>\n",
       "      <td>3</td>\n",
       "      <td>4</td>\n",
       "      <td>0</td>\n",
       "      <td>0.0</td>\n",
       "      <td>3.0</td>\n",
       "      <td>0.0</td>\n",
       "    </tr>\n",
       "    <tr>\n",
       "      <th>3</th>\n",
       "      <td>2</td>\n",
       "      <td>3</td>\n",
       "      <td>4</td>\n",
       "      <td>0</td>\n",
       "      <td>1.0</td>\n",
       "      <td>3.0</td>\n",
       "      <td>2.0</td>\n",
       "    </tr>\n",
       "    <tr>\n",
       "      <th>4</th>\n",
       "      <td>2</td>\n",
       "      <td>3</td>\n",
       "      <td>4</td>\n",
       "      <td>0</td>\n",
       "      <td>5.0</td>\n",
       "      <td>3.0</td>\n",
       "      <td>1.0</td>\n",
       "    </tr>\n",
       "  </tbody>\n",
       "</table>\n",
       "</div>"
      ],
      "text/plain": [
       "   Department Id  Order Date  Days for shipment (scheduled)  Late Delivery  \\\n",
       "0              2           3                              4              0   \n",
       "1              2           3                              4              1   \n",
       "2              2           3                              4              0   \n",
       "3              2           3                              4              0   \n",
       "4              2           3                              4              0   \n",
       "\n",
       "   Order Status  Market  Customer Segment  \n",
       "0           1.0     3.0               0.0  \n",
       "1           4.0     3.0               0.0  \n",
       "2           0.0     3.0               0.0  \n",
       "3           1.0     3.0               2.0  \n",
       "4           5.0     3.0               1.0  "
      ]
     },
     "execution_count": 74,
     "metadata": {},
     "output_type": "execute_result"
    }
   ],
   "source": [
    "ml_df.head()"
   ]
  },
  {
   "cell_type": "code",
   "execution_count": 75,
   "id": "0835eb30",
   "metadata": {
    "ExecuteTime": {
     "end_time": "2022-03-13T20:43:29.086043Z",
     "start_time": "2022-03-13T20:43:29.071042Z"
    }
   },
   "outputs": [],
   "source": [
    "Y = ml_df[\"Late Delivery\"]"
   ]
  },
  {
   "cell_type": "code",
   "execution_count": 76,
   "id": "e022db22",
   "metadata": {
    "ExecuteTime": {
     "end_time": "2022-03-13T20:43:29.117045Z",
     "start_time": "2022-03-13T20:43:29.087043Z"
    }
   },
   "outputs": [
    {
     "data": {
      "text/html": [
       "<div>\n",
       "<style scoped>\n",
       "    .dataframe tbody tr th:only-of-type {\n",
       "        vertical-align: middle;\n",
       "    }\n",
       "\n",
       "    .dataframe tbody tr th {\n",
       "        vertical-align: top;\n",
       "    }\n",
       "\n",
       "    .dataframe thead th {\n",
       "        text-align: right;\n",
       "    }\n",
       "</style>\n",
       "<table border=\"1\" class=\"dataframe\">\n",
       "  <thead>\n",
       "    <tr style=\"text-align: right;\">\n",
       "      <th></th>\n",
       "      <th>Department Id</th>\n",
       "      <th>Order Date</th>\n",
       "      <th>Days for shipment (scheduled)</th>\n",
       "      <th>Order Status</th>\n",
       "      <th>Market</th>\n",
       "      <th>Customer Segment</th>\n",
       "    </tr>\n",
       "  </thead>\n",
       "  <tbody>\n",
       "    <tr>\n",
       "      <th>0</th>\n",
       "      <td>2</td>\n",
       "      <td>3</td>\n",
       "      <td>4</td>\n",
       "      <td>1.0</td>\n",
       "      <td>3.0</td>\n",
       "      <td>0.0</td>\n",
       "    </tr>\n",
       "    <tr>\n",
       "      <th>1</th>\n",
       "      <td>2</td>\n",
       "      <td>3</td>\n",
       "      <td>4</td>\n",
       "      <td>4.0</td>\n",
       "      <td>3.0</td>\n",
       "      <td>0.0</td>\n",
       "    </tr>\n",
       "    <tr>\n",
       "      <th>2</th>\n",
       "      <td>2</td>\n",
       "      <td>3</td>\n",
       "      <td>4</td>\n",
       "      <td>0.0</td>\n",
       "      <td>3.0</td>\n",
       "      <td>0.0</td>\n",
       "    </tr>\n",
       "    <tr>\n",
       "      <th>3</th>\n",
       "      <td>2</td>\n",
       "      <td>3</td>\n",
       "      <td>4</td>\n",
       "      <td>1.0</td>\n",
       "      <td>3.0</td>\n",
       "      <td>2.0</td>\n",
       "    </tr>\n",
       "    <tr>\n",
       "      <th>4</th>\n",
       "      <td>2</td>\n",
       "      <td>3</td>\n",
       "      <td>4</td>\n",
       "      <td>5.0</td>\n",
       "      <td>3.0</td>\n",
       "      <td>1.0</td>\n",
       "    </tr>\n",
       "    <tr>\n",
       "      <th>...</th>\n",
       "      <td>...</td>\n",
       "      <td>...</td>\n",
       "      <td>...</td>\n",
       "      <td>...</td>\n",
       "      <td>...</td>\n",
       "      <td>...</td>\n",
       "    </tr>\n",
       "    <tr>\n",
       "      <th>172760</th>\n",
       "      <td>12</td>\n",
       "      <td>3</td>\n",
       "      <td>1</td>\n",
       "      <td>1.0</td>\n",
       "      <td>3.0</td>\n",
       "      <td>0.0</td>\n",
       "    </tr>\n",
       "    <tr>\n",
       "      <th>172761</th>\n",
       "      <td>12</td>\n",
       "      <td>3</td>\n",
       "      <td>1</td>\n",
       "      <td>2.0</td>\n",
       "      <td>3.0</td>\n",
       "      <td>0.0</td>\n",
       "    </tr>\n",
       "    <tr>\n",
       "      <th>172762</th>\n",
       "      <td>12</td>\n",
       "      <td>2</td>\n",
       "      <td>0</td>\n",
       "      <td>1.0</td>\n",
       "      <td>3.0</td>\n",
       "      <td>0.0</td>\n",
       "    </tr>\n",
       "    <tr>\n",
       "      <th>172763</th>\n",
       "      <td>12</td>\n",
       "      <td>3</td>\n",
       "      <td>0</td>\n",
       "      <td>1.0</td>\n",
       "      <td>3.0</td>\n",
       "      <td>0.0</td>\n",
       "    </tr>\n",
       "    <tr>\n",
       "      <th>172764</th>\n",
       "      <td>12</td>\n",
       "      <td>2</td>\n",
       "      <td>2</td>\n",
       "      <td>5.0</td>\n",
       "      <td>3.0</td>\n",
       "      <td>2.0</td>\n",
       "    </tr>\n",
       "  </tbody>\n",
       "</table>\n",
       "<p>172765 rows × 6 columns</p>\n",
       "</div>"
      ],
      "text/plain": [
       "        Department Id  Order Date  Days for shipment (scheduled)  \\\n",
       "0                   2           3                              4   \n",
       "1                   2           3                              4   \n",
       "2                   2           3                              4   \n",
       "3                   2           3                              4   \n",
       "4                   2           3                              4   \n",
       "...               ...         ...                            ...   \n",
       "172760             12           3                              1   \n",
       "172761             12           3                              1   \n",
       "172762             12           2                              0   \n",
       "172763             12           3                              0   \n",
       "172764             12           2                              2   \n",
       "\n",
       "        Order Status  Market  Customer Segment  \n",
       "0                1.0     3.0               0.0  \n",
       "1                4.0     3.0               0.0  \n",
       "2                0.0     3.0               0.0  \n",
       "3                1.0     3.0               2.0  \n",
       "4                5.0     3.0               1.0  \n",
       "...              ...     ...               ...  \n",
       "172760           1.0     3.0               0.0  \n",
       "172761           2.0     3.0               0.0  \n",
       "172762           1.0     3.0               0.0  \n",
       "172763           1.0     3.0               0.0  \n",
       "172764           5.0     3.0               2.0  \n",
       "\n",
       "[172765 rows x 6 columns]"
      ]
     },
     "execution_count": 76,
     "metadata": {},
     "output_type": "execute_result"
    }
   ],
   "source": [
    "X = ml_df.drop(labels=\"Late Delivery\", axis=1)\n",
    "X"
   ]
  },
  {
   "cell_type": "markdown",
   "id": "0c7acd94",
   "metadata": {},
   "source": [
    "Split into test and train"
   ]
  },
  {
   "cell_type": "code",
   "execution_count": 77,
   "id": "7ea45c35",
   "metadata": {
    "ExecuteTime": {
     "end_time": "2022-03-13T20:43:29.147043Z",
     "start_time": "2022-03-13T20:43:29.119043Z"
    }
   },
   "outputs": [],
   "source": [
    "from sklearn.model_selection import train_test_split"
   ]
  },
  {
   "cell_type": "markdown",
   "id": "e2c2b01a",
   "metadata": {},
   "source": [
    "- First covert x and y to arrays"
   ]
  },
  {
   "cell_type": "code",
   "execution_count": 78,
   "id": "c961aa93",
   "metadata": {
    "ExecuteTime": {
     "end_time": "2022-03-13T20:43:29.162041Z",
     "start_time": "2022-03-13T20:43:29.148042Z"
    }
   },
   "outputs": [],
   "source": [
    "X = X.to_numpy()\n",
    "Y = Y.to_numpy()"
   ]
  },
  {
   "cell_type": "code",
   "execution_count": 79,
   "id": "20a2411a",
   "metadata": {
    "ExecuteTime": {
     "end_time": "2022-03-13T20:43:29.177042Z",
     "start_time": "2022-03-13T20:43:29.163043Z"
    }
   },
   "outputs": [
    {
     "data": {
      "text/plain": [
       "array([2., 3., 4., 1., 3., 0.])"
      ]
     },
     "execution_count": 79,
     "metadata": {},
     "output_type": "execute_result"
    }
   ],
   "source": [
    "X[0]"
   ]
  },
  {
   "cell_type": "code",
   "execution_count": 80,
   "id": "9c1a30af",
   "metadata": {
    "ExecuteTime": {
     "end_time": "2022-03-13T20:43:29.192042Z",
     "start_time": "2022-03-13T20:43:29.178042Z"
    }
   },
   "outputs": [
    {
     "data": {
      "text/plain": [
       "array([0, 1, 0, ..., 1, 0, 1], dtype=int64)"
      ]
     },
     "execution_count": 80,
     "metadata": {},
     "output_type": "execute_result"
    }
   ],
   "source": [
    "Y"
   ]
  },
  {
   "cell_type": "code",
   "execution_count": 81,
   "id": "683c623c",
   "metadata": {
    "ExecuteTime": {
     "end_time": "2022-03-13T20:43:29.221826Z",
     "start_time": "2022-03-13T20:43:29.198042Z"
    }
   },
   "outputs": [],
   "source": [
    "X_train, X_test, Y_train, Y_test = train_test_split(X, Y, test_size=0.2, random_state=42)"
   ]
  },
  {
   "cell_type": "markdown",
   "id": "d91062ba",
   "metadata": {
    "ExecuteTime": {
     "end_time": "2022-03-12T00:38:39.982259Z",
     "start_time": "2022-03-12T00:38:39.963261Z"
    }
   },
   "source": [
    "##### Save these to csv"
   ]
  },
  {
   "cell_type": "code",
   "execution_count": 82,
   "id": "b1e8d67b",
   "metadata": {
    "ExecuteTime": {
     "end_time": "2022-03-13T20:43:29.796824Z",
     "start_time": "2022-03-13T20:43:29.222829Z"
    }
   },
   "outputs": [],
   "source": [
    "pd.DataFrame(X_train).to_csv(\"X_train.csv\")\n",
    "pd.DataFrame(X_test).to_csv(\"X_test.csv\")\n",
    "pd.DataFrame(Y_train).to_csv(\"Y_train.csv\")\n",
    "pd.DataFrame(Y_test).to_csv(\"Y_test.csv\")"
   ]
  },
  {
   "cell_type": "markdown",
   "id": "c2f8d879",
   "metadata": {},
   "source": [
    "# Make Plots"
   ]
  },
  {
   "cell_type": "code",
   "execution_count": 94,
   "id": "7803f4f4",
   "metadata": {
    "ExecuteTime": {
     "end_time": "2022-03-13T20:57:07.103411Z",
     "start_time": "2022-03-13T20:57:07.093412Z"
    }
   },
   "outputs": [],
   "source": [
    "columns = ml_df.columns"
   ]
  },
  {
   "cell_type": "code",
   "execution_count": 95,
   "id": "d38fc340",
   "metadata": {
    "ExecuteTime": {
     "end_time": "2022-03-13T20:57:08.538878Z",
     "start_time": "2022-03-13T20:57:08.511882Z"
    }
   },
   "outputs": [
    {
     "data": {
      "text/html": [
       "<div>\n",
       "<style scoped>\n",
       "    .dataframe tbody tr th:only-of-type {\n",
       "        vertical-align: middle;\n",
       "    }\n",
       "\n",
       "    .dataframe tbody tr th {\n",
       "        vertical-align: top;\n",
       "    }\n",
       "\n",
       "    .dataframe thead th {\n",
       "        text-align: right;\n",
       "    }\n",
       "</style>\n",
       "<table border=\"1\" class=\"dataframe\">\n",
       "  <thead>\n",
       "    <tr style=\"text-align: right;\">\n",
       "      <th></th>\n",
       "      <th>Department Id</th>\n",
       "      <th>Order Date</th>\n",
       "      <th>Days for shipment (scheduled)</th>\n",
       "      <th>Order Status</th>\n",
       "      <th>Market</th>\n",
       "      <th>Customer Segment</th>\n",
       "      <th>Late Delivery</th>\n",
       "    </tr>\n",
       "  </thead>\n",
       "  <tbody>\n",
       "    <tr>\n",
       "      <th>0</th>\n",
       "      <td>2</td>\n",
       "      <td>3</td>\n",
       "      <td>4</td>\n",
       "      <td>1.0</td>\n",
       "      <td>3.0</td>\n",
       "      <td>0.0</td>\n",
       "      <td>0</td>\n",
       "    </tr>\n",
       "    <tr>\n",
       "      <th>1</th>\n",
       "      <td>2</td>\n",
       "      <td>3</td>\n",
       "      <td>4</td>\n",
       "      <td>4.0</td>\n",
       "      <td>3.0</td>\n",
       "      <td>0.0</td>\n",
       "      <td>1</td>\n",
       "    </tr>\n",
       "    <tr>\n",
       "      <th>2</th>\n",
       "      <td>2</td>\n",
       "      <td>3</td>\n",
       "      <td>4</td>\n",
       "      <td>0.0</td>\n",
       "      <td>3.0</td>\n",
       "      <td>0.0</td>\n",
       "      <td>0</td>\n",
       "    </tr>\n",
       "    <tr>\n",
       "      <th>3</th>\n",
       "      <td>2</td>\n",
       "      <td>3</td>\n",
       "      <td>4</td>\n",
       "      <td>1.0</td>\n",
       "      <td>3.0</td>\n",
       "      <td>2.0</td>\n",
       "      <td>0</td>\n",
       "    </tr>\n",
       "    <tr>\n",
       "      <th>4</th>\n",
       "      <td>2</td>\n",
       "      <td>3</td>\n",
       "      <td>4</td>\n",
       "      <td>5.0</td>\n",
       "      <td>3.0</td>\n",
       "      <td>1.0</td>\n",
       "      <td>0</td>\n",
       "    </tr>\n",
       "    <tr>\n",
       "      <th>...</th>\n",
       "      <td>...</td>\n",
       "      <td>...</td>\n",
       "      <td>...</td>\n",
       "      <td>...</td>\n",
       "      <td>...</td>\n",
       "      <td>...</td>\n",
       "      <td>...</td>\n",
       "    </tr>\n",
       "    <tr>\n",
       "      <th>172760</th>\n",
       "      <td>12</td>\n",
       "      <td>3</td>\n",
       "      <td>1</td>\n",
       "      <td>1.0</td>\n",
       "      <td>3.0</td>\n",
       "      <td>0.0</td>\n",
       "      <td>1</td>\n",
       "    </tr>\n",
       "    <tr>\n",
       "      <th>172761</th>\n",
       "      <td>12</td>\n",
       "      <td>3</td>\n",
       "      <td>1</td>\n",
       "      <td>2.0</td>\n",
       "      <td>3.0</td>\n",
       "      <td>0.0</td>\n",
       "      <td>1</td>\n",
       "    </tr>\n",
       "    <tr>\n",
       "      <th>172762</th>\n",
       "      <td>12</td>\n",
       "      <td>2</td>\n",
       "      <td>0</td>\n",
       "      <td>1.0</td>\n",
       "      <td>3.0</td>\n",
       "      <td>0.0</td>\n",
       "      <td>1</td>\n",
       "    </tr>\n",
       "    <tr>\n",
       "      <th>172763</th>\n",
       "      <td>12</td>\n",
       "      <td>3</td>\n",
       "      <td>0</td>\n",
       "      <td>1.0</td>\n",
       "      <td>3.0</td>\n",
       "      <td>0.0</td>\n",
       "      <td>0</td>\n",
       "    </tr>\n",
       "    <tr>\n",
       "      <th>172764</th>\n",
       "      <td>12</td>\n",
       "      <td>2</td>\n",
       "      <td>2</td>\n",
       "      <td>5.0</td>\n",
       "      <td>3.0</td>\n",
       "      <td>2.0</td>\n",
       "      <td>1</td>\n",
       "    </tr>\n",
       "  </tbody>\n",
       "</table>\n",
       "<p>172765 rows × 7 columns</p>\n",
       "</div>"
      ],
      "text/plain": [
       "        Department Id  Order Date  Days for shipment (scheduled)  \\\n",
       "0                   2           3                              4   \n",
       "1                   2           3                              4   \n",
       "2                   2           3                              4   \n",
       "3                   2           3                              4   \n",
       "4                   2           3                              4   \n",
       "...               ...         ...                            ...   \n",
       "172760             12           3                              1   \n",
       "172761             12           3                              1   \n",
       "172762             12           2                              0   \n",
       "172763             12           3                              0   \n",
       "172764             12           2                              2   \n",
       "\n",
       "        Order Status  Market  Customer Segment  Late Delivery  \n",
       "0                1.0     3.0               0.0              0  \n",
       "1                4.0     3.0               0.0              1  \n",
       "2                0.0     3.0               0.0              0  \n",
       "3                1.0     3.0               2.0              0  \n",
       "4                5.0     3.0               1.0              0  \n",
       "...              ...     ...               ...            ...  \n",
       "172760           1.0     3.0               0.0              1  \n",
       "172761           2.0     3.0               0.0              1  \n",
       "172762           1.0     3.0               0.0              1  \n",
       "172763           1.0     3.0               0.0              0  \n",
       "172764           5.0     3.0               2.0              1  \n",
       "\n",
       "[172765 rows x 7 columns]"
      ]
     },
     "execution_count": 95,
     "metadata": {},
     "output_type": "execute_result"
    }
   ],
   "source": [
    "ml_df = ml_df[[columns[0],columns[1],columns[2],columns[4],columns[5],columns[6],columns[3]]].copy()\n",
    "ml_df"
   ]
  },
  {
   "cell_type": "code",
   "execution_count": 109,
   "id": "c7c5b3dc",
   "metadata": {
    "ExecuteTime": {
     "end_time": "2022-03-13T20:58:41.830343Z",
     "start_time": "2022-03-13T20:58:41.811342Z"
    }
   },
   "outputs": [
    {
     "data": {
      "text/plain": [
       "Customer Segment  Late Delivery\n",
       "0.0               1                0.296634\n",
       "                  0                0.220948\n",
       "1.0               1                0.173542\n",
       "                  0                0.130501\n",
       "2.0               1                0.102723\n",
       "                  0                0.075652\n",
       "dtype: float64"
      ]
     },
     "execution_count": 109,
     "metadata": {},
     "output_type": "execute_result"
    }
   ],
   "source": [
    "ml_df[[\"Customer Segment\", \"Late Delivery\"]].value_counts(normalize=True)"
   ]
  },
  {
   "cell_type": "code",
   "execution_count": 96,
   "id": "3df89208",
   "metadata": {
    "ExecuteTime": {
     "end_time": "2022-03-13T20:57:10.484246Z",
     "start_time": "2022-03-13T20:57:10.479245Z"
    }
   },
   "outputs": [],
   "source": [
    "ml_df.rename(columns={\"Order Date\": \"Order Year\" },inplace=True)"
   ]
  },
  {
   "cell_type": "code",
   "execution_count": 97,
   "id": "ab5408d1",
   "metadata": {
    "ExecuteTime": {
     "end_time": "2022-03-13T20:57:10.747958Z",
     "start_time": "2022-03-13T20:57:10.739958Z"
    }
   },
   "outputs": [],
   "source": [
    "import matplotlib.pyplot as plt\n",
    "import seaborn as sns"
   ]
  },
  {
   "cell_type": "code",
   "execution_count": 98,
   "id": "99977fc4",
   "metadata": {
    "ExecuteTime": {
     "end_time": "2022-03-13T20:57:11.246376Z",
     "start_time": "2022-03-13T20:57:11.239374Z"
    }
   },
   "outputs": [
    {
     "data": {
      "text/plain": [
       "Index(['Department Id', 'Order Year', 'Days for shipment (scheduled)',\n",
       "       'Order Status', 'Market', 'Customer Segment', 'Late Delivery'],\n",
       "      dtype='object')"
      ]
     },
     "execution_count": 98,
     "metadata": {},
     "output_type": "execute_result"
    }
   ],
   "source": [
    "columns = ml_df.columns\n",
    "columns"
   ]
  },
  {
   "cell_type": "code",
   "execution_count": 110,
   "id": "d7e7bcf8",
   "metadata": {
    "ExecuteTime": {
     "end_time": "2022-03-13T21:00:21.560842Z",
     "start_time": "2022-03-13T21:00:21.547843Z"
    }
   },
   "outputs": [],
   "source": [
    "def plot_pie(df,i):\n",
    "    temp_df = ml_df[[columns[i],columns[6]]] #Create temporary dataframe\n",
    "    groups = temp_df.groupby(by=columns[i]).mean()\n",
    "    labels = groups.index.values\n",
    "    print(groups)\n",
    "    sizes = groups[columns[6]].to_list()\n",
    "\n",
    "    fig1, ax1 = plt.subplots()\n",
    "    ax1.pie(sizes,labels=labels, autopct='%1.1f%%',shadow=True, startangle=90)\n",
    "    ax1.axis('equal')  # Equal aspect ratio ensures that pie is drawn as a circle.\n",
    "\n",
    "    plt.title(f\"Late Deliveries by {columns[i]}\")\n",
    "    plt.show()\n",
    "    \n",
    "    "
   ]
  },
  {
   "cell_type": "code",
   "execution_count": 111,
   "id": "4afaea36",
   "metadata": {
    "ExecuteTime": {
     "end_time": "2022-03-13T21:00:22.728179Z",
     "start_time": "2022-03-13T21:00:22.058179Z"
    }
   },
   "outputs": [
    {
     "name": "stdout",
     "output_type": "stream",
     "text": [
      "               Late Delivery\n",
      "Department Id               \n",
      "2                   0.580034\n",
      "3                   0.572241\n",
      "4                   0.572157\n",
      "5                   0.572841\n",
      "6                   0.580015\n",
      "7                   0.571939\n",
      "8                   0.585678\n",
      "9                   0.567679\n",
      "10                  0.577364\n",
      "11                  0.614407\n",
      "12                  0.583815\n"
     ]
    },
    {
     "data": {
      "image/png": "[encoded data removed]",
      "text/plain": [
       "<Figure size 432x288 with 1 Axes>"
      ]
     },
     "metadata": {},
     "output_type": "display_data"
    },
    {
     "name": "stdout",
     "output_type": "stream",
     "text": [
      "            Late Delivery\n",
      "Order Year               \n",
      "0                0.573306\n",
      "1                0.574809\n",
      "2                0.569619\n",
      "3                0.586647\n"
     ]
    },
    {
     "data": {
      "image/png": "[encoded data removed]",
      "text/plain": [
       "<Figure size 432x288 with 1 Axes>"
      ]
     },
     "metadata": {},
     "output_type": "display_data"
    },
    {
     "name": "stdout",
     "output_type": "stream",
     "text": [
      "                               Late Delivery\n",
      "Days for shipment (scheduled)               \n",
      "0                                   0.479285\n",
      "1                                   1.000000\n",
      "2                                   0.798290\n",
      "4                                   0.397691\n"
     ]
    },
    {
     "data": {
      "image/png": "[encoded data removed]",
      "text/plain": [
       "<Figure size 432x288 with 1 Axes>"
      ]
     },
     "metadata": {},
     "output_type": "display_data"
    },
    {
     "name": "stdout",
     "output_type": "stream",
     "text": [
      "              Late Delivery\n",
      "Order Status               \n",
      "0.0                0.566323\n",
      "1.0                0.574860\n",
      "2.0                0.555896\n",
      "3.0                0.571580\n",
      "4.0                0.579028\n",
      "5.0                0.575467\n",
      "6.0                0.570861\n"
     ]
    },
    {
     "data": {
      "image/png": "[encoded data removed]",
      "text/plain": [
       "<Figure size 432x288 with 1 Axes>"
      ]
     },
     "metadata": {},
     "output_type": "display_data"
    },
    {
     "name": "stdout",
     "output_type": "stream",
     "text": [
      "        Late Delivery\n",
      "Market               \n",
      "0.0          0.568406\n",
      "1.0          0.576897\n",
      "2.0          0.568740\n",
      "3.0          0.573753\n",
      "4.0          0.574085\n"
     ]
    },
    {
     "data": {
      "image/png": "[encoded data removed]",
      "text/plain": [
       "<Figure size 432x288 with 1 Axes>"
      ]
     },
     "metadata": {},
     "output_type": "display_data"
    },
    {
     "name": "stdout",
     "output_type": "stream",
     "text": [
      "                  Late Delivery\n",
      "Customer Segment               \n",
      "0.0                    0.573116\n",
      "1.0                    0.570781\n",
      "2.0                    0.575883\n"
     ]
    },
    {
     "data": {
      "image/png": "[encoded data removed]",
      "text/plain": [
       "<Figure size 432x288 with 1 Axes>"
      ]
     },
     "metadata": {},
     "output_type": "display_data"
    }
   ],
   "source": [
    "for i in range(6):\n",
    "    plot_pie(ml_df,i)"
   ]
  },
  {
   "cell_type": "code",
   "execution_count": null,
   "id": "573316ed",
   "metadata": {},
   "outputs": [],
   "source": []
  },
  {
   "cell_type": "code",
   "execution_count": 179,
   "id": "6fde557b",
   "metadata": {
    "ExecuteTime": {
     "end_time": "2022-03-13T21:17:50.686724Z",
     "start_time": "2022-03-13T21:17:50.620724Z"
    }
   },
   "outputs": [
    {
     "data": {
      "image/png": "[encoded data removed]",
      "text/plain": [
       "<Figure size 432x288 with 1 Axes>"
      ]
     },
     "metadata": {},
     "output_type": "display_data"
    }
   ],
   "source": [
    "fig1, ax1 = plt.subplots()\n",
    "ax1.pie([572,241,187],labels=[\"Delayed\", \"Advance Shipping\", \"On time\"], autopct='%1.1f%%',shadow=True, startangle=90)\n",
    "ax1.axis('equal')  # Equal aspect ratio ensures that pie is drawn as a circle.\n",
    "\n",
    "plt.title(f\"Orders by Delivery Status\")\n",
    "plt.show()"
   ]
  },
  {
   "cell_type": "code",
   "execution_count": 180,
   "id": "7f331778",
   "metadata": {
    "ExecuteTime": {
     "end_time": "2022-03-13T21:18:20.544837Z",
     "start_time": "2022-03-13T21:18:20.488841Z"
    },
    "scrolled": true
   },
   "outputs": [
    {
     "data": {
      "image/png": "[encoded data removed]",
      "text/plain": [
       "<Figure size 432x288 with 1 Axes>"
      ]
     },
     "metadata": {},
     "output_type": "display_data"
    }
   ],
   "source": [
    "fig1, ax1 = plt.subplots()\n",
    "ax1.pie([572,427],labels=[\"Delayed\", \"Not delayed\"], autopct='%1.1f%%',shadow=True, startangle=90)\n",
    "ax1.axis('equal')  # Equal aspect ratio ensures that pie is drawn as a circle.\n",
    "\n",
    "plt.title(f\"Orders by De\")\n",
    "plt.show()"
   ]
  },
  {
   "cell_type": "markdown",
   "id": "945f3a8b",
   "metadata": {},
   "source": [
    "# ML Classification"
   ]
  },
  {
   "cell_type": "code",
   "execution_count": null,
   "id": "b5c77c89",
   "metadata": {
    "ExecuteTime": {
     "end_time": "2022-03-13T20:43:30.331825Z",
     "start_time": "2022-03-13T20:43:30.331825Z"
    }
   },
   "outputs": [],
   "source": [
    "Y_train"
   ]
  },
  {
   "cell_type": "code",
   "execution_count": null,
   "id": "7e1515a6",
   "metadata": {
    "ExecuteTime": {
     "start_time": "2022-03-13T21:22:56.742Z"
    }
   },
   "outputs": [],
   "source": [
    "from sklearn.svm import SVC\n",
    "\n",
    "svm_clf = SVC(kernel=\"linear\")\n",
    "svm_clf.fit(X_train, Y_train)"
   ]
  },
  {
   "cell_type": "code",
   "execution_count": 185,
   "id": "c5a841ab",
   "metadata": {
    "ExecuteTime": {
     "end_time": "2022-03-13T21:21:24.114963Z",
     "start_time": "2022-03-13T21:21:09.942832Z"
    }
   },
   "outputs": [],
   "source": [
    "y_pred = svm_clf.predict(X_test)"
   ]
  },
  {
   "cell_type": "code",
   "execution_count": 183,
   "id": "9e39ed84",
   "metadata": {
    "ExecuteTime": {
     "end_time": "2022-03-13T21:20:55.919857Z",
     "start_time": "2022-03-13T21:20:55.906857Z"
    }
   },
   "outputs": [],
   "source": [
    "from sklearn.metrics import mean_squared_error"
   ]
  },
  {
   "cell_type": "code",
   "execution_count": 187,
   "id": "1f454a2b",
   "metadata": {
    "ExecuteTime": {
     "end_time": "2022-03-13T21:22:40.023523Z",
     "start_time": "2022-03-13T21:22:40.006526Z"
    }
   },
   "outputs": [
    {
     "data": {
      "text/plain": [
       "0.30966920383179464"
      ]
     },
     "execution_count": 187,
     "metadata": {},
     "output_type": "execute_result"
    }
   ],
   "source": [
    "mean_squared_error(Y_test,y_pred)"
   ]
  },
  {
   "cell_type": "code",
   "execution_count": 113,
   "id": "887a792d",
   "metadata": {
    "ExecuteTime": {
     "end_time": "2022-03-13T21:14:45.841714Z",
     "start_time": "2022-03-13T21:14:45.823715Z"
    }
   },
   "outputs": [
    {
     "data": {
      "text/plain": [
       "1    0.5729\n",
       "0    0.4271\n",
       "Name: Late Delivery, dtype: float64"
      ]
     },
     "execution_count": 113,
     "metadata": {},
     "output_type": "execute_result"
    }
   ],
   "source": [
    "ml_df[\"Late Delivery\"].value_counts(normalize=True)"
   ]
  },
  {
   "cell_type": "code",
   "execution_count": 115,
   "id": "dd7ad90a",
   "metadata": {
    "ExecuteTime": {
     "end_time": "2022-03-13T21:15:14.155710Z",
     "start_time": "2022-03-13T21:15:14.121710Z"
    }
   },
   "outputs": [
    {
     "ename": "KeyError",
     "evalue": "'Delivery Status'",
     "output_type": "error",
     "traceback": [
      "\u001b[1;31m---------------------------------------------------------------------------\u001b[0m",
      "\u001b[1;31mKeyError\u001b[0m                                  Traceback (most recent call last)",
      "\u001b[1;32mC:\\ProgramData\\Anaconda3\\lib\\site-packages\\pandas\\core\\indexes\\base.py\u001b[0m in \u001b[0;36mget_loc\u001b[1;34m(self, key, method, tolerance)\u001b[0m\n\u001b[0;32m   3620\u001b[0m             \u001b[1;32mtry\u001b[0m\u001b[1;33m:\u001b[0m\u001b[1;33m\u001b[0m\u001b[1;33m\u001b[0m\u001b[0m\n\u001b[1;32m-> 3621\u001b[1;33m                 \u001b[1;32mreturn\u001b[0m \u001b[0mself\u001b[0m\u001b[1;33m.\u001b[0m\u001b[0m_engine\u001b[0m\u001b[1;33m.\u001b[0m\u001b[0mget_loc\u001b[0m\u001b[1;33m(\u001b[0m\u001b[0mcasted_key\u001b[0m\u001b[1;33m)\u001b[0m\u001b[1;33m\u001b[0m\u001b[1;33m\u001b[0m\u001b[0m\n\u001b[0m\u001b[0;32m   3622\u001b[0m             \u001b[1;32mexcept\u001b[0m \u001b[0mKeyError\u001b[0m \u001b[1;32mas\u001b[0m \u001b[0merr\u001b[0m\u001b[1;33m:\u001b[0m\u001b[1;33m\u001b[0m\u001b[1;33m\u001b[0m\u001b[0m\n",
      "\u001b[1;32mC:\\ProgramData\\Anaconda3\\lib\\site-packages\\pandas\\_libs\\index.pyx\u001b[0m in \u001b[0;36mpandas._libs.index.IndexEngine.get_loc\u001b[1;34m()\u001b[0m\n",
      "\u001b[1;32mC:\\ProgramData\\Anaconda3\\lib\\site-packages\\pandas\\_libs\\index.pyx\u001b[0m in \u001b[0;36mpandas._libs.index.IndexEngine.get_loc\u001b[1;34m()\u001b[0m\n",
      "\u001b[1;32mpandas\\_libs\\hashtable_class_helper.pxi\u001b[0m in \u001b[0;36mpandas._libs.hashtable.PyObjectHashTable.get_item\u001b[1;34m()\u001b[0m\n",
      "\u001b[1;32mpandas\\_libs\\hashtable_class_helper.pxi\u001b[0m in \u001b[0;36mpandas._libs.hashtable.PyObjectHashTable.get_item\u001b[1;34m()\u001b[0m\n",
      "\u001b[1;31mKeyError\u001b[0m: 'Delivery Status'",
      "\nThe above exception was the direct cause of the following exception:\n",
      "\u001b[1;31mKeyError\u001b[0m                                  Traceback (most recent call last)",
      "\u001b[1;32m~\\AppData\\Local\\Temp/ipykernel_19256/851154486.py\u001b[0m in \u001b[0;36m<module>\u001b[1;34m\u001b[0m\n\u001b[1;32m----> 1\u001b[1;33m \u001b[0mcombined_df\u001b[0m\u001b[1;33m[\u001b[0m\u001b[1;34m\"Delivery Status\"\u001b[0m\u001b[1;33m]\u001b[0m\u001b[1;33m\u001b[0m\u001b[1;33m\u001b[0m\u001b[0m\n\u001b[0m",
      "\u001b[1;32mC:\\ProgramData\\Anaconda3\\lib\\site-packages\\pandas\\core\\frame.py\u001b[0m in \u001b[0;36m__getitem__\u001b[1;34m(self, key)\u001b[0m\n\u001b[0;32m   3503\u001b[0m             \u001b[1;32mif\u001b[0m \u001b[0mself\u001b[0m\u001b[1;33m.\u001b[0m\u001b[0mcolumns\u001b[0m\u001b[1;33m.\u001b[0m\u001b[0mnlevels\u001b[0m \u001b[1;33m>\u001b[0m \u001b[1;36m1\u001b[0m\u001b[1;33m:\u001b[0m\u001b[1;33m\u001b[0m\u001b[1;33m\u001b[0m\u001b[0m\n\u001b[0;32m   3504\u001b[0m                 \u001b[1;32mreturn\u001b[0m \u001b[0mself\u001b[0m\u001b[1;33m.\u001b[0m\u001b[0m_getitem_multilevel\u001b[0m\u001b[1;33m(\u001b[0m\u001b[0mkey\u001b[0m\u001b[1;33m)\u001b[0m\u001b[1;33m\u001b[0m\u001b[1;33m\u001b[0m\u001b[0m\n\u001b[1;32m-> 3505\u001b[1;33m             \u001b[0mindexer\u001b[0m \u001b[1;33m=\u001b[0m \u001b[0mself\u001b[0m\u001b[1;33m.\u001b[0m\u001b[0mcolumns\u001b[0m\u001b[1;33m.\u001b[0m\u001b[0mget_loc\u001b[0m\u001b[1;33m(\u001b[0m\u001b[0mkey\u001b[0m\u001b[1;33m)\u001b[0m\u001b[1;33m\u001b[0m\u001b[1;33m\u001b[0m\u001b[0m\n\u001b[0m\u001b[0;32m   3506\u001b[0m             \u001b[1;32mif\u001b[0m \u001b[0mis_integer\u001b[0m\u001b[1;33m(\u001b[0m\u001b[0mindexer\u001b[0m\u001b[1;33m)\u001b[0m\u001b[1;33m:\u001b[0m\u001b[1;33m\u001b[0m\u001b[1;33m\u001b[0m\u001b[0m\n\u001b[0;32m   3507\u001b[0m                 \u001b[0mindexer\u001b[0m \u001b[1;33m=\u001b[0m \u001b[1;33m[\u001b[0m\u001b[0mindexer\u001b[0m\u001b[1;33m]\u001b[0m\u001b[1;33m\u001b[0m\u001b[1;33m\u001b[0m\u001b[0m\n",
      "\u001b[1;32mC:\\ProgramData\\Anaconda3\\lib\\site-packages\\pandas\\core\\indexes\\base.py\u001b[0m in \u001b[0;36mget_loc\u001b[1;34m(self, key, method, tolerance)\u001b[0m\n\u001b[0;32m   3621\u001b[0m                 \u001b[1;32mreturn\u001b[0m \u001b[0mself\u001b[0m\u001b[1;33m.\u001b[0m\u001b[0m_engine\u001b[0m\u001b[1;33m.\u001b[0m\u001b[0mget_loc\u001b[0m\u001b[1;33m(\u001b[0m\u001b[0mcasted_key\u001b[0m\u001b[1;33m)\u001b[0m\u001b[1;33m\u001b[0m\u001b[1;33m\u001b[0m\u001b[0m\n\u001b[0;32m   3622\u001b[0m             \u001b[1;32mexcept\u001b[0m \u001b[0mKeyError\u001b[0m \u001b[1;32mas\u001b[0m \u001b[0merr\u001b[0m\u001b[1;33m:\u001b[0m\u001b[1;33m\u001b[0m\u001b[1;33m\u001b[0m\u001b[0m\n\u001b[1;32m-> 3623\u001b[1;33m                 \u001b[1;32mraise\u001b[0m \u001b[0mKeyError\u001b[0m\u001b[1;33m(\u001b[0m\u001b[0mkey\u001b[0m\u001b[1;33m)\u001b[0m \u001b[1;32mfrom\u001b[0m \u001b[0merr\u001b[0m\u001b[1;33m\u001b[0m\u001b[1;33m\u001b[0m\u001b[0m\n\u001b[0m\u001b[0;32m   3624\u001b[0m             \u001b[1;32mexcept\u001b[0m \u001b[0mTypeError\u001b[0m\u001b[1;33m:\u001b[0m\u001b[1;33m\u001b[0m\u001b[1;33m\u001b[0m\u001b[0m\n\u001b[0;32m   3625\u001b[0m                 \u001b[1;31m# If we have a listlike key, _check_indexing_error will raise\u001b[0m\u001b[1;33m\u001b[0m\u001b[1;33m\u001b[0m\u001b[1;33m\u001b[0m\u001b[0m\n",
      "\u001b[1;31mKeyError\u001b[0m: 'Delivery Status'"
     ]
    }
   ],
   "source": [
    "combined_df[\"Delivery Status\"]"
   ]
  },
  {
   "cell_type": "code",
   "execution_count": 116,
   "id": "b1e9f020",
   "metadata": {
    "ExecuteTime": {
     "end_time": "2022-03-13T21:15:20.267634Z",
     "start_time": "2022-03-13T21:15:20.250634Z"
    }
   },
   "outputs": [
    {
     "data": {
      "text/html": [
       "<div>\n",
       "<style scoped>\n",
       "    .dataframe tbody tr th:only-of-type {\n",
       "        vertical-align: middle;\n",
       "    }\n",
       "\n",
       "    .dataframe tbody tr th {\n",
       "        vertical-align: top;\n",
       "    }\n",
       "\n",
       "    .dataframe thead th {\n",
       "        text-align: right;\n",
       "    }\n",
       "</style>\n",
       "<table border=\"1\" class=\"dataframe\">\n",
       "  <thead>\n",
       "    <tr style=\"text-align: right;\">\n",
       "      <th></th>\n",
       "      <th>Department Id</th>\n",
       "      <th>Order Date</th>\n",
       "      <th>Days for shipment (scheduled)</th>\n",
       "      <th>Late Delivery</th>\n",
       "      <th>Order Status</th>\n",
       "      <th>Market</th>\n",
       "      <th>Customer Segment</th>\n",
       "    </tr>\n",
       "  </thead>\n",
       "  <tbody>\n",
       "    <tr>\n",
       "      <th>0</th>\n",
       "      <td>2</td>\n",
       "      <td>3</td>\n",
       "      <td>4</td>\n",
       "      <td>0</td>\n",
       "      <td>1.0</td>\n",
       "      <td>3.0</td>\n",
       "      <td>0.0</td>\n",
       "    </tr>\n",
       "    <tr>\n",
       "      <th>1</th>\n",
       "      <td>2</td>\n",
       "      <td>3</td>\n",
       "      <td>4</td>\n",
       "      <td>1</td>\n",
       "      <td>4.0</td>\n",
       "      <td>3.0</td>\n",
       "      <td>0.0</td>\n",
       "    </tr>\n",
       "    <tr>\n",
       "      <th>2</th>\n",
       "      <td>2</td>\n",
       "      <td>3</td>\n",
       "      <td>4</td>\n",
       "      <td>0</td>\n",
       "      <td>0.0</td>\n",
       "      <td>3.0</td>\n",
       "      <td>0.0</td>\n",
       "    </tr>\n",
       "    <tr>\n",
       "      <th>3</th>\n",
       "      <td>2</td>\n",
       "      <td>3</td>\n",
       "      <td>4</td>\n",
       "      <td>0</td>\n",
       "      <td>1.0</td>\n",
       "      <td>3.0</td>\n",
       "      <td>2.0</td>\n",
       "    </tr>\n",
       "    <tr>\n",
       "      <th>4</th>\n",
       "      <td>2</td>\n",
       "      <td>3</td>\n",
       "      <td>4</td>\n",
       "      <td>0</td>\n",
       "      <td>5.0</td>\n",
       "      <td>3.0</td>\n",
       "      <td>1.0</td>\n",
       "    </tr>\n",
       "    <tr>\n",
       "      <th>...</th>\n",
       "      <td>...</td>\n",
       "      <td>...</td>\n",
       "      <td>...</td>\n",
       "      <td>...</td>\n",
       "      <td>...</td>\n",
       "      <td>...</td>\n",
       "      <td>...</td>\n",
       "    </tr>\n",
       "    <tr>\n",
       "      <th>180514</th>\n",
       "      <td>12</td>\n",
       "      <td>3</td>\n",
       "      <td>1</td>\n",
       "      <td>1</td>\n",
       "      <td>1.0</td>\n",
       "      <td>3.0</td>\n",
       "      <td>0.0</td>\n",
       "    </tr>\n",
       "    <tr>\n",
       "      <th>180515</th>\n",
       "      <td>12</td>\n",
       "      <td>3</td>\n",
       "      <td>1</td>\n",
       "      <td>1</td>\n",
       "      <td>2.0</td>\n",
       "      <td>3.0</td>\n",
       "      <td>0.0</td>\n",
       "    </tr>\n",
       "    <tr>\n",
       "      <th>180516</th>\n",
       "      <td>12</td>\n",
       "      <td>2</td>\n",
       "      <td>0</td>\n",
       "      <td>1</td>\n",
       "      <td>1.0</td>\n",
       "      <td>3.0</td>\n",
       "      <td>0.0</td>\n",
       "    </tr>\n",
       "    <tr>\n",
       "      <th>180517</th>\n",
       "      <td>12</td>\n",
       "      <td>3</td>\n",
       "      <td>0</td>\n",
       "      <td>0</td>\n",
       "      <td>1.0</td>\n",
       "      <td>3.0</td>\n",
       "      <td>0.0</td>\n",
       "    </tr>\n",
       "    <tr>\n",
       "      <th>180518</th>\n",
       "      <td>12</td>\n",
       "      <td>2</td>\n",
       "      <td>2</td>\n",
       "      <td>1</td>\n",
       "      <td>5.0</td>\n",
       "      <td>3.0</td>\n",
       "      <td>2.0</td>\n",
       "    </tr>\n",
       "  </tbody>\n",
       "</table>\n",
       "<p>172765 rows × 7 columns</p>\n",
       "</div>"
      ],
      "text/plain": [
       "        Department Id  Order Date  Days for shipment (scheduled)  \\\n",
       "0                   2           3                              4   \n",
       "1                   2           3                              4   \n",
       "2                   2           3                              4   \n",
       "3                   2           3                              4   \n",
       "4                   2           3                              4   \n",
       "...               ...         ...                            ...   \n",
       "180514             12           3                              1   \n",
       "180515             12           3                              1   \n",
       "180516             12           2                              0   \n",
       "180517             12           3                              0   \n",
       "180518             12           2                              2   \n",
       "\n",
       "        Late Delivery  Order Status  Market  Customer Segment  \n",
       "0                   0           1.0     3.0               0.0  \n",
       "1                   1           4.0     3.0               0.0  \n",
       "2                   0           0.0     3.0               0.0  \n",
       "3                   0           1.0     3.0               2.0  \n",
       "4                   0           5.0     3.0               1.0  \n",
       "...               ...           ...     ...               ...  \n",
       "180514              1           1.0     3.0               0.0  \n",
       "180515              1           2.0     3.0               0.0  \n",
       "180516              1           1.0     3.0               0.0  \n",
       "180517              0           1.0     3.0               0.0  \n",
       "180518              1           5.0     3.0               2.0  \n",
       "\n",
       "[172765 rows x 7 columns]"
      ]
     },
     "execution_count": 116,
     "metadata": {},
     "output_type": "execute_result"
    }
   ],
   "source": [
    "combined_df"
   ]
  },
  {
   "cell_type": "code",
   "execution_count": null,
   "id": "3da4e621",
   "metadata": {},
   "outputs": [],
   "source": []
  }
 ],
 "metadata": {
  "kernelspec": {
   "display_name": "Python 3 (ipykernel)",
   "language": "python",
   "name": "python3"
  },
  "language_info": {
   "codemirror_mode": {
    "name": "ipython",
    "version": 3
   },
   "file_extension": ".py",
   "mimetype": "text/x-python",
   "name": "python",
   "nbconvert_exporter": "python",
   "pygments_lexer": "ipython3",
   "version": "3.8.12"
  }
 },
 "nbformat": 4,
 "nbformat_minor": 5
}
