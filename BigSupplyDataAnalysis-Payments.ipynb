{
 "cells": [
  {
   "cell_type": "markdown",
   "id": "776f040f",
   "metadata": {},
   "source": [
    "This file is mostly focused on deducing the relationship betweenorder status, payment type, and possibly linking them up with shipment delays"
   ]
  },
  {
   "cell_type": "markdown",
   "id": "5a3b5f8f",
   "metadata": {},
   "source": [
    "###  Imports"
   ]
  },
  {
   "cell_type": "code",
   "execution_count": 1,
   "id": "f23bc6da",
   "metadata": {
    "ExecuteTime": {
     "end_time": "2022-03-12T11:24:27.799823Z",
     "start_time": "2022-03-12T11:24:26.779359Z"
    }
   },
   "outputs": [],
   "source": [
    "import pandas as pd\n",
    "import numpy as np\n",
    "import matplotlib.pyplot as plt\n",
    "pd.options.display.max_columns = None"
   ]
  },
  {
   "cell_type": "markdown",
   "id": "bb08eee7",
   "metadata": {},
   "source": [
    "#### Read dataframes with index columns"
   ]
  },
  {
   "cell_type": "code",
   "execution_count": 2,
   "id": "fd14399a",
   "metadata": {
    "ExecuteTime": {
     "end_time": "2022-03-12T11:24:28.211833Z",
     "start_time": "2022-03-12T11:24:27.800824Z"
    }
   },
   "outputs": [],
   "source": [
    "departments_df = pd.read_csv(\"BigSupplyCo_Data_Files\\departments_v2.csv\", index_col=\"Department Id\")\n",
    "orders_df = pd.read_csv(\"BigSupplyCo_Data_Files\\orders_v2.csv\", index_col = \"Order Id\")\n",
    "products_df = pd.read_csv(\"BigSupplyCo_Data_Files\\products_v2.csv\", index_col = \"Product Id\")\n",
    "customers_df = pd.read_csv(\"BigSupplyCo_Data_Files\\customers_v2.csv\", index_col = \"Customer Id\")"
   ]
  },
  {
   "cell_type": "markdown",
   "id": "4b52d900",
   "metadata": {},
   "source": [
    "## 1. Analyze the shipping info in more detail"
   ]
  },
  {
   "cell_type": "markdown",
   "id": "818d60f8",
   "metadata": {},
   "source": [
    "Trying to deduce relationships between the 4 columns at the end that relate to shippping and spot any errors"
   ]
  },
  {
   "cell_type": "markdown",
   "id": "83c3956b",
   "metadata": {},
   "source": [
    "Create subset of orders dataframe"
   ]
  },
  {
   "cell_type": "code",
   "execution_count": 3,
   "id": "3f33d15e",
   "metadata": {
    "ExecuteTime": {
     "end_time": "2022-03-12T11:24:28.227843Z",
     "start_time": "2022-03-12T11:24:28.213834Z"
    }
   },
   "outputs": [
    {
     "data": {
      "text/html": [
       "<div>\n",
       "<style scoped>\n",
       "    .dataframe tbody tr th:only-of-type {\n",
       "        vertical-align: middle;\n",
       "    }\n",
       "\n",
       "    .dataframe tbody tr th {\n",
       "        vertical-align: top;\n",
       "    }\n",
       "\n",
       "    .dataframe thead th {\n",
       "        text-align: right;\n",
       "    }\n",
       "</style>\n",
       "<table border=\"1\" class=\"dataframe\">\n",
       "  <thead>\n",
       "    <tr style=\"text-align: right;\">\n",
       "      <th></th>\n",
       "      <th>Days for shipping (real)</th>\n",
       "      <th>Days for shipment (scheduled)</th>\n",
       "      <th>Delivery Status</th>\n",
       "      <th>Late Delivery Risk</th>\n",
       "    </tr>\n",
       "    <tr>\n",
       "      <th>Order Id</th>\n",
       "      <th></th>\n",
       "      <th></th>\n",
       "      <th></th>\n",
       "      <th></th>\n",
       "    </tr>\n",
       "  </thead>\n",
       "  <tbody>\n",
       "    <tr>\n",
       "      <th>77202</th>\n",
       "      <td>3</td>\n",
       "      <td>4</td>\n",
       "      <td>Advance shipping</td>\n",
       "      <td>0</td>\n",
       "    </tr>\n",
       "    <tr>\n",
       "      <th>75939</th>\n",
       "      <td>5</td>\n",
       "      <td>4</td>\n",
       "      <td>Late delivery</td>\n",
       "      <td>1</td>\n",
       "    </tr>\n",
       "    <tr>\n",
       "      <th>75938</th>\n",
       "      <td>4</td>\n",
       "      <td>4</td>\n",
       "      <td>Shipping on time</td>\n",
       "      <td>0</td>\n",
       "    </tr>\n",
       "  </tbody>\n",
       "</table>\n",
       "</div>"
      ],
      "text/plain": [
       "          Days for shipping (real)  Days for shipment (scheduled)  \\\n",
       "Order Id                                                            \n",
       "77202                            3                              4   \n",
       "75939                            5                              4   \n",
       "75938                            4                              4   \n",
       "\n",
       "           Delivery Status  Late Delivery Risk  \n",
       "Order Id                                        \n",
       "77202     Advance shipping                   0  \n",
       "75939        Late delivery                   1  \n",
       "75938     Shipping on time                   0  "
      ]
     },
     "execution_count": 3,
     "metadata": {},
     "output_type": "execute_result"
    }
   ],
   "source": [
    "shipping_df = orders_df.filter([\"Days for shipping (real)\",\"Days for shipment (scheduled)\",\"Delivery Status\",\"Late Delivery Risk\"]).copy()\n",
    "shipping_df.head(3)"
   ]
  },
  {
   "cell_type": "markdown",
   "id": "5972c58c",
   "metadata": {},
   "source": [
    "Basically I want to deduce the meaning of the possible values in each column and how they combine.\n",
    "The meaning of scheduled and real shipping days are clear enough. \n",
    "It seems that the Delivery status depends on the comparison of these two columns' values. Let's verify that"
   ]
  },
  {
   "cell_type": "markdown",
   "id": "9a764857",
   "metadata": {},
   "source": [
    "First want to check the value counts"
   ]
  },
  {
   "cell_type": "code",
   "execution_count": 4,
   "id": "3dd79503",
   "metadata": {
    "ExecuteTime": {
     "end_time": "2022-03-12T11:24:28.257843Z",
     "start_time": "2022-03-12T11:24:28.228845Z"
    }
   },
   "outputs": [
    {
     "data": {
      "text/html": [
       "<div>\n",
       "<style scoped>\n",
       "    .dataframe tbody tr th:only-of-type {\n",
       "        vertical-align: middle;\n",
       "    }\n",
       "\n",
       "    .dataframe tbody tr th {\n",
       "        vertical-align: top;\n",
       "    }\n",
       "\n",
       "    .dataframe thead th {\n",
       "        text-align: right;\n",
       "    }\n",
       "</style>\n",
       "<table border=\"1\" class=\"dataframe\">\n",
       "  <thead>\n",
       "    <tr style=\"text-align: right;\">\n",
       "      <th></th>\n",
       "      <th>Days for shipping (real)</th>\n",
       "      <th>Days for shipment (scheduled)</th>\n",
       "      <th>Delivery Status</th>\n",
       "      <th>Late Delivery Risk</th>\n",
       "    </tr>\n",
       "  </thead>\n",
       "  <tbody>\n",
       "    <tr>\n",
       "      <th>0</th>\n",
       "      <td>4839.0</td>\n",
       "      <td>9293.0</td>\n",
       "      <td>NaN</td>\n",
       "      <td>73788.0</td>\n",
       "    </tr>\n",
       "    <tr>\n",
       "      <th>1</th>\n",
       "      <td>4454.0</td>\n",
       "      <td>26513.0</td>\n",
       "      <td>NaN</td>\n",
       "      <td>98977.0</td>\n",
       "    </tr>\n",
       "    <tr>\n",
       "      <th>2</th>\n",
       "      <td>54205.0</td>\n",
       "      <td>33806.0</td>\n",
       "      <td>NaN</td>\n",
       "      <td>NaN</td>\n",
       "    </tr>\n",
       "    <tr>\n",
       "      <th>3</th>\n",
       "      <td>27478.0</td>\n",
       "      <td>NaN</td>\n",
       "      <td>NaN</td>\n",
       "      <td>NaN</td>\n",
       "    </tr>\n",
       "    <tr>\n",
       "      <th>4</th>\n",
       "      <td>27297.0</td>\n",
       "      <td>103153.0</td>\n",
       "      <td>NaN</td>\n",
       "      <td>NaN</td>\n",
       "    </tr>\n",
       "    <tr>\n",
       "      <th>5</th>\n",
       "      <td>27003.0</td>\n",
       "      <td>NaN</td>\n",
       "      <td>NaN</td>\n",
       "      <td>NaN</td>\n",
       "    </tr>\n",
       "    <tr>\n",
       "      <th>6</th>\n",
       "      <td>27489.0</td>\n",
       "      <td>NaN</td>\n",
       "      <td>NaN</td>\n",
       "      <td>NaN</td>\n",
       "    </tr>\n",
       "    <tr>\n",
       "      <th>Advance shipping</th>\n",
       "      <td>NaN</td>\n",
       "      <td>NaN</td>\n",
       "      <td>41592.0</td>\n",
       "      <td>NaN</td>\n",
       "    </tr>\n",
       "    <tr>\n",
       "      <th>Late delivery</th>\n",
       "      <td>NaN</td>\n",
       "      <td>NaN</td>\n",
       "      <td>98977.0</td>\n",
       "      <td>NaN</td>\n",
       "    </tr>\n",
       "    <tr>\n",
       "      <th>Shipping on time</th>\n",
       "      <td>NaN</td>\n",
       "      <td>NaN</td>\n",
       "      <td>32196.0</td>\n",
       "      <td>NaN</td>\n",
       "    </tr>\n",
       "  </tbody>\n",
       "</table>\n",
       "</div>"
      ],
      "text/plain": [
       "                  Days for shipping (real)  Days for shipment (scheduled)  \\\n",
       "0                                   4839.0                         9293.0   \n",
       "1                                   4454.0                        26513.0   \n",
       "2                                  54205.0                        33806.0   \n",
       "3                                  27478.0                            NaN   \n",
       "4                                  27297.0                       103153.0   \n",
       "5                                  27003.0                            NaN   \n",
       "6                                  27489.0                            NaN   \n",
       "Advance shipping                       NaN                            NaN   \n",
       "Late delivery                          NaN                            NaN   \n",
       "Shipping on time                       NaN                            NaN   \n",
       "\n",
       "                  Delivery Status  Late Delivery Risk  \n",
       "0                             NaN             73788.0  \n",
       "1                             NaN             98977.0  \n",
       "2                             NaN                 NaN  \n",
       "3                             NaN                 NaN  \n",
       "4                             NaN                 NaN  \n",
       "5                             NaN                 NaN  \n",
       "6                             NaN                 NaN  \n",
       "Advance shipping          41592.0                 NaN  \n",
       "Late delivery             98977.0                 NaN  \n",
       "Shipping on time          32196.0                 NaN  "
      ]
     },
     "execution_count": 4,
     "metadata": {},
     "output_type": "execute_result"
    }
   ],
   "source": [
    "shipping_df.apply(pd.Series.value_counts)"
   ]
  },
  {
   "cell_type": "markdown",
   "id": "0e66d768",
   "metadata": {},
   "source": [
    "Interesting that nothing is scheduled to ship in 3, 5, 6 days"
   ]
  },
  {
   "cell_type": "markdown",
   "id": "dfc7cb76",
   "metadata": {},
   "source": [
    "### Get rows where shipping is made on schedule"
   ]
  },
  {
   "cell_type": "code",
   "execution_count": 5,
   "id": "15f7f7fb",
   "metadata": {
    "ExecuteTime": {
     "end_time": "2022-03-12T11:24:28.273842Z",
     "start_time": "2022-03-12T11:24:28.258844Z"
    }
   },
   "outputs": [
    {
     "data": {
      "text/html": [
       "<div>\n",
       "<style scoped>\n",
       "    .dataframe tbody tr th:only-of-type {\n",
       "        vertical-align: middle;\n",
       "    }\n",
       "\n",
       "    .dataframe tbody tr th {\n",
       "        vertical-align: top;\n",
       "    }\n",
       "\n",
       "    .dataframe thead th {\n",
       "        text-align: right;\n",
       "    }\n",
       "</style>\n",
       "<table border=\"1\" class=\"dataframe\">\n",
       "  <thead>\n",
       "    <tr style=\"text-align: right;\">\n",
       "      <th></th>\n",
       "      <th>Days for shipping (real)</th>\n",
       "      <th>Days for shipment (scheduled)</th>\n",
       "      <th>Delivery Status</th>\n",
       "      <th>Late Delivery Risk</th>\n",
       "    </tr>\n",
       "    <tr>\n",
       "      <th>Order Id</th>\n",
       "      <th></th>\n",
       "      <th></th>\n",
       "      <th></th>\n",
       "      <th></th>\n",
       "    </tr>\n",
       "  </thead>\n",
       "  <tbody>\n",
       "    <tr>\n",
       "      <th>75938</th>\n",
       "      <td>4</td>\n",
       "      <td>4</td>\n",
       "      <td>Shipping on time</td>\n",
       "      <td>0</td>\n",
       "    </tr>\n",
       "  </tbody>\n",
       "</table>\n",
       "</div>"
      ],
      "text/plain": [
       "          Days for shipping (real)  Days for shipment (scheduled)  \\\n",
       "Order Id                                                            \n",
       "75938                            4                              4   \n",
       "\n",
       "           Delivery Status  Late Delivery Risk  \n",
       "Order Id                                        \n",
       "75938     Shipping on time                   0  "
      ]
     },
     "execution_count": 5,
     "metadata": {},
     "output_type": "execute_result"
    }
   ],
   "source": [
    "on_time_df = shipping_df.loc[(shipping_df[\"Days for shipping (real)\"] == shipping_df[\"Days for shipment (scheduled)\"])]\n",
    "on_time_df.head(1)"
   ]
  },
  {
   "cell_type": "code",
   "execution_count": 6,
   "id": "145ac766",
   "metadata": {
    "ExecuteTime": {
     "end_time": "2022-03-12T11:24:28.288843Z",
     "start_time": "2022-03-12T11:24:28.274842Z"
    }
   },
   "outputs": [
    {
     "data": {
      "text/html": [
       "<div>\n",
       "<style scoped>\n",
       "    .dataframe tbody tr th:only-of-type {\n",
       "        vertical-align: middle;\n",
       "    }\n",
       "\n",
       "    .dataframe tbody tr th {\n",
       "        vertical-align: top;\n",
       "    }\n",
       "\n",
       "    .dataframe thead th {\n",
       "        text-align: right;\n",
       "    }\n",
       "</style>\n",
       "<table border=\"1\" class=\"dataframe\">\n",
       "  <thead>\n",
       "    <tr style=\"text-align: right;\">\n",
       "      <th></th>\n",
       "      <th>Days for shipping (real)</th>\n",
       "      <th>Days for shipment (scheduled)</th>\n",
       "      <th>Delivery Status</th>\n",
       "      <th>Late Delivery Risk</th>\n",
       "    </tr>\n",
       "  </thead>\n",
       "  <tbody>\n",
       "    <tr>\n",
       "      <th>0</th>\n",
       "      <td>4839.0</td>\n",
       "      <td>4839.0</td>\n",
       "      <td>NaN</td>\n",
       "      <td>32196.0</td>\n",
       "    </tr>\n",
       "    <tr>\n",
       "      <th>2</th>\n",
       "      <td>6819.0</td>\n",
       "      <td>6819.0</td>\n",
       "      <td>NaN</td>\n",
       "      <td>NaN</td>\n",
       "    </tr>\n",
       "    <tr>\n",
       "      <th>4</th>\n",
       "      <td>20538.0</td>\n",
       "      <td>20538.0</td>\n",
       "      <td>NaN</td>\n",
       "      <td>NaN</td>\n",
       "    </tr>\n",
       "    <tr>\n",
       "      <th>Shipping on time</th>\n",
       "      <td>NaN</td>\n",
       "      <td>NaN</td>\n",
       "      <td>32196.0</td>\n",
       "      <td>NaN</td>\n",
       "    </tr>\n",
       "  </tbody>\n",
       "</table>\n",
       "</div>"
      ],
      "text/plain": [
       "                  Days for shipping (real)  Days for shipment (scheduled)  \\\n",
       "0                                   4839.0                         4839.0   \n",
       "2                                   6819.0                         6819.0   \n",
       "4                                  20538.0                        20538.0   \n",
       "Shipping on time                       NaN                            NaN   \n",
       "\n",
       "                  Delivery Status  Late Delivery Risk  \n",
       "0                             NaN             32196.0  \n",
       "2                             NaN                 NaN  \n",
       "4                             NaN                 NaN  \n",
       "Shipping on time          32196.0                 NaN  "
      ]
     },
     "execution_count": 6,
     "metadata": {},
     "output_type": "execute_result"
    }
   ],
   "source": [
    "on_time_df.apply(pd.Series.value_counts)"
   ]
  },
  {
   "cell_type": "markdown",
   "id": "659108eb",
   "metadata": {},
   "source": [
    "Get percentage of orders that are cancelled"
   ]
  },
  {
   "cell_type": "code",
   "execution_count": 7,
   "id": "272ec4ff",
   "metadata": {
    "ExecuteTime": {
     "end_time": "2022-03-12T11:24:28.303843Z",
     "start_time": "2022-03-12T11:24:28.289844Z"
    }
   },
   "outputs": [],
   "source": [
    "percentage_list = [0,0,0]"
   ]
  },
  {
   "cell_type": "code",
   "execution_count": 8,
   "id": "511e447e",
   "metadata": {
    "ExecuteTime": {
     "end_time": "2022-03-12T11:24:28.318843Z",
     "start_time": "2022-03-12T11:24:28.304843Z"
    }
   },
   "outputs": [
    {
     "name": "stdout",
     "output_type": "stream",
     "text": [
      "4.84  % of shipments sent on time are cancelled \n"
     ]
    }
   ],
   "source": [
    "a = len(on_time_df.index)\n",
    "p = round(1557/a*100, 2)\n",
    "print( p, \" % of shipments sent on time are cancelled \")\n",
    "percentage_list[0] = p"
   ]
  },
  {
   "cell_type": "markdown",
   "id": "343ba883",
   "metadata": {},
   "source": [
    "Interesting that nothing that gets scheduled to ship in 1 day is delivered on time"
   ]
  },
  {
   "cell_type": "markdown",
   "id": "5092abaa",
   "metadata": {},
   "source": [
    "### Get rows where shipment takes longer than expected"
   ]
  },
  {
   "cell_type": "code",
   "execution_count": 9,
   "id": "1e490934",
   "metadata": {
    "ExecuteTime": {
     "end_time": "2022-03-12T11:24:28.334843Z",
     "start_time": "2022-03-12T11:24:28.320845Z"
    },
    "scrolled": true
   },
   "outputs": [
    {
     "data": {
      "text/html": [
       "<div>\n",
       "<style scoped>\n",
       "    .dataframe tbody tr th:only-of-type {\n",
       "        vertical-align: middle;\n",
       "    }\n",
       "\n",
       "    .dataframe tbody tr th {\n",
       "        vertical-align: top;\n",
       "    }\n",
       "\n",
       "    .dataframe thead th {\n",
       "        text-align: right;\n",
       "    }\n",
       "</style>\n",
       "<table border=\"1\" class=\"dataframe\">\n",
       "  <thead>\n",
       "    <tr style=\"text-align: right;\">\n",
       "      <th></th>\n",
       "      <th>Days for shipping (real)</th>\n",
       "      <th>Days for shipment (scheduled)</th>\n",
       "      <th>Delivery Status</th>\n",
       "      <th>Late Delivery Risk</th>\n",
       "    </tr>\n",
       "    <tr>\n",
       "      <th>Order Id</th>\n",
       "      <th></th>\n",
       "      <th></th>\n",
       "      <th></th>\n",
       "      <th></th>\n",
       "    </tr>\n",
       "  </thead>\n",
       "  <tbody>\n",
       "    <tr>\n",
       "      <th>75939</th>\n",
       "      <td>5</td>\n",
       "      <td>4</td>\n",
       "      <td>Late delivery</td>\n",
       "      <td>1</td>\n",
       "    </tr>\n",
       "  </tbody>\n",
       "</table>\n",
       "</div>"
      ],
      "text/plain": [
       "          Days for shipping (real)  Days for shipment (scheduled)  \\\n",
       "Order Id                                                            \n",
       "75939                            5                              4   \n",
       "\n",
       "         Delivery Status  Late Delivery Risk  \n",
       "Order Id                                      \n",
       "75939      Late delivery                   1  "
      ]
     },
     "execution_count": 9,
     "metadata": {},
     "output_type": "execute_result"
    }
   ],
   "source": [
    "delayed_df = shipping_df.loc[(shipping_df[\"Days for shipping (real)\"] > shipping_df[\"Days for shipment (scheduled)\"])]\n",
    "delayed_df.head(1)"
   ]
  },
  {
   "cell_type": "code",
   "execution_count": 10,
   "id": "117b9eff",
   "metadata": {
    "ExecuteTime": {
     "end_time": "2022-03-12T11:24:28.365842Z",
     "start_time": "2022-03-12T11:24:28.335845Z"
    },
    "scrolled": true
   },
   "outputs": [
    {
     "data": {
      "text/html": [
       "<div>\n",
       "<style scoped>\n",
       "    .dataframe tbody tr th:only-of-type {\n",
       "        vertical-align: middle;\n",
       "    }\n",
       "\n",
       "    .dataframe tbody tr th {\n",
       "        vertical-align: top;\n",
       "    }\n",
       "\n",
       "    .dataframe thead th {\n",
       "        text-align: right;\n",
       "    }\n",
       "</style>\n",
       "<table border=\"1\" class=\"dataframe\">\n",
       "  <thead>\n",
       "    <tr style=\"text-align: right;\">\n",
       "      <th></th>\n",
       "      <th>Days for shipping (real)</th>\n",
       "      <th>Days for shipment (scheduled)</th>\n",
       "      <th>Delivery Status</th>\n",
       "      <th>Late Delivery Risk</th>\n",
       "    </tr>\n",
       "  </thead>\n",
       "  <tbody>\n",
       "    <tr>\n",
       "      <th>0</th>\n",
       "      <td>NaN</td>\n",
       "      <td>4454.0</td>\n",
       "      <td>NaN</td>\n",
       "      <td>NaN</td>\n",
       "    </tr>\n",
       "    <tr>\n",
       "      <th>1</th>\n",
       "      <td>4454.0</td>\n",
       "      <td>26513.0</td>\n",
       "      <td>NaN</td>\n",
       "      <td>98977.0</td>\n",
       "    </tr>\n",
       "    <tr>\n",
       "      <th>2</th>\n",
       "      <td>26513.0</td>\n",
       "      <td>26987.0</td>\n",
       "      <td>NaN</td>\n",
       "      <td>NaN</td>\n",
       "    </tr>\n",
       "    <tr>\n",
       "      <th>3</th>\n",
       "      <td>6759.0</td>\n",
       "      <td>NaN</td>\n",
       "      <td>NaN</td>\n",
       "      <td>NaN</td>\n",
       "    </tr>\n",
       "    <tr>\n",
       "      <th>4</th>\n",
       "      <td>6759.0</td>\n",
       "      <td>41023.0</td>\n",
       "      <td>NaN</td>\n",
       "      <td>NaN</td>\n",
       "    </tr>\n",
       "    <tr>\n",
       "      <th>5</th>\n",
       "      <td>27003.0</td>\n",
       "      <td>NaN</td>\n",
       "      <td>NaN</td>\n",
       "      <td>NaN</td>\n",
       "    </tr>\n",
       "    <tr>\n",
       "      <th>6</th>\n",
       "      <td>27489.0</td>\n",
       "      <td>NaN</td>\n",
       "      <td>NaN</td>\n",
       "      <td>NaN</td>\n",
       "    </tr>\n",
       "    <tr>\n",
       "      <th>Late delivery</th>\n",
       "      <td>NaN</td>\n",
       "      <td>NaN</td>\n",
       "      <td>98977.0</td>\n",
       "      <td>NaN</td>\n",
       "    </tr>\n",
       "  </tbody>\n",
       "</table>\n",
       "</div>"
      ],
      "text/plain": [
       "               Days for shipping (real)  Days for shipment (scheduled)  \\\n",
       "0                                   NaN                         4454.0   \n",
       "1                                4454.0                        26513.0   \n",
       "2                               26513.0                        26987.0   \n",
       "3                                6759.0                            NaN   \n",
       "4                                6759.0                        41023.0   \n",
       "5                               27003.0                            NaN   \n",
       "6                               27489.0                            NaN   \n",
       "Late delivery                       NaN                            NaN   \n",
       "\n",
       "               Delivery Status  Late Delivery Risk  \n",
       "0                          NaN                 NaN  \n",
       "1                          NaN             98977.0  \n",
       "2                          NaN                 NaN  \n",
       "3                          NaN                 NaN  \n",
       "4                          NaN                 NaN  \n",
       "5                          NaN                 NaN  \n",
       "6                          NaN                 NaN  \n",
       "Late delivery          98977.0                 NaN  "
      ]
     },
     "execution_count": 10,
     "metadata": {},
     "output_type": "execute_result"
    }
   ],
   "source": [
    "delayed_df.apply(pd.Series.value_counts)"
   ]
  },
  {
   "cell_type": "markdown",
   "id": "f3278dbe",
   "metadata": {},
   "source": [
    "Interesting that nothing is scheduled to ship in 3, 5, 6 days"
   ]
  },
  {
   "cell_type": "markdown",
   "id": "16b50e54",
   "metadata": {},
   "source": [
    "Also note that the Late delivery Risk column is assigned the value of 0 (no late delivery) when the delivery is late, but it has been cancelled"
   ]
  },
  {
   "cell_type": "markdown",
   "id": "a149b15a",
   "metadata": {},
   "source": [
    "Get percentage of orders that are cancelled"
   ]
  },
  {
   "cell_type": "code",
   "execution_count": 11,
   "id": "89157296",
   "metadata": {
    "ExecuteTime": {
     "end_time": "2022-03-12T11:24:28.380844Z",
     "start_time": "2022-03-12T11:24:28.366843Z"
    }
   },
   "outputs": [
    {
     "name": "stdout",
     "output_type": "stream",
     "text": [
      "4.47  % of shipments that are delayed are cancelled \n"
     ]
    }
   ],
   "source": [
    "a = len(delayed_df.index)\n",
    "p = round(4423.0/a*100, 2)\n",
    "print( p, \" % of shipments that are delayed are cancelled \")\n",
    "percentage_list[1] = p"
   ]
  },
  {
   "cell_type": "markdown",
   "id": "470e3d41",
   "metadata": {},
   "source": [
    "### Get rows where shipment takes shorter than expected"
   ]
  },
  {
   "cell_type": "code",
   "execution_count": 12,
   "id": "b49d7a26",
   "metadata": {
    "ExecuteTime": {
     "end_time": "2022-03-12T11:24:28.395843Z",
     "start_time": "2022-03-12T11:24:28.381845Z"
    }
   },
   "outputs": [
    {
     "data": {
      "text/html": [
       "<div>\n",
       "<style scoped>\n",
       "    .dataframe tbody tr th:only-of-type {\n",
       "        vertical-align: middle;\n",
       "    }\n",
       "\n",
       "    .dataframe tbody tr th {\n",
       "        vertical-align: top;\n",
       "    }\n",
       "\n",
       "    .dataframe thead th {\n",
       "        text-align: right;\n",
       "    }\n",
       "</style>\n",
       "<table border=\"1\" class=\"dataframe\">\n",
       "  <thead>\n",
       "    <tr style=\"text-align: right;\">\n",
       "      <th></th>\n",
       "      <th>Days for shipping (real)</th>\n",
       "      <th>Days for shipment (scheduled)</th>\n",
       "      <th>Delivery Status</th>\n",
       "      <th>Late Delivery Risk</th>\n",
       "    </tr>\n",
       "    <tr>\n",
       "      <th>Order Id</th>\n",
       "      <th></th>\n",
       "      <th></th>\n",
       "      <th></th>\n",
       "      <th></th>\n",
       "    </tr>\n",
       "  </thead>\n",
       "  <tbody>\n",
       "    <tr>\n",
       "      <th>77202</th>\n",
       "      <td>3</td>\n",
       "      <td>4</td>\n",
       "      <td>Advance shipping</td>\n",
       "      <td>0</td>\n",
       "    </tr>\n",
       "    <tr>\n",
       "      <th>75937</th>\n",
       "      <td>3</td>\n",
       "      <td>4</td>\n",
       "      <td>Advance shipping</td>\n",
       "      <td>0</td>\n",
       "    </tr>\n",
       "    <tr>\n",
       "      <th>75936</th>\n",
       "      <td>2</td>\n",
       "      <td>4</td>\n",
       "      <td>Advance shipping</td>\n",
       "      <td>0</td>\n",
       "    </tr>\n",
       "    <tr>\n",
       "      <th>75912</th>\n",
       "      <td>3</td>\n",
       "      <td>4</td>\n",
       "      <td>Advance shipping</td>\n",
       "      <td>0</td>\n",
       "    </tr>\n",
       "    <tr>\n",
       "      <th>75911</th>\n",
       "      <td>2</td>\n",
       "      <td>4</td>\n",
       "      <td>Advance shipping</td>\n",
       "      <td>0</td>\n",
       "    </tr>\n",
       "    <tr>\n",
       "      <th>...</th>\n",
       "      <td>...</td>\n",
       "      <td>...</td>\n",
       "      <td>...</td>\n",
       "      <td>...</td>\n",
       "    </tr>\n",
       "    <tr>\n",
       "      <th>26071</th>\n",
       "      <td>2</td>\n",
       "      <td>4</td>\n",
       "      <td>Advance shipping</td>\n",
       "      <td>0</td>\n",
       "    </tr>\n",
       "    <tr>\n",
       "      <th>26052</th>\n",
       "      <td>3</td>\n",
       "      <td>4</td>\n",
       "      <td>Advance shipping</td>\n",
       "      <td>0</td>\n",
       "    </tr>\n",
       "    <tr>\n",
       "      <th>26052</th>\n",
       "      <td>3</td>\n",
       "      <td>4</td>\n",
       "      <td>Advance shipping</td>\n",
       "      <td>0</td>\n",
       "    </tr>\n",
       "    <tr>\n",
       "      <th>26047</th>\n",
       "      <td>3</td>\n",
       "      <td>4</td>\n",
       "      <td>Advance shipping</td>\n",
       "      <td>0</td>\n",
       "    </tr>\n",
       "    <tr>\n",
       "      <th>26022</th>\n",
       "      <td>3</td>\n",
       "      <td>4</td>\n",
       "      <td>Advance shipping</td>\n",
       "      <td>0</td>\n",
       "    </tr>\n",
       "  </tbody>\n",
       "</table>\n",
       "<p>41592 rows × 4 columns</p>\n",
       "</div>"
      ],
      "text/plain": [
       "          Days for shipping (real)  Days for shipment (scheduled)  \\\n",
       "Order Id                                                            \n",
       "77202                            3                              4   \n",
       "75937                            3                              4   \n",
       "75936                            2                              4   \n",
       "75912                            3                              4   \n",
       "75911                            2                              4   \n",
       "...                            ...                            ...   \n",
       "26071                            2                              4   \n",
       "26052                            3                              4   \n",
       "26052                            3                              4   \n",
       "26047                            3                              4   \n",
       "26022                            3                              4   \n",
       "\n",
       "           Delivery Status  Late Delivery Risk  \n",
       "Order Id                                        \n",
       "77202     Advance shipping                   0  \n",
       "75937     Advance shipping                   0  \n",
       "75936     Advance shipping                   0  \n",
       "75912     Advance shipping                   0  \n",
       "75911     Advance shipping                   0  \n",
       "...                    ...                 ...  \n",
       "26071     Advance shipping                   0  \n",
       "26052     Advance shipping                   0  \n",
       "26052     Advance shipping                   0  \n",
       "26047     Advance shipping                   0  \n",
       "26022     Advance shipping                   0  \n",
       "\n",
       "[41592 rows x 4 columns]"
      ]
     },
     "execution_count": 12,
     "metadata": {},
     "output_type": "execute_result"
    }
   ],
   "source": [
    "advance_df = shipping_df.loc[(shipping_df[\"Days for shipping (real)\"] < shipping_df[\"Days for shipment (scheduled)\"])]\n",
    "advance_df"
   ]
  },
  {
   "cell_type": "code",
   "execution_count": 13,
   "id": "30744cab",
   "metadata": {
    "ExecuteTime": {
     "end_time": "2022-03-12T11:24:28.410842Z",
     "start_time": "2022-03-12T11:24:28.396844Z"
    },
    "scrolled": true
   },
   "outputs": [
    {
     "data": {
      "text/html": [
       "<div>\n",
       "<style scoped>\n",
       "    .dataframe tbody tr th:only-of-type {\n",
       "        vertical-align: middle;\n",
       "    }\n",
       "\n",
       "    .dataframe tbody tr th {\n",
       "        vertical-align: top;\n",
       "    }\n",
       "\n",
       "    .dataframe thead th {\n",
       "        text-align: right;\n",
       "    }\n",
       "</style>\n",
       "<table border=\"1\" class=\"dataframe\">\n",
       "  <thead>\n",
       "    <tr style=\"text-align: right;\">\n",
       "      <th></th>\n",
       "      <th>Days for shipping (real)</th>\n",
       "      <th>Days for shipment (scheduled)</th>\n",
       "      <th>Delivery Status</th>\n",
       "      <th>Late Delivery Risk</th>\n",
       "    </tr>\n",
       "  </thead>\n",
       "  <tbody>\n",
       "    <tr>\n",
       "      <th>0</th>\n",
       "      <td>NaN</td>\n",
       "      <td>NaN</td>\n",
       "      <td>NaN</td>\n",
       "      <td>41592.0</td>\n",
       "    </tr>\n",
       "    <tr>\n",
       "      <th>2</th>\n",
       "      <td>20873.0</td>\n",
       "      <td>NaN</td>\n",
       "      <td>NaN</td>\n",
       "      <td>NaN</td>\n",
       "    </tr>\n",
       "    <tr>\n",
       "      <th>3</th>\n",
       "      <td>20719.0</td>\n",
       "      <td>NaN</td>\n",
       "      <td>NaN</td>\n",
       "      <td>NaN</td>\n",
       "    </tr>\n",
       "    <tr>\n",
       "      <th>4</th>\n",
       "      <td>NaN</td>\n",
       "      <td>41592.0</td>\n",
       "      <td>NaN</td>\n",
       "      <td>NaN</td>\n",
       "    </tr>\n",
       "    <tr>\n",
       "      <th>Advance shipping</th>\n",
       "      <td>NaN</td>\n",
       "      <td>NaN</td>\n",
       "      <td>41592.0</td>\n",
       "      <td>NaN</td>\n",
       "    </tr>\n",
       "  </tbody>\n",
       "</table>\n",
       "</div>"
      ],
      "text/plain": [
       "                  Days for shipping (real)  Days for shipment (scheduled)  \\\n",
       "0                                      NaN                            NaN   \n",
       "2                                  20873.0                            NaN   \n",
       "3                                  20719.0                            NaN   \n",
       "4                                      NaN                        41592.0   \n",
       "Advance shipping                       NaN                            NaN   \n",
       "\n",
       "                  Delivery Status  Late Delivery Risk  \n",
       "0                             NaN             41592.0  \n",
       "2                             NaN                 NaN  \n",
       "3                             NaN                 NaN  \n",
       "4                             NaN                 NaN  \n",
       "Advance shipping          41592.0                 NaN  "
      ]
     },
     "execution_count": 13,
     "metadata": {},
     "output_type": "execute_result"
    }
   ],
   "source": [
    "advance_df.apply(pd.Series.value_counts)"
   ]
  },
  {
   "cell_type": "markdown",
   "id": "3aede554",
   "metadata": {},
   "source": [
    "Interesting that only orders that are scheduled to be sent on 4 days are sent in advance, and only in 2 or 3 days"
   ]
  },
  {
   "cell_type": "markdown",
   "id": "8fd15038",
   "metadata": {
    "ExecuteTime": {
     "end_time": "2022-03-11T09:37:06.634481Z",
     "start_time": "2022-03-11T09:37:06.628441Z"
    }
   },
   "source": [
    "Get percentage of orders that are cancelled"
   ]
  },
  {
   "cell_type": "code",
   "execution_count": 14,
   "id": "bc3ce991",
   "metadata": {
    "ExecuteTime": {
     "end_time": "2022-03-12T11:24:28.425844Z",
     "start_time": "2022-03-12T11:24:28.411843Z"
    }
   },
   "outputs": [
    {
     "name": "stdout",
     "output_type": "stream",
     "text": [
      "4.27  % of shipments that are sent in advance are cancelled \n"
     ]
    }
   ],
   "source": [
    "a = len(advance_df.index)\n",
    "p = round(1774/a*100, 2)\n",
    "print( p, \" % of shipments that are sent in advance are cancelled \")\n",
    "percentage_list[2] = p"
   ]
  },
  {
   "cell_type": "markdown",
   "id": "8a302133",
   "metadata": {},
   "source": [
    "### Inspect Cancelled Shipping"
   ]
  },
  {
   "cell_type": "code",
   "execution_count": 15,
   "id": "97e2f5fe",
   "metadata": {
    "ExecuteTime": {
     "end_time": "2022-03-12T11:24:28.440843Z",
     "start_time": "2022-03-12T11:24:28.426845Z"
    }
   },
   "outputs": [
    {
     "name": "stdout",
     "output_type": "stream",
     "text": [
      "On time, delayed, advanced\n",
      "[4.84, 4.47, 4.27]\n"
     ]
    }
   ],
   "source": [
    "print(\"On time, delayed, advanced\")\n",
    "print(percentage_list)"
   ]
  },
  {
   "cell_type": "markdown",
   "id": "67d0137f",
   "metadata": {},
   "source": [
    "I am unsure how to interpret the meaning of a shipment cancellation. It may have been cancelled by the customer or by the company. The above percentages suggest the customers don't cancel it because the values are quite similar, and we would expect customers receiving their deliveries late have cancelled\n"
   ]
  },
  {
   "cell_type": "markdown",
   "id": "55083282",
   "metadata": {},
   "source": [
    "Most likely this has to do with payments having failed etc. I'll investigate this further after I figure out the meaning of order status."
   ]
  },
  {
   "cell_type": "markdown",
   "id": "27ab0983",
   "metadata": {},
   "source": [
    "## Deduce the relationship between order status and payment type  and delivery status"
   ]
  },
  {
   "cell_type": "code",
   "execution_count": 16,
   "id": "02ca6a6f",
   "metadata": {
    "ExecuteTime": {
     "end_time": "2022-03-12T11:24:28.455843Z",
     "start_time": "2022-03-12T11:24:28.441843Z"
    }
   },
   "outputs": [
    {
     "data": {
      "text/html": [
       "<div>\n",
       "<style scoped>\n",
       "    .dataframe tbody tr th:only-of-type {\n",
       "        vertical-align: middle;\n",
       "    }\n",
       "\n",
       "    .dataframe tbody tr th {\n",
       "        vertical-align: top;\n",
       "    }\n",
       "\n",
       "    .dataframe thead th {\n",
       "        text-align: right;\n",
       "    }\n",
       "</style>\n",
       "<table border=\"1\" class=\"dataframe\">\n",
       "  <thead>\n",
       "    <tr style=\"text-align: right;\">\n",
       "      <th></th>\n",
       "      <th>Order Status</th>\n",
       "      <th>Type</th>\n",
       "      <th>Delivery Status</th>\n",
       "      <th>Late Delivery Risk</th>\n",
       "    </tr>\n",
       "    <tr>\n",
       "      <th>Order Id</th>\n",
       "      <th></th>\n",
       "      <th></th>\n",
       "      <th></th>\n",
       "      <th></th>\n",
       "    </tr>\n",
       "  </thead>\n",
       "  <tbody>\n",
       "    <tr>\n",
       "      <th>77202</th>\n",
       "      <td>COMPLETE</td>\n",
       "      <td>DEBIT</td>\n",
       "      <td>Advance shipping</td>\n",
       "      <td>0</td>\n",
       "    </tr>\n",
       "    <tr>\n",
       "      <th>75939</th>\n",
       "      <td>PENDING</td>\n",
       "      <td>TRANSFER</td>\n",
       "      <td>Late delivery</td>\n",
       "      <td>1</td>\n",
       "    </tr>\n",
       "    <tr>\n",
       "      <th>75938</th>\n",
       "      <td>CLOSED</td>\n",
       "      <td>CASH</td>\n",
       "      <td>Shipping on time</td>\n",
       "      <td>0</td>\n",
       "    </tr>\n",
       "    <tr>\n",
       "      <th>75937</th>\n",
       "      <td>COMPLETE</td>\n",
       "      <td>DEBIT</td>\n",
       "      <td>Advance shipping</td>\n",
       "      <td>0</td>\n",
       "    </tr>\n",
       "    <tr>\n",
       "      <th>75936</th>\n",
       "      <td>PENDING_PAYMENT</td>\n",
       "      <td>PAYMENT</td>\n",
       "      <td>Advance shipping</td>\n",
       "      <td>0</td>\n",
       "    </tr>\n",
       "  </tbody>\n",
       "</table>\n",
       "</div>"
      ],
      "text/plain": [
       "             Order Status      Type   Delivery Status  Late Delivery Risk\n",
       "Order Id                                                                 \n",
       "77202            COMPLETE     DEBIT  Advance shipping                   0\n",
       "75939             PENDING  TRANSFER     Late delivery                   1\n",
       "75938              CLOSED      CASH  Shipping on time                   0\n",
       "75937            COMPLETE     DEBIT  Advance shipping                   0\n",
       "75936     PENDING_PAYMENT   PAYMENT  Advance shipping                   0"
      ]
     },
     "execution_count": 16,
     "metadata": {},
     "output_type": "execute_result"
    }
   ],
   "source": [
    "order_status_df = orders_df.filter([\"Order Status\",\"Type\",\"Delivery Status\",\"Late Delivery Risk\"]).copy()\n",
    "order_status_df.head()"
   ]
  },
  {
   "cell_type": "code",
   "execution_count": 17,
   "id": "81f5851d",
   "metadata": {
    "ExecuteTime": {
     "end_time": "2022-03-12T11:24:28.471843Z",
     "start_time": "2022-03-12T11:24:28.456843Z"
    }
   },
   "outputs": [
    {
     "data": {
      "text/plain": [
       "COMPLETE           59491\n",
       "PENDING_PAYMENT    39832\n",
       "PROCESSING         21902\n",
       "PENDING            20227\n",
       "CLOSED             19616\n",
       "ON_HOLD             9804\n",
       "PAYMENT_REVIEW      1893\n",
       "Name: Order Status, dtype: int64"
      ]
     },
     "execution_count": 17,
     "metadata": {},
     "output_type": "execute_result"
    }
   ],
   "source": [
    "order_status_df[\"Order Status\"].value_counts()"
   ]
  },
  {
   "cell_type": "markdown",
   "id": "c1868f90",
   "metadata": {},
   "source": [
    "#### Lets inspect these one by one "
   ]
  },
  {
   "cell_type": "markdown",
   "id": "f00751b2",
   "metadata": {},
   "source": [
    "##### 1.Start with complete orders"
   ]
  },
  {
   "cell_type": "code",
   "execution_count": 18,
   "id": "16a26bc6",
   "metadata": {
    "ExecuteTime": {
     "end_time": "2022-03-12T11:24:28.501843Z",
     "start_time": "2022-03-12T11:24:28.472845Z"
    }
   },
   "outputs": [
    {
     "data": {
      "text/html": [
       "<div>\n",
       "<style scoped>\n",
       "    .dataframe tbody tr th:only-of-type {\n",
       "        vertical-align: middle;\n",
       "    }\n",
       "\n",
       "    .dataframe tbody tr th {\n",
       "        vertical-align: top;\n",
       "    }\n",
       "\n",
       "    .dataframe thead th {\n",
       "        text-align: right;\n",
       "    }\n",
       "</style>\n",
       "<table border=\"1\" class=\"dataframe\">\n",
       "  <thead>\n",
       "    <tr style=\"text-align: right;\">\n",
       "      <th></th>\n",
       "      <th>Order Status</th>\n",
       "      <th>Type</th>\n",
       "      <th>Delivery Status</th>\n",
       "      <th>Late Delivery Risk</th>\n",
       "    </tr>\n",
       "    <tr>\n",
       "      <th>Order Id</th>\n",
       "      <th></th>\n",
       "      <th></th>\n",
       "      <th></th>\n",
       "      <th></th>\n",
       "    </tr>\n",
       "  </thead>\n",
       "  <tbody>\n",
       "    <tr>\n",
       "      <th>77202</th>\n",
       "      <td>COMPLETE</td>\n",
       "      <td>DEBIT</td>\n",
       "      <td>Advance shipping</td>\n",
       "      <td>0</td>\n",
       "    </tr>\n",
       "    <tr>\n",
       "      <th>75937</th>\n",
       "      <td>COMPLETE</td>\n",
       "      <td>DEBIT</td>\n",
       "      <td>Advance shipping</td>\n",
       "      <td>0</td>\n",
       "    </tr>\n",
       "    <tr>\n",
       "      <th>75934</th>\n",
       "      <td>COMPLETE</td>\n",
       "      <td>DEBIT</td>\n",
       "      <td>Late delivery</td>\n",
       "      <td>1</td>\n",
       "    </tr>\n",
       "    <tr>\n",
       "      <th>75927</th>\n",
       "      <td>COMPLETE</td>\n",
       "      <td>DEBIT</td>\n",
       "      <td>Late delivery</td>\n",
       "      <td>1</td>\n",
       "    </tr>\n",
       "    <tr>\n",
       "      <th>75925</th>\n",
       "      <td>COMPLETE</td>\n",
       "      <td>DEBIT</td>\n",
       "      <td>Late delivery</td>\n",
       "      <td>1</td>\n",
       "    </tr>\n",
       "  </tbody>\n",
       "</table>\n",
       "</div>"
      ],
      "text/plain": [
       "         Order Status   Type   Delivery Status  Late Delivery Risk\n",
       "Order Id                                                          \n",
       "77202        COMPLETE  DEBIT  Advance shipping                   0\n",
       "75937        COMPLETE  DEBIT  Advance shipping                   0\n",
       "75934        COMPLETE  DEBIT     Late delivery                   1\n",
       "75927        COMPLETE  DEBIT     Late delivery                   1\n",
       "75925        COMPLETE  DEBIT     Late delivery                   1"
      ]
     },
     "execution_count": 18,
     "metadata": {},
     "output_type": "execute_result"
    }
   ],
   "source": [
    "complete_df = order_status_df.loc[(order_status_df[\"Order Status\"] == \"COMPLETE\")]\n",
    "complete_df.head()"
   ]
  },
  {
   "cell_type": "code",
   "execution_count": 19,
   "id": "85d91ea4",
   "metadata": {
    "ExecuteTime": {
     "end_time": "2022-03-12T11:24:28.531845Z",
     "start_time": "2022-03-12T11:24:28.502842Z"
    }
   },
   "outputs": [
    {
     "data": {
      "text/html": [
       "<div>\n",
       "<style scoped>\n",
       "    .dataframe tbody tr th:only-of-type {\n",
       "        vertical-align: middle;\n",
       "    }\n",
       "\n",
       "    .dataframe tbody tr th {\n",
       "        vertical-align: top;\n",
       "    }\n",
       "\n",
       "    .dataframe thead th {\n",
       "        text-align: right;\n",
       "    }\n",
       "</style>\n",
       "<table border=\"1\" class=\"dataframe\">\n",
       "  <thead>\n",
       "    <tr style=\"text-align: right;\">\n",
       "      <th></th>\n",
       "      <th>Order Status</th>\n",
       "      <th>Type</th>\n",
       "      <th>Delivery Status</th>\n",
       "      <th>Late Delivery Risk</th>\n",
       "    </tr>\n",
       "  </thead>\n",
       "  <tbody>\n",
       "    <tr>\n",
       "      <th>0</th>\n",
       "      <td>NaN</td>\n",
       "      <td>NaN</td>\n",
       "      <td>NaN</td>\n",
       "      <td>25292.0</td>\n",
       "    </tr>\n",
       "    <tr>\n",
       "      <th>1</th>\n",
       "      <td>NaN</td>\n",
       "      <td>NaN</td>\n",
       "      <td>NaN</td>\n",
       "      <td>34199.0</td>\n",
       "    </tr>\n",
       "    <tr>\n",
       "      <th>Advance shipping</th>\n",
       "      <td>NaN</td>\n",
       "      <td>NaN</td>\n",
       "      <td>14136.0</td>\n",
       "      <td>NaN</td>\n",
       "    </tr>\n",
       "    <tr>\n",
       "      <th>COMPLETE</th>\n",
       "      <td>59491.0</td>\n",
       "      <td>NaN</td>\n",
       "      <td>NaN</td>\n",
       "      <td>NaN</td>\n",
       "    </tr>\n",
       "    <tr>\n",
       "      <th>DEBIT</th>\n",
       "      <td>NaN</td>\n",
       "      <td>59491.0</td>\n",
       "      <td>NaN</td>\n",
       "      <td>NaN</td>\n",
       "    </tr>\n",
       "    <tr>\n",
       "      <th>Late delivery</th>\n",
       "      <td>NaN</td>\n",
       "      <td>NaN</td>\n",
       "      <td>34199.0</td>\n",
       "      <td>NaN</td>\n",
       "    </tr>\n",
       "    <tr>\n",
       "      <th>Shipping on time</th>\n",
       "      <td>NaN</td>\n",
       "      <td>NaN</td>\n",
       "      <td>11156.0</td>\n",
       "      <td>NaN</td>\n",
       "    </tr>\n",
       "  </tbody>\n",
       "</table>\n",
       "</div>"
      ],
      "text/plain": [
       "                  Order Status     Type  Delivery Status  Late Delivery Risk\n",
       "0                          NaN      NaN              NaN             25292.0\n",
       "1                          NaN      NaN              NaN             34199.0\n",
       "Advance shipping           NaN      NaN          14136.0                 NaN\n",
       "COMPLETE               59491.0      NaN              NaN                 NaN\n",
       "DEBIT                      NaN  59491.0              NaN                 NaN\n",
       "Late delivery              NaN      NaN          34199.0                 NaN\n",
       "Shipping on time           NaN      NaN          11156.0                 NaN"
      ]
     },
     "execution_count": 19,
     "metadata": {},
     "output_type": "execute_result"
    }
   ],
   "source": [
    "complete_df.apply(pd.Series.value_counts)"
   ]
  },
  {
   "cell_type": "markdown",
   "id": "eb9d7fcc",
   "metadata": {},
   "source": [
    "#### All orders with status \"Complete\" are paid by debit, and their shipping is never cancelled"
   ]
  },
  {
   "cell_type": "markdown",
   "id": "ec27eeb6",
   "metadata": {},
   "source": [
    "##### Get the dataframes matching each other order"
   ]
  },
  {
   "cell_type": "code",
   "execution_count": 20,
   "id": "9916e4aa",
   "metadata": {
    "ExecuteTime": {
     "end_time": "2022-03-12T11:24:28.561843Z",
     "start_time": "2022-03-12T11:24:28.532844Z"
    }
   },
   "outputs": [
    {
     "data": {
      "text/plain": [
       "array(['COMPLETE', 'PENDING', 'CLOSED', 'PENDING_PAYMENT', 'PROCESSING',\n",
       "       'ON_HOLD', 'PAYMENT_REVIEW'], dtype=object)"
      ]
     },
     "execution_count": 20,
     "metadata": {},
     "output_type": "execute_result"
    }
   ],
   "source": [
    "statuses = order_status_df[\"Order Status\"].unique()\n",
    "statuses"
   ]
  },
  {
   "cell_type": "code",
   "execution_count": 21,
   "id": "cdb16a97",
   "metadata": {
    "ExecuteTime": {
     "end_time": "2022-03-12T11:24:28.804850Z",
     "start_time": "2022-03-12T11:24:28.562842Z"
    }
   },
   "outputs": [
    {
     "ename": "IndexError",
     "evalue": "index 7 is out of bounds for axis 0 with size 7",
     "output_type": "error",
     "traceback": [
      "\u001b[1;31m---------------------------------------------------------------------------\u001b[0m",
      "\u001b[1;31mIndexError\u001b[0m                                Traceback (most recent call last)",
      "\u001b[1;32m~\\AppData\\Local\\Temp/ipykernel_14388/2087855748.py\u001b[0m in \u001b[0;36m<module>\u001b[1;34m\u001b[0m\n\u001b[0;32m      5\u001b[0m \u001b[0mprocessing_df\u001b[0m \u001b[1;33m=\u001b[0m\u001b[0morder_status_df\u001b[0m\u001b[1;33m.\u001b[0m\u001b[0mloc\u001b[0m\u001b[1;33m[\u001b[0m\u001b[1;33m(\u001b[0m\u001b[0morder_status_df\u001b[0m\u001b[1;33m[\u001b[0m\u001b[1;34m\"Order Status\"\u001b[0m\u001b[1;33m]\u001b[0m \u001b[1;33m==\u001b[0m \u001b[0mstatuses\u001b[0m\u001b[1;33m[\u001b[0m\u001b[1;36m5\u001b[0m\u001b[1;33m]\u001b[0m\u001b[1;33m)\u001b[0m\u001b[1;33m]\u001b[0m\u001b[1;33m\u001b[0m\u001b[1;33m\u001b[0m\u001b[0m\n\u001b[0;32m      6\u001b[0m \u001b[0mfraud_df\u001b[0m \u001b[1;33m=\u001b[0m\u001b[0morder_status_df\u001b[0m\u001b[1;33m.\u001b[0m\u001b[0mloc\u001b[0m\u001b[1;33m[\u001b[0m\u001b[1;33m(\u001b[0m\u001b[0morder_status_df\u001b[0m\u001b[1;33m[\u001b[0m\u001b[1;34m\"Order Status\"\u001b[0m\u001b[1;33m]\u001b[0m \u001b[1;33m==\u001b[0m \u001b[0mstatuses\u001b[0m\u001b[1;33m[\u001b[0m\u001b[1;36m6\u001b[0m\u001b[1;33m]\u001b[0m\u001b[1;33m)\u001b[0m\u001b[1;33m]\u001b[0m\u001b[1;33m\u001b[0m\u001b[1;33m\u001b[0m\u001b[0m\n\u001b[1;32m----> 7\u001b[1;33m \u001b[0monhold_df\u001b[0m \u001b[1;33m=\u001b[0m \u001b[0morder_status_df\u001b[0m\u001b[1;33m.\u001b[0m\u001b[0mloc\u001b[0m\u001b[1;33m[\u001b[0m\u001b[1;33m(\u001b[0m\u001b[0morder_status_df\u001b[0m\u001b[1;33m[\u001b[0m\u001b[1;34m\"Order Status\"\u001b[0m\u001b[1;33m]\u001b[0m \u001b[1;33m==\u001b[0m \u001b[0mstatuses\u001b[0m\u001b[1;33m[\u001b[0m\u001b[1;36m7\u001b[0m\u001b[1;33m]\u001b[0m\u001b[1;33m)\u001b[0m\u001b[1;33m]\u001b[0m\u001b[1;33m\u001b[0m\u001b[1;33m\u001b[0m\u001b[0m\n\u001b[0m\u001b[0;32m      8\u001b[0m \u001b[0mpaymentreview_df\u001b[0m \u001b[1;33m=\u001b[0m \u001b[0morder_status_df\u001b[0m\u001b[1;33m.\u001b[0m\u001b[0mloc\u001b[0m\u001b[1;33m[\u001b[0m\u001b[1;33m(\u001b[0m\u001b[0morder_status_df\u001b[0m\u001b[1;33m[\u001b[0m\u001b[1;34m\"Order Status\"\u001b[0m\u001b[1;33m]\u001b[0m \u001b[1;33m==\u001b[0m \u001b[0mstatuses\u001b[0m\u001b[1;33m[\u001b[0m\u001b[1;36m8\u001b[0m\u001b[1;33m]\u001b[0m\u001b[1;33m)\u001b[0m\u001b[1;33m]\u001b[0m\u001b[1;33m\u001b[0m\u001b[1;33m\u001b[0m\u001b[0m\n",
      "\u001b[1;31mIndexError\u001b[0m: index 7 is out of bounds for axis 0 with size 7"
     ]
    }
   ],
   "source": [
    "pending_df = order_status_df.loc[(order_status_df[\"Order Status\"] == statuses[1])]\n",
    "closed_df = order_status_df.loc[(order_status_df[\"Order Status\"] == statuses[2])]\n",
    "pending_payment_df = order_status_df.loc[(order_status_df[\"Order Status\"] == statuses[3])]\n",
    "canceled_df = order_status_df.loc[(order_status_df[\"Order Status\"] == statuses[4])]\n",
    "processing_df =order_status_df.loc[(order_status_df[\"Order Status\"] == statuses[5])]\n",
    "fraud_df =order_status_df.loc[(order_status_df[\"Order Status\"] == statuses[6])]\n",
    "onhold_df = order_status_df.loc[(order_status_df[\"Order Status\"] == statuses[7])]\n",
    "paymentreview_df = order_status_df.loc[(order_status_df[\"Order Status\"] == statuses[8])]"
   ]
  },
  {
   "cell_type": "markdown",
   "id": "14c44a33",
   "metadata": {},
   "source": [
    "#### 2. Pending Orders"
   ]
  },
  {
   "cell_type": "code",
   "execution_count": null,
   "id": "d237c384",
   "metadata": {
    "ExecuteTime": {
     "end_time": "2022-03-12T11:24:28.806853Z",
     "start_time": "2022-03-12T11:24:28.806853Z"
    }
   },
   "outputs": [],
   "source": [
    "pending_df.head(1)"
   ]
  },
  {
   "cell_type": "code",
   "execution_count": null,
   "id": "36383f4a",
   "metadata": {
    "ExecuteTime": {
     "end_time": "2022-03-12T11:24:28.807852Z",
     "start_time": "2022-03-12T11:24:28.807852Z"
    }
   },
   "outputs": [],
   "source": [
    "pending_df.apply(pd.Series.value_counts)"
   ]
  },
  {
   "cell_type": "markdown",
   "id": "de24d9f4",
   "metadata": {},
   "source": [
    "#### All Pending orders are paid via Transfer and are never cancelled"
   ]
  },
  {
   "cell_type": "markdown",
   "id": "faa54fcf",
   "metadata": {},
   "source": [
    "#### 3. Closed orders"
   ]
  },
  {
   "cell_type": "code",
   "execution_count": null,
   "id": "66c81d5b",
   "metadata": {
    "ExecuteTime": {
     "end_time": "2022-03-12T11:24:28.808853Z",
     "start_time": "2022-03-12T11:24:28.808853Z"
    }
   },
   "outputs": [],
   "source": [
    "closed_df.head(1)"
   ]
  },
  {
   "cell_type": "code",
   "execution_count": null,
   "id": "0effce45",
   "metadata": {
    "ExecuteTime": {
     "end_time": "2022-03-12T11:24:28.809853Z",
     "start_time": "2022-03-12T11:24:28.809853Z"
    }
   },
   "outputs": [],
   "source": [
    "closed_df.apply(pd.Series.value_counts)"
   ]
  },
  {
   "cell_type": "markdown",
   "id": "1616b28a",
   "metadata": {},
   "source": [
    "##### All Closed orders are settled with cash and never cancelled"
   ]
  },
  {
   "cell_type": "markdown",
   "id": "b0dc950f",
   "metadata": {},
   "source": [
    "#### 4. Pending Payment orders"
   ]
  },
  {
   "cell_type": "code",
   "execution_count": null,
   "id": "f88f9a68",
   "metadata": {
    "ExecuteTime": {
     "end_time": "2022-03-12T11:24:28.810850Z",
     "start_time": "2022-03-12T11:24:28.810850Z"
    }
   },
   "outputs": [],
   "source": [
    "pending_payment_df.head(1)"
   ]
  },
  {
   "cell_type": "code",
   "execution_count": null,
   "id": "aa7f0e39",
   "metadata": {
    "ExecuteTime": {
     "end_time": "2022-03-12T11:24:28.811852Z",
     "start_time": "2022-03-12T11:24:28.811852Z"
    }
   },
   "outputs": [],
   "source": [
    "pending_payment_df.apply(pd.Series.value_counts)"
   ]
  },
  {
   "cell_type": "markdown",
   "id": "cbb8a2c0",
   "metadata": {},
   "source": [
    "#### All \"Pending Payment\" status orders have payment type = \"Payment\" and are never cancelled"
   ]
  },
  {
   "cell_type": "markdown",
   "id": "54d2ab6f",
   "metadata": {},
   "source": [
    "#### 5. Cancelled Orders"
   ]
  },
  {
   "cell_type": "code",
   "execution_count": null,
   "id": "d9b0897b",
   "metadata": {
    "ExecuteTime": {
     "end_time": "2022-03-12T11:24:28.812851Z",
     "start_time": "2022-03-12T11:24:28.812851Z"
    }
   },
   "outputs": [],
   "source": [
    "canceled_df.head(1) "
   ]
  },
  {
   "cell_type": "code",
   "execution_count": null,
   "id": "c86f133c",
   "metadata": {
    "ExecuteTime": {
     "end_time": "2022-03-12T11:24:28.813851Z",
     "start_time": "2022-03-12T11:24:28.813851Z"
    }
   },
   "outputs": [],
   "source": [
    "canceled_df.apply(pd.Series.value_counts)"
   ]
  },
  {
   "cell_type": "markdown",
   "id": "2d7c7a8a",
   "metadata": {},
   "source": [
    "#### All \"Canceled\" status orders are paid via transfer and have their shipping cancelled"
   ]
  },
  {
   "cell_type": "markdown",
   "id": "c76609cf",
   "metadata": {},
   "source": [
    "#### 6. Processing Orders"
   ]
  },
  {
   "cell_type": "code",
   "execution_count": null,
   "id": "91ea4578",
   "metadata": {
    "ExecuteTime": {
     "end_time": "2022-03-12T11:24:28.814852Z",
     "start_time": "2022-03-12T11:24:28.814852Z"
    }
   },
   "outputs": [],
   "source": [
    "processing_df.head(1)"
   ]
  },
  {
   "cell_type": "code",
   "execution_count": null,
   "id": "0b9f55d8",
   "metadata": {
    "ExecuteTime": {
     "end_time": "2022-03-12T11:24:28.814852Z",
     "start_time": "2022-03-12T11:24:28.814852Z"
    }
   },
   "outputs": [],
   "source": [
    "processing_df.apply(pd.Series.value_counts)"
   ]
  },
  {
   "cell_type": "markdown",
   "id": "b384b875",
   "metadata": {},
   "source": [
    "##### All \"Processing\" orders are paid by transfer and are never cancelled"
   ]
  },
  {
   "cell_type": "markdown",
   "id": "aeadb6b3",
   "metadata": {},
   "source": [
    "#### 7. Fraudulent Orders"
   ]
  },
  {
   "cell_type": "code",
   "execution_count": null,
   "id": "3afc78d4",
   "metadata": {
    "ExecuteTime": {
     "end_time": "2022-03-12T11:24:28.815851Z",
     "start_time": "2022-03-12T11:24:28.815851Z"
    }
   },
   "outputs": [],
   "source": [
    "fraud_df.head(1) "
   ]
  },
  {
   "cell_type": "code",
   "execution_count": null,
   "id": "735efce1",
   "metadata": {
    "ExecuteTime": {
     "end_time": "2022-03-12T11:24:28.816851Z",
     "start_time": "2022-03-12T11:24:28.816851Z"
    }
   },
   "outputs": [],
   "source": [
    "fraud_df.apply(pd.Series.value_counts) "
   ]
  },
  {
   "cell_type": "markdown",
   "id": "909e6b23",
   "metadata": {},
   "source": [
    "##### All fraudulent orders are paid via transfer and have their shipping cancelled"
   ]
  },
  {
   "cell_type": "markdown",
   "id": "0d3caaf9",
   "metadata": {},
   "source": [
    "#### 8. On hold orders "
   ]
  },
  {
   "cell_type": "code",
   "execution_count": null,
   "id": "424f3b0d",
   "metadata": {
    "ExecuteTime": {
     "end_time": "2022-03-12T11:24:28.817851Z",
     "start_time": "2022-03-12T11:24:28.817851Z"
    }
   },
   "outputs": [],
   "source": [
    "onhold_df.head(1) "
   ]
  },
  {
   "cell_type": "code",
   "execution_count": null,
   "id": "e2c0fa51",
   "metadata": {
    "ExecuteTime": {
     "end_time": "2022-03-12T11:24:28.818852Z",
     "start_time": "2022-03-12T11:24:28.818852Z"
    }
   },
   "outputs": [],
   "source": [
    "onhold_df.apply(pd.Series.value_counts) "
   ]
  },
  {
   "cell_type": "markdown",
   "id": "27f69024",
   "metadata": {},
   "source": [
    "#####  All ON_Hold orders are paid via debit and are never cancelled"
   ]
  },
  {
   "cell_type": "markdown",
   "id": "bfd9cb41",
   "metadata": {},
   "source": [
    "#### 9. Payment Review orders "
   ]
  },
  {
   "cell_type": "code",
   "execution_count": null,
   "id": "9f707419",
   "metadata": {
    "ExecuteTime": {
     "end_time": "2022-03-12T11:24:28.819852Z",
     "start_time": "2022-03-12T11:24:28.819852Z"
    }
   },
   "outputs": [],
   "source": [
    "paymentreview_df.head(1) "
   ]
  },
  {
   "cell_type": "code",
   "execution_count": null,
   "id": "79d88fa3",
   "metadata": {
    "ExecuteTime": {
     "end_time": "2022-03-12T11:24:28.820852Z",
     "start_time": "2022-03-12T11:24:28.820852Z"
    }
   },
   "outputs": [],
   "source": [
    "paymentreview_df.apply(pd.Series.value_counts)"
   ]
  },
  {
   "cell_type": "markdown",
   "id": "01a80570",
   "metadata": {},
   "source": [
    "##### All payment_review orders are paid via \"Payment\" and are never cancelled"
   ]
  },
  {
   "cell_type": "markdown",
   "id": "c67a8b76",
   "metadata": {
    "ExecuteTime": {
     "end_time": "2022-03-11T10:38:16.668037Z",
     "start_time": "2022-03-11T10:38:16.639037Z"
    }
   },
   "source": [
    "# Create new tablet to summarize this info "
   ]
  },
  {
   "cell_type": "markdown",
   "id": "e9ee29f4",
   "metadata": {},
   "source": [
    "Function to get % decomposition of delivery status and payment type for each order status"
   ]
  },
  {
   "cell_type": "code",
   "execution_count": null,
   "id": "0ae7e56a",
   "metadata": {
    "ExecuteTime": {
     "end_time": "2022-03-12T11:24:28.821851Z",
     "start_time": "2022-03-12T11:24:28.821851Z"
    }
   },
   "outputs": [],
   "source": [
    "my_dict = {}\n",
    "n = orders_df.shape[0]\n",
    "\n",
    "def get_percentages(df,i):\n",
    "    global my_dict\n",
    "    global statuses\n",
    "    global n\n",
    "    delivery = df[\"Delivery Status\"].value_counts(normalize=True)\n",
    "    payment = df.iloc[1][\"Type\"]\n",
    "    percent = round(df.shape[0]/n*100,2)\n",
    "    \n",
    "    if i ==4 or i == 6:\n",
    "        my_dict[statuses[i]] = [percent,0,0,0,round(delivery[0]*100,2), payment]\n",
    "    else:\n",
    "        my_dict[statuses[i]] = [percent,round(delivery[0]*100,2), round(delivery[1]*100,2), round(delivery[2]*100,2),0, payment]\n",
    "    "
   ]
  },
  {
   "cell_type": "markdown",
   "id": "6ea265c3",
   "metadata": {},
   "source": [
    "Put all order dfs in a list"
   ]
  },
  {
   "cell_type": "code",
   "execution_count": null,
   "id": "36c64547",
   "metadata": {
    "ExecuteTime": {
     "end_time": "2022-03-12T11:24:28.821851Z",
     "start_time": "2022-03-12T11:24:28.821851Z"
    }
   },
   "outputs": [],
   "source": [
    "df_list = [complete_df,\n",
    "pending_df,\n",
    "closed_df,\n",
    "pending_payment_df,\n",
    "canceled_df ,\n",
    "processing_df,\n",
    "fraud_df ,\n",
    "onhold_df ,\n",
    "paymentreview_df ]"
   ]
  },
  {
   "cell_type": "markdown",
   "id": "74b59ff1",
   "metadata": {},
   "source": [
    "##### Call function and populate dict"
   ]
  },
  {
   "cell_type": "code",
   "execution_count": null,
   "id": "44771042",
   "metadata": {
    "ExecuteTime": {
     "end_time": "2022-03-12T11:24:28.822851Z",
     "start_time": "2022-03-12T11:24:28.822851Z"
    }
   },
   "outputs": [],
   "source": [
    "for i in range(len(df_list)):\n",
    "    get_percentages(df_list[i],i)"
   ]
  },
  {
   "cell_type": "code",
   "execution_count": null,
   "id": "1a06aa70",
   "metadata": {
    "ExecuteTime": {
     "end_time": "2022-03-12T11:24:28.823852Z",
     "start_time": "2022-03-12T11:24:28.823852Z"
    }
   },
   "outputs": [],
   "source": [
    "my_dict"
   ]
  },
  {
   "cell_type": "markdown",
   "id": "8713fb73",
   "metadata": {
    "ExecuteTime": {
     "end_time": "2022-03-11T11:00:54.628969Z",
     "start_time": "2022-03-11T11:00:54.624972Z"
    }
   },
   "source": [
    "#### Convert into dataframe"
   ]
  },
  {
   "cell_type": "code",
   "execution_count": null,
   "id": "1c91fb16",
   "metadata": {
    "ExecuteTime": {
     "end_time": "2022-03-12T11:24:28.824853Z",
     "start_time": "2022-03-12T11:24:28.824853Z"
    },
    "scrolled": true
   },
   "outputs": [],
   "source": [
    "orders_by_status_df = pd.DataFrame.from_dict(my_dict, orient=\"index\")\n",
    "orders_by_status_df.set_axis([\"% of all orders\",\"Late delivery %\",\"Advance shipping %\",\"Shipping on time %\",\"Shipping Cancelled %\",\"Payment%\"],axis=1, inplace=True)\n",
    "orders_by_status_df"
   ]
  },
  {
   "cell_type": "markdown",
   "id": "98209cc5",
   "metadata": {},
   "source": [
    "There does not seem to be a relationship between order type and shipping \n",
    "I would have expected that those which take longer to processes would experience more delays"
   ]
  },
  {
   "cell_type": "markdown",
   "id": "41648285",
   "metadata": {},
   "source": [
    "##### Save file"
   ]
  },
  {
   "cell_type": "code",
   "execution_count": null,
   "id": "e5d3fa1a",
   "metadata": {
    "ExecuteTime": {
     "end_time": "2022-03-12T11:24:28.825853Z",
     "start_time": "2022-03-12T11:24:28.825853Z"
    }
   },
   "outputs": [],
   "source": [
    "orders_by_status_df.to_csv(\"BigSupplyCo_Data_Files/custom_order_table.csv\")"
   ]
  },
  {
   "cell_type": "markdown",
   "id": "bd2ed9bd",
   "metadata": {},
   "source": [
    "# Get some summary stats for the orders as a whole "
   ]
  },
  {
   "cell_type": "markdown",
   "id": "a12c62bf",
   "metadata": {},
   "source": [
    "#### Get percentage compositon of orders by payment type as well "
   ]
  },
  {
   "cell_type": "code",
   "execution_count": null,
   "id": "16ba260f",
   "metadata": {
    "ExecuteTime": {
     "end_time": "2022-03-12T11:24:28.826853Z",
     "start_time": "2022-03-12T11:24:28.826853Z"
    }
   },
   "outputs": [],
   "source": [
    "payment_composition = orders_df[\"Type\"].value_counts(normalize=True)*100\n",
    "payment_composition"
   ]
  },
  {
   "cell_type": "code",
   "execution_count": null,
   "id": "6e19429a",
   "metadata": {
    "ExecuteTime": {
     "end_time": "2022-03-12T11:24:28.827853Z",
     "start_time": "2022-03-12T11:24:28.827853Z"
    }
   },
   "outputs": [],
   "source": [
    "payments_delays = orders_df.filter([\"Type\",\"Late Delivery Risk\"]).copy()\n",
    "temp = payments_delays.value_counts(normalize=True)*100\n",
    "temp"
   ]
  },
  {
   "cell_type": "markdown",
   "id": "1ca2096d",
   "metadata": {
    "ExecuteTime": {
     "end_time": "2022-03-11T13:52:40.525216Z",
     "start_time": "2022-03-11T13:52:40.506232Z"
    }
   },
   "source": [
    "Modify above series to show percentages for each category"
   ]
  },
  {
   "cell_type": "code",
   "execution_count": null,
   "id": "0cf3653c",
   "metadata": {
    "ExecuteTime": {
     "end_time": "2022-03-12T11:24:28.828851Z",
     "start_time": "2022-03-12T11:24:28.828851Z"
    }
   },
   "outputs": [],
   "source": [
    "for i in range(len(payment_composition)):\n",
    "    temp[2*i] = round(temp[2*i] / payment_composition[i] * 100, 2)\n",
    "    temp[2*i+1] = round(temp[2*i+1]  / payment_composition[i]  * 100, 2)\n",
    "    \n",
    "temp"
   ]
  },
  {
   "cell_type": "markdown",
   "id": "28298f9e",
   "metadata": {},
   "source": [
    "#### It seems that transfer payments are less likely to lead to delays, but this is because orders with transfer payments are the only ones that end up getting their shipments cancelled, and these show up as having Late Delivery Risk = 0 no matter what"
   ]
  },
  {
   "cell_type": "markdown",
   "id": "97a89df0",
   "metadata": {},
   "source": [
    "I am going to delete these"
   ]
  },
  {
   "cell_type": "markdown",
   "id": "5613a7c1",
   "metadata": {},
   "source": [
    "## Delete cancelled and fraudulent orders "
   ]
  },
  {
   "cell_type": "code",
   "execution_count": null,
   "id": "091442fe",
   "metadata": {
    "ExecuteTime": {
     "end_time": "2022-03-12T11:24:28.829854Z",
     "start_time": "2022-03-12T11:24:28.829854Z"
    }
   },
   "outputs": [],
   "source": [
    "orders_df_new = orders_df.loc(orders_df[\"Delivery Status\"] != \"Shipping Cancelled\")\n"
   ]
  },
  {
   "cell_type": "code",
   "execution_count": null,
   "id": "a68f6ddb",
   "metadata": {
    "ExecuteTime": {
     "end_time": "2022-03-12T11:24:28.830852Z",
     "start_time": "2022-03-12T11:24:28.830852Z"
    }
   },
   "outputs": [],
   "source": [
    "orders_df_new = orders_df.loc[(orders_df[\"Delivery Status\"] != \"Shipping canceled\")]\n",
    "orders_df_new.head(1)"
   ]
  },
  {
   "cell_type": "code",
   "execution_count": null,
   "id": "0e89ae5c",
   "metadata": {
    "ExecuteTime": {
     "end_time": "2022-03-12T11:24:28.831852Z",
     "start_time": "2022-03-12T11:24:28.831852Z"
    }
   },
   "outputs": [],
   "source": [
    "print(orders_df.shape[0]-orders_df_new.shape[0], \"Orders have been removed\")"
   ]
  },
  {
   "cell_type": "code",
   "execution_count": null,
   "id": "79948fae",
   "metadata": {
    "ExecuteTime": {
     "end_time": "2022-03-12T11:24:28.831852Z",
     "start_time": "2022-03-12T11:24:28.831852Z"
    }
   },
   "outputs": [],
   "source": [
    "orders_df_new.to_csv(\"BigSupplyCo_Data_Files/orders_v2.csv\")"
   ]
  },
  {
   "cell_type": "markdown",
   "id": "80fb80dd",
   "metadata": {},
   "source": [
    "## Redo above percentages "
   ]
  },
  {
   "cell_type": "code",
   "execution_count": null,
   "id": "899e4778",
   "metadata": {
    "ExecuteTime": {
     "end_time": "2022-03-12T11:24:28.832851Z",
     "start_time": "2022-03-12T11:24:28.832851Z"
    }
   },
   "outputs": [],
   "source": [
    "payment_composition = orders_df_new[\"Type\"].value_counts(normalize=True)*100\n",
    "payments_delays = orders_df_new.filter([\"Type\",\"Late Delivery Risk\"]).copy()\n",
    "temp =  payments_delays.value_counts(normalize=True)*100\n",
    "temp"
   ]
  },
  {
   "cell_type": "code",
   "execution_count": null,
   "id": "4dd033ef",
   "metadata": {
    "ExecuteTime": {
     "end_time": "2022-03-12T11:24:28.833851Z",
     "start_time": "2022-03-12T11:24:28.833851Z"
    }
   },
   "outputs": [],
   "source": [
    "for i in range(len(payment_composition)):\n",
    "    temp[2*i] = round(temp[2*i] / payment_composition[i] * 100, 2)\n",
    "    temp[2*i+1] = round(temp[2*i+1]  / payment_composition[i]  * 100, 2)\n",
    "    \n",
    "temp"
   ]
  },
  {
   "cell_type": "markdown",
   "id": "cdbb3b49",
   "metadata": {},
   "source": [
    "# DO CHI SQUARED TEST HERE "
   ]
  },
  {
   "cell_type": "code",
   "execution_count": null,
   "id": "1de79e62",
   "metadata": {
    "ExecuteTime": {
     "end_time": "2022-03-12T11:24:28.834852Z",
     "start_time": "2022-03-12T11:24:28.834852Z"
    }
   },
   "outputs": [],
   "source": [
    "temp = temp.to_frame()"
   ]
  },
  {
   "cell_type": "code",
   "execution_count": null,
   "id": "bcae7882",
   "metadata": {
    "ExecuteTime": {
     "end_time": "2022-03-12T11:24:28.835855Z",
     "start_time": "2022-03-12T11:24:28.835855Z"
    }
   },
   "outputs": [],
   "source": [
    "temp"
   ]
  },
  {
   "cell_type": "markdown",
   "id": "9fc1a4d8",
   "metadata": {},
   "source": [
    "Save file"
   ]
  },
  {
   "cell_type": "code",
   "execution_count": null,
   "id": "1447941f",
   "metadata": {
    "ExecuteTime": {
     "end_time": "2022-03-12T11:24:28.836858Z",
     "start_time": "2022-03-12T11:24:28.836858Z"
    }
   },
   "outputs": [],
   "source": [
    "temp.to_csv(\"BigSupplyCo_Data_Files/custom_payment_table.csv\")"
   ]
  },
  {
   "cell_type": "code",
   "execution_count": null,
   "id": "02db54a6",
   "metadata": {},
   "outputs": [],
   "source": []
  }
 ],
 "metadata": {
  "kernelspec": {
   "display_name": "Python 3 (ipykernel)",
   "language": "python",
   "name": "python3"
  },
  "language_info": {
   "codemirror_mode": {
    "name": "ipython",
    "version": 3
   },
   "file_extension": ".py",
   "mimetype": "text/x-python",
   "name": "python",
   "nbconvert_exporter": "python",
   "pygments_lexer": "ipython3",
   "version": "3.8.12"
  }
 },
 "nbformat": 4,
 "nbformat_minor": 5
}
